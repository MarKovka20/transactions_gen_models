{
 "cells": [
  {
   "cell_type": "code",
   "execution_count": 2,
   "metadata": {},
   "outputs": [],
   "source": [
    "import os, sys\n",
    "dir2 = os.path.abspath('')\n",
    "dir1 = os.path.dirname(dir2)\n",
    "if not dir1 in sys.path:\n",
    "    sys.path.append(dir1)\n",
    "os.chdir('..')"
   ]
  },
  {
   "cell_type": "code",
   "execution_count": 9,
   "metadata": {},
   "outputs": [],
   "source": [
    "from hydra import compose, initialize\n",
    "\n",
    "import numpy as np\n",
    "import pandas as pd\n",
    "\n",
    "from src.data_preprocessing.utils import preprocess_features"
   ]
  },
  {
   "cell_type": "code",
   "execution_count": 4,
   "metadata": {},
   "outputs": [],
   "source": [
    "with initialize(config_path='../config', version_base=None):\n",
    "    cfg = compose(config_name='config')"
   ]
  },
  {
   "cell_type": "code",
   "execution_count": 5,
   "metadata": {},
   "outputs": [
    {
     "data": {
      "text/plain": [
       "{'dataset': {'name': 'new_data', 'dir_path': 'data/new_data', 'ignore_existing_preproc': False, 'user_column': 'user_id', 'mcc_column': 'mcc_code', 'transaction_amt_column': 'transaction_amt', 'transaction_dttm_column': 'transaction_dttm', 'preproc': {'drop_currency': True, 'time_delta': 3, 'len_min': 20, 'len_max': 90}, 'anomaly_strategy': 'quantile', 'percentile': 0.95}, 'embed_model': {'name': 'tr2vec', 'window_size': 10, 'num_iters': 3, 'mcc_vocab_size': 184, 'mcc_embed_size': 32, 'data_split': {'test_fraq': 0.2, 'val_fraq': 0.2}, 'learning_params': {'num_workers': 4, 'lr': 0.05, 'lr_scheduler_params': {'factor': 0.5, 'patience': 2}, 'batch_size': 5000, 'max_epochs': 50, 'early_stopping_params': {'min_delta': 0.001, 'patience': 5}}}, 'autoencoder': {'name': 'lstm', 'core': {'_target_': 'src.networks.autoencoder_core.SimpleLSTM', 'hidden_size': 256, 'output_size': 256, 'num_layers': 1}, 'num_iters': 3, 'mcc_vocab_size': 184, 'loss_weights': [1, 100, 1], 'freeze_embed': True, 'unfreeze_after': 5, 'use_user_embedding': False, 'user_embedding_size': 32, 'use_masked_prediction': False, 'rand_rate': 0.15, 'mask_token': -1, 'data_split': {'test_size': 0.2, 'val_size': 0.2}, 'tr2vec': {'window_size': 10, 'mcc_embed_size': 32}, 'learning_params': {'num_workers': 4, 'lr': 0.003, 'weight_decay': 1e-05, 'lr_schedule_params': {'factor': 0.5, 'patience': 2}, 'batch_size': 256, 'max_epochs': 50, 'early_stopping_params': {'min_delta': 0.001, 'patience': 5}}}, 'task': 'autoencoder', 'api_token': None, 'main_model_folder': 'gender'}"
      ]
     },
     "execution_count": 5,
     "metadata": {},
     "output_type": "execute_result"
    }
   ],
   "source": [
    "cfg"
   ]
  },
  {
   "cell_type": "code",
   "execution_count": 7,
   "metadata": {},
   "outputs": [],
   "source": [
    "df = pd.read_csv(\"data/age/transactions_train.csv\")"
   ]
  },
  {
   "cell_type": "code",
   "execution_count": 8,
   "metadata": {},
   "outputs": [
    {
     "data": {
      "text/html": [
       "<div>\n",
       "<style scoped>\n",
       "    .dataframe tbody tr th:only-of-type {\n",
       "        vertical-align: middle;\n",
       "    }\n",
       "\n",
       "    .dataframe tbody tr th {\n",
       "        vertical-align: top;\n",
       "    }\n",
       "\n",
       "    .dataframe thead th {\n",
       "        text-align: right;\n",
       "    }\n",
       "</style>\n",
       "<table border=\"1\" class=\"dataframe\">\n",
       "  <thead>\n",
       "    <tr style=\"text-align: right;\">\n",
       "      <th></th>\n",
       "      <th>client_id</th>\n",
       "      <th>trans_date</th>\n",
       "      <th>small_group</th>\n",
       "      <th>amount_rur</th>\n",
       "    </tr>\n",
       "  </thead>\n",
       "  <tbody>\n",
       "    <tr>\n",
       "      <th>0</th>\n",
       "      <td>33172</td>\n",
       "      <td>6</td>\n",
       "      <td>4</td>\n",
       "      <td>71.463</td>\n",
       "    </tr>\n",
       "    <tr>\n",
       "      <th>1</th>\n",
       "      <td>33172</td>\n",
       "      <td>6</td>\n",
       "      <td>35</td>\n",
       "      <td>45.017</td>\n",
       "    </tr>\n",
       "    <tr>\n",
       "      <th>2</th>\n",
       "      <td>33172</td>\n",
       "      <td>8</td>\n",
       "      <td>11</td>\n",
       "      <td>13.887</td>\n",
       "    </tr>\n",
       "    <tr>\n",
       "      <th>3</th>\n",
       "      <td>33172</td>\n",
       "      <td>9</td>\n",
       "      <td>11</td>\n",
       "      <td>15.983</td>\n",
       "    </tr>\n",
       "    <tr>\n",
       "      <th>4</th>\n",
       "      <td>33172</td>\n",
       "      <td>10</td>\n",
       "      <td>11</td>\n",
       "      <td>21.341</td>\n",
       "    </tr>\n",
       "    <tr>\n",
       "      <th>...</th>\n",
       "      <td>...</td>\n",
       "      <td>...</td>\n",
       "      <td>...</td>\n",
       "      <td>...</td>\n",
       "    </tr>\n",
       "    <tr>\n",
       "      <th>26450572</th>\n",
       "      <td>43300</td>\n",
       "      <td>727</td>\n",
       "      <td>25</td>\n",
       "      <td>7.602</td>\n",
       "    </tr>\n",
       "    <tr>\n",
       "      <th>26450573</th>\n",
       "      <td>43300</td>\n",
       "      <td>727</td>\n",
       "      <td>15</td>\n",
       "      <td>3.709</td>\n",
       "    </tr>\n",
       "    <tr>\n",
       "      <th>26450574</th>\n",
       "      <td>43300</td>\n",
       "      <td>727</td>\n",
       "      <td>1</td>\n",
       "      <td>6.448</td>\n",
       "    </tr>\n",
       "    <tr>\n",
       "      <th>26450575</th>\n",
       "      <td>43300</td>\n",
       "      <td>727</td>\n",
       "      <td>11</td>\n",
       "      <td>24.669</td>\n",
       "    </tr>\n",
       "    <tr>\n",
       "      <th>26450576</th>\n",
       "      <td>43300</td>\n",
       "      <td>729</td>\n",
       "      <td>3</td>\n",
       "      <td>19.408</td>\n",
       "    </tr>\n",
       "  </tbody>\n",
       "</table>\n",
       "<p>26450577 rows × 4 columns</p>\n",
       "</div>"
      ],
      "text/plain": [
       "          client_id  trans_date  small_group  amount_rur\n",
       "0             33172           6            4      71.463\n",
       "1             33172           6           35      45.017\n",
       "2             33172           8           11      13.887\n",
       "3             33172           9           11      15.983\n",
       "4             33172          10           11      21.341\n",
       "...             ...         ...          ...         ...\n",
       "26450572      43300         727           25       7.602\n",
       "26450573      43300         727           15       3.709\n",
       "26450574      43300         727            1       6.448\n",
       "26450575      43300         727           11      24.669\n",
       "26450576      43300         729            3      19.408\n",
       "\n",
       "[26450577 rows x 4 columns]"
      ]
     },
     "execution_count": 8,
     "metadata": {},
     "output_type": "execute_result"
    }
   ],
   "source": [
    "df"
   ]
  },
  {
   "cell_type": "code",
   "execution_count": 10,
   "metadata": {},
   "outputs": [
    {
     "data": {
      "text/html": [
       "<div>\n",
       "<style scoped>\n",
       "    .dataframe tbody tr th:only-of-type {\n",
       "        vertical-align: middle;\n",
       "    }\n",
       "\n",
       "    .dataframe tbody tr th {\n",
       "        vertical-align: top;\n",
       "    }\n",
       "\n",
       "    .dataframe thead th {\n",
       "        text-align: right;\n",
       "    }\n",
       "</style>\n",
       "<table border=\"1\" class=\"dataframe\">\n",
       "  <thead>\n",
       "    <tr style=\"text-align: right;\">\n",
       "      <th></th>\n",
       "      <th>client_id</th>\n",
       "      <th>transactions</th>\n",
       "    </tr>\n",
       "  </thead>\n",
       "  <tbody>\n",
       "    <tr>\n",
       "      <th>0</th>\n",
       "      <td>4</td>\n",
       "      <td>[(0, 1, 10.209), (2, 3, 27.706), (3, 1, 13.024...</td>\n",
       "    </tr>\n",
       "    <tr>\n",
       "      <th>1</th>\n",
       "      <td>6</td>\n",
       "      <td>[(0, 15, 4.054), (5, 3, 13.738), (10, 1, 20.70...</td>\n",
       "    </tr>\n",
       "    <tr>\n",
       "      <th>2</th>\n",
       "      <td>7</td>\n",
       "      <td>[(1, 3, 18.319), (2, 19, 194.721), (12, 1, 5.3...</td>\n",
       "    </tr>\n",
       "    <tr>\n",
       "      <th>3</th>\n",
       "      <td>10</td>\n",
       "      <td>[(4, 0, 17.402), (4, 1, 9.342), (4, 19, 54.125...</td>\n",
       "    </tr>\n",
       "    <tr>\n",
       "      <th>4</th>\n",
       "      <td>11</td>\n",
       "      <td>[(0, 3, 17.251), (2, 25, 22.898), (6, 1, 15.55...</td>\n",
       "    </tr>\n",
       "    <tr>\n",
       "      <th>...</th>\n",
       "      <td>...</td>\n",
       "      <td>...</td>\n",
       "    </tr>\n",
       "    <tr>\n",
       "      <th>29995</th>\n",
       "      <td>49993</td>\n",
       "      <td>[(1, 9, 78.88), (4, 48, 29.5), (4, 22, 68.647)...</td>\n",
       "    </tr>\n",
       "    <tr>\n",
       "      <th>29996</th>\n",
       "      <td>49995</td>\n",
       "      <td>[(0, 3, 25.877), (1, 25, 2.652), (1, 11, 9.359...</td>\n",
       "    </tr>\n",
       "    <tr>\n",
       "      <th>29997</th>\n",
       "      <td>49996</td>\n",
       "      <td>[(1, 36, 215.65), (1, 1, 37.607), (2, 4, 32.69...</td>\n",
       "    </tr>\n",
       "    <tr>\n",
       "      <th>29998</th>\n",
       "      <td>49997</td>\n",
       "      <td>[(1, 1, 32.194), (2, 1, 28.054), (3, 1, 40.941...</td>\n",
       "    </tr>\n",
       "    <tr>\n",
       "      <th>29999</th>\n",
       "      <td>49998</td>\n",
       "      <td>[(16, 34, 9.113), (16, 15, 34.589), (16, 2, 22...</td>\n",
       "    </tr>\n",
       "  </tbody>\n",
       "</table>\n",
       "<p>30000 rows × 2 columns</p>\n",
       "</div>"
      ],
      "text/plain": [
       "       client_id                                       transactions\n",
       "0              4  [(0, 1, 10.209), (2, 3, 27.706), (3, 1, 13.024...\n",
       "1              6  [(0, 15, 4.054), (5, 3, 13.738), (10, 1, 20.70...\n",
       "2              7  [(1, 3, 18.319), (2, 19, 194.721), (12, 1, 5.3...\n",
       "3             10  [(4, 0, 17.402), (4, 1, 9.342), (4, 19, 54.125...\n",
       "4             11  [(0, 3, 17.251), (2, 25, 22.898), (6, 1, 15.55...\n",
       "...          ...                                                ...\n",
       "29995      49993  [(1, 9, 78.88), (4, 48, 29.5), (4, 22, 68.647)...\n",
       "29996      49995  [(0, 3, 25.877), (1, 25, 2.652), (1, 11, 9.359...\n",
       "29997      49996  [(1, 36, 215.65), (1, 1, 37.607), (2, 4, 32.69...\n",
       "29998      49997  [(1, 1, 32.194), (2, 1, 28.054), (3, 1, 40.941...\n",
       "29999      49998  [(16, 34, 9.113), (16, 15, 34.589), (16, 2, 22...\n",
       "\n",
       "[30000 rows x 2 columns]"
      ]
     },
     "execution_count": 10,
     "metadata": {},
     "output_type": "execute_result"
    }
   ],
   "source": [
    "preprocess_features(df, 'small_group', 'client_id', 'trans_date', 'amount_rur')"
   ]
  },
  {
   "cell_type": "code",
   "execution_count": null,
   "metadata": {},
   "outputs": [],
   "source": []
  },
  {
   "cell_type": "code",
   "execution_count": null,
   "metadata": {},
   "outputs": [],
   "source": []
  },
  {
   "cell_type": "code",
   "execution_count": null,
   "metadata": {},
   "outputs": [],
   "source": []
  },
  {
   "cell_type": "code",
   "execution_count": null,
   "metadata": {},
   "outputs": [],
   "source": []
  },
  {
   "cell_type": "code",
   "execution_count": null,
   "metadata": {},
   "outputs": [],
   "source": []
  },
  {
   "cell_type": "code",
   "execution_count": null,
   "metadata": {},
   "outputs": [],
   "source": []
  },
  {
   "cell_type": "code",
   "execution_count": null,
   "metadata": {},
   "outputs": [],
   "source": []
  }
 ],
 "metadata": {
  "kernelspec": {
   "display_name": "micro_macro_coles",
   "language": "python",
   "name": "python3"
  },
  "language_info": {
   "codemirror_mode": {
    "name": "ipython",
    "version": 3
   },
   "file_extension": ".py",
   "mimetype": "text/x-python",
   "name": "python",
   "nbconvert_exporter": "python",
   "pygments_lexer": "ipython3",
   "version": "3.9.17"
  },
  "orig_nbformat": 4
 },
 "nbformat": 4,
 "nbformat_minor": 2
}
