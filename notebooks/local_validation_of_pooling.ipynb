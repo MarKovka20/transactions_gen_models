{
 "cells": [
  {
   "cell_type": "code",
   "execution_count": 1,
   "metadata": {},
   "outputs": [],
   "source": [
    "import warnings\n",
    "warnings.filterwarnings(\"ignore\")\n",
    "\n",
    "import os\n",
    "import sys\n",
    "\n",
    "dir2 = os.path.abspath('')\n",
    "dir1 = os.path.dirname(dir2)\n",
    "if not dir1 in sys.path:\n",
    "    sys.path.append(dir1)\n",
    "\n",
    "os.chdir('..')\n",
    "\n",
    "%load_ext autoreload\n",
    "%autoreload"
   ]
  },
  {
   "cell_type": "code",
   "execution_count": 2,
   "metadata": {},
   "outputs": [],
   "source": [
    "from pathlib import Path\n",
    "\n",
    "import pandas as pd\n",
    "\n",
    "import torch\n",
    "\n",
    "from hydra import initialize, compose\n",
    "from hydra.utils import instantiate, call\n",
    "\n",
    "from pytorch_lightning import Trainer, seed_everything\n",
    "from pytorch_lightning.loggers import TensorBoardLogger, CometLogger\n",
    "\n",
    "from sklearn.model_selection import train_test_split\n",
    "\n",
    "from src.local_validation.local_validation_model import LocalValidationModelBase\n",
    "from src.preprocessing import preprocess\n",
    "from src.pooling import PoolingModel\n",
    "\n",
    "from ptls.frames import PtlsDataModule"
   ]
  },
  {
   "cell_type": "markdown",
   "metadata": {},
   "source": [
    "# Example of usage with churn dataset (pooling attention model)\n"
   ]
  },
  {
   "cell_type": "code",
   "execution_count": 3,
   "metadata": {},
   "outputs": [],
   "source": [
    "DATASET = \"churn\"\n",
    "\n",
    "with initialize(config_path=\"../config\", version_base=None):\n",
    "    cfg = compose(config_name=\"pooling_local_validation_\" + DATASET)\n",
    "    \n",
    "cfg_preprop = cfg[\"preprocessing\"]\n",
    "cfg_validation = cfg[\"validation\"][\"event_type_100\"]\n",
    "cfg_encoder = cfg[\"backbone\"][\"encoder\"]"
   ]
  },
  {
   "cell_type": "code",
   "execution_count": 4,
   "metadata": {},
   "outputs": [],
   "source": [
    "train, val, test = preprocess(cfg_preprop)\n",
    "\n",
    "train_dataset = call(cfg_validation[\"dataset\"], data=train, deterministic=False)\n",
    "val_dataset = call(cfg_validation[\"dataset\"], data=val, deterministic=True)\n",
    "test_dataset = call(cfg_validation[\"dataset\"], data=test, deterministic=True)\n",
    "\n",
    "datamodule: PtlsDataModule = instantiate(\n",
    "    cfg_validation[\"datamodule\"],\n",
    "    train_data=train_dataset,\n",
    "    valid_data=val_dataset,\n",
    "    test_data=test_dataset,\n",
    ")"
   ]
  },
  {
   "cell_type": "code",
   "execution_count": 5,
   "metadata": {},
   "outputs": [],
   "source": [
    "cfg_encoder[\"trx_encoder\"][\"embeddings\"][\"mcc_code\"][\"in\"] = 345"
   ]
  },
  {
   "cell_type": "code",
   "execution_count": 6,
   "metadata": {},
   "outputs": [
    {
     "data": {
      "text/plain": [
       "<All keys matched successfully>"
      ]
     },
     "execution_count": 6,
     "metadata": {},
     "output_type": "execute_result"
    }
   ],
   "source": [
    "encoder_name = \"coles_churn\"\n",
    "sequence_encoder = instantiate(cfg_encoder, is_reduce_sequence=True)\n",
    "sequence_encoder.load_state_dict(torch.load(f\"saved_models/{encoder_name}.pth\"))"
   ]
  },
  {
   "cell_type": "code",
   "execution_count": 7,
   "metadata": {},
   "outputs": [
    {
     "name": "stderr",
     "output_type": "stream",
     "text": [
      " 14%|█▍        | 551/3998 [01:09<09:04,  6.34it/s]"
     ]
    }
   ],
   "source": [
    "pooling_model = PoolingModel(train_data = train,\n",
    "                backbone=sequence_encoder,\n",
    "                backbone_embd_size=sequence_encoder.seq_encoder.hidden_size,\n",
    "                max_users_in_train_dataloader=500,\n",
    "                pooling_type=\"attention\",\n",
    "                min_seq_length=15,\n",
    "                max_seq_length=100,\n",
    "                max_embs_per_user=100)"
   ]
  },
  {
   "cell_type": "code",
   "execution_count": 8,
   "metadata": {},
   "outputs": [],
   "source": [
    "batch, target = next(iter(datamodule.train_dataloader()))"
   ]
  },
  {
   "cell_type": "code",
   "execution_count": 10,
   "metadata": {},
   "outputs": [
    {
     "data": {
      "text/plain": [
       "torch.Size([8, 36])"
      ]
     },
     "execution_count": 10,
     "metadata": {},
     "output_type": "execute_result"
    }
   ],
   "source": [
    "batch.payload[\"event_time\"].shape"
   ]
  },
  {
   "cell_type": "code",
   "execution_count": 11,
   "metadata": {},
   "outputs": [
    {
     "name": "stderr",
     "output_type": "stream",
     "text": [
      "Global seed set to 42\n"
     ]
    }
   ],
   "source": [
    "# validation\n",
    "\n",
    "seed_everything(42)\n",
    "\n",
    "valid_model: LocalValidationModelBase = instantiate(\n",
    "    cfg_validation[\"module\"],\n",
    "    backbone=pooling_model,\n",
    "    backbone_embd_size=pooling_model.get_emb_dim(),\n",
    ")"
   ]
  },
  {
   "cell_type": "code",
   "execution_count": 12,
   "metadata": {},
   "outputs": [
    {
     "name": "stderr",
     "output_type": "stream",
     "text": [
      "GPU available: True, used: False\n",
      "TPU available: False, using: 0 TPU cores\n",
      "IPU available: False, using: 0 IPUs\n",
      "HPU available: False, using: 0 HPUs\n",
      "\n",
      "  | Name          | Type             | Params\n",
      "---------------------------------------------------\n",
      "0 | backbone      | PoolingModel     | 4.3 M \n",
      "1 | pred_head     | Sequential       | 204 K \n",
      "2 | loss          | CrossEntropyLoss | 0     \n",
      "3 | train_metrics | MetricCollection | 0     \n",
      "4 | val_metrics   | MetricCollection | 0     \n",
      "5 | test_metrics  | MetricCollection | 0     \n",
      "6 | postproc      | Softmax          | 0     \n",
      "---------------------------------------------------\n",
      "204 K     Trainable params\n",
      "4.3 M     Non-trainable params\n",
      "4.5 M     Total params\n",
      "18.076    Total estimated model params size (MB)\n"
     ]
    },
    {
     "data": {
      "application/vnd.jupyter.widget-view+json": {
       "model_id": "bde44e3df1aa4446a2c61cc6155ff406",
       "version_major": 2,
       "version_minor": 0
      },
      "text/plain": [
       "Sanity Checking: 0it [00:00, ?it/s]"
      ]
     },
     "metadata": {},
     "output_type": "display_data"
    },
    {
     "data": {
      "application/vnd.jupyter.widget-view+json": {
       "model_id": "a90802c333fd4ddcb88605ef3a3df27e",
       "version_major": 2,
       "version_minor": 0
      },
      "text/plain": [
       "Training: 0it [00:00, ?it/s]"
      ]
     },
     "metadata": {},
     "output_type": "display_data"
    }
   ],
   "source": [
    "val_trainer = Trainer(**cfg_validation[\"trainer\"])\n",
    "    \n",
    "val_trainer.fit(valid_model, datamodule)\n",
    "metrics = val_trainer.test(valid_model, datamodule)"
   ]
  },
  {
   "cell_type": "markdown",
   "metadata": {},
   "source": [
    "# Compare with just seqencoder"
   ]
  },
  {
   "cell_type": "code",
   "execution_count": 18,
   "metadata": {},
   "outputs": [
    {
     "name": "stderr",
     "output_type": "stream",
     "text": [
      "Global seed set to 42\n"
     ]
    }
   ],
   "source": [
    "seed_everything(42)\n",
    "\n",
    "valid_model: LocalValidationModelBase = instantiate(\n",
    "    cfg_validation[\"model\"],\n",
    "    backbone=sequence_encoder\n",
    ")"
   ]
  },
  {
   "cell_type": "code",
   "execution_count": 19,
   "metadata": {},
   "outputs": [
    {
     "name": "stderr",
     "output_type": "stream",
     "text": [
      "GPU available: True, used: True\n",
      "TPU available: False, using: 0 TPU cores\n",
      "IPU available: False, using: 0 IPUs\n",
      "HPU available: False, using: 0 HPUs\n",
      "LOCAL_RANK: 0 - CUDA_VISIBLE_DEVICES: [0]\n",
      "\n",
      "  | Name      | Type             | Params\n",
      "-----------------------------------------------\n",
      "0 | backbone  | RnnSeqEncoder    | 4.3 M \n",
      "1 | pred_head | Sequential       | 36.1 K\n",
      "2 | loss      | CrossEntropyLoss | 0     \n",
      "-----------------------------------------------\n",
      "36.1 K    Trainable params\n",
      "4.3 M     Non-trainable params\n",
      "4.4 M     Total params\n",
      "17.401    Total estimated model params size (MB)\n"
     ]
    },
    {
     "data": {
      "application/vnd.jupyter.widget-view+json": {
       "model_id": "be02d8c9240f42c4bda1beb04e49e865",
       "version_major": 2,
       "version_minor": 0
      },
      "text/plain": [
       "Sanity Checking: 0it [00:00, ?it/s]"
      ]
     },
     "metadata": {},
     "output_type": "display_data"
    },
    {
     "data": {
      "application/vnd.jupyter.widget-view+json": {
       "model_id": "84a31abc868742f7bf748d2dbb928759",
       "version_major": 2,
       "version_minor": 0
      },
      "text/plain": [
       "Training: 0it [00:00, ?it/s]"
      ]
     },
     "metadata": {},
     "output_type": "display_data"
    },
    {
     "data": {
      "application/vnd.jupyter.widget-view+json": {
       "model_id": "070fb0067e46466d8399ccafd00fcd54",
       "version_major": 2,
       "version_minor": 0
      },
      "text/plain": [
       "Validation: 0it [00:00, ?it/s]"
      ]
     },
     "metadata": {},
     "output_type": "display_data"
    },
    {
     "data": {
      "application/vnd.jupyter.widget-view+json": {
       "model_id": "51f94083eb24436c814043b6a3632df8",
       "version_major": 2,
       "version_minor": 0
      },
      "text/plain": [
       "Validation: 0it [00:00, ?it/s]"
      ]
     },
     "metadata": {},
     "output_type": "display_data"
    },
    {
     "data": {
      "application/vnd.jupyter.widget-view+json": {
       "model_id": "8f0859b6541545b6ab16eebc9942ad00",
       "version_major": 2,
       "version_minor": 0
      },
      "text/plain": [
       "Validation: 0it [00:00, ?it/s]"
      ]
     },
     "metadata": {},
     "output_type": "display_data"
    },
    {
     "data": {
      "application/vnd.jupyter.widget-view+json": {
       "model_id": "79ce3892d6a2407893e3dd828cc737b1",
       "version_major": 2,
       "version_minor": 0
      },
      "text/plain": [
       "Validation: 0it [00:00, ?it/s]"
      ]
     },
     "metadata": {},
     "output_type": "display_data"
    },
    {
     "data": {
      "application/vnd.jupyter.widget-view+json": {
       "model_id": "19e05aa8f081469aa0faffbfac36160d",
       "version_major": 2,
       "version_minor": 0
      },
      "text/plain": [
       "Validation: 0it [00:00, ?it/s]"
      ]
     },
     "metadata": {},
     "output_type": "display_data"
    },
    {
     "name": "stderr",
     "output_type": "stream",
     "text": [
      "LOCAL_RANK: 0 - CUDA_VISIBLE_DEVICES: [0]\n"
     ]
    },
    {
     "data": {
      "application/vnd.jupyter.widget-view+json": {
       "model_id": "0291b7e567f340b28eb6299daef4cd53",
       "version_major": 2,
       "version_minor": 0
      },
      "text/plain": [
       "Testing: 0it [00:00, ?it/s]"
      ]
     },
     "metadata": {},
     "output_type": "display_data"
    },
    {
     "name": "stdout",
     "output_type": "stream",
     "text": [
      "────────────────────────────────────────────────────────────────────────────────────────────────────────────────────────\n",
      "       Test metric             DataLoader 0\n",
      "────────────────────────────────────────────────────────────────────────────────────────────────────────────────────────\n",
      "          AUROC             0.6694410443305969\n",
      "        Accuracy            0.29433929920196533\n",
      "         F1Score            0.29433929920196533\n",
      "         PR-AUC            0.042737916111946106\n",
      "────────────────────────────────────────────────────────────────────────────────────────────────────────────────────────\n"
     ]
    },
    {
     "data": {
      "text/plain": [
       "[{'AUROC': 0.6694410443305969,\n",
       "  'PR-AUC': 0.042737916111946106,\n",
       "  'Accuracy': 0.29433929920196533,\n",
       "  'F1Score': 0.29433929920196533}]"
      ]
     },
     "execution_count": 19,
     "metadata": {},
     "output_type": "execute_result"
    }
   ],
   "source": [
    "val_trainer = Trainer(**cfg_validation[\"trainer\"])\n",
    "    \n",
    "val_trainer.fit(valid_model, datamodule)\n",
    "metrics = val_trainer.test(valid_model, datamodule)"
   ]
  },
  {
   "cell_type": "markdown",
   "metadata": {},
   "source": [
    "# Compare with pooling mean"
   ]
  },
  {
   "cell_type": "code",
   "execution_count": 20,
   "metadata": {},
   "outputs": [],
   "source": [
    "pooling_model.pooling_type = \"mean\""
   ]
  },
  {
   "cell_type": "code",
   "execution_count": 21,
   "metadata": {},
   "outputs": [
    {
     "name": "stderr",
     "output_type": "stream",
     "text": [
      "Global seed set to 42\n",
      "GPU available: True, used: True\n",
      "TPU available: False, using: 0 TPU cores\n",
      "IPU available: False, using: 0 IPUs\n",
      "HPU available: False, using: 0 HPUs\n",
      "LOCAL_RANK: 0 - CUDA_VISIBLE_DEVICES: [0]\n",
      "\n",
      "  | Name      | Type             | Params\n",
      "-----------------------------------------------\n",
      "0 | backbone  | PoolingModel     | 4.3 M \n",
      "1 | pred_head | Sequential       | 68.9 K\n",
      "2 | loss      | CrossEntropyLoss | 0     \n",
      "-----------------------------------------------\n",
      "68.9 K    Trainable params\n",
      "4.3 M     Non-trainable params\n",
      "4.4 M     Total params\n",
      "17.532    Total estimated model params size (MB)\n"
     ]
    },
    {
     "data": {
      "application/vnd.jupyter.widget-view+json": {
       "model_id": "437b6067398e4e4fb5a7b3b1eaac43ea",
       "version_major": 2,
       "version_minor": 0
      },
      "text/plain": [
       "Sanity Checking: 0it [00:00, ?it/s]"
      ]
     },
     "metadata": {},
     "output_type": "display_data"
    },
    {
     "data": {
      "application/vnd.jupyter.widget-view+json": {
       "model_id": "fd3d3916604e400d813d20d92e995c30",
       "version_major": 2,
       "version_minor": 0
      },
      "text/plain": [
       "Training: 0it [00:00, ?it/s]"
      ]
     },
     "metadata": {},
     "output_type": "display_data"
    },
    {
     "data": {
      "application/vnd.jupyter.widget-view+json": {
       "model_id": "16c9e8f55a2d4446b11f884e6b8e3054",
       "version_major": 2,
       "version_minor": 0
      },
      "text/plain": [
       "Validation: 0it [00:00, ?it/s]"
      ]
     },
     "metadata": {},
     "output_type": "display_data"
    },
    {
     "data": {
      "application/vnd.jupyter.widget-view+json": {
       "model_id": "70063dfaf9844afba680b016914aba7b",
       "version_major": 2,
       "version_minor": 0
      },
      "text/plain": [
       "Validation: 0it [00:00, ?it/s]"
      ]
     },
     "metadata": {},
     "output_type": "display_data"
    },
    {
     "data": {
      "application/vnd.jupyter.widget-view+json": {
       "model_id": "8cd4c936d17347a7a855b2da119b5d18",
       "version_major": 2,
       "version_minor": 0
      },
      "text/plain": [
       "Validation: 0it [00:00, ?it/s]"
      ]
     },
     "metadata": {},
     "output_type": "display_data"
    },
    {
     "data": {
      "application/vnd.jupyter.widget-view+json": {
       "model_id": "2b562a9196494beea425cf0d8e054557",
       "version_major": 2,
       "version_minor": 0
      },
      "text/plain": [
       "Validation: 0it [00:00, ?it/s]"
      ]
     },
     "metadata": {},
     "output_type": "display_data"
    },
    {
     "data": {
      "application/vnd.jupyter.widget-view+json": {
       "model_id": "0fd83cf5554847269affe3b0d204e1f1",
       "version_major": 2,
       "version_minor": 0
      },
      "text/plain": [
       "Validation: 0it [00:00, ?it/s]"
      ]
     },
     "metadata": {},
     "output_type": "display_data"
    },
    {
     "name": "stderr",
     "output_type": "stream",
     "text": [
      "LOCAL_RANK: 0 - CUDA_VISIBLE_DEVICES: [0]\n"
     ]
    },
    {
     "data": {
      "application/vnd.jupyter.widget-view+json": {
       "model_id": "8be7fbb019494511b150a818829247d8",
       "version_major": 2,
       "version_minor": 0
      },
      "text/plain": [
       "Testing: 0it [00:00, ?it/s]"
      ]
     },
     "metadata": {},
     "output_type": "display_data"
    },
    {
     "name": "stdout",
     "output_type": "stream",
     "text": [
      "────────────────────────────────────────────────────────────────────────────────────────────────────────────────────────\n",
      "       Test metric             DataLoader 0\n",
      "────────────────────────────────────────────────────────────────────────────────────────────────────────────────────────\n",
      "          AUROC             0.6771971583366394\n",
      "        Accuracy            0.2960392236709595\n",
      "         F1Score            0.2960392236709595\n",
      "         PR-AUC             0.04380257427692413\n",
      "────────────────────────────────────────────────────────────────────────────────────────────────────────────────────────\n"
     ]
    },
    {
     "data": {
      "text/plain": [
       "[{'AUROC': 0.6771971583366394,\n",
       "  'PR-AUC': 0.04380257427692413,\n",
       "  'Accuracy': 0.2960392236709595,\n",
       "  'F1Score': 0.2960392236709595}]"
      ]
     },
     "execution_count": 21,
     "metadata": {},
     "output_type": "execute_result"
    }
   ],
   "source": [
    "# validation\n",
    "\n",
    "seed_everything(42)\n",
    "\n",
    "valid_model: LocalValidationModel = instantiate(\n",
    "    cfg_validation[\"model\"],\n",
    "    backbone=pooling_model,\n",
    "    backbone_embd_size = pooling_model.get_emb_dim()\n",
    ")\n",
    "\n",
    "val_trainer: Trainer = instantiate(cfg_validation[\"trainer\"])\n",
    "    \n",
    "val_trainer.fit(valid_model, datamodule)\n",
    "val_trainer.test(valid_model, datamodule)"
   ]
  },
  {
   "cell_type": "markdown",
   "metadata": {},
   "source": [
    "# Compare with pooling max"
   ]
  },
  {
   "cell_type": "code",
   "execution_count": 22,
   "metadata": {},
   "outputs": [],
   "source": [
    "pooling_model.pooling_type = \"max\""
   ]
  },
  {
   "cell_type": "code",
   "execution_count": 23,
   "metadata": {},
   "outputs": [
    {
     "name": "stderr",
     "output_type": "stream",
     "text": [
      "Global seed set to 42\n",
      "GPU available: True, used: True\n",
      "TPU available: False, using: 0 TPU cores\n",
      "IPU available: False, using: 0 IPUs\n",
      "HPU available: False, using: 0 HPUs\n",
      "LOCAL_RANK: 0 - CUDA_VISIBLE_DEVICES: [0]\n",
      "\n",
      "  | Name      | Type             | Params\n",
      "-----------------------------------------------\n",
      "0 | backbone  | PoolingModel     | 4.3 M \n",
      "1 | pred_head | Sequential       | 68.9 K\n",
      "2 | loss      | CrossEntropyLoss | 0     \n",
      "-----------------------------------------------\n",
      "68.9 K    Trainable params\n",
      "4.3 M     Non-trainable params\n",
      "4.4 M     Total params\n",
      "17.532    Total estimated model params size (MB)\n"
     ]
    },
    {
     "data": {
      "application/vnd.jupyter.widget-view+json": {
       "model_id": "ec674529b06741928451d77f73313141",
       "version_major": 2,
       "version_minor": 0
      },
      "text/plain": [
       "Sanity Checking: 0it [00:00, ?it/s]"
      ]
     },
     "metadata": {},
     "output_type": "display_data"
    },
    {
     "data": {
      "application/vnd.jupyter.widget-view+json": {
       "model_id": "ad4b2e23817e4778a43409d86f44a26f",
       "version_major": 2,
       "version_minor": 0
      },
      "text/plain": [
       "Training: 0it [00:00, ?it/s]"
      ]
     },
     "metadata": {},
     "output_type": "display_data"
    },
    {
     "data": {
      "application/vnd.jupyter.widget-view+json": {
       "model_id": "a17f7cd5b41840c8b415950227695f98",
       "version_major": 2,
       "version_minor": 0
      },
      "text/plain": [
       "Validation: 0it [00:00, ?it/s]"
      ]
     },
     "metadata": {},
     "output_type": "display_data"
    },
    {
     "data": {
      "application/vnd.jupyter.widget-view+json": {
       "model_id": "4c1f0f3db562462e90355f19a99fc22b",
       "version_major": 2,
       "version_minor": 0
      },
      "text/plain": [
       "Validation: 0it [00:00, ?it/s]"
      ]
     },
     "metadata": {},
     "output_type": "display_data"
    },
    {
     "data": {
      "application/vnd.jupyter.widget-view+json": {
       "model_id": "c586be37db5b4d31bc8956bc44df81b7",
       "version_major": 2,
       "version_minor": 0
      },
      "text/plain": [
       "Validation: 0it [00:00, ?it/s]"
      ]
     },
     "metadata": {},
     "output_type": "display_data"
    },
    {
     "data": {
      "application/vnd.jupyter.widget-view+json": {
       "model_id": "39360f378abd47b0a36b41b84cf03404",
       "version_major": 2,
       "version_minor": 0
      },
      "text/plain": [
       "Validation: 0it [00:00, ?it/s]"
      ]
     },
     "metadata": {},
     "output_type": "display_data"
    },
    {
     "data": {
      "application/vnd.jupyter.widget-view+json": {
       "model_id": "966bd947566549dcba3fc83ce1be0b16",
       "version_major": 2,
       "version_minor": 0
      },
      "text/plain": [
       "Validation: 0it [00:00, ?it/s]"
      ]
     },
     "metadata": {},
     "output_type": "display_data"
    },
    {
     "name": "stderr",
     "output_type": "stream",
     "text": [
      "LOCAL_RANK: 0 - CUDA_VISIBLE_DEVICES: [0]\n"
     ]
    },
    {
     "data": {
      "application/vnd.jupyter.widget-view+json": {
       "model_id": "30733471a941431792188d2f992db7e2",
       "version_major": 2,
       "version_minor": 0
      },
      "text/plain": [
       "Testing: 0it [00:00, ?it/s]"
      ]
     },
     "metadata": {},
     "output_type": "display_data"
    },
    {
     "name": "stdout",
     "output_type": "stream",
     "text": [
      "────────────────────────────────────────────────────────────────────────────────────────────────────────────────────────\n",
      "       Test metric             DataLoader 0\n",
      "────────────────────────────────────────────────────────────────────────────────────────────────────────────────────────\n",
      "          AUROC             0.6732884645462036\n",
      "        Accuracy            0.29436764121055603\n",
      "         F1Score            0.29436764121055603\n",
      "         PR-AUC            0.042369429022073746\n",
      "────────────────────────────────────────────────────────────────────────────────────────────────────────────────────────\n"
     ]
    },
    {
     "data": {
      "text/plain": [
       "[{'AUROC': 0.6732884645462036,\n",
       "  'PR-AUC': 0.042369429022073746,\n",
       "  'Accuracy': 0.29436764121055603,\n",
       "  'F1Score': 0.29436764121055603}]"
      ]
     },
     "execution_count": 23,
     "metadata": {},
     "output_type": "execute_result"
    }
   ],
   "source": [
    "# validation\n",
    "\n",
    "seed_everything(42)\n",
    "\n",
    "valid_model: LocalValidationModel = instantiate(\n",
    "    cfg_validation[\"model\"],\n",
    "    backbone=pooling_model,\n",
    "    backbone_embd_size = pooling_model.get_emb_dim()\n",
    ")\n",
    "\n",
    "val_trainer: Trainer = instantiate(cfg_validation[\"trainer\"])\n",
    "    \n",
    "val_trainer.fit(valid_model, datamodule)\n",
    "val_trainer.test(valid_model, datamodule)"
   ]
  },
  {
   "cell_type": "markdown",
   "metadata": {},
   "source": [
    "# Compare with learnable attention"
   ]
  },
  {
   "cell_type": "code",
   "execution_count": 24,
   "metadata": {},
   "outputs": [],
   "source": [
    "pooling_model.change_pooling_type(\"learnable_attention\")"
   ]
  },
  {
   "cell_type": "code",
   "execution_count": 25,
   "metadata": {},
   "outputs": [
    {
     "data": {
      "text/plain": [
       "'learnable_attention'"
      ]
     },
     "execution_count": 25,
     "metadata": {},
     "output_type": "execute_result"
    }
   ],
   "source": [
    "pooling_model.pooling_type"
   ]
  },
  {
   "cell_type": "code",
   "execution_count": 26,
   "metadata": {},
   "outputs": [],
   "source": [
    "from src.coles import CustomColesDataset, CustomCoLES\n",
    "\n",
    "from pytorch_lightning import Trainer\n",
    "from pytorch_lightning.callbacks import ModelCheckpoint, EarlyStopping\n",
    "from pytorch_lightning.loggers import TensorBoardLogger\n",
    "\n",
    "from ptls.frames import PtlsDataModule"
   ]
  },
  {
   "cell_type": "code",
   "execution_count": 27,
   "metadata": {},
   "outputs": [],
   "source": [
    "with initialize(config_path=\"../config/model\", version_base=None):\n",
    "    cfg_model = compose(config_name=\"coles_\" + \"churn\")"
   ]
  },
  {
   "cell_type": "code",
   "execution_count": 28,
   "metadata": {},
   "outputs": [
    {
     "data": {
      "text/plain": [
       "{'_target_': 'ptls.frames.PtlsDataModule', 'train_batch_size': 128, 'valid_batch_size': 128, 'train_num_workers': 8, 'valid_num_workers': 8}"
      ]
     },
     "execution_count": 28,
     "metadata": {},
     "output_type": "execute_result"
    }
   ],
   "source": [
    "cfg_model[\"datamodule\"]"
   ]
  },
  {
   "cell_type": "code",
   "execution_count": 29,
   "metadata": {},
   "outputs": [],
   "source": [
    "model: CustomCoLES = instantiate(cfg_model[\"model\"],\n",
    "                                 sequence_encoder = pooling_model)"
   ]
  },
  {
   "cell_type": "code",
   "execution_count": 30,
   "metadata": {},
   "outputs": [],
   "source": [
    "# initialize original CoLES datasest - for CoLES training\n",
    "train_data: CustomColesDataset = instantiate(cfg_model[\"dataset\"], data=train)\n",
    "val_data: CustomColesDataset = instantiate(cfg_model[\"dataset\"], data=val)\n",
    "    \n",
    "train_datamodule: PtlsDataModule = instantiate(\n",
    "    cfg_model[\"datamodule\"],\n",
    "    train_data=train_data,\n",
    "    valid_data=val_data\n",
    ")"
   ]
  },
  {
   "cell_type": "code",
   "execution_count": 31,
   "metadata": {},
   "outputs": [],
   "source": [
    "import torch.nn as nn\n",
    "\n",
    "# freeze backbone model\n",
    "for m in model.seq_encoder.backbone.modules():\n",
    "    if isinstance(m, nn.BatchNorm1d):\n",
    "        m.track_running_stats = False\n",
    "        m.eval()\n",
    "\n",
    "for param in model.seq_encoder.backbone.parameters():\n",
    "    param.requires_grad = False"
   ]
  },
  {
   "cell_type": "code",
   "execution_count": 32,
   "metadata": {},
   "outputs": [
    {
     "name": "stdout",
     "output_type": "stream",
     "text": [
      "backbone.trx_encoder.embeddings.mcc_code.weight False\n",
      "backbone.trx_encoder.numerical_batch_norm.bn.weight False\n",
      "backbone.trx_encoder.numerical_batch_norm.bn.bias False\n",
      "backbone.seq_encoder.starter_h False\n",
      "backbone.seq_encoder.rnn.weight_ih_l0 False\n",
      "backbone.seq_encoder.rnn.weight_hh_l0 False\n",
      "backbone.seq_encoder.rnn.bias_ih_l0 False\n",
      "backbone.seq_encoder.rnn.bias_hh_l0 False\n",
      "learnable_attention_matrix.weight True\n",
      "learnable_attention_matrix.bias True\n"
     ]
    }
   ],
   "source": [
    "for name, param in model.seq_encoder.named_parameters():\n",
    "    print(name, param.requires_grad)"
   ]
  },
  {
   "cell_type": "code",
   "execution_count": 33,
   "metadata": {},
   "outputs": [
    {
     "name": "stderr",
     "output_type": "stream",
     "text": [
      "GPU available: True, used: True\n",
      "TPU available: False, using: 0 TPU cores\n",
      "IPU available: False, using: 0 IPUs\n",
      "HPU available: False, using: 0 HPUs\n",
      "LOCAL_RANK: 0 - CUDA_VISIBLE_DEVICES: [0]\n",
      "\n",
      "  | Name               | Type            | Params\n",
      "-------------------------------------------------------\n",
      "0 | _loss              | ContrastiveLoss | 0     \n",
      "1 | _seq_encoder       | PoolingModel    | 5.4 M \n",
      "2 | _validation_metric | BatchRecallTopK | 0     \n",
      "3 | _head              | Head            | 0     \n",
      "-------------------------------------------------------\n",
      "1.0 M     Trainable params\n",
      "4.3 M     Non-trainable params\n",
      "5.4 M     Total params\n",
      "21.455    Total estimated model params size (MB)\n"
     ]
    },
    {
     "data": {
      "application/vnd.jupyter.widget-view+json": {
       "model_id": "69a25323a8bf4d40accc3f527ccce504",
       "version_major": 2,
       "version_minor": 0
      },
      "text/plain": [
       "Sanity Checking: 0it [00:00, ?it/s]"
      ]
     },
     "metadata": {},
     "output_type": "display_data"
    },
    {
     "data": {
      "application/vnd.jupyter.widget-view+json": {
       "model_id": "39be8073f8464e86b5637621a05b7d8c",
       "version_major": 2,
       "version_minor": 0
      },
      "text/plain": [
       "Training: 0it [00:00, ?it/s]"
      ]
     },
     "metadata": {},
     "output_type": "display_data"
    },
    {
     "data": {
      "application/vnd.jupyter.widget-view+json": {
       "model_id": "edc68675a6cd43b5adeddb8a6f7c3715",
       "version_major": 2,
       "version_minor": 0
      },
      "text/plain": [
       "Validation: 0it [00:00, ?it/s]"
      ]
     },
     "metadata": {},
     "output_type": "display_data"
    },
    {
     "name": "stderr",
     "output_type": "stream",
     "text": [
      "Metric recall_top_k improved. New best score: 0.249\n"
     ]
    },
    {
     "data": {
      "application/vnd.jupyter.widget-view+json": {
       "model_id": "626fbf210651457ea0fde5ef899421b9",
       "version_major": 2,
       "version_minor": 0
      },
      "text/plain": [
       "Validation: 0it [00:00, ?it/s]"
      ]
     },
     "metadata": {},
     "output_type": "display_data"
    },
    {
     "name": "stderr",
     "output_type": "stream",
     "text": [
      "Metric recall_top_k improved by 0.035 >= min_delta = 0.01. New best score: 0.284\n"
     ]
    },
    {
     "data": {
      "application/vnd.jupyter.widget-view+json": {
       "model_id": "868f7c8c46cc465094d276a1c4f76588",
       "version_major": 2,
       "version_minor": 0
      },
      "text/plain": [
       "Validation: 0it [00:00, ?it/s]"
      ]
     },
     "metadata": {},
     "output_type": "display_data"
    },
    {
     "data": {
      "application/vnd.jupyter.widget-view+json": {
       "model_id": "17aa1c26db2b41fe95802e33015eb8ef",
       "version_major": 2,
       "version_minor": 0
      },
      "text/plain": [
       "Validation: 0it [00:00, ?it/s]"
      ]
     },
     "metadata": {},
     "output_type": "display_data"
    },
    {
     "data": {
      "application/vnd.jupyter.widget-view+json": {
       "model_id": "9337719460414ed6b9a3f9eb821bf79c",
       "version_major": 2,
       "version_minor": 0
      },
      "text/plain": [
       "Validation: 0it [00:00, ?it/s]"
      ]
     },
     "metadata": {},
     "output_type": "display_data"
    },
    {
     "data": {
      "application/vnd.jupyter.widget-view+json": {
       "model_id": "0c1752a62f1a436ebceb7cbd8d71228c",
       "version_major": 2,
       "version_minor": 0
      },
      "text/plain": [
       "Validation: 0it [00:00, ?it/s]"
      ]
     },
     "metadata": {},
     "output_type": "display_data"
    },
    {
     "data": {
      "application/vnd.jupyter.widget-view+json": {
       "model_id": "8fb50e6cb07b4e529a4c38a45c84ccdf",
       "version_major": 2,
       "version_minor": 0
      },
      "text/plain": [
       "Validation: 0it [00:00, ?it/s]"
      ]
     },
     "metadata": {},
     "output_type": "display_data"
    },
    {
     "name": "stderr",
     "output_type": "stream",
     "text": [
      "Metric recall_top_k improved by 0.018 >= min_delta = 0.01. New best score: 0.301\n"
     ]
    },
    {
     "data": {
      "application/vnd.jupyter.widget-view+json": {
       "model_id": "8c83bfe0887c4924b6726f1365fa3e49",
       "version_major": 2,
       "version_minor": 0
      },
      "text/plain": [
       "Validation: 0it [00:00, ?it/s]"
      ]
     },
     "metadata": {},
     "output_type": "display_data"
    },
    {
     "name": "stderr",
     "output_type": "stream",
     "text": [
      "Metric recall_top_k improved by 0.012 >= min_delta = 0.01. New best score: 0.313\n"
     ]
    },
    {
     "data": {
      "application/vnd.jupyter.widget-view+json": {
       "model_id": "0ad6a249d1854e8ba2090909dbbf8077",
       "version_major": 2,
       "version_minor": 0
      },
      "text/plain": [
       "Validation: 0it [00:00, ?it/s]"
      ]
     },
     "metadata": {},
     "output_type": "display_data"
    },
    {
     "data": {
      "application/vnd.jupyter.widget-view+json": {
       "model_id": "3d389968deb14c57aca2a1d04b8265d8",
       "version_major": 2,
       "version_minor": 0
      },
      "text/plain": [
       "Validation: 0it [00:00, ?it/s]"
      ]
     },
     "metadata": {},
     "output_type": "display_data"
    },
    {
     "data": {
      "application/vnd.jupyter.widget-view+json": {
       "model_id": "a63e0cb0d50a4b91a7ef02cef3ace521",
       "version_major": 2,
       "version_minor": 0
      },
      "text/plain": [
       "Validation: 0it [00:00, ?it/s]"
      ]
     },
     "metadata": {},
     "output_type": "display_data"
    },
    {
     "data": {
      "application/vnd.jupyter.widget-view+json": {
       "model_id": "fe63327988d449279aecba232bce8bc3",
       "version_major": 2,
       "version_minor": 0
      },
      "text/plain": [
       "Validation: 0it [00:00, ?it/s]"
      ]
     },
     "metadata": {},
     "output_type": "display_data"
    },
    {
     "data": {
      "application/vnd.jupyter.widget-view+json": {
       "model_id": "475e933ec0fd4f098bdd836c7c8a284e",
       "version_major": 2,
       "version_minor": 0
      },
      "text/plain": [
       "Validation: 0it [00:00, ?it/s]"
      ]
     },
     "metadata": {},
     "output_type": "display_data"
    },
    {
     "name": "stderr",
     "output_type": "stream",
     "text": [
      "Monitored metric recall_top_k did not improve in the last 5 records. Best score: 0.313. Signaling Trainer to stop.\n"
     ]
    }
   ],
   "source": [
    "model_checkpoint: ModelCheckpoint = instantiate(\n",
    "    cfg_model[\"trainer_coles\"][\"checkpoint_callback\"],\n",
    "    monitor=model.metric_name,\n",
    "    mode=\"max\"\n",
    ")\n",
    "    \n",
    "early_stopping: EarlyStopping = instantiate(\n",
    "    cfg_model[\"trainer_coles\"][\"early_stopping\"],\n",
    "    monitor=model.metric_name,\n",
    "    mode=\"max\"\n",
    ")\n",
    "    \n",
    "logger: TensorBoardLogger = instantiate(cfg_model[\"trainer_coles\"][\"logger\"])\n",
    "    \n",
    "trainer: Trainer = instantiate(\n",
    "    cfg_model[\"trainer_coles\"][\"trainer\"],\n",
    "    callbacks=[model_checkpoint, early_stopping],\n",
    "    logger=logger \n",
    ")\n",
    "    \n",
    "trainer.fit(model, train_datamodule)"
   ]
  },
  {
   "cell_type": "code",
   "execution_count": 34,
   "metadata": {},
   "outputs": [
    {
     "data": {
      "text/plain": [
       "'churn_ae'"
      ]
     },
     "execution_count": 34,
     "metadata": {},
     "output_type": "execute_result"
    }
   ],
   "source": [
    "DATASET"
   ]
  },
  {
   "cell_type": "code",
   "execution_count": 35,
   "metadata": {},
   "outputs": [],
   "source": [
    "torch.save(model.seq_encoder.learnable_attention_matrix.state_dict(), f\"saved_models/coles_{DATASET}_learnable_attention_matrix.pth\")"
   ]
  },
  {
   "cell_type": "code",
   "execution_count": 36,
   "metadata": {},
   "outputs": [
    {
     "data": {
      "text/plain": [
       "<All keys matched successfully>"
      ]
     },
     "execution_count": 36,
     "metadata": {},
     "output_type": "execute_result"
    }
   ],
   "source": [
    "pooling_model.learnable_attention_matrix.load_state_dict(torch.load(f\"saved_models/coles_{DATASET}_learnable_attention_matrix.pth\"))"
   ]
  },
  {
   "cell_type": "code",
   "execution_count": 37,
   "metadata": {},
   "outputs": [
    {
     "name": "stderr",
     "output_type": "stream",
     "text": [
      "Global seed set to 42\n",
      "GPU available: True, used: True\n",
      "TPU available: False, using: 0 TPU cores\n",
      "IPU available: False, using: 0 IPUs\n",
      "HPU available: False, using: 0 HPUs\n"
     ]
    }
   ],
   "source": [
    "# validation\n",
    "\n",
    "seed_everything(42)\n",
    "\n",
    "valid_model: LocalValidationModel = instantiate(\n",
    "    cfg_validation[\"model\"],\n",
    "    backbone=pooling_model,\n",
    "    backbone_embd_size = pooling_model.get_emb_dim()\n",
    ")\n",
    " \n",
    "val_trainer: Trainer = instantiate(cfg_validation[\"trainer\"])"
   ]
  },
  {
   "cell_type": "code",
   "execution_count": 38,
   "metadata": {},
   "outputs": [
    {
     "data": {
      "text/plain": [
       "5"
      ]
     },
     "execution_count": 38,
     "metadata": {},
     "output_type": "execute_result"
    }
   ],
   "source": [
    "val_trainer.max_epochs"
   ]
  },
  {
   "cell_type": "code",
   "execution_count": 39,
   "metadata": {},
   "outputs": [
    {
     "name": "stderr",
     "output_type": "stream",
     "text": [
      "LOCAL_RANK: 0 - CUDA_VISIBLE_DEVICES: [0]\n",
      "\n",
      "  | Name      | Type             | Params\n",
      "-----------------------------------------------\n",
      "0 | backbone  | PoolingModel     | 5.4 M \n",
      "1 | pred_head | Sequential       | 68.9 K\n",
      "2 | loss      | CrossEntropyLoss | 0     \n",
      "-----------------------------------------------\n",
      "68.9 K    Trainable params\n",
      "5.4 M     Non-trainable params\n",
      "5.4 M     Total params\n",
      "21.731    Total estimated model params size (MB)\n"
     ]
    },
    {
     "data": {
      "application/vnd.jupyter.widget-view+json": {
       "model_id": "4d624c34f8474905aaaefdb4fda56305",
       "version_major": 2,
       "version_minor": 0
      },
      "text/plain": [
       "Sanity Checking: 0it [00:00, ?it/s]"
      ]
     },
     "metadata": {},
     "output_type": "display_data"
    },
    {
     "data": {
      "application/vnd.jupyter.widget-view+json": {
       "model_id": "af8de6a4ba67467a90853d2756de7e95",
       "version_major": 2,
       "version_minor": 0
      },
      "text/plain": [
       "Training: 0it [00:00, ?it/s]"
      ]
     },
     "metadata": {},
     "output_type": "display_data"
    },
    {
     "data": {
      "application/vnd.jupyter.widget-view+json": {
       "model_id": "8c8c1b3df04d40e5b47e99f9420779db",
       "version_major": 2,
       "version_minor": 0
      },
      "text/plain": [
       "Validation: 0it [00:00, ?it/s]"
      ]
     },
     "metadata": {},
     "output_type": "display_data"
    },
    {
     "data": {
      "application/vnd.jupyter.widget-view+json": {
       "model_id": "2cbc76c7d9374721a0d982e324b9b4e8",
       "version_major": 2,
       "version_minor": 0
      },
      "text/plain": [
       "Validation: 0it [00:00, ?it/s]"
      ]
     },
     "metadata": {},
     "output_type": "display_data"
    },
    {
     "data": {
      "application/vnd.jupyter.widget-view+json": {
       "model_id": "1367ddf8e9e24c759d81d49bbc358732",
       "version_major": 2,
       "version_minor": 0
      },
      "text/plain": [
       "Validation: 0it [00:00, ?it/s]"
      ]
     },
     "metadata": {},
     "output_type": "display_data"
    },
    {
     "data": {
      "application/vnd.jupyter.widget-view+json": {
       "model_id": "7306b5524c9b452dad732c0e0653c5ad",
       "version_major": 2,
       "version_minor": 0
      },
      "text/plain": [
       "Validation: 0it [00:00, ?it/s]"
      ]
     },
     "metadata": {},
     "output_type": "display_data"
    },
    {
     "data": {
      "application/vnd.jupyter.widget-view+json": {
       "model_id": "089058d7b6754c2da2ce608cb82f2594",
       "version_major": 2,
       "version_minor": 0
      },
      "text/plain": [
       "Validation: 0it [00:00, ?it/s]"
      ]
     },
     "metadata": {},
     "output_type": "display_data"
    },
    {
     "name": "stderr",
     "output_type": "stream",
     "text": [
      "LOCAL_RANK: 0 - CUDA_VISIBLE_DEVICES: [0]\n"
     ]
    },
    {
     "data": {
      "application/vnd.jupyter.widget-view+json": {
       "model_id": "22e2e60bc62548b5848b7ce6fc991eca",
       "version_major": 2,
       "version_minor": 0
      },
      "text/plain": [
       "Testing: 0it [00:00, ?it/s]"
      ]
     },
     "metadata": {},
     "output_type": "display_data"
    },
    {
     "name": "stdout",
     "output_type": "stream",
     "text": [
      "────────────────────────────────────────────────────────────────────────────────────────────────────────────────────────\n",
      "       Test metric             DataLoader 0\n",
      "────────────────────────────────────────────────────────────────────────────────────────────────────────────────────────\n",
      "          AUROC             0.6686756610870361\n",
      "        Accuracy            0.29567089676856995\n",
      "         F1Score            0.29567089676856995\n",
      "         PR-AUC             0.04138781875371933\n",
      "────────────────────────────────────────────────────────────────────────────────────────────────────────────────────────\n"
     ]
    },
    {
     "data": {
      "text/plain": [
       "[{'AUROC': 0.6686756610870361,\n",
       "  'PR-AUC': 0.04138781875371933,\n",
       "  'Accuracy': 0.29567089676856995,\n",
       "  'F1Score': 0.29567089676856995}]"
      ]
     },
     "execution_count": 39,
     "metadata": {},
     "output_type": "execute_result"
    }
   ],
   "source": [
    "val_trainer.fit(valid_model, datamodule)\n",
    "val_trainer.test(valid_model, datamodule)"
   ]
  },
  {
   "cell_type": "code",
   "execution_count": null,
   "metadata": {},
   "outputs": [],
   "source": []
  }
 ],
 "metadata": {
  "kernelspec": {
   "display_name": "base",
   "language": "python",
   "name": "python3"
  },
  "language_info": {
   "codemirror_mode": {
    "name": "ipython",
    "version": 3
   },
   "file_extension": ".py",
   "mimetype": "text/x-python",
   "name": "python",
   "nbconvert_exporter": "python",
   "pygments_lexer": "ipython3",
   "version": "3.10.9"
  },
  "orig_nbformat": 4
 },
 "nbformat": 4,
 "nbformat_minor": 2
}
