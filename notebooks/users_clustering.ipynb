{
 "cells": [
  {
   "cell_type": "code",
   "execution_count": 1,
   "metadata": {},
   "outputs": [],
   "source": [
    "import warnings\n",
    "warnings.filterwarnings(\"ignore\")\n",
    "\n",
    "import os\n",
    "import sys\n",
    "\n",
    "dir2 = os.path.abspath('')\n",
    "dir1 = os.path.dirname(dir2)\n",
    "if not dir1 in sys.path:\n",
    "    sys.path.append(dir1)\n",
    "\n",
    "os.chdir('..')\n",
    "\n",
    "%load_ext autoreload\n",
    "%autoreload"
   ]
  },
  {
   "cell_type": "code",
   "execution_count": 2,
   "metadata": {},
   "outputs": [],
   "source": [
    "from pathlib import Path\n",
    "\n",
    "import pandas as pd\n",
    "import numpy as np\n",
    "\n",
    "import torch\n",
    "\n",
    "from hydra import initialize, compose\n",
    "from hydra.utils import instantiate\n",
    "\n",
    "from ptls.preprocessing import PandasDataPreprocessor\n",
    "from ptls.frames import PtlsDataModule\n",
    "\n",
    "from pytorch_lightning import Trainer\n",
    "from pytorch_lightning.callbacks import ModelCheckpoint, EarlyStopping\n",
    "from pytorch_lightning.loggers import TensorBoardLogger\n",
    "\n",
    "from sklearn.model_selection import train_test_split\n",
    "\n",
    "from src.coles import CustomColesDataset, CustomCoLES, CustomUserValidationColesDataset\n",
    "from src.local_validation import LocalValidationModel\n",
    "\n",
    "from ptls.frames.coles.split_strategy import NoSplit\n",
    "from ptls.frames.coles import ColesDataset\n",
    "\n",
    "from ptls.data_load.datasets import MemoryMapDataset\n",
    "from ptls.data_load.iterable_processing import SeqLenFilter"
   ]
  },
  {
   "cell_type": "code",
   "execution_count": 3,
   "metadata": {},
   "outputs": [],
   "source": [
    "from src.users_validation import UsersValidationModel"
   ]
  },
  {
   "cell_type": "code",
   "execution_count": 4,
   "metadata": {},
   "outputs": [
    {
     "data": {
      "text/plain": [
       "'1.4.0'"
      ]
     },
     "execution_count": 4,
     "metadata": {},
     "output_type": "execute_result"
    }
   ],
   "source": [
    "pd.__version__"
   ]
  },
  {
   "cell_type": "markdown",
   "metadata": {},
   "source": [
    "# Example with raif dataset\n"
   ]
  },
  {
   "cell_type": "code",
   "execution_count": 5,
   "metadata": {},
   "outputs": [],
   "source": [
    "with initialize(config_path=\"../config\", version_base=None):\n",
    "    cfg = compose(config_name=\"config_raif\")\n",
    "    \n",
    "cfg_preprop = cfg[\"dataset\"]\n",
    "cfg_model = cfg[\"model\"]\n",
    "cfg_validation = cfg[\"validation\"]"
   ]
  },
  {
   "cell_type": "code",
   "execution_count": 6,
   "metadata": {},
   "outputs": [
    {
     "data": {
      "text/html": [
       "<div>\n",
       "<style scoped>\n",
       "    .dataframe tbody tr th:only-of-type {\n",
       "        vertical-align: middle;\n",
       "    }\n",
       "\n",
       "    .dataframe tbody tr th {\n",
       "        vertical-align: top;\n",
       "    }\n",
       "\n",
       "    .dataframe thead th {\n",
       "        text-align: right;\n",
       "    }\n",
       "</style>\n",
       "<table border=\"1\" class=\"dataframe\">\n",
       "  <thead>\n",
       "    <tr style=\"text-align: right;\">\n",
       "      <th></th>\n",
       "      <th>timestamp</th>\n",
       "      <th>amount</th>\n",
       "      <th>mcc_code</th>\n",
       "      <th>user_id</th>\n",
       "      <th>categorycode</th>\n",
       "      <th>gender</th>\n",
       "      <th>age</th>\n",
       "      <th>residenttype</th>\n",
       "      <th>married</th>\n",
       "    </tr>\n",
       "  </thead>\n",
       "  <tbody>\n",
       "    <tr>\n",
       "      <th>0</th>\n",
       "      <td>2019-11-02</td>\n",
       "      <td>9000000.00</td>\n",
       "      <td>215</td>\n",
       "      <td>1183902</td>\n",
       "      <td>17</td>\n",
       "      <td>0</td>\n",
       "      <td>59</td>\n",
       "      <td>1</td>\n",
       "      <td>1</td>\n",
       "    </tr>\n",
       "    <tr>\n",
       "      <th>1</th>\n",
       "      <td>2019-11-02</td>\n",
       "      <td>9000000.00</td>\n",
       "      <td>215</td>\n",
       "      <td>1183902</td>\n",
       "      <td>17</td>\n",
       "      <td>0</td>\n",
       "      <td>59</td>\n",
       "      <td>1</td>\n",
       "      <td>1</td>\n",
       "    </tr>\n",
       "    <tr>\n",
       "      <th>2</th>\n",
       "      <td>2019-11-02</td>\n",
       "      <td>5000000.00</td>\n",
       "      <td>215</td>\n",
       "      <td>1183902</td>\n",
       "      <td>17</td>\n",
       "      <td>0</td>\n",
       "      <td>59</td>\n",
       "      <td>1</td>\n",
       "      <td>1</td>\n",
       "    </tr>\n",
       "    <tr>\n",
       "      <th>3</th>\n",
       "      <td>2019-11-02</td>\n",
       "      <td>5000000.00</td>\n",
       "      <td>215</td>\n",
       "      <td>1183902</td>\n",
       "      <td>17</td>\n",
       "      <td>0</td>\n",
       "      <td>59</td>\n",
       "      <td>1</td>\n",
       "      <td>1</td>\n",
       "    </tr>\n",
       "    <tr>\n",
       "      <th>4</th>\n",
       "      <td>2019-11-07</td>\n",
       "      <td>1148610.31</td>\n",
       "      <td>139</td>\n",
       "      <td>1183902</td>\n",
       "      <td>17</td>\n",
       "      <td>0</td>\n",
       "      <td>59</td>\n",
       "      <td>1</td>\n",
       "      <td>1</td>\n",
       "    </tr>\n",
       "    <tr>\n",
       "      <th>...</th>\n",
       "      <td>...</td>\n",
       "      <td>...</td>\n",
       "      <td>...</td>\n",
       "      <td>...</td>\n",
       "      <td>...</td>\n",
       "      <td>...</td>\n",
       "      <td>...</td>\n",
       "      <td>...</td>\n",
       "      <td>...</td>\n",
       "    </tr>\n",
       "    <tr>\n",
       "      <th>104161403</th>\n",
       "      <td>2019-10-23</td>\n",
       "      <td>0.08</td>\n",
       "      <td>155</td>\n",
       "      <td>563333</td>\n",
       "      <td>70</td>\n",
       "      <td>1</td>\n",
       "      <td>31</td>\n",
       "      <td>1</td>\n",
       "      <td>1</td>\n",
       "    </tr>\n",
       "    <tr>\n",
       "      <th>104161404</th>\n",
       "      <td>2019-11-23</td>\n",
       "      <td>0.04</td>\n",
       "      <td>155</td>\n",
       "      <td>563333</td>\n",
       "      <td>70</td>\n",
       "      <td>1</td>\n",
       "      <td>31</td>\n",
       "      <td>1</td>\n",
       "      <td>1</td>\n",
       "    </tr>\n",
       "    <tr>\n",
       "      <th>104161405</th>\n",
       "      <td>2019-10-05</td>\n",
       "      <td>0.05</td>\n",
       "      <td>283</td>\n",
       "      <td>997465</td>\n",
       "      <td>70</td>\n",
       "      <td>0</td>\n",
       "      <td>41</td>\n",
       "      <td>1</td>\n",
       "      <td>0</td>\n",
       "    </tr>\n",
       "    <tr>\n",
       "      <th>104161406</th>\n",
       "      <td>2019-10-14</td>\n",
       "      <td>0.03</td>\n",
       "      <td>283</td>\n",
       "      <td>924652</td>\n",
       "      <td>70</td>\n",
       "      <td>0</td>\n",
       "      <td>44</td>\n",
       "      <td>1</td>\n",
       "      <td>1</td>\n",
       "    </tr>\n",
       "    <tr>\n",
       "      <th>104161407</th>\n",
       "      <td>2019-10-17</td>\n",
       "      <td>0.02</td>\n",
       "      <td>288</td>\n",
       "      <td>708216</td>\n",
       "      <td>70</td>\n",
       "      <td>1</td>\n",
       "      <td>32</td>\n",
       "      <td>1</td>\n",
       "      <td>1</td>\n",
       "    </tr>\n",
       "  </tbody>\n",
       "</table>\n",
       "<p>104161408 rows × 9 columns</p>\n",
       "</div>"
      ],
      "text/plain": [
       "           timestamp      amount  mcc_code  user_id  categorycode  gender  \\\n",
       "0         2019-11-02  9000000.00       215  1183902            17       0   \n",
       "1         2019-11-02  9000000.00       215  1183902            17       0   \n",
       "2         2019-11-02  5000000.00       215  1183902            17       0   \n",
       "3         2019-11-02  5000000.00       215  1183902            17       0   \n",
       "4         2019-11-07  1148610.31       139  1183902            17       0   \n",
       "...              ...         ...       ...      ...           ...     ...   \n",
       "104161403 2019-10-23        0.08       155   563333            70       1   \n",
       "104161404 2019-11-23        0.04       155   563333            70       1   \n",
       "104161405 2019-10-05        0.05       283   997465            70       0   \n",
       "104161406 2019-10-14        0.03       283   924652            70       0   \n",
       "104161407 2019-10-17        0.02       288   708216            70       1   \n",
       "\n",
       "           age  residenttype  married  \n",
       "0           59             1        1  \n",
       "1           59             1        1  \n",
       "2           59             1        1  \n",
       "3           59             1        1  \n",
       "4           59             1        1  \n",
       "...        ...           ...      ...  \n",
       "104161403   31             1        1  \n",
       "104161404   31             1        1  \n",
       "104161405   41             1        0  \n",
       "104161406   44             1        1  \n",
       "104161407   32             1        1  \n",
       "\n",
       "[104161408 rows x 9 columns]"
      ]
     },
     "execution_count": 6,
     "metadata": {},
     "output_type": "execute_result"
    }
   ],
   "source": [
    "# residenttype: R => 1\n",
    "#               N => 0\n",
    "\n",
    "# gender: F => 0\n",
    "#         M => 1\n",
    "\n",
    "# married: not_married => 0\n",
    "#          married => 1\n",
    "\n",
    "# age: without changes\n",
    "\n",
    "df = pd.read_parquet(Path(cfg[\"dataset\"][\"dir_path\"]).joinpath(cfg[\"dataset\"][\"train_file_name\"]))\n",
    "df"
   ]
  },
  {
   "cell_type": "code",
   "execution_count": 7,
   "metadata": {},
   "outputs": [],
   "source": [
    "np.random.seed(42)\n",
    "users = np.random.choice(df[\"user_id\"].unique(), size=10_000)\n",
    "df.index = df.user_id\n",
    "df = df.loc[users]"
   ]
  },
  {
   "cell_type": "code",
   "execution_count": 8,
   "metadata": {},
   "outputs": [],
   "source": [
    "preprocessor = PandasDataPreprocessor(\n",
    "    col_id=\"user_id\",\n",
    "    col_event_time=\"timestamp\",\n",
    "    event_time_transformation=\"dt_to_timestamp\",\n",
    "    cols_category=[\"mcc_code\", \"categorycode\"],\n",
    "    category_transformation=\"frequency\",\n",
    "    cols_numerical=[\"amount\"],  # keep column with fake local targets\n",
    "    cols_first_item=[\"married\", \"gender\", \"categorycode\", \"residenttype\", \"age\"],\n",
    "    return_records=True,\n",
    ")\n",
    "\n",
    "dataset = preprocessor.fit_transform(df)\n",
    "\n",
    "valid_size = cfg_preprop[\"coles\"][\"valid_size\"]\n",
    "test_size = cfg_preprop[\"coles\"][\"test_size\"]\n",
    "\n",
    "train, val_test = train_test_split(\n",
    "    dataset,\n",
    "    test_size=valid_size+test_size,\n",
    "    random_state=cfg_preprop[\"coles\"][\"random_state\"]\n",
    ")\n",
    "\n",
    "val, test = train_test_split(\n",
    "    val_test,\n",
    "    test_size=test_size/(valid_size+test_size),\n",
    "    random_state=cfg_preprop[\"coles\"][\"random_state\"]\n",
    ")"
   ]
  },
  {
   "cell_type": "code",
   "execution_count": 9,
   "metadata": {},
   "outputs": [],
   "source": [
    "# # initialize original CoLES datasest - for CoLES training\n",
    "# train_data: CustomColesDataset = instantiate(cfg_model[\"dataset\"], data=train)\n",
    "# val_data: CustomColesDataset = instantiate(cfg_model[\"dataset\"], data=val)\n",
    "    \n",
    "# train_datamodule: PtlsDataModule = instantiate(\n",
    "#     cfg_model[\"datamodule\"],\n",
    "#     train_data=train_data,\n",
    "#     valid_data=val_data\n",
    "# )"
   ]
  },
  {
   "cell_type": "code",
   "execution_count": 10,
   "metadata": {},
   "outputs": [],
   "source": [
    "model: CustomCoLES = instantiate(cfg_model[\"model\"])"
   ]
  },
  {
   "cell_type": "code",
   "execution_count": 11,
   "metadata": {},
   "outputs": [],
   "source": [
    "# model_checkpoint: ModelCheckpoint = instantiate(\n",
    "#     cfg_model[\"trainer_coles\"][\"checkpoint_callback\"],\n",
    "#     monitor=model.metric_name,\n",
    "#     mode=\"max\"\n",
    "# )\n",
    "    \n",
    "# early_stopping: EarlyStopping = instantiate(\n",
    "#     cfg_model[\"trainer_coles\"][\"early_stopping\"],\n",
    "#     monitor=model.metric_name,\n",
    "#     mode=\"max\"\n",
    "# )\n",
    "    \n",
    "# logger: TensorBoardLogger = instantiate(cfg_model[\"trainer_coles\"][\"logger\"])\n",
    "    \n",
    "# trainer: Trainer = instantiate(\n",
    "#     cfg_model[\"trainer_coles\"][\"trainer\"],\n",
    "#     callbacks=[model_checkpoint, early_stopping],\n",
    "#     logger=logger\n",
    "# )\n",
    "    \n",
    "# trainer.fit(model, train_datamodule)"
   ]
  },
  {
   "cell_type": "code",
   "execution_count": 12,
   "metadata": {},
   "outputs": [],
   "source": [
    "# torch.save(model.state_dict(), \"saved_models/coles_raif_default.pth\")"
   ]
  },
  {
   "cell_type": "code",
   "execution_count": 13,
   "metadata": {},
   "outputs": [
    {
     "data": {
      "text/plain": [
       "<All keys matched successfully>"
      ]
     },
     "execution_count": 13,
     "metadata": {},
     "output_type": "execute_result"
    }
   ],
   "source": [
    "model.load_state_dict(torch.load(\"saved_models/coles_raif_default.pth\"))"
   ]
  },
  {
   "cell_type": "code",
   "execution_count": 14,
   "metadata": {},
   "outputs": [],
   "source": [
    "min_len = 20\n",
    "col_time = \"event_time\"\n",
    "\n",
    "data_train = MemoryMapDataset(train, [SeqLenFilter(min_len)])\n",
    "data_val = MemoryMapDataset(val, [SeqLenFilter(min_len)])\n",
    "\n",
    "train_data_no_split = ColesDataset(\n",
    "    data_train,\n",
    "    NoSplit(),\n",
    "    col_time\n",
    ")\n",
    "\n",
    "val_data_no_split = ColesDataset(\n",
    "    data_val,\n",
    "    NoSplit(),\n",
    "    col_time\n",
    ")"
   ]
  },
  {
   "cell_type": "code",
   "execution_count": 15,
   "metadata": {},
   "outputs": [],
   "source": [
    "train_data_no_split = CustomUserValidationColesDataset(data_train,\n",
    "                                              NoSplit(),\n",
    "                                              col_time,\n",
    "                                              target_cols = ['gender', 'age', 'residenttype', 'married'])\n",
    "val_data_no_split = CustomUserValidationColesDataset(data_val,\n",
    "                                              NoSplit(),\n",
    "                                              col_time,\n",
    "                                              target_cols = ['gender', 'age', 'residenttype', 'married'])\n",
    "\n",
    "datamodule = PtlsDataModule(\n",
    "    train_data=train_data_no_split,\n",
    "    valid_data=val_data_no_split,\n",
    "    test_data=val_data_no_split,\n",
    "    train_batch_size=4,\n",
    "    valid_batch_size=4, \n",
    "    test_batch_size=4\n",
    ")"
   ]
  },
  {
   "cell_type": "code",
   "execution_count": 16,
   "metadata": {},
   "outputs": [
    {
     "data": {
      "text/plain": [
       "(dict_keys(['event_time', 'mcc_code', 'amount']),\n",
       " torch.Size([4, 266]),\n",
       " {'gender': tensor([1., 1., 1., 0.]),\n",
       "  'age': tensor([34., 26., 33., 46.]),\n",
       "  'residenttype': tensor([0., 1., 1., 1.]),\n",
       "  'married': tensor([0., 0., 0., 0.])},\n",
       " torch.Size([4, 1024]))"
      ]
     },
     "execution_count": 16,
     "metadata": {},
     "output_type": "execute_result"
    }
   ],
   "source": [
    "x, y = next(iter(datamodule.train_dataloader()))\n",
    "backbone = model.seq_encoder\n",
    "\n",
    "x.payload.keys(), x.payload[\"event_time\"].shape,  y, backbone(x).shape"
   ]
  },
  {
   "cell_type": "code",
   "execution_count": 17,
   "metadata": {},
   "outputs": [],
   "source": [
    "val_model = UsersValidationModel(backbone = backbone,\n",
    "                             backbone_embd_size = 1024,\n",
    "                             hidden_size = 1024)\n"
   ]
  },
  {
   "cell_type": "code",
   "execution_count": 18,
   "metadata": {},
   "outputs": [
    {
     "data": {
      "text/plain": [
       "{'gender': tensor([[0.4988],\n",
       "         [0.5025],\n",
       "         [0.5012],\n",
       "         [0.5054]], grad_fn=<SigmoidBackward0>),\n",
       " 'age': tensor([[0.0217],\n",
       "         [0.0326],\n",
       "         [0.0302],\n",
       "         [0.0128]], grad_fn=<AddmmBackward0>),\n",
       " 'residenttype': tensor([[0.4810],\n",
       "         [0.4883],\n",
       "         [0.4948],\n",
       "         [0.4731]], grad_fn=<SigmoidBackward0>),\n",
       " 'married': tensor([[0.4931],\n",
       "         [0.5014],\n",
       "         [0.5071],\n",
       "         [0.4975]], grad_fn=<SigmoidBackward0>)}"
      ]
     },
     "execution_count": 18,
     "metadata": {},
     "output_type": "execute_result"
    }
   ],
   "source": [
    "val_model(x)"
   ]
  },
  {
   "cell_type": "code",
   "execution_count": 19,
   "metadata": {},
   "outputs": [
    {
     "name": "stderr",
     "output_type": "stream",
     "text": [
      "GPU available: True, used: True\n",
      "TPU available: False, using: 0 TPU cores\n",
      "IPU available: False, using: 0 IPUs\n",
      "HPU available: False, using: 0 HPUs\n",
      "LOCAL_RANK: 0 - CUDA_VISIBLE_DEVICES: [0]\n",
      "\n",
      "  | Name       | Type          | Params\n",
      "---------------------------------------------\n",
      "0 | backbone   | RnnSeqEncoder | 4.3 M \n",
      "1 | pred_heads | ModuleDict    | 4.2 M \n",
      "---------------------------------------------\n",
      "4.2 M     Trainable params\n",
      "4.3 M     Non-trainable params\n",
      "8.5 M     Total params\n",
      "34.072    Total estimated model params size (MB)\n"
     ]
    },
    {
     "data": {
      "application/vnd.jupyter.widget-view+json": {
       "model_id": "fb3fae5dc81b4482bfa5f9ee641b8d8c",
       "version_major": 2,
       "version_minor": 0
      },
      "text/plain": [
       "Sanity Checking: 0it [00:00, ?it/s]"
      ]
     },
     "metadata": {},
     "output_type": "display_data"
    },
    {
     "data": {
      "application/vnd.jupyter.widget-view+json": {
       "model_id": "d7765f925e2047b68dbfe60d4efbd031",
       "version_major": 2,
       "version_minor": 0
      },
      "text/plain": [
       "Training: 0it [00:00, ?it/s]"
      ]
     },
     "metadata": {},
     "output_type": "display_data"
    },
    {
     "data": {
      "application/vnd.jupyter.widget-view+json": {
       "model_id": "96ff58c0553f4211b0add3137cad5020",
       "version_major": 2,
       "version_minor": 0
      },
      "text/plain": [
       "Validation: 0it [00:00, ?it/s]"
      ]
     },
     "metadata": {},
     "output_type": "display_data"
    },
    {
     "data": {
      "application/vnd.jupyter.widget-view+json": {
       "model_id": "d1096061fa94488dbf972c7ee7122c55",
       "version_major": 2,
       "version_minor": 0
      },
      "text/plain": [
       "Validation: 0it [00:00, ?it/s]"
      ]
     },
     "metadata": {},
     "output_type": "display_data"
    },
    {
     "data": {
      "application/vnd.jupyter.widget-view+json": {
       "model_id": "1cca14bb6a994d0fad4e5bda9c38b413",
       "version_major": 2,
       "version_minor": 0
      },
      "text/plain": [
       "Validation: 0it [00:00, ?it/s]"
      ]
     },
     "metadata": {},
     "output_type": "display_data"
    },
    {
     "data": {
      "application/vnd.jupyter.widget-view+json": {
       "model_id": "0bfc648a2db74568b2f31c56fa5b26fd",
       "version_major": 2,
       "version_minor": 0
      },
      "text/plain": [
       "Validation: 0it [00:00, ?it/s]"
      ]
     },
     "metadata": {},
     "output_type": "display_data"
    },
    {
     "data": {
      "application/vnd.jupyter.widget-view+json": {
       "model_id": "5bd6f7b0a1f64c61bf3a76ba7555a512",
       "version_major": 2,
       "version_minor": 0
      },
      "text/plain": [
       "Validation: 0it [00:00, ?it/s]"
      ]
     },
     "metadata": {},
     "output_type": "display_data"
    },
    {
     "name": "stderr",
     "output_type": "stream",
     "text": [
      "LOCAL_RANK: 0 - CUDA_VISIBLE_DEVICES: [0]\n"
     ]
    },
    {
     "data": {
      "application/vnd.jupyter.widget-view+json": {
       "model_id": "22eb27b7541f484eac6fa7cf94a5f695",
       "version_major": 2,
       "version_minor": 0
      },
      "text/plain": [
       "Testing: 0it [00:00, ?it/s]"
      ]
     },
     "metadata": {},
     "output_type": "display_data"
    },
    {
     "name": "stdout",
     "output_type": "stream",
     "text": [
      "────────────────────────────────────────────────────────────────────────────────────────────────────────────────────────\n",
      "       Test metric             DataLoader 0\n",
      "────────────────────────────────────────────────────────────────────────────────────────────────────────────────────────\n",
      "      AUROC_gender          0.8319128751754761\n",
      "      AUROC_married         0.6398079991340637\n",
      "   AUROC_residenttype       0.7141621112823486\n",
      "     Accuracy_gender        0.7331081032752991\n",
      "    Accuracy_married        0.6402027010917664\n",
      "  Accuracy_residenttype     0.9763513803482056\n",
      "     F1Score_gender         0.7755681872367859\n",
      "     F1Score_married        0.3486238420009613\n",
      "  F1Score_residenttype       0.988034188747406\n",
      "         MAE_age             7.199037075042725\n",
      "         MSE_age             82.4435806274414\n",
      "      PR-AUC_gender          0.864482045173645\n",
      "     PR-AUC_married         0.5285336375236511\n",
      "   PR-AUC_residenttype      0.9905225038528442\n",
      "────────────────────────────────────────────────────────────────────────────────────────────────────────────────────────\n"
     ]
    },
    {
     "data": {
      "text/plain": [
       "[{'AUROC_gender': 0.8319128751754761,\n",
       "  'PR-AUC_gender': 0.864482045173645,\n",
       "  'Accuracy_gender': 0.7331081032752991,\n",
       "  'F1Score_gender': 0.7755681872367859,\n",
       "  'MAE_age': 7.199037075042725,\n",
       "  'MSE_age': 82.4435806274414,\n",
       "  'AUROC_residenttype': 0.7141621112823486,\n",
       "  'PR-AUC_residenttype': 0.9905225038528442,\n",
       "  'Accuracy_residenttype': 0.9763513803482056,\n",
       "  'F1Score_residenttype': 0.988034188747406,\n",
       "  'AUROC_married': 0.6398079991340637,\n",
       "  'PR-AUC_married': 0.5285336375236511,\n",
       "  'Accuracy_married': 0.6402027010917664,\n",
       "  'F1Score_married': 0.3486238420009613}]"
      ]
     },
     "execution_count": 19,
     "metadata": {},
     "output_type": "execute_result"
    }
   ],
   "source": [
    "val_trainer: Trainer = instantiate(cfg_validation[\"trainer\"])\n",
    "    \n",
    "val_trainer.fit(val_model, datamodule)\n",
    "val_trainer.test(val_model, datamodule)"
   ]
  },
  {
   "cell_type": "code",
   "execution_count": null,
   "metadata": {},
   "outputs": [],
   "source": []
  },
  {
   "cell_type": "markdown",
   "metadata": {},
   "source": [
    "# Clustering"
   ]
  },
  {
   "cell_type": "code",
   "execution_count": 20,
   "metadata": {},
   "outputs": [],
   "source": [
    "clustering_columns = [\"gender\", \"married\", \"residenttype\", \"age\"]"
   ]
  },
  {
   "cell_type": "code",
   "execution_count": 21,
   "metadata": {},
   "outputs": [],
   "source": [
    "data = df[clustering_columns + [\"user_id\"]].drop_duplicates()[clustering_columns]\n",
    "ids = df[clustering_columns + [\"user_id\"]].drop_duplicates().index"
   ]
  },
  {
   "cell_type": "code",
   "execution_count": 22,
   "metadata": {},
   "outputs": [
    {
     "data": {
      "text/plain": [
       "(27.0, 39.0, 57.0)"
      ]
     },
     "execution_count": 22,
     "metadata": {},
     "output_type": "execute_result"
    }
   ],
   "source": [
    "data[\"age\"].quantile(0.10), data[\"age\"].quantile(0.5), data[\"age\"].quantile(0.90), "
   ]
  },
  {
   "cell_type": "code",
   "execution_count": 23,
   "metadata": {},
   "outputs": [
    {
     "data": {
      "text/plain": [
       "(array([ 315., 1377., 2587., 2103., 1628., 1049.,  670.,  186.,   37.,\n",
       "          13.]),\n",
       " array([15. , 22.1, 29.2, 36.3, 43.4, 50.5, 57.6, 64.7, 71.8, 78.9, 86. ]),\n",
       " <BarContainer object of 10 artists>)"
      ]
     },
     "execution_count": 23,
     "metadata": {},
     "output_type": "execute_result"
    },
    {
     "data": {
      "image/png": "[encoded data removed]",
      "text/plain": [
       "<Figure size 640x480 with 1 Axes>"
      ]
     },
     "metadata": {},
     "output_type": "display_data"
    }
   ],
   "source": [
    "import matplotlib.pyplot as plt\n",
    "plt.hist(data[\"age\"])"
   ]
  },
  {
   "cell_type": "code",
   "execution_count": 24,
   "metadata": {},
   "outputs": [
    {
     "data": {
      "text/plain": [
       "(array([0, 1], dtype=int64), array([ 303, 9662], dtype=int64))"
      ]
     },
     "execution_count": 24,
     "metadata": {},
     "output_type": "execute_result"
    }
   ],
   "source": [
    "np.unique(data[\"residenttype\"].values, return_counts = True)"
   ]
  },
  {
   "cell_type": "code",
   "execution_count": 25,
   "metadata": {},
   "outputs": [],
   "source": [
    "import numpy as np\n",
    "from sklearn.cluster import KMeans\n",
    "\n",
    "from tqdm import tqdm\n"
   ]
  },
  {
   "cell_type": "code",
   "execution_count": 26,
   "metadata": {},
   "outputs": [],
   "source": [
    "import torch.nn as nn\n",
    "from sklearn import metrics\n",
    "from sklearn.cluster import KMeans, AgglomerativeClustering, AffinityPropagation, SpectralClustering\n",
    "\n",
    "\n",
    "class UsersClusteringValidation():\n",
    "\n",
    "    def __init__(\n",
    "        self,\n",
    "        backbone: nn.Module,\n",
    "        clustering_algorithm = KMeans(),\n",
    "        backbone_output_type: str = \"tensor\",\n",
    "        binary_columns = [\"gender\", \"married\", \"residenttype\"], \n",
    "        cont_columns = [\"age\"], \n",
    "        cont_columns_threasholds = [[39]]\n",
    "    ) -> None:\n",
    "\n",
    "        super().__init__()\n",
    "\n",
    "        assert backbone_output_type in [\n",
    "            \"tensor\",\n",
    "            \"padded_batch\",\n",
    "        ], f\"Unknown output type of the backbone model {backbone_output_type}\"\n",
    "\n",
    "        self.backbone = backbone\n",
    "        # freeze backbone model\n",
    "        for param in self.backbone.parameters():\n",
    "            param.requires_grad = False\n",
    "\n",
    "        self.binary_columns = binary_columns\n",
    "        self.cont_columns = cont_columns\n",
    "        self.cont_columns_threasholds = cont_columns_threasholds\n",
    "        self.algo = clustering_algorithm\n",
    "\n",
    "    def cluster_assignation(self, data):\n",
    "        dt = data.copy()\n",
    "        dt[\"cluster\"] = 0\n",
    "        for  i, binary_column in enumerate(self.binary_columns):\n",
    "            dt[\"cluster\"] += dt[binary_column] * 2**i\n",
    "        num_clusters = 2**len(self.binary_columns) \n",
    "\n",
    "        for cont_column, cont_column_threashold in zip(self.cont_columns, self.cont_columns_threasholds):\n",
    "            dt[\"cluster_\" + cont_column] = 0\n",
    "            for i in range(len(cont_column_threashold)):\n",
    "                value = cont_column_threashold[i]\n",
    "                if i != len(cont_column_threashold) - 1:\n",
    "                    next_value = cont_column_threashold[i+1]\n",
    "                    dt.loc[(dt[cont_column] >= value) & (dt[cont_column] < next_value), \"cluster_\" + cont_column] = i+1\n",
    "                else:\n",
    "                    dt.loc[dt[cont_column] >= value, \"cluster_\" + cont_column] = i+1\n",
    "\n",
    "            dt[\"cluster\"] += (dt[\"cluster_\" + cont_column]) * num_clusters\n",
    "            num_clusters *= (len(cont_column_threashold) + 1)\n",
    "            dt = dt.drop(\"cluster_\" + cont_column, axis = 1)\n",
    "\n",
    "        return dt, num_clusters\n",
    "    \n",
    "    def get_data(self, dataloader):\n",
    "\n",
    "        embeddings = torch.tensor([])\n",
    "        targets = {}\n",
    "        for column in (self.binary_columns + self.cont_columns):\n",
    "            targets[column] = torch.tensor([])\n",
    "\n",
    "        for batch in tqdm(dataloader):\n",
    "            x, y = batch\n",
    "            for key, value in y.items():\n",
    "                try:\n",
    "                    targets[key] = torch.cat((targets[key], value))\n",
    "                except Exception as ex:\n",
    "                    pass \n",
    "            emb = self.backbone(x)\n",
    "            embeddings = torch.cat((embeddings, emb))\n",
    "\n",
    "        targets, num_clusters = self.cluster_assignation(pd.DataFrame(targets))\n",
    "        targets = targets[\"cluster\"].values.astype(\"int\")\n",
    "        embeddings = embeddings.detach().cpu().numpy()\n",
    "\n",
    "        return embeddings, targets, num_clusters\n",
    "\n",
    "    def train(self, datamodule):\n",
    "        \n",
    "        embeddings, targets, num_clusters = self.get_data(datamodule.train_dataloader())\n",
    "        \n",
    "        try: \n",
    "            self.algo.n_clusters = num_clusters\n",
    "        except Exception as ex:\n",
    "            pass\n",
    "\n",
    "        self.algo.fit(embeddings)\n",
    "\n",
    "        preds = self.algo.predict(embeddings)\n",
    "        return targets, preds\n",
    "    \n",
    "    def test(self, datamodule):\n",
    "        embeddings, targets, _ = self.get_data(datamodule.test_dataloader()) \n",
    "        preds = self.algo.predict(embeddings)\n",
    "        \n",
    "        result = {\n",
    "            'ARI': metrics.adjusted_rand_score(targets, preds),\n",
    "            'AMI': metrics.adjusted_mutual_info_score(targets, preds),\n",
    "            'Homogenity': metrics.homogeneity_score(targets, preds),\n",
    "            'Completeness': metrics.completeness_score(targets, preds),\n",
    "            'V-measure': metrics.v_measure_score(targets, preds),\n",
    "            # 'Silhouette': metrics.silhouette_score(targets, preds)\n",
    "                }\n",
    "        return targets, preds, result"
   ]
  },
  {
   "cell_type": "code",
   "execution_count": 29,
   "metadata": {},
   "outputs": [],
   "source": [
    "np.random.seed(42)\n",
    "clustering = UsersClusteringValidation(backbone,\n",
    "        clustering_algorithm = KMeans(random_state=42),\n",
    "        )"
   ]
  },
  {
   "cell_type": "code",
   "execution_count": 30,
   "metadata": {},
   "outputs": [
    {
     "name": "stderr",
     "output_type": "stream",
     "text": [
      "100%|██████████| 1224/1224 [01:20<00:00, 15.25it/s]\n",
      "100%|██████████| 148/148 [00:12<00:00, 12.18it/s]\n"
     ]
    },
    {
     "data": {
      "text/plain": [
       "{'ARI': 0.017551810533112503,\n",
       " 'AMI': 0.03324974061367844,\n",
       " 'Homogenity': 0.09956875466833816,\n",
       " 'Completeness': 0.0787509995641524,\n",
       " 'V-measure': 0.08794470348210931}"
      ]
     },
     "execution_count": 30,
     "metadata": {},
     "output_type": "execute_result"
    }
   ],
   "source": [
    "targets, preds = clustering.train(datamodule)\n",
    "targets, preds, result = clustering.test(datamodule)\n",
    "result"
   ]
  },
  {
   "cell_type": "code",
   "execution_count": 31,
   "metadata": {},
   "outputs": [
    {
     "name": "stderr",
     "output_type": "stream",
     "text": [
      "100%|██████████| 1224/1224 [01:41<00:00, 12.11it/s]\n",
      "100%|██████████| 148/148 [00:16<00:00,  8.93it/s]\n"
     ]
    },
    {
     "data": {
      "text/plain": [
       "{'ARI': 0.015850517129371577,\n",
       " 'AMI': 0.03542093755071669,\n",
       " 'Homogenity': 0.10201091858049421,\n",
       " 'Completeness': 0.08032231948138738,\n",
       " 'V-measure': 0.08987668600533925}"
      ]
     },
     "execution_count": 31,
     "metadata": {},
     "output_type": "execute_result"
    }
   ],
   "source": [
    "targets, preds = clustering.train(datamodule)\n",
    "targets, preds, result = clustering.test(datamodule)\n",
    "result"
   ]
  },
  {
   "cell_type": "code",
   "execution_count": 32,
   "metadata": {},
   "outputs": [
    {
     "data": {
      "text/plain": [
       "(array([ 0,  1,  3,  4,  5,  6,  7,  8,  9, 11, 12, 13, 14, 15]),\n",
       " array([ 0,  1,  2,  3,  4,  5,  6,  7,  8,  9, 10, 11, 12, 13, 14, 15]))"
      ]
     },
     "execution_count": 32,
     "metadata": {},
     "output_type": "execute_result"
    }
   ],
   "source": [
    "np.unique(targets), np.unique(preds) "
   ]
  }
 ],
 "metadata": {
  "kernelspec": {
   "display_name": "base",
   "language": "python",
   "name": "python3"
  },
  "language_info": {
   "codemirror_mode": {
    "name": "ipython",
    "version": 3
   },
   "file_extension": ".py",
   "mimetype": "text/x-python",
   "name": "python",
   "nbconvert_exporter": "python",
   "pygments_lexer": "ipython3",
   "version": "3.10.9"
  },
  "orig_nbformat": 4
 },
 "nbformat": 4,
 "nbformat_minor": 2
}
