{
 "cells": [
  {
   "cell_type": "code",
   "execution_count": 1,
   "metadata": {},
   "outputs": [],
   "source": [
    "import os\n",
    "import sys\n",
    "\n",
    "dir2 = os.path.abspath('')\n",
    "dir1 = os.path.dirname(dir2)\n",
    "if not dir1 in sys.path:\n",
    "    sys.path.append(dir1)\n",
    "\n",
    "os.chdir('..')"
   ]
  },
  {
   "cell_type": "code",
   "execution_count": 17,
   "metadata": {},
   "outputs": [],
   "source": [
    "import torch\n",
    "import pandas as pd\n",
    "import numpy as np\n",
    "import ptls\n",
    "\n",
    "from hydra import initialize, compose\n",
    "from hydra.utils import instantiate\n",
    "\n",
    "from src.datasets.splitters import SampleLength\n",
    "\n",
    "from src.preprocessing import preprocess\n",
    "\n",
    "from ptls.frames.coles import ColesDataset\n",
    "from ptls.data_load.datasets import MemoryMapDataset\n",
    "from ptls.data_load.iterable_processing import SeqLenFilter\n",
    "from ptls.nn.seq_encoder import RnnSeqEncoder\n",
    "from matplotlib import pyplot as plt\n",
    "import seaborn as sns\n",
    "from ipywidgets import interactive"
   ]
  },
  {
   "cell_type": "code",
   "execution_count": 3,
   "metadata": {},
   "outputs": [],
   "source": [
    "from typing import Any\n",
    "\n",
    "from ptls.data_load.padded_batch import PaddedBatch\n",
    "\n",
    "def is_seq_feature(k: str, v: Any) -> bool:\n",
    "    if k == \"event_time\":\n",
    "        return True\n",
    "    if k.startswith(\"target\"):\n",
    "        return False\n",
    "    if type(v) in (np.ndarray, torch.Tensor):\n",
    "        return True \n",
    "    return False\n",
    "\n",
    "\n",
    "def sliding_window_sampler(\n",
    "    padded_batch: PaddedBatch,\n",
    "    seq_len: int,\n",
    "    stride: int = 1,\n",
    "    time_col: str = \"event_time\",\n",
    ") -> dict[str, torch.Tensor]:\n",
    "    \"\"\"Sample sliding windows from the raw dataset on-the-fly.\n",
    "\n",
    "    Args:\n",
    "        padded_batch (PaddedBatch) - batch with raw input data in ptls format\n",
    "        seq_len (int) - size of the sliding widow\n",
    "        stride (int) - stride for sliding window procedure\n",
    "        time_col (str) - name of the column containg timestamps\n",
    "\n",
    "    Returns:\n",
    "        a dictionary of the form (feature_name, feature_values)\n",
    "    \"\"\"\n",
    "    times_batch = padded_batch.payload[time_col]\n",
    "    bs, date_len = times_batch.shape\n",
    "    date_range = np.arange(date_len)\n",
    "\n",
    "    # starting positions for all the windows\n",
    "    start_pos = date_range[0 : date_len - seq_len + 1 : stride]\n",
    "\n",
    "    # list of lists of indices of the windows elements\n",
    "    idxs_list = [date_range[s : s + seq_len] for s in start_pos]\n",
    "\n",
    "    splits = {\n",
    "        k: torch.stack([v[:, ix] for ix in idxs_list])\n",
    "        .transpose(0, 1)\n",
    "        .reshape(-1, seq_len)\n",
    "        for k, v in padded_batch.payload.items()\n",
    "        if is_seq_feature(k, v)\n",
    "    }\n",
    "\n",
    "    # convert into PaddedBatch format\n",
    "    lengths = torch.ones(len(idxs_list) * bs, dtype=torch.int, device=times_batch.device) * seq_len\n",
    "    collated_batch = PaddedBatch(splits, lengths)\n",
    "\n",
    "    return collated_batch"
   ]
  },
  {
   "cell_type": "code",
   "execution_count": 4,
   "metadata": {},
   "outputs": [],
   "source": [
    "np.random.seed(42)"
   ]
  },
  {
   "cell_type": "code",
   "execution_count": 5,
   "metadata": {},
   "outputs": [],
   "source": [
    "with initialize(config_path=\"../config\", version_base=None):\n",
    "    cfg = compose(config_name=\"master\", overrides=[\"backbone=coles_churn\"])\n",
    "cfg_preprop = cfg[\"preprocessing\"]\n",
    "cfg_model = cfg[\"backbone\"]"
   ]
  },
  {
   "cell_type": "code",
   "execution_count": 6,
   "metadata": {},
   "outputs": [],
   "source": [
    "# cfg_preprop[\"source\"] = \"data/preprocessed_new/churn_with_currency.parquet\"\n",
    "# cfg_preprop[\"val_size\"] = 0.01\n",
    "# cfg_preprop[\"test_size\"] = 0.1\n",
    "# FOR CURRENCY CPD"
   ]
  },
  {
   "cell_type": "code",
   "execution_count": 7,
   "metadata": {},
   "outputs": [],
   "source": [
    "N_SAMPLES = 500\n",
    "MIN_LEN = 80\n",
    "\n",
    "SAMPLING_LEN = 10\n",
    "\n",
    "cfg_model[\"datamodule\"][\"train_batch_size\"] = N_SAMPLES\n",
    "cfg_model[\"datamodule\"][\"valid_batch_size\"] = N_SAMPLES\n",
    "\n",
    "# cfg_dataset[\"splitter\"] = {\"_target_\": \"ptls.frames.coles.split_strategy.NoSplit\"}\n",
    "# cfg_dataset[\"splitter\"] = {\"_target_\": \"src.coles.datamodule.SampleLength\", \"length\": MIN_LEN}\n",
    "# cfg_dataset[\"min_len\"] = MIN_LEN"
   ]
  },
  {
   "cell_type": "markdown",
   "metadata": {},
   "source": [
    "### Load & embed data"
   ]
  },
  {
   "cell_type": "code",
   "execution_count": 8,
   "metadata": {},
   "outputs": [],
   "source": [
    "train, val, test = preprocess(cfg_preprop)\n",
    "test = val + test"
   ]
  },
  {
   "cell_type": "code",
   "execution_count": 9,
   "metadata": {},
   "outputs": [],
   "source": [
    "splitter = ptls.frames.coles.split_strategy.NoSplit() \n",
    "# splitter = SampleLength(length=MIN_LEN)\n",
    "\n",
    "train_data = ColesDataset(data=MemoryMapDataset(train, [SeqLenFilter(MIN_LEN)]), splitter=splitter)\n",
    "test_data = ColesDataset(data=MemoryMapDataset(test, [SeqLenFilter(MIN_LEN)]), splitter=splitter)\n",
    "\n",
    "train_dl = torch.utils.data.DataLoader(\n",
    "        dataset=train_data,\n",
    "        collate_fn=train_data.collate_fn,\n",
    "        num_workers=0,\n",
    "        batch_size=cfg_model[\"datamodule\"][\"train_batch_size\"],\n",
    "        drop_last=True,\n",
    "        shuffle=False)\n",
    "\n",
    "test_dl = torch.utils.data.DataLoader(\n",
    "        dataset=test_data,\n",
    "        collate_fn=test_data.collate_fn,\n",
    "        shuffle=False,\n",
    "        num_workers=0,\n",
    "        batch_size=cfg_model[\"datamodule\"][\"train_batch_size\"],\n",
    "        drop_last=True,\n",
    "    )\n",
    "\n",
    "test_i, train_i = iter(test_dl), iter(train_dl)\n"
   ]
  },
  {
   "cell_type": "code",
   "execution_count": 18,
   "metadata": {},
   "outputs": [
    {
     "data": {
      "text/plain": [
       "RnnSeqEncoder(\n",
       "  (trx_encoder): TrxEncoder(\n",
       "    (embeddings): ModuleDict(\n",
       "      (mcc_code): NoisyEmbedding(\n",
       "        345, 24, padding_idx=0\n",
       "        (dropout): Dropout(p=0, inplace=False)\n",
       "      )\n",
       "    )\n",
       "    (numeric_values): ModuleDict(\n",
       "      (amount): IdentityScaler()\n",
       "    )\n",
       "    (numerical_batch_norm): RBatchNormWithLens(\n",
       "      (bn): BatchNorm1d(1, eps=1e-05, momentum=0.1, affine=True, track_running_stats=True)\n",
       "    )\n",
       "  )\n",
       "  (seq_encoder): RnnEncoder(\n",
       "    (rnn): LSTM(25, 1024, batch_first=True)\n",
       "    (reducer): LastStepEncoder()\n",
       "  )\n",
       ")"
      ]
     },
     "execution_count": 18,
     "metadata": {},
     "output_type": "execute_result"
    }
   ],
   "source": [
    "model: RnnSeqEncoder = instantiate(cfg_model[\"encoder\"])\n",
    "model.to(\"cuda\")"
   ]
  },
  {
   "cell_type": "code",
   "execution_count": 19,
   "metadata": {},
   "outputs": [
    {
     "data": {
      "text/plain": [
       "<All keys matched successfully>"
      ]
     },
     "execution_count": 19,
     "metadata": {},
     "output_type": "execute_result"
    }
   ],
   "source": [
    "# model.seq_encoder.load_state_dict(torch.load(\"saved_models/coles_default_3.pth\"))\n",
    "model.load_state_dict(torch.load(\"saved_models/coles_churn_yugay.pth\"))"
   ]
  },
  {
   "cell_type": "code",
   "execution_count": 20,
   "metadata": {},
   "outputs": [],
   "source": [
    "train_b = next(train_i)"
   ]
  },
  {
   "cell_type": "code",
   "execution_count": 21,
   "metadata": {},
   "outputs": [],
   "source": [
    "train_idx = np.arange(len(train_b[0].payload[\"event_time\"]))\n",
    "train_emb = model(sliding_window_sampler(train_b[0].to(\"cuda\"), seq_len=SAMPLING_LEN)).detach().cpu().numpy().reshape((N_SAMPLES, -1, 1024))\n",
    "\n",
    "# test_idx = np.arange(len(test_b[0].payload[\"event_time\"]))\n",
    "# test_emb = model(sliding_window_sampler(test_b[0].to(\"cuda\"), seq_len=SAMPLING_LEN)).detach().cpu().numpy().reshape((N_SAMPLES, -1, 1024))"
   ]
  },
  {
   "cell_type": "code",
   "execution_count": 22,
   "metadata": {},
   "outputs": [
    {
     "data": {
      "text/plain": [
       "(500, 71, 1024)"
      ]
     },
     "execution_count": 22,
     "metadata": {},
     "output_type": "execute_result"
    }
   ],
   "source": [
    "train_emb.shape"
   ]
  },
  {
   "cell_type": "markdown",
   "metadata": {},
   "source": [
    "### Clustering & visualization"
   ]
  },
  {
   "cell_type": "code",
   "execution_count": 13,
   "metadata": {},
   "outputs": [],
   "source": [
    "from sklearn.decomposition import PCA\n",
    "from sklearn.manifold import TSNE\n",
    "from sklearn.cluster import KMeans"
   ]
  },
  {
   "cell_type": "markdown",
   "metadata": {},
   "source": [
    "#### User dynamics, no clusters"
   ]
  },
  {
   "cell_type": "code",
   "execution_count": 16,
   "metadata": {},
   "outputs": [],
   "source": [
    "DELTA = 5\n",
    "def plot_tsne(perplexity=N_SAMPLES-1, n_pca=5, timestamp=0):\n",
    "    relevant_emb = train_emb[:, timestamp:timestamp + DELTA, :]\n",
    "    relevant_emb = np.reshape(relevant_emb, (DELTA * len(train_emb), -1))\n",
    "\n",
    "    pca = PCA(n_components=n_pca)\n",
    "    pc = pca.fit_transform(relevant_emb)\n",
    "\n",
    "    tsne = TSNE(n_components=2,perplexity=perplexity).fit_transform(pc)\n",
    "\n",
    "    data = pd.DataFrame(tsne, columns=[\"x1\", \"x2\"])\n",
    "    data[\"label\"] = [str(elem) for elem in train_idx for _ in range(DELTA)]\n",
    "\n",
    "    fig, ax = plt.subplots(1, 1, figsize=(6,6))\n",
    "    sns.scatterplot(data=data, x=\"x1\", y=\"x2\", hue=\"label\", ax=ax, legend=False)\n",
    "    ax.set_title('Visualized TSNE, train')\n",
    "    plt.xticks([]),plt.yticks([])\n",
    "    ax.set(xlabel=None, ylabel=None)\n",
    "    plt.plot()"
   ]
  },
  {
   "cell_type": "code",
   "execution_count": 17,
   "metadata": {},
   "outputs": [],
   "source": [
    "interactive_plot = interactive(plot_tsne, perplexity=(1., N_SAMPLES-1), timestamp=(0, MIN_LEN-DELTA-1))"
   ]
  },
  {
   "cell_type": "code",
   "execution_count": 18,
   "metadata": {},
   "outputs": [
    {
     "data": {
      "application/vnd.jupyter.widget-view+json": {
       "model_id": "5e1c5435faea481e9cc47d043471c9ee",
       "version_major": 2,
       "version_minor": 0
      },
      "text/plain": [
       "interactive(children=(FloatSlider(value=15.0, description='perplexity', max=15.0, min=1.0), IntSlider(value=5,…"
      ]
     },
     "execution_count": 18,
     "metadata": {},
     "output_type": "execute_result"
    }
   ],
   "source": [
    "interactive_plot"
   ]
  },
  {
   "cell_type": "code",
   "execution_count": 22,
   "metadata": {},
   "outputs": [],
   "source": [
    "DELTA = 5\n",
    "def plot_test_tsne(perplexity=N_SAMPLES-1, n_pca=5, timestamp=0):\n",
    "    relevant_emb = test_emb[:, timestamp:timestamp + DELTA, :]\n",
    "    relevant_emb = np.reshape(relevant_emb, (DELTA * len(test_emb), -1))\n",
    "\n",
    "    pca = PCA(n_components=n_pca)\n",
    "    pc = pca.fit_transform(relevant_emb)\n",
    "\n",
    "    tsne = TSNE(n_components=2,perplexity=perplexity).fit_transform(pc)\n",
    "\n",
    "    data = pd.DataFrame(tsne, columns=[\"x1\", \"x2\"])\n",
    "    data[\"label\"] = [str(elem) for elem in test_idx for _ in range(DELTA)]\n",
    "\n",
    "    fig, ax = plt.subplots(1, 1, figsize=(6,6))\n",
    "    sns.scatterplot(data=data, x=\"x1\", y=\"x2\", hue=\"label\", ax=ax, legend=False)\n",
    "    ax.set_title('Visualized TSNE, test')\n",
    "    plt.xticks([]),plt.yticks([])\n",
    "    ax.set(xlabel=None, ylabel=None)\n",
    "    plt.plot()"
   ]
  },
  {
   "cell_type": "code",
   "execution_count": 23,
   "metadata": {},
   "outputs": [],
   "source": [
    "interactive_plot = interactive(plot_test_tsne, perplexity=(1., N_SAMPLES-1), timestamp=(0, MIN_LEN-DELTA-1))"
   ]
  },
  {
   "cell_type": "code",
   "execution_count": 24,
   "metadata": {},
   "outputs": [
    {
     "data": {
      "application/vnd.jupyter.widget-view+json": {
       "model_id": "a1912b0fc42149d0af78de50d3185aac",
       "version_major": 2,
       "version_minor": 0
      },
      "text/plain": [
       "interactive(children=(FloatSlider(value=15.0, description='perplexity', max=15.0, min=1.0), IntSlider(value=5,…"
      ]
     },
     "execution_count": 24,
     "metadata": {},
     "output_type": "execute_result"
    }
   ],
   "source": [
    "interactive_plot"
   ]
  },
  {
   "cell_type": "code",
   "execution_count": 25,
   "metadata": {},
   "outputs": [],
   "source": [
    "DELTA = 5\n",
    "def plot_train_pca(timestamp=0):\n",
    "    relevant_emb = train_emb[:, timestamp:timestamp + DELTA, :]\n",
    "    relevant_emb = np.reshape(relevant_emb, (DELTA * len(train_emb), -1))\n",
    "\n",
    "    pca = PCA(n_components=2)\n",
    "    pc = pca.fit_transform(relevant_emb)\n",
    "\n",
    "    data = pd.DataFrame(pc, columns=[\"x1\", \"x2\"])\n",
    "    data[\"label\"] = [str(elem) for elem in test_idx for _ in range(DELTA)]\n",
    "\n",
    "    fig, ax = plt.subplots(1, 1, figsize=(6,6))\n",
    "    sns.scatterplot(data=data, x=\"x1\", y=\"x2\", hue=\"label\", ax=ax, legend=False)\n",
    "    ax.set_title('Visualized PCA, train')\n",
    "    plt.xticks([]),plt.yticks([])\n",
    "    ax.set(xlabel=None, ylabel=None)\n",
    "    plt.plot()"
   ]
  },
  {
   "cell_type": "code",
   "execution_count": 26,
   "metadata": {},
   "outputs": [],
   "source": [
    "interactive_plot = interactive(plot_train_pca, timestamp=(0, MIN_LEN-DELTA-1))"
   ]
  },
  {
   "cell_type": "code",
   "execution_count": 27,
   "metadata": {},
   "outputs": [
    {
     "data": {
      "application/vnd.jupyter.widget-view+json": {
       "model_id": "07d128d76fd64daa83dc5f788137ebcc",
       "version_major": 2,
       "version_minor": 0
      },
      "text/plain": [
       "interactive(children=(IntSlider(value=0, description='timestamp', max=194), Output(outputs=({'output_type': 'd…"
      ]
     },
     "execution_count": 27,
     "metadata": {},
     "output_type": "execute_result"
    }
   ],
   "source": [
    "interactive_plot"
   ]
  },
  {
   "cell_type": "code",
   "execution_count": 28,
   "metadata": {},
   "outputs": [],
   "source": [
    "DELTA = 5\n",
    "def plot_test_pca(timestamp=0):\n",
    "    relevant_emb = test_emb[:, timestamp:timestamp + DELTA, :]\n",
    "    relevant_emb = np.reshape(relevant_emb, (DELTA * len(test_emb), -1))\n",
    "\n",
    "    pca = PCA(n_components=2)\n",
    "    pc = pca.fit_transform(relevant_emb)\n",
    "\n",
    "    data = pd.DataFrame(pc, columns=[\"x1\", \"x2\"])\n",
    "    data[\"label\"] = [str(elem) for elem in test_idx for _ in range(DELTA)]\n",
    "\n",
    "    fig, ax = plt.subplots(1, 1, figsize=(6,6))\n",
    "    sns.scatterplot(data=data, x=\"x1\", y=\"x2\", hue=\"label\", ax=ax, legend=False)\n",
    "    ax.set_title('Visualized PCA, test')\n",
    "    plt.xticks([]),plt.yticks([])\n",
    "    ax.set(xlabel=None, ylabel=None)\n",
    "    plt.plot()"
   ]
  },
  {
   "cell_type": "code",
   "execution_count": 29,
   "metadata": {},
   "outputs": [],
   "source": [
    "interactive_plot = interactive(plot_test_pca, timestamp=(0, MIN_LEN-DELTA-1))"
   ]
  },
  {
   "cell_type": "code",
   "execution_count": 30,
   "metadata": {},
   "outputs": [
    {
     "data": {
      "application/vnd.jupyter.widget-view+json": {
       "model_id": "868625694468417fac2563fc6cd6bbc2",
       "version_major": 2,
       "version_minor": 0
      },
      "text/plain": [
       "interactive(children=(IntSlider(value=0, description='timestamp', max=194), Output(outputs=({'output_type': 'd…"
      ]
     },
     "execution_count": 30,
     "metadata": {},
     "output_type": "execute_result"
    }
   ],
   "source": [
    "interactive_plot"
   ]
  },
  {
   "cell_type": "markdown",
   "metadata": {},
   "source": [
    "#### Cluster-wise user dynamics"
   ]
  },
  {
   "cell_type": "code",
   "execution_count": 42,
   "metadata": {},
   "outputs": [],
   "source": [
    "def build_clusters(emb, reference_timestamp=0, n_clusters=10):\n",
    "    relevant_emb = emb[:, reference_timestamp, :]\n",
    "    kmeans = KMeans(n_clusters=n_clusters, n_init=10)\n",
    "    labels = kmeans.fit_predict(relevant_emb)\n",
    "\n",
    "    return labels"
   ]
  },
  {
   "cell_type": "code",
   "execution_count": 43,
   "metadata": {},
   "outputs": [],
   "source": [
    "T = 40\n",
    "N_CLUSTERS = 2\n",
    "labels = build_clusters(train_emb, T, N_CLUSTERS)\n",
    "\n",
    "def plot_pca(timestamp=0):\n",
    "    relevant_emb = train_emb[:, timestamp, :]\n",
    "\n",
    "    pca = PCA(n_components=2)\n",
    "    pc = pca.fit_transform(relevant_emb)\n",
    "\n",
    "    data = pd.DataFrame(pc, columns=[\"x1\", \"x2\"])\n",
    "    data[\"label\"] = [str(elem) for elem in labels]\n",
    "\n",
    "    fig, ax = plt.subplots(1, 1, figsize=(6,6))\n",
    "    sns.scatterplot(data=data, x=\"x1\", y=\"x2\", hue=\"label\", ax=ax, legend=False)\n",
    "    ax.set_title(f\"Visualized PCA train, cluster-wise, n_clusters={N_CLUSTERS}, reference timestamp={T}\")\n",
    "    plt.xticks([]),plt.yticks([])\n",
    "    ax.set(xlabel=None, ylabel=None)\n",
    "    plt.plot()"
   ]
  },
  {
   "cell_type": "code",
   "execution_count": 44,
   "metadata": {},
   "outputs": [],
   "source": [
    "interactive_plot = interactive(plot_pca, timestamp=(T, MIN_LEN-DELTA-1))"
   ]
  },
  {
   "cell_type": "code",
   "execution_count": 45,
   "metadata": {},
   "outputs": [
    {
     "data": {
      "application/vnd.jupyter.widget-view+json": {
       "model_id": "4273f33eb5994c5e8f2bcd7ec97143a6",
       "version_major": 2,
       "version_minor": 0
      },
      "text/plain": [
       "interactive(children=(IntSlider(value=40, description='timestamp', max=194, min=40), Output(outputs=({'output_…"
      ]
     },
     "execution_count": 45,
     "metadata": {},
     "output_type": "execute_result"
    }
   ],
   "source": [
    "interactive_plot"
   ]
  },
  {
   "cell_type": "code",
   "execution_count": 46,
   "metadata": {},
   "outputs": [],
   "source": [
    "T = 40\n",
    "N_CLUSTERS = 2\n",
    "labels = build_clusters(test_emb, T, N_CLUSTERS)\n",
    "\n",
    "def plot_test_pca(timestamp=0):\n",
    "    relevant_emb = test_emb[:, timestamp, :]\n",
    "\n",
    "    pca = PCA(n_components=2)\n",
    "    pc = pca.fit_transform(relevant_emb)\n",
    "\n",
    "    data = pd.DataFrame(pc, columns=[\"x1\", \"x2\"])\n",
    "    data[\"label\"] = [str(elem) for elem in labels]\n",
    "\n",
    "    fig, ax = plt.subplots(1, 1, figsize=(6,6))\n",
    "    sns.scatterplot(data=data, x=\"x1\", y=\"x2\", hue=\"label\", ax=ax, legend=False)\n",
    "    ax.set_title(f\"Visualized PCA test, cluster-wise, n_clusters={N_CLUSTERS}, reference timestamp={T}\")\n",
    "    plt.xticks([]),plt.yticks([])\n",
    "    ax.set(xlabel=None, ylabel=None)\n",
    "    plt.plot()"
   ]
  },
  {
   "cell_type": "code",
   "execution_count": 47,
   "metadata": {},
   "outputs": [],
   "source": [
    "interactive_plot = interactive(plot_test_pca, timestamp=(T, MIN_LEN-DELTA-1))"
   ]
  },
  {
   "cell_type": "code",
   "execution_count": 48,
   "metadata": {},
   "outputs": [
    {
     "data": {
      "application/vnd.jupyter.widget-view+json": {
       "model_id": "999ffbd99af34747a8608736ca5973fd",
       "version_major": 2,
       "version_minor": 0
      },
      "text/plain": [
       "interactive(children=(IntSlider(value=40, description='timestamp', max=194, min=40), Output(outputs=({'output_…"
      ]
     },
     "execution_count": 48,
     "metadata": {},
     "output_type": "execute_result"
    }
   ],
   "source": [
    "interactive_plot"
   ]
  },
  {
   "cell_type": "markdown",
   "metadata": {},
   "source": [
    "#### Proximity-based labels"
   ]
  },
  {
   "cell_type": "code",
   "execution_count": 49,
   "metadata": {},
   "outputs": [],
   "source": [
    "def build_closest(emb, reference_timestamp=0, num_closest=100):\n",
    "    reference_idx = np.random.randint(0, len(emb))\n",
    "\n",
    "    relevant_emb = emb[:, reference_timestamp, :]\n",
    "\n",
    "    pca = PCA(n_components=2)\n",
    "    pc = pca.fit_transform(relevant_emb)\n",
    "\n",
    "    reference_emb = pc[reference_idx]\n",
    "\n",
    "    distances = [(np.linalg.norm(emb - reference_emb), idx) for idx, emb in enumerate(pc)]\n",
    "    distances = sorted(distances, key=lambda elem: elem[0])\n",
    "\n",
    "    labels = np.zeros(len(relevant_emb))\n",
    "    labels[reference_idx] = 2\n",
    "    for i in range(1, num_closest):\n",
    "        labels[distances[i][1]] = 1\n",
    "\n",
    "    return labels"
   ]
  },
  {
   "cell_type": "code",
   "execution_count": 50,
   "metadata": {},
   "outputs": [],
   "source": [
    "T = 40\n",
    "N_CLOSEST = 50\n",
    "\n",
    "labels = build_closest(train_emb, T, N_CLOSEST)\n",
    "\n",
    "def plot_proximity_pca(timestamp=0):\n",
    "    relevant_emb = train_emb[:, timestamp, :]\n",
    "\n",
    "    pca = PCA(n_components=2)\n",
    "    pc = pca.fit_transform(relevant_emb)\n",
    "\n",
    "    data = pd.DataFrame(pc, columns=[\"x1\", \"x2\"])\n",
    "    data[\"label\"] = labels\n",
    "\n",
    "    fig, ax = plt.subplots(1, 1, figsize=(6,6))\n",
    "    sns.scatterplot(data=data, x=\"x1\", y=\"x2\", hue=\"label\", size=\"label\", ax=ax, legend=False, palette=sns.color_palette(\"husl\", 3))\n",
    "    ax.set_title(f\"Visualized PCA, n_closest={N_CLOSEST}, reference timestamp={T}\")\n",
    "    plt.xticks([]),plt.yticks([])\n",
    "    ax.set(xlabel=None, ylabel=None)\n",
    "    plt.plot()"
   ]
  },
  {
   "cell_type": "code",
   "execution_count": 51,
   "metadata": {},
   "outputs": [],
   "source": [
    "interactive_plot = interactive(plot_proximity_pca, timestamp=(T, MIN_LEN-1))"
   ]
  },
  {
   "cell_type": "code",
   "execution_count": 52,
   "metadata": {},
   "outputs": [
    {
     "data": {
      "application/vnd.jupyter.widget-view+json": {
       "model_id": "54849be7076542f7af42df95c8e7a060",
       "version_major": 2,
       "version_minor": 0
      },
      "text/plain": [
       "interactive(children=(IntSlider(value=40, description='timestamp', max=199, min=40), Output(outputs=({'output_…"
      ]
     },
     "execution_count": 52,
     "metadata": {},
     "output_type": "execute_result"
    }
   ],
   "source": [
    "interactive_plot"
   ]
  },
  {
   "cell_type": "code",
   "execution_count": 53,
   "metadata": {},
   "outputs": [],
   "source": [
    "T = 40\n",
    "N_CLOSEST = 50\n",
    "labels = build_closest(test_emb, T, N_CLOSEST)\n",
    "\n",
    "def plot_proximity_test_pca(timestamp=0):\n",
    "    relevant_emb = test_emb[:, timestamp, :]\n",
    "\n",
    "    pca = PCA(n_components=2)\n",
    "    pc = pca.fit_transform(relevant_emb)\n",
    "\n",
    "    data = pd.DataFrame(pc, columns=[\"x1\", \"x2\"])\n",
    "    data[\"label\"] = labels\n",
    "\n",
    "    fig, ax = plt.subplots(1, 1, figsize=(6,6))\n",
    "    sns.scatterplot(data=data, x=\"x1\", y=\"x2\", hue=\"label\", size=\"label\", ax=ax, legend=False, palette=sns.color_palette(\"husl\", 3))\n",
    "    ax.set_title(f\"Visualized PCA test, n_closest={N_CLOSEST}, reference timestamp={T}\")\n",
    "    plt.xticks([]),plt.yticks([])\n",
    "    ax.set(xlabel=None, ylabel=None)\n",
    "    plt.plot()"
   ]
  },
  {
   "cell_type": "code",
   "execution_count": 54,
   "metadata": {},
   "outputs": [],
   "source": [
    "interactive_plot = interactive(plot_proximity_test_pca, timestamp=(T, MIN_LEN-1))"
   ]
  },
  {
   "cell_type": "code",
   "execution_count": 55,
   "metadata": {},
   "outputs": [
    {
     "data": {
      "application/vnd.jupyter.widget-view+json": {
       "model_id": "bbc8d7d5294d49cfb9767c1db186d532",
       "version_major": 2,
       "version_minor": 0
      },
      "text/plain": [
       "interactive(children=(IntSlider(value=40, description='timestamp', max=199, min=40), Output(outputs=({'output_…"
      ]
     },
     "execution_count": 55,
     "metadata": {},
     "output_type": "execute_result"
    }
   ],
   "source": [
    "interactive_plot"
   ]
  },
  {
   "cell_type": "markdown",
   "metadata": {},
   "source": [
    "#### Masking"
   ]
  },
  {
   "cell_type": "code",
   "execution_count": 14,
   "metadata": {},
   "outputs": [],
   "source": [
    "from ptls.data_load.padded_batch import PaddedBatch\n",
    "\n",
    "def insert_mask(t: torch.Tensor, r: torch.Tensor, pos: int = 30, length: int = 30):\n",
    "    r = torch.nn.functional.pad(r, (0, t.shape[1] - r.shape[1], 0, 0))\n",
    "\n",
    "    mask = torch.zeros_like(t).bool()\n",
    "    mask[:, pos: pos + length] = True\n",
    "\n",
    "    res = torch.where(mask, r, t)\n",
    "    return res\n",
    "\n",
    "def masking(train_b: PaddedBatch, reference_b: PaddedBatch, pos: int = 30, length: int = 40):\n",
    "    payload = {\n",
    "        k: insert_mask(v, reference_b.payload[k], pos=pos, length=length)\n",
    "        for k, v in train_b.payload.items()\n",
    "        if is_seq_feature(k, v)\n",
    "    }\n",
    "\n",
    "    return PaddedBatch(payload=payload, length=train_b.seq_lens)"
   ]
  },
  {
   "cell_type": "code",
   "execution_count": 15,
   "metadata": {},
   "outputs": [],
   "source": [
    "train_b, test_b = next(train_i), next(test_i)"
   ]
  },
  {
   "cell_type": "code",
   "execution_count": 43,
   "metadata": {},
   "outputs": [],
   "source": [
    "MASK_POS = 40\n",
    "MASK_LEN = 40\n",
    "\n",
    "masked_batch = masking(train_b[0], test_b[0], pos=MASK_POS, length=MASK_LEN)\n",
    "\n",
    "train_idx = np.arange(len(masked_batch.payload[\"event_time\"]))\n",
    "masked_emb = model(sliding_window_sampler(masked_batch.to(\"cuda\"), seq_len=SAMPLING_LEN)).detach().cpu().reshape((N_SAMPLES, -1, 1024))\n",
    "unmasked_emb = model(sliding_window_sampler(train_b[0].to(\"cuda\"), seq_len=SAMPLING_LEN)).detach().cpu().reshape((N_SAMPLES, -1, 1024))"
   ]
  },
  {
   "cell_type": "code",
   "execution_count": 44,
   "metadata": {},
   "outputs": [
    {
     "data": {
      "text/plain": [
       "torch.Size([500, 71, 1024])"
      ]
     },
     "execution_count": 44,
     "metadata": {},
     "output_type": "execute_result"
    }
   ],
   "source": [
    "masked_emb.shape"
   ]
  },
  {
   "cell_type": "markdown",
   "metadata": {},
   "source": [
    "##### Mean distance plot"
   ]
  },
  {
   "cell_type": "code",
   "execution_count": 45,
   "metadata": {},
   "outputs": [],
   "source": [
    "from torch.nn import CosineSimilarity\n",
    "from matplotlib import pyplot as plt"
   ]
  },
  {
   "cell_type": "code",
   "execution_count": 46,
   "metadata": {},
   "outputs": [],
   "source": [
    "cos = CosineSimilarity(dim=-1)\n",
    "cosine_distances = cos(masked_emb, unmasked_emb)"
   ]
  },
  {
   "cell_type": "code",
   "execution_count": 47,
   "metadata": {},
   "outputs": [
    {
     "data": {
      "text/plain": [
       "torch.Size([71])"
      ]
     },
     "execution_count": 47,
     "metadata": {},
     "output_type": "execute_result"
    }
   ],
   "source": [
    "cosine_distances.mean(dim=0).shape"
   ]
  },
  {
   "cell_type": "code",
   "execution_count": 48,
   "metadata": {},
   "outputs": [],
   "source": [
    "torch.save(cosine_distances, 'cos_similarities_coles.pt')"
   ]
  },
  {
   "cell_type": "code",
   "execution_count": 49,
   "metadata": {},
   "outputs": [
    {
     "data": {
      "image/png": "[encoded data removed]",
      "text/plain": [
       "<Figure size 640x480 with 1 Axes>"
      ]
     },
     "metadata": {},
     "output_type": "display_data"
    }
   ],
   "source": [
    "plt.plot(1 - cosine_distances.mean(dim=0))\n",
    "plt.show()"
   ]
  },
  {
   "cell_type": "markdown",
   "metadata": {},
   "source": [
    "##### Interactive picture"
   ]
  },
  {
   "cell_type": "code",
   "execution_count": 49,
   "metadata": {},
   "outputs": [],
   "source": [
    "i = 0\n",
    "labels = np.arange(len(masked_emb))\n",
    "labels = np.concatenate((labels, labels))\n",
    "\n",
    "def plot_masking_pca(perplexity=N_SAMPLES - 1, n_pca=5, timestamp=0):\n",
    "    relevant_emb = unmasked_emb[:, timestamp, :]\n",
    "    masked_relevant_emb = masked_emb[:, timestamp, :]\n",
    "\n",
    "    relevant_emb = np.vstack((relevant_emb, masked_relevant_emb))\n",
    "    \n",
    "    pca = PCA(n_components=5)\n",
    "    pc = pca.fit_transform(relevant_emb)\n",
    "\n",
    "    tsne = TSNE(n_components=2,perplexity=perplexity).fit_transform(pc)\n",
    "\n",
    "    data = pd.DataFrame(tsne, columns=[\"x1\", \"x2\"])\n",
    "    data[\"label\"] = labels\n",
    "\n",
    "    fig, ax = plt.subplots(1, 1, figsize=(3,3))\n",
    "    sns.scatterplot(data=data[:len(masked_emb)], x=\"x1\", y=\"x2\", hue=\"label\", ax=ax, legend=False, palette=sns.color_palette(\"husl\", len(masked_emb)))\n",
    "    sns.scatterplot(data=data[len(masked_emb):], x=\"x1\", y=\"x2\", hue=\"label\", ax=ax, legend=False, palette=sns.color_palette(\"husl\", len(masked_emb)), marker='x')\n",
    "    ax.set_title(f\"Visualized TSNE, mask_len={MASK_LEN}, seq_len={SAMPLING_LEN}\")\n",
    "    plt.xticks([]),plt.yticks([])\n",
    "    ax.set(xlabel=None, ylabel=None)\n",
    "    plt.plot()"
   ]
  },
  {
   "cell_type": "code",
   "execution_count": 85,
   "metadata": {},
   "outputs": [],
   "source": [
    "interactive_plot = interactive(plot_masking_pca, perplexity=(1., N_SAMPLES-1), timestamp=(0, MIN_LEN-1))"
   ]
  },
  {
   "cell_type": "code",
   "execution_count": 86,
   "metadata": {},
   "outputs": [
    {
     "data": {
      "application/vnd.jupyter.widget-view+json": {
       "model_id": "067a0320ec504ac7b80e86b2b21871c8",
       "version_major": 2,
       "version_minor": 0
      },
      "text/plain": [
       "interactive(children=(FloatSlider(value=7.0, description='perplexity', max=7.0, min=1.0), IntSlider(value=5, d…"
      ]
     },
     "execution_count": 86,
     "metadata": {},
     "output_type": "execute_result"
    }
   ],
   "source": [
    "interactive_plot # picture should start diverging at ~ 75 and converging at ~ 87"
   ]
  },
  {
   "cell_type": "markdown",
   "metadata": {},
   "source": [
    "##### The static picture for the presentation"
   ]
  },
  {
   "cell_type": "code",
   "execution_count": 50,
   "metadata": {},
   "outputs": [
    {
     "data": {
      "image/png": "[encoded data removed]",
      "text/plain": [
       "<Figure size 1500x350 with 4 Axes>"
      ]
     },
     "metadata": {},
     "output_type": "display_data"
    }
   ],
   "source": [
    "# from 75 to 115\n",
    "timestamps = [76, 79, 82, 85]\n",
    "perplexity=5\n",
    "\n",
    "fig, ax = plt.subplots(1, 4, figsize=(15,3.5))\n",
    "\n",
    "for i, timestamp in enumerate(timestamps):\n",
    "    relevant_emb = unmasked_emb[:, timestamp, :]\n",
    "    masked_relevant_emb = masked_emb[:, timestamp, :]\n",
    "\n",
    "    relevant_emb = np.vstack((relevant_emb, masked_relevant_emb))\n",
    "\n",
    "    pca = PCA(n_components=5)\n",
    "    pc = pca.fit_transform(relevant_emb)\n",
    "\n",
    "    tsne = TSNE(n_components=2,perplexity=perplexity).fit_transform(pc)\n",
    "\n",
    "    data = pd.DataFrame(tsne, columns=[\"x1\", \"x2\"])\n",
    "    data[\"label\"] = labels\n",
    "\n",
    "    \n",
    "    sns.scatterplot(data=data[:len(masked_emb)], x=\"x1\", y=\"x2\", hue=\"label\", ax=ax[i], legend=False, palette=sns.color_palette(\"husl\", len(masked_emb)))\n",
    "    sns.scatterplot(data=data[len(masked_emb):], x=\"x1\", y=\"x2\", hue=\"label\", ax=ax[i], legend=False, palette=sns.color_palette(\"husl\", len(masked_emb)), marker='x')\n",
    "    ax[i].set_title(f\"Timestamp {timestamp + SAMPLING_LEN}\")\n",
    "    ax[i].set(xlabel=None, ylabel=None)\n",
    "    ax[i].set_xticks([])\n",
    "    ax[i].set_yticks([])\n",
    "\n",
    "plt.plot()\n",
    "plt.show()"
   ]
  },
  {
   "cell_type": "markdown",
   "metadata": {},
   "source": [
    "### Target-based clusterization"
   ]
  },
  {
   "cell_type": "code",
   "execution_count": 27,
   "metadata": {},
   "outputs": [],
   "source": [
    "def build_target_labels(data):\n",
    "    return data.payload[\"churn_target\"].sum(axis=-1) > 0"
   ]
  },
  {
   "cell_type": "code",
   "execution_count": 32,
   "metadata": {},
   "outputs": [],
   "source": [
    "T = 40\n",
    "\n",
    "labels = build_target_labels(train_b[0])\n",
    "\n",
    "def plot_targets_pca(timestamp=0):\n",
    "    relevant_emb = train_emb[:, timestamp, :]\n",
    "\n",
    "    pca = PCA(n_components=2)\n",
    "    pc = pca.fit_transform(relevant_emb)\n",
    "\n",
    "    data = pd.DataFrame(pc, columns=[\"x1\", \"x2\"])\n",
    "    data[\"label\"] = [str(elem) for elem in labels]\n",
    "\n",
    "    fig, ax = plt.subplots(1, 1, figsize=(6,6))\n",
    "    sns.scatterplot(data=data, x=\"x1\", y=\"x2\", hue=\"label\", ax=ax, legend=False, palette=sns.color_palette(\"husl\", 2))\n",
    "    ax.set_title(f\"Visualized PCA,reference timestamp={T}\")\n",
    "    plt.xticks([]),plt.yticks([])\n",
    "    ax.set(xlabel=None, ylabel=None)\n",
    "    plt.plot()"
   ]
  },
  {
   "cell_type": "code",
   "execution_count": 33,
   "metadata": {},
   "outputs": [],
   "source": [
    "interactive_plot = interactive(plot_targets_pca, timestamp=(T, MIN_LEN-1))"
   ]
  },
  {
   "cell_type": "code",
   "execution_count": 34,
   "metadata": {},
   "outputs": [
    {
     "data": {
      "application/vnd.jupyter.widget-view+json": {
       "model_id": "cc6be62346b643959fd7a29815a54562",
       "version_major": 2,
       "version_minor": 0
      },
      "text/plain": [
       "interactive(children=(IntSlider(value=40, description='timestamp', max=199, min=40), Output(outputs=({'output_…"
      ]
     },
     "execution_count": 34,
     "metadata": {},
     "output_type": "execute_result"
    }
   ],
   "source": [
    "interactive_plot"
   ]
  },
  {
   "cell_type": "code",
   "execution_count": null,
   "metadata": {},
   "outputs": [],
   "source": []
  },
  {
   "cell_type": "markdown",
   "metadata": {},
   "source": [
    "### Plot CPs"
   ]
  },
  {
   "cell_type": "code",
   "execution_count": 19,
   "metadata": {},
   "outputs": [],
   "source": [
    "cnt, max_cnt = 0, 0\n",
    "# currencies = train_b[0].payload[\"currency\"].squeeze()\n",
    "currencies = train[0][\"currency\"]\n",
    "for i in range(len(currencies)):\n",
    "    if currencies[i] == 840:\n",
    "        cnt += 1\n",
    "    else:\n",
    "        max_cnt = max(cnt, max_cnt)\n",
    "        cnt = 0"
   ]
  },
  {
   "cell_type": "code",
   "execution_count": 20,
   "metadata": {},
   "outputs": [
    {
     "data": {
      "text/plain": [
       "tensor([810, 810, 810, 810, 810, 810, 810, 810, 810, 840, 840, 810, 810, 810,\n",
       "        810, 810, 810, 810, 810, 840, 840, 840, 840, 840, 840, 840, 840, 840,\n",
       "        840, 840, 840, 840, 840, 840, 840, 840, 840, 840, 840, 840, 810, 840,\n",
       "        840, 840, 840, 840, 840, 840, 840, 840, 840, 840, 840, 840, 840, 810,\n",
       "        840, 840, 840, 840, 840, 810, 840, 810, 810, 810, 810, 810, 810, 810,\n",
       "        810, 810, 810, 810, 810, 810, 810, 810, 810, 810, 810, 810, 840, 840,\n",
       "        810, 810, 810, 810, 810, 810, 810, 810, 810, 810, 810, 810, 810, 810,\n",
       "        810, 810, 810, 810, 810, 810, 810, 810, 810, 810, 810, 810, 810, 810,\n",
       "        810, 810, 810, 810, 810, 810, 810, 810, 810, 810, 810, 810, 810, 810,\n",
       "        810, 810, 810, 810, 810, 810, 810, 810, 810, 810, 810, 810, 810, 810,\n",
       "        810, 810, 810, 810, 810, 810, 810, 810, 810, 810, 810, 810, 810, 810,\n",
       "        810, 810, 810, 810, 810, 810, 810, 810, 810, 810, 810, 810, 810, 810,\n",
       "        810, 810, 810, 810, 810, 810, 810, 810, 810, 810, 810, 810, 810, 810,\n",
       "        810, 810, 810, 810, 810, 810, 810, 810, 810, 810, 810, 810, 810, 810,\n",
       "        810])"
      ]
     },
     "execution_count": 20,
     "metadata": {},
     "output_type": "execute_result"
    }
   ],
   "source": [
    "train[0][\"currency\"]"
   ]
  },
  {
   "cell_type": "code",
   "execution_count": 21,
   "metadata": {},
   "outputs": [
    {
     "data": {
      "text/plain": [
       "21"
      ]
     },
     "execution_count": 21,
     "metadata": {},
     "output_type": "execute_result"
    }
   ],
   "source": [
    "max_cnt"
   ]
  },
  {
   "cell_type": "code",
   "execution_count": 19,
   "metadata": {},
   "outputs": [],
   "source": [
    "from sklearn import svm"
   ]
  },
  {
   "cell_type": "code",
   "execution_count": 20,
   "metadata": {},
   "outputs": [],
   "source": [
    "def make_meshgrid(x, y, h=.02):\n",
    "    x_min, x_max = x.min() - 1, x.max() + 1\n",
    "    y_min, y_max = y.min() - 1, y.max() + 1\n",
    "    xx, yy = np.meshgrid(np.arange(x_min, x_max, h), np.arange(y_min, y_max, h))\n",
    "    return xx, yy\n",
    "\n",
    "def plot_contours(ax, clf, xx, yy, **params):\n",
    "    Z = clf.predict(np.c_[xx.ravel(), yy.ravel()])\n",
    "    Z = Z.reshape(xx.shape)\n",
    "    out = ax.contourf(xx, yy, Z, **params)\n",
    "    return out"
   ]
  },
  {
   "cell_type": "code",
   "execution_count": 23,
   "metadata": {},
   "outputs": [
    {
     "data": {
      "image/png": "[encoded data removed]",
      "text/plain": [
       "<Figure size 600x600 with 1 Axes>"
      ]
     },
     "metadata": {},
     "output_type": "display_data"
    }
   ],
   "source": [
    "pca = PCA(n_components=2)\n",
    "pc = pca.fit_transform(train_emb.squeeze()[20:84])\n",
    "\n",
    "\n",
    "data = pd.DataFrame(pc, columns=[\"x1\", \"x2\"])\n",
    "data[\"label\"] = train_b[0].payload[\"currency\"].squeeze()[20 + SAMPLING_LEN - 1:SAMPLING_LEN - 1 + 84]\n",
    "size = 2 * np.arange(1, 1 + len(data))\n",
    "\n",
    "model = svm.SVC(kernel='rbf')\n",
    "clf = model.fit(pc, data[\"label\"])\n",
    "\n",
    "X0, X1 = pc[:, 0], pc[:, 1]\n",
    "xx, yy = make_meshgrid(X0, X1)\n",
    "\n",
    "fig, ax = plt.subplots(1, 1, figsize=(6, 6))\n",
    "\n",
    "plot_contours(ax, clf, xx, yy, cmap=plt.cm.coolwarm, alpha=0.3)\n",
    "sns.scatterplot(data=data, x=\"x1\", y=\"x2\", hue=\"label\", ax=ax, size=size, palette=sns.color_palette(\"husl\", 2))\n",
    "h, l = ax.get_legend_handles_labels()\n",
    "plt.legend(h[0:2], l[0:2], loc=\"best\", title='currency code')\n",
    "ax.set_title(f\"Visualized PCA + SVM decision surface\")\n",
    "plt.xticks([]),plt.yticks([])\n",
    "ax.set(xlabel=None, ylabel=None)\n",
    "plt.plot()\n",
    "plt.show()"
   ]
  },
  {
   "cell_type": "code",
   "execution_count": null,
   "metadata": {},
   "outputs": [],
   "source": []
  }
 ],
 "metadata": {
  "kernelspec": {
   "display_name": "base",
   "language": "python",
   "name": "python3"
  },
  "language_info": {
   "codemirror_mode": {
    "name": "ipython",
    "version": 3
   },
   "file_extension": ".py",
   "mimetype": "text/x-python",
   "name": "python",
   "nbconvert_exporter": "python",
   "pygments_lexer": "ipython3",
   "version": "3.9.16"
  }
 },
 "nbformat": 4,
 "nbformat_minor": 2
}
