{
 "cells": [
  {
   "cell_type": "code",
   "execution_count": 4,
   "metadata": {},
   "outputs": [],
   "source": [
    "import os\n",
    "import sys\n",
    "\n",
    "dir2 = os.path.abspath('')\n",
    "dir1 = os.path.dirname(dir2)\n",
    "if not dir1 in sys.path:\n",
    "    sys.path.append(dir1)\n",
    "\n",
    "os.chdir('..')"
   ]
  },
  {
   "cell_type": "code",
   "execution_count": 5,
   "metadata": {},
   "outputs": [],
   "source": [
    "from pathlib import Path\n",
    "\n",
    "import pandas as pd\n",
    "\n",
    "from hydra import initialize, compose\n",
    "from hydra.utils import instantiate\n",
    "\n",
    "\n",
    "from ptls.preprocessing import PandasDataPreprocessor\n",
    "from ptls.frames import PtlsDataModule\n",
    "\n",
    "from pytorch_lightning import Trainer\n",
    "from pytorch_lightning.callbacks import ModelCheckpoint, EarlyStopping\n",
    "from pytorch_lightning.loggers import TensorBoardLogger\n",
    "\n",
    "from sklearn.model_selection import train_test_split\n",
    "\n",
    "from src.coles import CustomColesDataset, CustomCoLES"
   ]
  },
  {
   "cell_type": "code",
   "execution_count": 6,
   "metadata": {},
   "outputs": [],
   "source": [
    "with initialize(config_path=\"../config\", version_base=None):\n",
    "    cfg = compose(config_name=\"config_churn\")\n",
    "    \n",
    "cfg_preprop = cfg[\"dataset\"]\n",
    "cfg_model = cfg[\"model\"]"
   ]
  },
  {
   "cell_type": "code",
   "execution_count": 7,
   "metadata": {},
   "outputs": [],
   "source": [
    "df = pd.read_parquet(Path(cfg[\"dataset\"][\"dir_path\"]).joinpath(cfg[\"dataset\"][\"train_file_name\"]))"
   ]
  },
  {
   "cell_type": "code",
   "execution_count": 8,
   "metadata": {},
   "outputs": [
    {
     "data": {
      "text/html": [
       "<div>\n",
       "<style scoped>\n",
       "    .dataframe tbody tr th:only-of-type {\n",
       "        vertical-align: middle;\n",
       "    }\n",
       "\n",
       "    .dataframe tbody tr th {\n",
       "        vertical-align: top;\n",
       "    }\n",
       "\n",
       "    .dataframe thead th {\n",
       "        text-align: right;\n",
       "    }\n",
       "</style>\n",
       "<table border=\"1\" class=\"dataframe\">\n",
       "  <thead>\n",
       "    <tr style=\"text-align: right;\">\n",
       "      <th></th>\n",
       "      <th>user_id</th>\n",
       "      <th>mcc_code</th>\n",
       "      <th>timestamp</th>\n",
       "      <th>amount</th>\n",
       "      <th>global_target</th>\n",
       "      <th>holiday_target</th>\n",
       "      <th>weekend_target</th>\n",
       "      <th>churn_target</th>\n",
       "    </tr>\n",
       "  </thead>\n",
       "  <tbody>\n",
       "    <tr>\n",
       "      <th>0</th>\n",
       "      <td>0</td>\n",
       "      <td>19</td>\n",
       "      <td>2017-10-21 00:00:00</td>\n",
       "      <td>5023.0</td>\n",
       "      <td>0</td>\n",
       "      <td>0</td>\n",
       "      <td>1</td>\n",
       "      <td>0</td>\n",
       "    </tr>\n",
       "    <tr>\n",
       "      <th>1</th>\n",
       "      <td>0</td>\n",
       "      <td>2</td>\n",
       "      <td>2017-10-12 12:24:07</td>\n",
       "      <td>20000.0</td>\n",
       "      <td>0</td>\n",
       "      <td>0</td>\n",
       "      <td>0</td>\n",
       "      <td>0</td>\n",
       "    </tr>\n",
       "    <tr>\n",
       "      <th>2</th>\n",
       "      <td>0</td>\n",
       "      <td>10</td>\n",
       "      <td>2017-12-05 00:00:00</td>\n",
       "      <td>767.0</td>\n",
       "      <td>0</td>\n",
       "      <td>0</td>\n",
       "      <td>0</td>\n",
       "      <td>0</td>\n",
       "    </tr>\n",
       "    <tr>\n",
       "      <th>3</th>\n",
       "      <td>0</td>\n",
       "      <td>1</td>\n",
       "      <td>2017-10-21 00:00:00</td>\n",
       "      <td>2031.0</td>\n",
       "      <td>0</td>\n",
       "      <td>0</td>\n",
       "      <td>1</td>\n",
       "      <td>0</td>\n",
       "    </tr>\n",
       "    <tr>\n",
       "      <th>4</th>\n",
       "      <td>0</td>\n",
       "      <td>9</td>\n",
       "      <td>2017-10-24 13:14:24</td>\n",
       "      <td>36562.0</td>\n",
       "      <td>0</td>\n",
       "      <td>0</td>\n",
       "      <td>0</td>\n",
       "      <td>0</td>\n",
       "    </tr>\n",
       "  </tbody>\n",
       "</table>\n",
       "</div>"
      ],
      "text/plain": [
       "   user_id  mcc_code           timestamp   amount  global_target  \\\n",
       "0        0        19 2017-10-21 00:00:00   5023.0              0   \n",
       "1        0         2 2017-10-12 12:24:07  20000.0              0   \n",
       "2        0        10 2017-12-05 00:00:00    767.0              0   \n",
       "3        0         1 2017-10-21 00:00:00   2031.0              0   \n",
       "4        0         9 2017-10-24 13:14:24  36562.0              0   \n",
       "\n",
       "   holiday_target  weekend_target  churn_target  \n",
       "0               0               1             0  \n",
       "1               0               0             0  \n",
       "2               0               0             0  \n",
       "3               0               1             0  \n",
       "4               0               0             0  "
      ]
     },
     "execution_count": 8,
     "metadata": {},
     "output_type": "execute_result"
    }
   ],
   "source": [
    "df.head()"
   ]
  },
  {
   "cell_type": "code",
   "execution_count": 9,
   "metadata": {},
   "outputs": [],
   "source": [
    "preprocessor = PandasDataPreprocessor(\n",
    "    col_id=\"user_id\",\n",
    "    col_event_time=\"timestamp\",\n",
    "    event_time_transformation=\"dt_to_timestamp\",\n",
    "    cols_category=[\"mcc_code\"],\n",
    "    cols_numerical=[\"amount\"],\n",
    "    return_records=True\n",
    ")"
   ]
  },
  {
   "cell_type": "code",
   "execution_count": 10,
   "metadata": {},
   "outputs": [],
   "source": [
    "dataset = preprocessor.fit_transform(df)"
   ]
  },
  {
   "cell_type": "code",
   "execution_count": 15,
   "metadata": {},
   "outputs": [],
   "source": [
    "from ptls.frames.coles.split_strategy import AbsSplit\n",
    "from typing import List\n",
    "import numpy as np\n",
    "\n",
    "class TimeCLSampler(AbsSplit):\n",
    "    def __init__(\n",
    "        self,\n",
    "        min_len: int,\n",
    "        max_len: int,\n",
    "        llambda: float,\n",
    "        rlambda: float,\n",
    "        split_count: int,\n",
    "    ) -> None:\n",
    "        \"\"\"\n",
    "        TimeCL sampler implementation, ptls-style.\n",
    "        For details, see Algorithm 1 from the paper: http://mesl.ucsd.edu/pubs/Ranak_AAAI2023_PrimeNet.pdf\n",
    "        Args:\n",
    "            seq_len (int): desired subsequence length (i.e. sliding window size)\n",
    "            stride (int): margin between subsequent windows\n",
    "        \"\"\"\n",
    "        self.min_len = min_len\n",
    "        self.max_len = max_len\n",
    "        self.llambda = llambda\n",
    "        self.rlambda = rlambda\n",
    "        self.split_count = split_count\n",
    "\n",
    "    def split(self, dates: np.array) -> List[np.array]:\n",
    "        date_len = dates.shape[0]\n",
    "\n",
    "        assert date_len >= self.max_len, \"Timeseries length too small\"\n",
    "\n",
    "        time_deltas = np.concatenate(\n",
    "            (\n",
    "                [dates[1] - dates[0]],\n",
    "                0.5 * (dates[2:] - dates[:-2]),\n",
    "                [dates[-1] - dates[-2]],\n",
    "            )\n",
    "        )\n",
    "\n",
    "        idxs = np.arange(date_len)\n",
    "        idxs = sorted(idxs, key=lambda idx: time_deltas[idx])\n",
    "\n",
    "        dense_timestamps, sparse_timestamps = (\n",
    "            idxs[: date_len // 2],\n",
    "            idxs[date_len // 2 :],\n",
    "        )\n",
    "\n",
    "        lengths = np.random.randint(self.min_len, self.max_len, size=self.split_count)\n",
    "        lambdas = np.random.uniform(self.llambda, self.rlambda, size=self.split_count)\n",
    "\n",
    "        n_dense, n_sparse = np.floor(lengths * lambdas).astype(int), np.ceil(\n",
    "            lengths * (1 - lambdas)).astype(int)\n",
    "\n",
    "        idxs = [\n",
    "            list(np.random.choice(dense_timestamps, size=n_d))\n",
    "            + list(np.random.choice(sparse_timestamps, size=n_s))\n",
    "            for (n_d, n_s) in list(zip(n_dense, n_sparse))\n",
    "        ]\n",
    "\n",
    "        return [sorted(idx) for idx in idxs]"
   ]
  },
  {
   "cell_type": "code",
   "execution_count": 16,
   "metadata": {},
   "outputs": [],
   "source": [
    "from ptls.frames.coles import ColesDataset\n",
    "from ptls.data_load.datasets import MemoryMapDataset\n",
    "from ptls.data_load.iterable_processing import SeqLenFilter"
   ]
  },
  {
   "cell_type": "code",
   "execution_count": 17,
   "metadata": {},
   "outputs": [],
   "source": [
    "ds = ColesDataset(MemoryMapDataset(dataset, [SeqLenFilter(60)]), splitter=TimeCLSampler(min_len=15, max_len=60, llambda=0.3, rlambda=0.5, split_count=5))"
   ]
  },
  {
   "cell_type": "code",
   "execution_count": 22,
   "metadata": {},
   "outputs": [],
   "source": [
    "from tqdm import trange"
   ]
  },
  {
   "cell_type": "code",
   "execution_count": 23,
   "metadata": {},
   "outputs": [
    {
     "name": "stderr",
     "output_type": "stream",
     "text": [
      "100%|██████████| 3031/3031 [00:06<00:00, 470.77it/s]\n"
     ]
    }
   ],
   "source": [
    "for i in trange(len(ds)):\n",
    "    ds[i]"
   ]
  },
  {
   "cell_type": "code",
   "execution_count": null,
   "metadata": {},
   "outputs": [],
   "source": []
  }
 ],
 "metadata": {
  "kernelspec": {
   "display_name": "base",
   "language": "python",
   "name": "python3"
  },
  "language_info": {
   "codemirror_mode": {
    "name": "ipython",
    "version": 3
   },
   "file_extension": ".py",
   "mimetype": "text/x-python",
   "name": "python",
   "nbconvert_exporter": "python",
   "pygments_lexer": "ipython3",
   "version": "3.10.11"
  },
  "orig_nbformat": 4
 },
 "nbformat": 4,
 "nbformat_minor": 2
}
