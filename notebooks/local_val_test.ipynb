{
 "cells": [
  {
   "cell_type": "code",
   "execution_count": 1,
   "metadata": {},
   "outputs": [],
   "source": [
    "import os\n",
    "os.chdir(\"..\")"
   ]
  },
  {
   "cell_type": "code",
   "execution_count": 2,
   "metadata": {},
   "outputs": [],
   "source": [
    "from src.local_validation.local_validation_model import LocalValidationModel\n",
    "from omegaconf import OmegaConf\n",
    "import seaborn as sns\n",
    "\n",
    "from hydra.utils import instantiate\n",
    "from omegaconf import DictConfig\n",
    "import numpy as np\n",
    "\n",
    "import pandas as pd\n",
    "\n",
    "import torch\n",
    "\n",
    "from sklearn.model_selection import train_test_split\n",
    "from sklearn.metrics import roc_auc_score, f1_score\n",
    "from pytorch_lightning import seed_everything, Trainer\n",
    "from pytorch_lightning.loggers import TensorBoardLogger\n",
    "\n",
    "from ptls.data_load.datasets import MemoryMapDataset\n",
    "from ptls.data_load.iterable_processing import SeqLenFilter\n",
    "from ptls.data_load import PaddedBatch\n",
    "from ptls.frames.coles import ColesDataset\n",
    "from ptls.frames import PtlsDataModule\n",
    "\n",
    "from src.utils.logging_utils import get_logger\n",
    "from src.preprocessing import preprocess\n",
    "from tqdm.notebook import tqdm\n",
    "from src.local_validation import LocalValidationModel"
   ]
  },
  {
   "cell_type": "code",
   "execution_count": 3,
   "metadata": {},
   "outputs": [],
   "source": [
    "cfg_preprop = OmegaConf.load(\"config/preprocessing/churn.yaml\")\n",
    "cfg_validation = OmegaConf.load(\"config/validation/local_target_best_baseline.yaml\")"
   ]
  },
  {
   "cell_type": "code",
   "execution_count": 4,
   "metadata": {},
   "outputs": [
    {
     "name": "stdout",
     "output_type": "stream",
     "text": [
      "[Memory]0.0s, 0.0min    : Loading _preprocess...\n",
      "__________________________________________preprocess cache loaded - 4.5s, 0.1min\n"
     ]
    }
   ],
   "source": [
    "train, val, test = preprocess(cfg_preprop)\n",
    "\n",
    "# load pretrained sequence encoder\n",
    "sequence_encoder = instantiate(cfg_validation[\"sequence_encoder\"])\n",
    "sequence_encoder.load_state_dict(torch.load(cfg_validation[\"path_to_state_dict\"]))\n",
    "\n",
    "data_train = MemoryMapDataset(train, [SeqLenFilter(cfg_validation[\"model\"][\"seq_len\"])])\n",
    "data_val = MemoryMapDataset(val, [SeqLenFilter(cfg_validation[\"model\"][\"seq_len\"])])\n",
    "data_test = MemoryMapDataset(test, [SeqLenFilter(cfg_validation[\"model\"][\"seq_len\"])])\n",
    "\n",
    "train_dataset: ColesDataset = instantiate(cfg_validation[\"dataset\"], data=data_train)\n",
    "val_dataset: ColesDataset = instantiate(cfg_validation[\"dataset\"], data=data_val)\n",
    "test_dataset: ColesDataset = instantiate(cfg_validation[\"dataset\"], data=data_test)\n",
    "\n",
    "datamodule: PtlsDataModule = instantiate(\n",
    "    cfg_validation[\"datamodule\"],\n",
    "    train_data=train_dataset,\n",
    "    valid_data=val_dataset,\n",
    "    test_data=test_dataset,\n",
    ")"
   ]
  },
  {
   "cell_type": "code",
   "execution_count": 5,
   "metadata": {},
   "outputs": [],
   "source": [
    "valid_model: LocalValidationModel = instantiate(\n",
    "    cfg_validation[\"model\"],\n",
    "    backbone=sequence_encoder \n",
    ").to(\"cuda\")"
   ]
  },
  {
   "cell_type": "code",
   "execution_count": 6,
   "metadata": {},
   "outputs": [
    {
     "data": {
      "text/plain": [
       "<All keys matched successfully>"
      ]
     },
     "execution_count": 6,
     "metadata": {},
     "output_type": "execute_result"
    }
   ],
   "source": [
    "valid_model.load_state_dict(torch.load(\"saved_models/validation_head_0.pth\"))"
   ]
  },
  {
   "cell_type": "code",
   "execution_count": 7,
   "metadata": {},
   "outputs": [
    {
     "data": {
      "application/vnd.jupyter.widget-view+json": {
       "model_id": "1180a5c9eb2e49fd8602aef7cb84ba14",
       "version_major": 2,
       "version_minor": 0
      },
      "text/plain": [
       "  0%|          | 0/763 [00:00<?, ?it/s]"
      ]
     },
     "metadata": {},
     "output_type": "display_data"
    }
   ],
   "source": [
    "trues = []\n",
    "preds = []\n",
    "with torch.no_grad():\n",
    "    for x, y in tqdm(datamodule.train_dataloader()):\n",
    "        x: PaddedBatch = x.to(\"cuda\")\n",
    "        res, mask =  valid_model(x.to(\"cuda\"))\n",
    "        target = x.payload[\"churn_target\"][:, valid_model.seq_len - 1:]\n",
    "        preds.append(res[mask].detach().cpu().numpy())\n",
    "        trues.append(target[mask].detach().cpu().numpy())\n",
    "\n",
    "preds_arr = np.concatenate(preds)\n",
    "trues_arr = np.concatenate(trues)"
   ]
  },
  {
   "cell_type": "code",
   "execution_count": 8,
   "metadata": {},
   "outputs": [
    {
     "data": {
      "text/plain": [
       "0.5539699401089208"
      ]
     },
     "execution_count": 8,
     "metadata": {},
     "output_type": "execute_result"
    }
   ],
   "source": [
    "roc_auc_score(trues_arr, preds_arr)"
   ]
  },
  {
   "cell_type": "code",
   "execution_count": 9,
   "metadata": {},
   "outputs": [
    {
     "data": {
      "text/plain": [
       "<Axes: ylabel='Count'>"
      ]
     },
     "execution_count": 9,
     "metadata": {},
     "output_type": "execute_result"
    },
    {
     "data": {
      "image/png": "[encoded data removed]",
      "text/plain": [
       "<Figure size 640x480 with 1 Axes>"
      ]
     },
     "metadata": {},
     "output_type": "display_data"
    }
   ],
   "source": [
    "pos_scores = preds_arr[trues_arr.astype(bool)].flatten()\n",
    "neg_scores = preds_arr[~trues_arr.astype(bool)].flatten()\n",
    "sns.histplot({\"pos\": pos_scores, \"neg\": neg_scores}, color=[\"r\", \"g\"])"
   ]
  },
  {
   "cell_type": "code",
   "execution_count": 67,
   "metadata": {},
   "outputs": [
    {
     "data": {
      "text/plain": [
       "0.5567172713150159"
      ]
     },
     "execution_count": 67,
     "metadata": {},
     "output_type": "execute_result"
    }
   ],
   "source": [
    "f1_score(trues_arr, preds_arr > 0.3, average=\"macro\")"
   ]
  },
  {
   "cell_type": "code",
   "execution_count": 41,
   "metadata": {},
   "outputs": [
    {
     "data": {
      "text/plain": [
       "torch.Size([4, 202])"
      ]
     },
     "execution_count": 41,
     "metadata": {},
     "output_type": "execute_result"
    }
   ],
   "source": [
    "x.payload[\"amount\"].shape"
   ]
  },
  {
   "cell_type": "code",
   "execution_count": 38,
   "metadata": {},
   "outputs": [
    {
     "data": {
      "text/plain": [
       "torch.Size([4, 171, 1])"
      ]
     },
     "execution_count": 38,
     "metadata": {},
     "output_type": "execute_result"
    }
   ],
   "source": [
    "res.shape"
   ]
  },
  {
   "cell_type": "code",
   "execution_count": 15,
   "metadata": {},
   "outputs": [],
   "source": [
    "embs = valid_model.backbone(x)"
   ]
  },
  {
   "cell_type": "code",
   "execution_count": 16,
   "metadata": {},
   "outputs": [
    {
     "data": {
      "text/plain": [
       "tensor(0.2181, device='cuda:0')"
      ]
     },
     "execution_count": 16,
     "metadata": {},
     "output_type": "execute_result"
    }
   ],
   "source": [
    "embs.std()"
   ]
  },
  {
   "cell_type": "code",
   "execution_count": 17,
   "metadata": {},
   "outputs": [
    {
     "data": {
      "text/plain": [
       "0.044681"
      ]
     },
     "execution_count": 17,
     "metadata": {},
     "output_type": "execute_result"
    }
   ],
   "source": [
    "preds_arr.std()"
   ]
  },
  {
   "cell_type": "code",
   "execution_count": 46,
   "metadata": {},
   "outputs": [
    {
     "data": {
      "text/plain": [
       "OrderedDict([('backbone.trx_encoder.embeddings.mcc_code.weight',\n",
       "              tensor([[ 0.0000,  0.0000,  0.0000,  ...,  0.0000,  0.0000,  0.0000],\n",
       "                      [-0.2284, -0.3753, -1.3562,  ...,  2.1706,  0.8651, -0.3460],\n",
       "                      [-0.5555,  0.0176, -1.2588,  ...,  0.4013,  0.9811,  0.6363],\n",
       "                      ...,\n",
       "                      [-0.8384, -0.0414, -0.6208,  ..., -1.2112,  0.5985,  0.8309],\n",
       "                      [-0.6471,  0.6951,  0.0348,  ..., -1.2419, -0.3373, -0.8759],\n",
       "                      [ 0.3652,  0.3488,  0.1505,  ..., -0.3069, -2.3054,  0.4606]])),\n",
       "             ('backbone.trx_encoder.numerical_batch_norm.bn.weight',\n",
       "              tensor([1.2338])),\n",
       "             ('backbone.trx_encoder.numerical_batch_norm.bn.bias',\n",
       "              tensor([0.0132])),\n",
       "             ('backbone.trx_encoder.numerical_batch_norm.bn.running_mean',\n",
       "              tensor([4.3523])),\n",
       "             ('backbone.trx_encoder.numerical_batch_norm.bn.running_var',\n",
       "              tensor([10.2536])),\n",
       "             ('backbone.trx_encoder.numerical_batch_norm.bn.num_batches_tracked',\n",
       "              tensor(10155)),\n",
       "             ('backbone.seq_encoder.starter_h',\n",
       "              tensor([[[-1.4249, -0.1764, -0.6816,  ..., -1.0364, -0.7974,  0.3006]]])),\n",
       "             ('backbone.seq_encoder.rnn.weight_ih_l0',\n",
       "              tensor([[-0.0795,  0.0562,  0.0300,  ..., -0.0833,  0.0788, -0.0381],\n",
       "                      [-0.0101,  0.0405, -0.0029,  ..., -0.0133,  0.0051,  0.0111],\n",
       "                      [-0.0453,  0.0020,  0.0471,  ...,  0.0147,  0.0283,  0.0086],\n",
       "                      ...,\n",
       "                      [-0.0131, -0.0059, -0.0036,  ..., -0.0316, -0.0093, -0.0212],\n",
       "                      [-0.0471, -0.0073, -0.0226,  ...,  0.0033,  0.0131, -0.0296],\n",
       "                      [ 0.0019, -0.0276, -0.0237,  ..., -0.0067, -0.0310,  0.0500]])),\n",
       "             ('backbone.seq_encoder.rnn.weight_hh_l0',\n",
       "              tensor([[ 0.0510,  0.0241, -0.0047,  ..., -0.0140,  0.0405,  0.0184],\n",
       "                      [-0.0035, -0.0190, -0.0019,  ...,  0.0059, -0.0300,  0.0070],\n",
       "                      [ 0.0582, -0.0401,  0.0204,  ..., -0.0188, -0.0441,  0.0174],\n",
       "                      ...,\n",
       "                      [ 0.0046, -0.0118,  0.0045,  ...,  0.0089,  0.0078, -0.0100],\n",
       "                      [ 0.0100, -0.0091,  0.0240,  ..., -0.0249, -0.0164, -0.0040],\n",
       "                      [ 0.0250, -0.0119,  0.0148,  ..., -0.0128, -0.0059,  0.0521]])),\n",
       "             ('backbone.seq_encoder.rnn.bias_ih_l0',\n",
       "              tensor([-0.0206,  0.0166,  0.0112,  ..., -0.0176, -0.0128,  0.0178])),\n",
       "             ('backbone.seq_encoder.rnn.bias_hh_l0',\n",
       "              tensor([-0.0102,  0.0454, -0.0195,  ...,  0.0025,  0.0038,  0.0351])),\n",
       "             ('pred_head.0.weight',\n",
       "              tensor([[-0.0048,  0.0270, -0.0313,  ..., -0.0136, -0.0130,  0.0080],\n",
       "                      [-0.0181, -0.0586, -0.0280,  ...,  0.0136,  0.0239, -0.0304],\n",
       "                      [-0.0223, -0.0030, -0.0262,  ...,  0.0156,  0.0182,  0.0112],\n",
       "                      ...,\n",
       "                      [ 0.0114, -0.1789,  0.0497,  ..., -0.0120, -0.0257,  0.0264],\n",
       "                      [-0.0280,  0.0191, -0.0327,  ...,  0.0315,  0.0037, -0.0012],\n",
       "                      [-0.0062,  0.0285,  0.0235,  ...,  0.0170, -0.0091, -0.0219]])),\n",
       "             ('pred_head.0.bias',\n",
       "              tensor([ 0.0050, -0.0250,  0.0166,  0.0196,  0.0456,  0.0308, -0.0066,  0.0215,\n",
       "                      -0.0114, -0.0311, -0.0113,  0.0087, -0.0004, -0.0345, -0.0205,  0.0231,\n",
       "                       0.0141, -0.0345, -0.0205, -0.0137,  0.0181, -0.0202, -0.0245, -0.0387,\n",
       "                       0.0309, -0.0122, -0.0112,  0.0258,  0.0217,  0.0169,  0.0106,  0.0063])),\n",
       "             ('pred_head.2.weight',\n",
       "              tensor([[ 0.0448, -0.0093,  0.0692,  0.1524, -0.0721, -0.0441, -0.1502, -0.0246,\n",
       "                       -0.0156,  0.0037,  0.1176,  0.1370,  0.0434,  0.1479,  0.0991, -0.0790,\n",
       "                        0.0634,  0.1298,  0.0163, -0.1518, -0.0120,  0.0044,  0.1063,  0.0491,\n",
       "                       -0.0775, -0.0582,  0.1740, -0.0142, -0.0003, -0.0957,  0.1292,  0.0262]])),\n",
       "             ('pred_head.2.bias', tensor([0.0325]))])"
      ]
     },
     "execution_count": 46,
     "metadata": {},
     "output_type": "execute_result"
    }
   ],
   "source": [
    "torch.load(\"saved_models/validation_head_0.pth\")"
   ]
  },
  {
   "cell_type": "code",
   "execution_count": 50,
   "metadata": {},
   "outputs": [
    {
     "data": {
      "text/plain": [
       "tensor([[0, 0, 0, 0, 0, 0, 0, 0, 0, 0, 0, 0, 0, 0, 0, 0, 0, 0, 0, 0, 0, 0, 0, 0,\n",
       "         0, 0, 0, 0, 0, 0, 0, 0, 0, 0, 0, 0, 0, 0, 0, 0, 0, 0, 0, 0, 0, 0, 0, 0,\n",
       "         0, 0, 0, 0, 0, 0, 0, 0, 0, 0, 0, 0, 0, 0, 0, 0, 0, 0, 0, 0, 0, 0, 0, 0,\n",
       "         0, 0, 0, 0, 0, 0, 0, 0, 0, 0, 0, 0, 0, 0, 0, 0, 0, 0, 0, 0, 0, 0, 0, 0,\n",
       "         0, 0, 0, 0, 0, 0, 0, 0, 0, 0, 0, 0, 0, 0, 0, 0, 0, 0, 0, 0, 0, 0, 0, 0,\n",
       "         0, 0, 0, 0, 0, 0, 0, 0, 0, 0, 0, 0, 0, 0, 0, 0, 0, 1, 1, 1, 1, 1, 1, 1,\n",
       "         1, 1, 1, 1, 1, 1, 1, 1, 1, 1, 1, 1, 1, 1, 1, 1, 1, 1, 1, 1, 1, 1, 1, 1,\n",
       "         1, 1, 1, 1, 1, 1, 1, 1, 1, 1, 1, 1, 1, 1, 1, 1, 1, 1, 1, 1, 1, 1, 1, 1,\n",
       "         1, 1, 1, 1, 1, 1, 1, 1, 1, 1],\n",
       "        [0, 0, 0, 0, 0, 0, 0, 0, 0, 0, 0, 0, 0, 0, 0, 0, 0, 0, 0, 0, 0, 0, 0, 0,\n",
       "         0, 0, 0, 0, 0, 0, 0, 0, 0, 0, 0, 0, 0, 0, 0, 0, 0, 0, 0, 0, 0, 0, 0, 0,\n",
       "         0, 0, 0, 0, 0, 0, 0, 0, 0, 0, 0, 0, 0, 0, 0, 0, 0, 0, 0, 0, 0, 0, 0, 0,\n",
       "         0, 0, 1, 1, 1, 1, 1, 1, 1, 1, 1, 1, 1, 1, 1, 1, 1, 1, 1, 1, 1, 1, 1, 1,\n",
       "         1, 1, 1, 1, 1, 1, 1, 1, 1, 1, 0, 0, 0, 0, 0, 0, 0, 0, 0, 0, 0, 0, 0, 0,\n",
       "         0, 0, 0, 0, 0, 0, 0, 0, 0, 0, 0, 0, 0, 0, 0, 0, 0, 0, 0, 0, 0, 0, 0, 0,\n",
       "         0, 0, 0, 0, 0, 0, 0, 0, 0, 0, 0, 0, 0, 0, 0, 0, 0, 0, 0, 0, 0, 0, 0, 0,\n",
       "         0, 0, 0, 0, 0, 0, 0, 0, 0, 0, 0, 0, 0, 0, 0, 0, 0, 0, 0, 0, 0, 0, 0, 0,\n",
       "         0, 0, 0, 0, 0, 0, 0, 0, 0, 0],\n",
       "        [0, 0, 0, 0, 0, 0, 0, 0, 0, 0, 0, 0, 0, 0, 0, 0, 0, 0, 0, 0, 0, 0, 0, 0,\n",
       "         0, 0, 0, 0, 0, 0, 0, 0, 0, 0, 0, 0, 0, 0, 0, 0, 0, 0, 0, 0, 0, 0, 0, 0,\n",
       "         0, 0, 0, 0, 0, 0, 0, 0, 0, 0, 0, 0, 0, 0, 0, 0, 0, 0, 0, 0, 0, 0, 0, 0,\n",
       "         0, 0, 0, 0, 0, 0, 0, 0, 0, 0, 0, 0, 0, 0, 0, 0, 0, 0, 0, 0, 0, 0, 0, 0,\n",
       "         0, 0, 0, 0, 0, 0, 0, 0, 0, 0, 0, 0, 0, 0, 0, 0, 0, 0, 0, 0, 0, 0, 0, 0,\n",
       "         0, 0, 0, 0, 0, 0, 0, 0, 0, 0, 0, 0, 0, 0, 0, 0, 0, 0, 0, 0, 0, 0, 0, 0,\n",
       "         0, 0, 0, 0, 0, 0, 0, 0, 0, 0, 0, 0, 0, 0, 0, 0, 0, 0, 0, 0, 0, 0, 0, 0,\n",
       "         0, 0, 0, 0, 0, 0, 0, 0, 0, 0, 0, 0, 0, 0, 0, 0, 0, 0, 0, 0, 0, 0, 0, 0,\n",
       "         0, 0, 0, 0, 0, 0, 0, 0, 0, 0],\n",
       "        [0, 0, 0, 0, 0, 0, 0, 0, 0, 0, 0, 0, 0, 0, 0, 0, 0, 0, 0, 0, 0, 0, 0, 0,\n",
       "         0, 0, 0, 0, 0, 0, 0, 0, 0, 0, 0, 0, 0, 0, 0, 0, 0, 0, 0, 0, 0, 0, 0, 0,\n",
       "         0, 0, 0, 0, 0, 0, 0, 0, 0, 0, 0, 0, 0, 0, 0, 0, 0, 0, 0, 0, 0, 0, 0, 0,\n",
       "         0, 0, 0, 0, 0, 0, 0, 0, 0, 0, 0, 0, 0, 0, 0, 0, 0, 0, 0, 0, 0, 0, 0, 0,\n",
       "         0, 0, 0, 0, 0, 0, 0, 0, 0, 0, 0, 0, 0, 0, 0, 0, 0, 0, 0, 0, 0, 0, 0, 0,\n",
       "         0, 0, 0, 0, 0, 0, 0, 0, 0, 0, 0, 0, 0, 0, 0, 0, 0, 0, 0, 0, 0, 0, 0, 0,\n",
       "         0, 0, 0, 0, 0, 0, 0, 0, 0, 0, 0, 0, 0, 0, 0, 0, 0, 0, 0, 0, 0, 0, 0, 0,\n",
       "         0, 0, 0, 0, 0, 0, 0, 0, 0, 0, 0, 0, 0, 0, 0, 0, 0, 0, 0, 0, 0, 0, 0, 0,\n",
       "         0, 0, 0, 0, 0, 0, 0, 0, 0, 0]])"
      ]
     },
     "execution_count": 50,
     "metadata": {},
     "output_type": "execute_result"
    }
   ],
   "source": [
    "x.payload[\"churn_target\"]"
   ]
  }
 ],
 "metadata": {
  "kernelspec": {
   "display_name": "base",
   "language": "python",
   "name": "python3"
  },
  "language_info": {
   "codemirror_mode": {
    "name": "ipython",
    "version": 3
   },
   "file_extension": ".py",
   "mimetype": "text/x-python",
   "name": "python",
   "nbconvert_exporter": "python",
   "pygments_lexer": "ipython3",
   "version": "3.9.16"
  }
 },
 "nbformat": 4,
 "nbformat_minor": 2
}
