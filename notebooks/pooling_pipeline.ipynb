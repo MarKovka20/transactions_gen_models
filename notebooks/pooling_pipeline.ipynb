{
 "cells": [
  {
   "cell_type": "code",
   "execution_count": 1,
   "metadata": {},
   "outputs": [],
   "source": [
    "import warnings\n",
    "warnings.filterwarnings(\"ignore\")\n",
    "\n",
    "import os\n",
    "import sys\n",
    "\n",
    "dir2 = os.path.abspath('')\n",
    "dir1 = os.path.dirname(dir2)\n",
    "if not dir1 in sys.path:\n",
    "    sys.path.append(dir1)\n",
    "\n",
    "os.chdir('..')\n",
    "\n",
    "%load_ext autoreload\n",
    "%autoreload"
   ]
  },
  {
   "cell_type": "code",
   "execution_count": 2,
   "metadata": {},
   "outputs": [],
   "source": [
    "from pathlib import Path\n",
    "\n",
    "import pandas as pd\n",
    "import numpy as np\n",
    "\n",
    "import torch\n",
    "\n",
    "from hydra import initialize, compose\n",
    "from hydra.utils import instantiate\n",
    "\n",
    "from ptls.preprocessing import PandasDataPreprocessor\n",
    "from ptls.frames import PtlsDataModule\n",
    "\n",
    "from pytorch_lightning import Trainer\n",
    "from pytorch_lightning.callbacks import ModelCheckpoint, EarlyStopping\n",
    "from pytorch_lightning.loggers import TensorBoardLogger\n",
    "\n",
    "from sklearn.model_selection import train_test_split\n",
    "\n",
    "from src.coles import CustomColesDataset, CustomColesValidationDataset, CustomCoLES\n",
    "from src.local_validation import LocalValidationModel"
   ]
  },
  {
   "cell_type": "code",
   "execution_count": 3,
   "metadata": {},
   "outputs": [],
   "source": [
    "from src.pooling import PoolingModel"
   ]
  },
  {
   "cell_type": "markdown",
   "metadata": {},
   "source": [
    "# Example of usage with churn dataset\n"
   ]
  },
  {
   "cell_type": "code",
   "execution_count": 4,
   "metadata": {},
   "outputs": [],
   "source": [
    "DATASET = \"churn\"\n",
    "\n",
    "with initialize(config_path=\"../config\", version_base=None):\n",
    "    cfg = compose(config_name=\"config_\" + DATASET)\n",
    "    \n",
    "cfg_preprop = cfg[\"dataset\"]\n",
    "cfg_model = cfg[\"model\"]"
   ]
  },
  {
   "cell_type": "code",
   "execution_count": 5,
   "metadata": {},
   "outputs": [
    {
     "data": {
      "text/html": [
       "<div>\n",
       "<style scoped>\n",
       "    .dataframe tbody tr th:only-of-type {\n",
       "        vertical-align: middle;\n",
       "    }\n",
       "\n",
       "    .dataframe tbody tr th {\n",
       "        vertical-align: top;\n",
       "    }\n",
       "\n",
       "    .dataframe thead th {\n",
       "        text-align: right;\n",
       "    }\n",
       "</style>\n",
       "<table border=\"1\" class=\"dataframe\">\n",
       "  <thead>\n",
       "    <tr style=\"text-align: right;\">\n",
       "      <th></th>\n",
       "      <th>user_id</th>\n",
       "      <th>mcc_code</th>\n",
       "      <th>timestamp</th>\n",
       "      <th>amount</th>\n",
       "      <th>global_target</th>\n",
       "      <th>holiday_target</th>\n",
       "      <th>weekend_target</th>\n",
       "      <th>churn_target</th>\n",
       "    </tr>\n",
       "  </thead>\n",
       "  <tbody>\n",
       "    <tr>\n",
       "      <th>0</th>\n",
       "      <td>0</td>\n",
       "      <td>5200</td>\n",
       "      <td>2017-10-21 00:00:00</td>\n",
       "      <td>5023.0</td>\n",
       "      <td>0</td>\n",
       "      <td>0</td>\n",
       "      <td>1</td>\n",
       "      <td>0</td>\n",
       "    </tr>\n",
       "    <tr>\n",
       "      <th>1</th>\n",
       "      <td>0</td>\n",
       "      <td>6011</td>\n",
       "      <td>2017-10-12 12:24:07</td>\n",
       "      <td>20000.0</td>\n",
       "      <td>0</td>\n",
       "      <td>0</td>\n",
       "      <td>0</td>\n",
       "      <td>0</td>\n",
       "    </tr>\n",
       "    <tr>\n",
       "      <th>2</th>\n",
       "      <td>0</td>\n",
       "      <td>5921</td>\n",
       "      <td>2017-12-05 00:00:00</td>\n",
       "      <td>767.0</td>\n",
       "      <td>0</td>\n",
       "      <td>0</td>\n",
       "      <td>0</td>\n",
       "      <td>1</td>\n",
       "    </tr>\n",
       "    <tr>\n",
       "      <th>3</th>\n",
       "      <td>0</td>\n",
       "      <td>5411</td>\n",
       "      <td>2017-10-21 00:00:00</td>\n",
       "      <td>2031.0</td>\n",
       "      <td>0</td>\n",
       "      <td>0</td>\n",
       "      <td>1</td>\n",
       "      <td>0</td>\n",
       "    </tr>\n",
       "    <tr>\n",
       "      <th>4</th>\n",
       "      <td>0</td>\n",
       "      <td>6012</td>\n",
       "      <td>2017-10-24 13:14:24</td>\n",
       "      <td>36562.0</td>\n",
       "      <td>0</td>\n",
       "      <td>0</td>\n",
       "      <td>0</td>\n",
       "      <td>0</td>\n",
       "    </tr>\n",
       "  </tbody>\n",
       "</table>\n",
       "</div>"
      ],
      "text/plain": [
       "   user_id  mcc_code           timestamp   amount  global_target  \\\n",
       "0        0      5200 2017-10-21 00:00:00   5023.0              0   \n",
       "1        0      6011 2017-10-12 12:24:07  20000.0              0   \n",
       "2        0      5921 2017-12-05 00:00:00    767.0              0   \n",
       "3        0      5411 2017-10-21 00:00:00   2031.0              0   \n",
       "4        0      6012 2017-10-24 13:14:24  36562.0              0   \n",
       "\n",
       "   holiday_target  weekend_target  churn_target  \n",
       "0               0               1             0  \n",
       "1               0               0             0  \n",
       "2               0               0             1  \n",
       "3               0               1             0  \n",
       "4               0               0             0  "
      ]
     },
     "execution_count": 5,
     "metadata": {},
     "output_type": "execute_result"
    }
   ],
   "source": [
    "df = pd.read_parquet(Path(cfg[\"dataset\"][\"dir_path\"]).joinpath(cfg[\"dataset\"][\"train_file_name\"]))\n",
    "df.head()"
   ]
  },
  {
   "cell_type": "code",
   "execution_count": 6,
   "metadata": {},
   "outputs": [],
   "source": [
    "local_target = cfg_model[\"validation_dataset\"][\"local_target_col\"]\n",
    "\n",
    "preprocessor = PandasDataPreprocessor(\n",
    "    col_id=\"user_id\",\n",
    "    col_event_time=\"timestamp\",\n",
    "    event_time_transformation=\"dt_to_timestamp\", # no time preprocessing\n",
    "    cols_category=[\"mcc_code\"],\n",
    "    cols_numerical=[\"amount\", local_target], # keep column with fake local targets\n",
    "    return_records=True\n",
    ")\n",
    "\n",
    "dataset = preprocessor.fit_transform(df)\n",
    "\n",
    "train, val_test = train_test_split(dataset, test_size=.2, random_state=42)\n",
    "val, test = train_test_split(val_test, test_size=.5, random_state=42)"
   ]
  },
  {
   "cell_type": "code",
   "execution_count": 7,
   "metadata": {},
   "outputs": [],
   "source": [
    "# initialize original CoLES datasest - for CoLES training\n",
    "train_data: CustomColesDataset = instantiate(cfg_model[\"dataset\"], data=train)\n",
    "val_data: CustomColesDataset = instantiate(cfg_model[\"dataset\"], data=val)\n",
    "    \n",
    "train_datamodule: PtlsDataModule = instantiate(\n",
    "    cfg_model[\"datamodule\"],\n",
    "    train_data=train_data,\n",
    "    valid_data=val_data\n",
    ")"
   ]
  },
  {
   "cell_type": "code",
   "execution_count": 8,
   "metadata": {},
   "outputs": [],
   "source": [
    "model_churn: CustomCoLES = instantiate(cfg_model[\"model\"])"
   ]
  },
  {
   "cell_type": "code",
   "execution_count": 9,
   "metadata": {},
   "outputs": [],
   "source": [
    "# model_checkpoint: ModelCheckpoint = instantiate(\n",
    "#     cfg_model[\"trainer_coles\"][\"checkpoint_callback\"],\n",
    "#     monitor=model_churn.metric_name,\n",
    "#     mode=\"max\"\n",
    "# )\n",
    "    \n",
    "# early_stopping: EarlyStopping = instantiate(\n",
    "#     cfg_model[\"trainer_coles\"][\"early_stopping\"],\n",
    "#     monitor=model_churn.metric_name,\n",
    "#     mode=\"max\"\n",
    "# )\n",
    "    \n",
    "# logger: TensorBoardLogger = instantiate(cfg_model[\"trainer_coles\"][\"logger\"])\n",
    "    \n",
    "# trainer: Trainer = instantiate(\n",
    "#     cfg_model[\"trainer_coles\"][\"trainer\"],\n",
    "#     callbacks=[model_checkpoint, early_stopping],\n",
    "#     logger=logger\n",
    "# )\n",
    "    \n",
    "# trainer.fit(model_churn, train_datamodule)"
   ]
  },
  {
   "cell_type": "code",
   "execution_count": 10,
   "metadata": {},
   "outputs": [],
   "source": [
    "# torch.save(model_churn.state_dict(), \"saved_models/coles_churn_default.pth\")"
   ]
  },
  {
   "cell_type": "code",
   "execution_count": 11,
   "metadata": {},
   "outputs": [
    {
     "data": {
      "text/plain": [
       "<All keys matched successfully>"
      ]
     },
     "execution_count": 11,
     "metadata": {},
     "output_type": "execute_result"
    }
   ],
   "source": [
    "model_churn.load_state_dict(torch.load(\"saved_models/coles_churn_default.pth\"))"
   ]
  },
  {
   "cell_type": "code",
   "execution_count": 12,
   "metadata": {},
   "outputs": [],
   "source": [
    "# initialize custom datasets and datamodule for local validation\n",
    "# use the same 'train' and 'val' preprocessed data\n",
    "train_data_local: CustomColesValidationDataset = instantiate(cfg_model[\"validation_dataset\"], data=train)\n",
    "val_data_local: CustomColesValidationDataset = instantiate(cfg_model[\"validation_dataset\"], data=val)\n",
    "test_data_local: CustomColesValidationDataset = instantiate(cfg_model[\"validation_dataset\"], data=test)\n",
    "\n",
    "# keep batch_size = 1 (all slices of one user in one batch)\n",
    "# or may use batch_size > 1 to speed-up LocalValidationModel training\n",
    "val_datamodule: PtlsDataModule = instantiate(\n",
    "    cfg_model[\"datamodule\"],\n",
    "    train_data=train_data_local,\n",
    "    valid_data=val_data_local,\n",
    "    test_data=test_data_local,\n",
    "    train_batch_size=1, # ! for pooling_model\n",
    "    valid_batch_size=1,\n",
    "    test_batch_size=1\n",
    ")"
   ]
  },
  {
   "cell_type": "code",
   "execution_count": 13,
   "metadata": {},
   "outputs": [
    {
     "data": {
      "text/plain": [
       "torch.Size([25, 40])"
      ]
     },
     "execution_count": 13,
     "metadata": {},
     "output_type": "execute_result"
    }
   ],
   "source": [
    "valid_batch, local_labels = next(iter(val_datamodule.val_dataloader()))\n",
    "valid_batch.payload['event_time'].shape"
   ]
  },
  {
   "cell_type": "code",
   "execution_count": 14,
   "metadata": {},
   "outputs": [],
   "source": [
    "emb_dim = model_churn(valid_batch).shape[-1]\n",
    "HIDDEN_SIZE = 32\n",
    "\n",
    "pooling_model = PoolingModel(val_datamodule.train_dataloader(), \n",
    "                             model_churn, \n",
    "                             backbone_embd_size = emb_dim,\n",
    "                             agregating_model = None,\n",
    "                             pooling_type = \"mean\",\n",
    "                             hidden_size = HIDDEN_SIZE,\n",
    "                             )"
   ]
  },
  {
   "cell_type": "code",
   "execution_count": 15,
   "metadata": {},
   "outputs": [
    {
     "name": "stdout",
     "output_type": "stream",
     "text": [
      "Pooling COLES embeddings: torch.Size([25, 1024])\n",
      "Predicted labels: torch.Size([25])\n",
      "True local labels: torch.Size([25])\n"
     ]
    }
   ],
   "source": [
    "backbone_out = pooling_model.backbone(valid_batch)\n",
    "print(\"Pooling COLES embeddings:\", backbone_out.shape)\n",
    "\n",
    "pred_out = pooling_model(valid_batch)\n",
    "print(\"Predicted labels:\", pred_out.shape)\n",
    "\n",
    "print(\"True local labels:\", local_labels.shape)"
   ]
  },
  {
   "cell_type": "code",
   "execution_count": 16,
   "metadata": {},
   "outputs": [
    {
     "data": {
      "text/plain": [
       "PoolingModel(\n",
       "  (backbone): CustomCoLES(\n",
       "    (_loss): ContrastiveLoss()\n",
       "    (_seq_encoder): RnnSeqEncoder(\n",
       "      (trx_encoder): TrxEncoder(\n",
       "        (embeddings): ModuleDict(\n",
       "          (mcc_code): NoisyEmbedding(\n",
       "            344, 32, padding_idx=0\n",
       "            (dropout): Dropout(p=0, inplace=False)\n",
       "          )\n",
       "        )\n",
       "        (numeric_values): ModuleDict(\n",
       "          (event_time): LogScaler()\n",
       "        )\n",
       "        (numerical_batch_norm): RBatchNorm(\n",
       "          (bn): BatchNorm1d(1, eps=1e-05, momentum=0.1, affine=True, track_running_stats=True)\n",
       "        )\n",
       "      )\n",
       "      (seq_encoder): RnnEncoder(\n",
       "        (rnn): LSTM(33, 1024, batch_first=True)\n",
       "        (reducer): LastStepEncoder()\n",
       "      )\n",
       "    )\n",
       "    (_validation_metric): BatchRecallTopK()\n",
       "    (_head): Head(\n",
       "      (model): Sequential(\n",
       "        (0): L2NormEncoder()\n",
       "      )\n",
       "    )\n",
       "    (sequence_encoder_model): RnnSeqEncoder(\n",
       "      (trx_encoder): TrxEncoder(\n",
       "        (embeddings): ModuleDict(\n",
       "          (mcc_code): NoisyEmbedding(\n",
       "            344, 32, padding_idx=0\n",
       "            (dropout): Dropout(p=0, inplace=False)\n",
       "          )\n",
       "        )\n",
       "        (numeric_values): ModuleDict(\n",
       "          (event_time): LogScaler()\n",
       "        )\n",
       "        (numerical_batch_norm): RBatchNorm(\n",
       "          (bn): BatchNorm1d(1, eps=1e-05, momentum=0.1, affine=True, track_running_stats=True)\n",
       "        )\n",
       "      )\n",
       "      (seq_encoder): RnnEncoder(\n",
       "        (rnn): LSTM(33, 1024, batch_first=True)\n",
       "        (reducer): LastStepEncoder()\n",
       "      )\n",
       "    )\n",
       "  )\n",
       "  (pred_head): Sequential(\n",
       "    (0): Linear(in_features=2048, out_features=32, bias=True)\n",
       "    (1): ReLU()\n",
       "    (2): Linear(in_features=32, out_features=1, bias=True)\n",
       "    (3): Sigmoid()\n",
       "  )\n",
       "  (loss): BCELoss()\n",
       ")"
      ]
     },
     "execution_count": 16,
     "metadata": {},
     "output_type": "execute_result"
    }
   ],
   "source": [
    "pooling_model"
   ]
  },
  {
   "cell_type": "code",
   "execution_count": 17,
   "metadata": {},
   "outputs": [
    {
     "name": "stderr",
     "output_type": "stream",
     "text": [
      "GPU available: True, used: True\n",
      "TPU available: False, using: 0 TPU cores\n",
      "IPU available: False, using: 0 IPUs\n",
      "HPU available: False, using: 0 HPUs\n",
      "LOCAL_RANK: 0 - CUDA_VISIBLE_DEVICES: [0]\n",
      "\n",
      "  | Name      | Type        | Params\n",
      "------------------------------------------\n",
      "0 | backbone  | CustomCoLES | 4.3 M \n",
      "1 | pred_head | Sequential  | 65.6 K\n",
      "2 | loss      | BCELoss     | 0     \n",
      "------------------------------------------\n",
      "65.6 K    Trainable params\n",
      "4.3 M     Non-trainable params\n",
      "4.4 M     Total params\n",
      "17.661    Total estimated model params size (MB)\n"
     ]
    },
    {
     "data": {
      "application/vnd.jupyter.widget-view+json": {
       "model_id": "cacb5226f41040a2bf3b7619e5a88591",
       "version_major": 2,
       "version_minor": 0
      },
      "text/plain": [
       "Sanity Checking: 0it [00:00, ?it/s]"
      ]
     },
     "metadata": {},
     "output_type": "display_data"
    },
    {
     "data": {
      "application/vnd.jupyter.widget-view+json": {
       "model_id": "090476f38a0b4f1194634e0ba0f3341d",
       "version_major": 2,
       "version_minor": 0
      },
      "text/plain": [
       "Training: 0it [00:00, ?it/s]"
      ]
     },
     "metadata": {},
     "output_type": "display_data"
    },
    {
     "data": {
      "application/vnd.jupyter.widget-view+json": {
       "model_id": "23172ddac70e4868b41a37f463341d17",
       "version_major": 2,
       "version_minor": 0
      },
      "text/plain": [
       "Validation: 0it [00:00, ?it/s]"
      ]
     },
     "metadata": {},
     "output_type": "display_data"
    },
    {
     "data": {
      "application/vnd.jupyter.widget-view+json": {
       "model_id": "69a4df07370d460b9f16b3154817a7e1",
       "version_major": 2,
       "version_minor": 0
      },
      "text/plain": [
       "Validation: 0it [00:00, ?it/s]"
      ]
     },
     "metadata": {},
     "output_type": "display_data"
    },
    {
     "data": {
      "application/vnd.jupyter.widget-view+json": {
       "model_id": "11f2d2e6228046f3bc0b1d0d1cd8091a",
       "version_major": 2,
       "version_minor": 0
      },
      "text/plain": [
       "Validation: 0it [00:00, ?it/s]"
      ]
     },
     "metadata": {},
     "output_type": "display_data"
    },
    {
     "data": {
      "application/vnd.jupyter.widget-view+json": {
       "model_id": "744205fc5d1e46beb7b549f8ce4cb3a4",
       "version_major": 2,
       "version_minor": 0
      },
      "text/plain": [
       "Validation: 0it [00:00, ?it/s]"
      ]
     },
     "metadata": {},
     "output_type": "display_data"
    },
    {
     "data": {
      "application/vnd.jupyter.widget-view+json": {
       "model_id": "5cc2e44acc1c4373b2d890062d5de99a",
       "version_major": 2,
       "version_minor": 0
      },
      "text/plain": [
       "Validation: 0it [00:00, ?it/s]"
      ]
     },
     "metadata": {},
     "output_type": "display_data"
    }
   ],
   "source": [
    "val_trainer = Trainer(\n",
    "    accelerator=\"gpu\",\n",
    "    devices=1,\n",
    "    max_epochs=5,\n",
    ")\n",
    "    \n",
    "val_trainer.fit(pooling_model, val_datamodule)"
   ]
  },
  {
   "cell_type": "code",
   "execution_count": 18,
   "metadata": {},
   "outputs": [],
   "source": [
    "torch.save(pooling_model.state_dict(), \"saved_models/validation_coles_pooling_mean_churn.pth\")"
   ]
  },
  {
   "cell_type": "code",
   "execution_count": 19,
   "metadata": {},
   "outputs": [
    {
     "data": {
      "text/plain": [
       "<All keys matched successfully>"
      ]
     },
     "execution_count": 19,
     "metadata": {},
     "output_type": "execute_result"
    }
   ],
   "source": [
    "pooling_model.load_state_dict(torch.load(\"saved_models/validation_coles_pooling_mean_churn.pth\"))"
   ]
  },
  {
   "cell_type": "code",
   "execution_count": 20,
   "metadata": {},
   "outputs": [
    {
     "name": "stderr",
     "output_type": "stream",
     "text": [
      "LOCAL_RANK: 0 - CUDA_VISIBLE_DEVICES: [0]\n"
     ]
    },
    {
     "data": {
      "application/vnd.jupyter.widget-view+json": {
       "model_id": "7df3ef676e104daa920c6e3a4f21f86a",
       "version_major": 2,
       "version_minor": 0
      },
      "text/plain": [
       "Testing: 0it [00:00, ?it/s]"
      ]
     },
     "metadata": {},
     "output_type": "display_data"
    },
    {
     "name": "stdout",
     "output_type": "stream",
     "text": [
      "────────────────────────────────────────────────────────────────────────────────────────────────────────────────────────\n",
      "       Test metric             DataLoader 0\n",
      "────────────────────────────────────────────────────────────────────────────────────────────────────────────────────────\n",
      "          AUROC             0.6034145355224609\n",
      "        Accuracy            0.5520769357681274\n",
      "         F1Score            0.5976631045341492\n",
      "         PR-AUC             0.6007697582244873\n",
      "────────────────────────────────────────────────────────────────────────────────────────────────────────────────────────\n"
     ]
    },
    {
     "data": {
      "text/plain": [
       "[{'AUROC': 0.6034145355224609,\n",
       "  'PR-AUC': 0.6007697582244873,\n",
       "  'Accuracy': 0.5520769357681274,\n",
       "  'F1Score': 0.5976631045341492}]"
      ]
     },
     "execution_count": 20,
     "metadata": {},
     "output_type": "execute_result"
    }
   ],
   "source": [
    "val_trainer.test(pooling_model, val_datamodule)"
   ]
  }
 ],
 "metadata": {
  "kernelspec": {
   "display_name": "base",
   "language": "python",
   "name": "python3"
  },
  "language_info": {
   "codemirror_mode": {
    "name": "ipython",
    "version": 3
   },
   "file_extension": ".py",
   "mimetype": "text/x-python",
   "name": "python",
   "nbconvert_exporter": "python",
   "pygments_lexer": "ipython3",
   "version": "3.10.9"
  },
  "orig_nbformat": 4
 },
 "nbformat": 4,
 "nbformat_minor": 2
}
