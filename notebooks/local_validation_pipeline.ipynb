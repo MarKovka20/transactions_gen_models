{
 "cells": [
  {
   "cell_type": "code",
   "execution_count": 1,
   "id": "523b8323",
   "metadata": {},
   "outputs": [],
   "source": [
    "import warnings\n",
    "warnings.filterwarnings(\"ignore\")\n",
    "\n",
    "import os\n",
    "import sys\n",
    "\n",
    "dir2 = os.path.abspath('')\n",
    "dir1 = os.path.dirname(dir2)\n",
    "if not dir1 in sys.path:\n",
    "    sys.path.append(dir1)\n",
    "\n",
    "os.chdir('/app')\n",
    "\n",
    "%load_ext autoreload\n",
    "%autoreload 2"
   ]
  },
  {
   "cell_type": "code",
   "execution_count": 2,
   "id": "ec405c66",
   "metadata": {},
   "outputs": [],
   "source": [
    "from pathlib import Path\n",
    "\n",
    "import pandas as pd\n",
    "\n",
    "import torch\n",
    "\n",
    "from hydra import initialize, compose\n",
    "from hydra.utils import instantiate\n",
    "\n",
    "from ptls.frames import PtlsDataModule\n",
    "from ptls.frames.coles import ColesDataset\n",
    "\n",
    "from ptls.data_load.datasets import MemoryMapDataset\n",
    "from ptls.data_load.iterable_processing import SeqLenFilter\n",
    "\n",
    "from pytorch_lightning import Trainer, seed_everything\n",
    "from pytorch_lightning.loggers import TensorBoardLogger, CometLogger\n",
    "\n",
    "from sklearn.model_selection import train_test_split\n",
    "\n",
    "from src.local_validation import LocalValidationModel\n",
    "\n",
    "from src.utils.logging_utils import get_logger\n",
    "from src.preprocessing import preprocess\n"
   ]
  },
  {
   "cell_type": "markdown",
   "id": "2c0ee347",
   "metadata": {},
   "source": [
    "## Read data"
   ]
  },
  {
   "cell_type": "code",
   "execution_count": 4,
   "id": "10c11f29",
   "metadata": {},
   "outputs": [],
   "source": [
    "DATASET = \"churn\"\n",
    "\n",
    "with initialize(config_path=\"../config\", version_base=None):\n",
    "    cfg = compose(config_name=\"config_\" + DATASET)\n",
    "\n",
    "cfg_preprop = cfg[\"preprocessing\"]\n",
    "cfg_dataset = cfg[\"dataset\"]\n",
    "# cfg_model = cfg[\"model\"]\n",
    "cfg_validation = cfg[\"validation\"]"
   ]
  },
  {
   "cell_type": "code",
   "execution_count": 5,
   "id": "4d1fc50a",
   "metadata": {},
   "outputs": [
    {
     "data": {
      "text/html": [
       "<div>\n",
       "<style scoped>\n",
       "    .dataframe tbody tr th:only-of-type {\n",
       "        vertical-align: middle;\n",
       "    }\n",
       "\n",
       "    .dataframe tbody tr th {\n",
       "        vertical-align: top;\n",
       "    }\n",
       "\n",
       "    .dataframe thead th {\n",
       "        text-align: right;\n",
       "    }\n",
       "</style>\n",
       "<table border=\"1\" class=\"dataframe\">\n",
       "  <thead>\n",
       "    <tr style=\"text-align: right;\">\n",
       "      <th></th>\n",
       "      <th>user_id</th>\n",
       "      <th>mcc_code</th>\n",
       "      <th>timestamp</th>\n",
       "      <th>amount</th>\n",
       "      <th>global_target</th>\n",
       "      <th>holiday_target</th>\n",
       "      <th>weekend_target</th>\n",
       "      <th>churn_target</th>\n",
       "    </tr>\n",
       "  </thead>\n",
       "  <tbody>\n",
       "    <tr>\n",
       "      <th>0</th>\n",
       "      <td>0</td>\n",
       "      <td>19</td>\n",
       "      <td>2017-10-21 00:00:00</td>\n",
       "      <td>5023.0</td>\n",
       "      <td>0</td>\n",
       "      <td>0</td>\n",
       "      <td>1</td>\n",
       "      <td>0</td>\n",
       "    </tr>\n",
       "    <tr>\n",
       "      <th>1</th>\n",
       "      <td>0</td>\n",
       "      <td>2</td>\n",
       "      <td>2017-10-12 12:24:07</td>\n",
       "      <td>20000.0</td>\n",
       "      <td>0</td>\n",
       "      <td>0</td>\n",
       "      <td>0</td>\n",
       "      <td>0</td>\n",
       "    </tr>\n",
       "    <tr>\n",
       "      <th>2</th>\n",
       "      <td>0</td>\n",
       "      <td>10</td>\n",
       "      <td>2017-12-05 00:00:00</td>\n",
       "      <td>767.0</td>\n",
       "      <td>0</td>\n",
       "      <td>0</td>\n",
       "      <td>0</td>\n",
       "      <td>0</td>\n",
       "    </tr>\n",
       "    <tr>\n",
       "      <th>3</th>\n",
       "      <td>0</td>\n",
       "      <td>1</td>\n",
       "      <td>2017-10-21 00:00:00</td>\n",
       "      <td>2031.0</td>\n",
       "      <td>0</td>\n",
       "      <td>0</td>\n",
       "      <td>1</td>\n",
       "      <td>0</td>\n",
       "    </tr>\n",
       "    <tr>\n",
       "      <th>4</th>\n",
       "      <td>0</td>\n",
       "      <td>9</td>\n",
       "      <td>2017-10-24 13:14:24</td>\n",
       "      <td>36562.0</td>\n",
       "      <td>0</td>\n",
       "      <td>0</td>\n",
       "      <td>0</td>\n",
       "      <td>0</td>\n",
       "    </tr>\n",
       "    <tr>\n",
       "      <th>...</th>\n",
       "      <td>...</td>\n",
       "      <td>...</td>\n",
       "      <td>...</td>\n",
       "      <td>...</td>\n",
       "      <td>...</td>\n",
       "      <td>...</td>\n",
       "      <td>...</td>\n",
       "      <td>...</td>\n",
       "    </tr>\n",
       "    <tr>\n",
       "      <th>490508</th>\n",
       "      <td>10215</td>\n",
       "      <td>37</td>\n",
       "      <td>2016-12-17 00:00:00</td>\n",
       "      <td>2110.9</td>\n",
       "      <td>0</td>\n",
       "      <td>0</td>\n",
       "      <td>1</td>\n",
       "      <td>0</td>\n",
       "    </tr>\n",
       "    <tr>\n",
       "      <th>490509</th>\n",
       "      <td>10215</td>\n",
       "      <td>1</td>\n",
       "      <td>2016-12-16 00:00:00</td>\n",
       "      <td>31.0</td>\n",
       "      <td>0</td>\n",
       "      <td>0</td>\n",
       "      <td>0</td>\n",
       "      <td>0</td>\n",
       "    </tr>\n",
       "    <tr>\n",
       "      <th>490510</th>\n",
       "      <td>10215</td>\n",
       "      <td>1</td>\n",
       "      <td>2016-12-06 00:00:00</td>\n",
       "      <td>182.0</td>\n",
       "      <td>0</td>\n",
       "      <td>0</td>\n",
       "      <td>0</td>\n",
       "      <td>0</td>\n",
       "    </tr>\n",
       "    <tr>\n",
       "      <th>490511</th>\n",
       "      <td>10215</td>\n",
       "      <td>2</td>\n",
       "      <td>2016-12-06 13:39:49</td>\n",
       "      <td>5000.0</td>\n",
       "      <td>0</td>\n",
       "      <td>0</td>\n",
       "      <td>0</td>\n",
       "      <td>0</td>\n",
       "    </tr>\n",
       "    <tr>\n",
       "      <th>490512</th>\n",
       "      <td>10215</td>\n",
       "      <td>2</td>\n",
       "      <td>2016-12-06 13:42:19</td>\n",
       "      <td>30000.0</td>\n",
       "      <td>0</td>\n",
       "      <td>0</td>\n",
       "      <td>0</td>\n",
       "      <td>0</td>\n",
       "    </tr>\n",
       "  </tbody>\n",
       "</table>\n",
       "<p>490513 rows × 8 columns</p>\n",
       "</div>"
      ],
      "text/plain": [
       "        user_id  mcc_code           timestamp   amount  global_target  \\\n",
       "0             0        19 2017-10-21 00:00:00   5023.0              0   \n",
       "1             0         2 2017-10-12 12:24:07  20000.0              0   \n",
       "2             0        10 2017-12-05 00:00:00    767.0              0   \n",
       "3             0         1 2017-10-21 00:00:00   2031.0              0   \n",
       "4             0         9 2017-10-24 13:14:24  36562.0              0   \n",
       "...         ...       ...                 ...      ...            ...   \n",
       "490508    10215        37 2016-12-17 00:00:00   2110.9              0   \n",
       "490509    10215         1 2016-12-16 00:00:00     31.0              0   \n",
       "490510    10215         1 2016-12-06 00:00:00    182.0              0   \n",
       "490511    10215         2 2016-12-06 13:39:49   5000.0              0   \n",
       "490512    10215         2 2016-12-06 13:42:19  30000.0              0   \n",
       "\n",
       "        holiday_target  weekend_target  churn_target  \n",
       "0                    0               1             0  \n",
       "1                    0               0             0  \n",
       "2                    0               0             0  \n",
       "3                    0               1             0  \n",
       "4                    0               0             0  \n",
       "...                ...             ...           ...  \n",
       "490508               0               1             0  \n",
       "490509               0               0             0  \n",
       "490510               0               0             0  \n",
       "490511               0               0             0  \n",
       "490512               0               0             0  \n",
       "\n",
       "[490513 rows x 8 columns]"
      ]
     },
     "execution_count": 5,
     "metadata": {},
     "output_type": "execute_result"
    }
   ],
   "source": [
    "df = pd.read_parquet(Path(cfg[\"preprocessing\"][\"source\"]))\n",
    "df"
   ]
  },
  {
   "cell_type": "markdown",
   "id": "72f7ea26",
   "metadata": {},
   "source": [
    "## Preprocess and split data"
   ]
  },
  {
   "cell_type": "code",
   "execution_count": 6,
   "id": "2c55828a",
   "metadata": {},
   "outputs": [
    {
     "name": "stdout",
     "output_type": "stream",
     "text": [
      "[Memory]0.0s, 0.0min    : Loading _preprocess...\n",
      "__________________________________________preprocess cache loaded - 5.6s, 0.1min\n"
     ]
    }
   ],
   "source": [
    "train, val, test = preprocess(cfg_preprop)"
   ]
  },
  {
   "cell_type": "markdown",
   "id": "6487025b",
   "metadata": {},
   "source": [
    "# Validation"
   ]
  },
  {
   "cell_type": "markdown",
   "id": "3deb33fd",
   "metadata": {},
   "source": [
    "## Use datasets with no splits for the new validation procedure"
   ]
  },
  {
   "cell_type": "code",
   "execution_count": 7,
   "id": "d0ed56c3-4b32-4661-b3c2-78093fc73614",
   "metadata": {},
   "outputs": [],
   "source": [
    "import numpy as np\n",
    "from ptls.frames.coles.split_strategy import AbsSplit\n",
    "class SlidingSampler(AbsSplit):\n",
    "    def __init__(self, slide_len, stride=1, max_seq_len=None, **kwargs):\n",
    "        self.slide_len = slide_len\n",
    "        self.stride = stride\n",
    "        self.max_seq_len = max_seq_len\n",
    "\n",
    "    def split(self, dates):\n",
    "        date_len = dates.shape[0]\n",
    "        date_range = np.arange(date_len)\n",
    "\n",
    "        if date_len <= self.slide_len:\n",
    "            return [date_range]\n",
    "\n",
    "        if self.max_seq_len and (date_len >= self.max_seq_len): # TODO for  experiments \n",
    "            #random_subseq_start = np.random.randint(0, date_len - self.max_seq_len, 1)[0] TODO fix random case \n",
    "            #date_range = date_range[random_subseq_start: random_subseq_start + self.max_seq_len]\n",
    "            date_range = date_range[:self.max_seq_len + 1]            \n",
    "            date_len = self.max_seq_len\n",
    "            \n",
    "        # starting positions for all the windows\n",
    "        start_pos = date_range[0 : date_len - self.slide_len + 1 : self.stride]\n",
    "        return [date_range[s : s + self.slide_len] for s in start_pos]"
   ]
  },
  {
   "cell_type": "code",
   "execution_count": 8,
   "id": "cb5f6e01-b813-4038-8e3a-ee3bc3356d3a",
   "metadata": {},
   "outputs": [],
   "source": [
    "splitter = SlidingSampler(slide_len=32, max_seq_len=500)"
   ]
  },
  {
   "cell_type": "code",
   "execution_count": 9,
   "id": "2b836e1a",
   "metadata": {},
   "outputs": [],
   "source": [
    "data_train = MemoryMapDataset(train, [SeqLenFilter(cfg_validation[\"model\"][\"seq_len\"])])\n",
    "data_val = MemoryMapDataset(val, [SeqLenFilter(cfg_validation[\"model\"][\"seq_len\"])])\n",
    "data_test = MemoryMapDataset(test, [SeqLenFilter(cfg_validation[\"model\"][\"seq_len\"])])\n",
    "\n",
    "train_dataset: ColesDataset = instantiate(cfg_validation[\"dataset\"], data=data_train, splitter=splitter)\n",
    "val_dataset: ColesDataset = instantiate(cfg_validation[\"dataset\"], data=data_val, splitter=splitter)\n",
    "test_dataset: ColesDataset = instantiate(cfg_validation[\"dataset\"], data=data_test, splitter=splitter)\n",
    "\n",
    "\n",
    "datamodule: PtlsDataModule = instantiate(\n",
    "    cfg_validation[\"datamodule\"],\n",
    "    train_data=train_dataset,\n",
    "    valid_data=val_dataset,\n",
    "    test_data=test_dataset,\n",
    ")"
   ]
  },
  {
   "cell_type": "markdown",
   "id": "bf0a7d3a",
   "metadata": {},
   "source": [
    "# New validation model"
   ]
  },
  {
   "cell_type": "code",
   "execution_count": 10,
   "id": "75b142d5-a0cf-443c-b8c2-ad0d25e31ed4",
   "metadata": {},
   "outputs": [],
   "source": [
    "batch, _ = next(iter(datamodule.train_dataloader()))"
   ]
  },
  {
   "cell_type": "code",
   "execution_count": 11,
   "id": "ec1d8913-511a-45c4-ae97-8cf6886783a9",
   "metadata": {},
   "outputs": [],
   "source": [
    "from ptls.nn.seq_step import LastStepEncoder\n",
    "from ptls.nn.seq_encoder.abs_seq_encoder import AbsSeqEncoder\n",
    "import torch.nn as nn"
   ]
  },
  {
   "cell_type": "code",
   "execution_count": 12,
   "id": "458437b2-9018-437f-8d7b-76bdc2246932",
   "metadata": {},
   "outputs": [],
   "source": [
    "from ptls.data_load.padded_batch import PaddedBatch\n",
    "\n",
    "class IdentitySeq(AbsSeqEncoder):\n",
    "    def __init__(self, input_size=None, is_reduce_sequence=True):\n",
    "        super().__init__(is_reduce_sequence=is_reduce_sequence)\n",
    "        self.reducer = LastStepEncoder()\n",
    "        \n",
    "    def forward(self, x: PaddedBatch):\n",
    "        if self.is_reduce_sequence:\n",
    "            return self.reducer(x)        \n",
    "        return x\n",
    "\n",
    "class IdentitySeqEncoder(torch.nn.Module): # is_reduce_sequence\n",
    "    def __init__(self,\n",
    "                 trx_encoder=None,\n",
    "                 is_reduce_sequence=True):\n",
    "        super().__init__()\n",
    "        self.trx_encoder = trx_encoder\n",
    "        self.seq_encoder = IdentitySeq(is_reduce_sequence)\n",
    "\n",
    "    def forward(self, x):\n",
    "        z_trx = self.trx_encoder(x)\n",
    "        out = self.seq_encoder(z_trx)\n",
    "        return out\n",
    "\n",
    "    @property\n",
    "    def is_reduce_sequence(self):\n",
    "        return self.seq_encoder.is_reduce_sequence\n",
    "\n"
   ]
  },
  {
   "cell_type": "code",
   "execution_count": 13,
   "id": "d9844463-afc1-4302-a568-ca3f14f98fad",
   "metadata": {},
   "outputs": [
    {
     "name": "stderr",
     "output_type": "stream",
     "text": [
      "Global seed set to 42\n"
     ]
    }
   ],
   "source": [
    "seed_everything(42)\n",
    "\n",
    "sequence_encoder = instantiate(cfg_validation[\"sequence_encoder\"])\n",
    "#sequence_encoder = sequence_encoder.trx_encoder\n",
    "#sequence_encoder.load_state_dict(torch.load(cfg_validation[\"path_to_state_dict\"]))\n",
    "\n",
    "\n",
    "#my_seq_enc = IdentitySeqEncoder(sequence_encoder.trx_encoder)\n",
    "\"\"\"\n",
    "'val_mode' options:\n",
    "    * 'donwstream' - using local targets (e.g. 'churn_target' or 'default_target')\n",
    "    * 'return_time' - predicting return time (COTIC-style) - NOT READY YET\n",
    "    * 'event_type' - predicting next event type (COTIC-style)\n",
    "\"\"\"\n",
    "\n",
    "valid_model: LocalValidationModel = instantiate(\n",
    "    cfg_validation[\"model\"],\n",
    "    backbone=sequence_encoder \n",
    ")"
   ]
  },
  {
   "cell_type": "code",
   "execution_count": 14,
   "id": "d972d38d-1544-462d-96a3-8cb0a964bc77",
   "metadata": {},
   "outputs": [
    {
     "data": {
      "text/plain": [
       "LocalValidationModel(\n",
       "  (backbone): RnnSeqEncoder(\n",
       "    (trx_encoder): TrxEncoder(\n",
       "      (embeddings): ModuleDict(\n",
       "        (mcc_code): NoisyEmbedding(\n",
       "          344, 24, padding_idx=0\n",
       "          (dropout): Dropout(p=0, inplace=False)\n",
       "        )\n",
       "      )\n",
       "      (numeric_values): ModuleDict(\n",
       "        (amount): IdentityScaler()\n",
       "      )\n",
       "      (numerical_batch_norm): RBatchNormWithLens(\n",
       "        (bn): BatchNorm1d(1, eps=1e-05, momentum=0.1, affine=True, track_running_stats=False)\n",
       "      )\n",
       "    )\n",
       "    (seq_encoder): RnnEncoder(\n",
       "      (rnn): LSTM(25, 1024, batch_first=True)\n",
       "      (reducer): LastStepEncoder()\n",
       "    )\n",
       "  )\n",
       "  (pred_head): Linear(in_features=1024, out_features=344, bias=True)\n",
       "  (loss): CrossEntropyLoss()\n",
       "  (train_metric): MulticlassAccuracy()\n",
       "  (test_metrics): MetricCollection(\n",
       "    (AUROC): MulticlassAUROC()\n",
       "    (Accuracy): MulticlassAccuracy()\n",
       "    (F1Score): MulticlassF1Score()\n",
       "    (PR-AUC): MulticlassAveragePrecision()\n",
       "  )\n",
       "  (val_metric): MulticlassAccuracy()\n",
       ")"
      ]
     },
     "execution_count": 14,
     "metadata": {},
     "output_type": "execute_result"
    }
   ],
   "source": [
    "valid_model"
   ]
  },
  {
   "cell_type": "code",
   "execution_count": 15,
   "id": "c0e9a803",
   "metadata": {},
   "outputs": [
    {
     "name": "stderr",
     "output_type": "stream",
     "text": [
      "GPU available: True, used: True\n",
      "TPU available: False, using: 0 TPU cores\n",
      "IPU available: False, using: 0 IPUs\n",
      "HPU available: False, using: 0 HPUs\n",
      "Running in fast_dev_run mode: will run a full train, val, test and prediction loop using 10 batch(es).\n",
      "`Trainer(val_check_interval=1.0)` was configured so validation will run at the end of the training epoch..\n"
     ]
    }
   ],
   "source": [
    "cfg_validation[\"trainer\"][\"max_epochs\"] = 500\n",
    "\n",
    "# cfg_validation[\"trainer\"][\"accelerator\"] = \"cpu\"\n",
    "# cfg_validation[\"trainer\"][\"devices\"] = 1\n",
    "\n",
    "val_trainer: Trainer = instantiate(cfg_validation[\"trainer\"], logger=False, fast_dev_run=10)"
   ]
  },
  {
   "cell_type": "code",
   "execution_count": 16,
   "id": "4752b95b-ddc3-4c0c-ad86-c0e3be153234",
   "metadata": {},
   "outputs": [
    {
     "name": "stderr",
     "output_type": "stream",
     "text": [
      "LOCAL_RANK: 0 - CUDA_VISIBLE_DEVICES: [0,1,2]\n",
      "\n",
      "  | Name         | Type               | Params\n",
      "----------------------------------------------------\n",
      "0 | backbone     | RnnSeqEncoder      | 4.3 M \n",
      "1 | pred_head    | Linear             | 352 K \n",
      "2 | loss         | CrossEntropyLoss   | 0     \n",
      "3 | train_metric | MulticlassAccuracy | 0     \n",
      "4 | test_metrics | MetricCollection   | 0     \n",
      "5 | val_metric   | MulticlassAccuracy | 0     \n",
      "----------------------------------------------------\n",
      "352 K     Trainable params\n",
      "4.3 M     Non-trainable params\n",
      "4.7 M     Total params\n",
      "18.667    Total estimated model params size (MB)\n"
     ]
    },
    {
     "data": {
      "application/vnd.jupyter.widget-view+json": {
       "model_id": "6d98abf977564d8589ab9b5f26c44308",
       "version_major": 2,
       "version_minor": 0
      },
      "text/plain": [
       "Training: 0it [00:00, ?it/s]"
      ]
     },
     "metadata": {},
     "output_type": "display_data"
    },
    {
     "data": {
      "application/vnd.jupyter.widget-view+json": {
       "model_id": "c3f5fc814ea54676a791ee3805da4530",
       "version_major": 2,
       "version_minor": 0
      },
      "text/plain": [
       "Validation: 0it [00:00, ?it/s]"
      ]
     },
     "metadata": {},
     "output_type": "display_data"
    },
    {
     "name": "stderr",
     "output_type": "stream",
     "text": [
      "LOCAL_RANK: 0 - CUDA_VISIBLE_DEVICES: [0,1,2]\n"
     ]
    },
    {
     "data": {
      "application/vnd.jupyter.widget-view+json": {
       "model_id": "6a89e83c8cf846deb22f5d0e0f5b6f1c",
       "version_major": 2,
       "version_minor": 0
      },
      "text/plain": [
       "Testing: 0it [00:00, ?it/s]"
      ]
     },
     "metadata": {},
     "output_type": "display_data"
    },
    {
     "name": "stdout",
     "output_type": "stream",
     "text": [
      "────────────────────────────────────────────────────────────────────────────────────────────────────────────────────────\n",
      "       Test metric             DataLoader 0\n",
      "────────────────────────────────────────────────────────────────────────────────────────────────────────────────────────\n",
      "          AUROC             0.12531328201293945\n",
      "        Accuracy           0.0051452782936394215\n",
      "         F1Score           0.0051452782936394215\n",
      "         PR-AUC            0.013722222298383713\n",
      "────────────────────────────────────────────────────────────────────────────────────────────────────────────────────────\n"
     ]
    },
    {
     "data": {
      "text/plain": [
       "[{'AUROC': 0.12531328201293945,\n",
       "  'Accuracy': 0.0051452782936394215,\n",
       "  'F1Score': 0.0051452782936394215,\n",
       "  'PR-AUC': 0.013722222298383713}]"
      ]
     },
     "execution_count": 16,
     "metadata": {},
     "output_type": "execute_result"
    }
   ],
   "source": [
    "val_trainer.fit(valid_model, datamodule)\n",
    "val_trainer.test(valid_model, datamodule)"
   ]
  },
  {
   "cell_type": "code",
   "execution_count": null,
   "id": "380246a3-4e5c-490b-a96e-1fd6930aa7b9",
   "metadata": {},
   "outputs": [],
   "source": []
  },
  {
   "cell_type": "code",
   "execution_count": null,
   "id": "b2bf3ccf-7148-4135-819e-ccba7d23892c",
   "metadata": {},
   "outputs": [],
   "source": []
  }
 ],
 "metadata": {
  "kernelspec": {
   "display_name": "Python 3 (ipykernel)",
   "language": "python",
   "name": "python3"
  },
  "language_info": {
   "codemirror_mode": {
    "name": "ipython",
    "version": 3
   },
   "file_extension": ".py",
   "mimetype": "text/x-python",
   "name": "python",
   "nbconvert_exporter": "python",
   "pygments_lexer": "ipython3",
   "version": "3.9.0"
  }
 },
 "nbformat": 4,
 "nbformat_minor": 5
}
