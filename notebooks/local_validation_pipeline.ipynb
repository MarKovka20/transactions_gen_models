{
 "cells": [
  {
   "cell_type": "code",
   "execution_count": 2,
   "id": "523b8323",
   "metadata": {},
   "outputs": [],
   "source": [
    "import warnings\n",
    "warnings.filterwarnings(\"ignore\")\n",
    "\n",
    "import os\n",
    "import sys\n",
    "\n",
    "dir2 = os.path.abspath('')\n",
    "dir1 = os.path.dirname(dir2)\n",
    "if not dir1 in sys.path:\n",
    "    sys.path.append(dir1)\n",
    "\n",
    "os.chdir('..')\n",
    "\n",
    "%load_ext autoreload\n",
    "%autoreload"
   ]
  },
  {
   "cell_type": "code",
   "execution_count": 3,
   "id": "ec405c66",
   "metadata": {},
   "outputs": [],
   "source": [
    "from pathlib import Path\n",
    "\n",
    "import pandas as pd\n",
    "\n",
    "import torch\n",
    "\n",
    "from hydra import initialize, compose\n",
    "from hydra.utils import instantiate\n",
    "\n",
    "from ptls.preprocessing import PandasDataPreprocessor\n",
    "from ptls.frames import PtlsDataModule\n",
    "from ptls.frames.coles.split_strategy import NoSplit\n",
    "from ptls.frames.coles import ColesDataset\n",
    "\n",
    "from ptls.data_load.datasets import MemoryMapDataset\n",
    "from ptls.data_load.iterable_processing import SeqLenFilter\n",
    "\n",
    "from pytorch_lightning import Trainer, seed_everything\n",
    "from pytorch_lightning.loggers import TensorBoardLogger, CometLogger\n",
    "\n",
    "from sklearn.model_selection import train_test_split\n",
    "\n",
    "from src.coles import CustomCoLES\n",
    "from src.local_validation import LocalValidationModel\n",
    "from src.custom_preprocessing import CustomDatetimeNormalization\n"
   ]
  },
  {
   "cell_type": "code",
   "execution_count": 4,
   "id": "10c11f29",
   "metadata": {},
   "outputs": [],
   "source": [
    "DATASET = \"churn\"\n",
    "\n",
    "with initialize(config_path=\"../config\", version_base=None):\n",
    "    cfg = compose(config_name=\"config_\" + DATASET)\n",
    "    \n",
    "cfg_preprop = cfg[\"dataset\"]\n",
    "cfg_model = cfg[\"model\"]"
   ]
  },
  {
   "cell_type": "code",
   "execution_count": 7,
   "id": "4d1fc50a",
   "metadata": {},
   "outputs": [
    {
     "data": {
      "text/html": [
       "<div>\n",
       "<style scoped>\n",
       "    .dataframe tbody tr th:only-of-type {\n",
       "        vertical-align: middle;\n",
       "    }\n",
       "\n",
       "    .dataframe tbody tr th {\n",
       "        vertical-align: top;\n",
       "    }\n",
       "\n",
       "    .dataframe thead th {\n",
       "        text-align: right;\n",
       "    }\n",
       "</style>\n",
       "<table border=\"1\" class=\"dataframe\">\n",
       "  <thead>\n",
       "    <tr style=\"text-align: right;\">\n",
       "      <th></th>\n",
       "      <th>user_id</th>\n",
       "      <th>mcc_code</th>\n",
       "      <th>timestamp</th>\n",
       "      <th>amount</th>\n",
       "      <th>global_target</th>\n",
       "      <th>holiday_target</th>\n",
       "      <th>weekend_target</th>\n",
       "      <th>churn_target</th>\n",
       "    </tr>\n",
       "  </thead>\n",
       "  <tbody>\n",
       "    <tr>\n",
       "      <th>0</th>\n",
       "      <td>0</td>\n",
       "      <td>19</td>\n",
       "      <td>2017-10-21 00:00:00</td>\n",
       "      <td>5023.0</td>\n",
       "      <td>0</td>\n",
       "      <td>0</td>\n",
       "      <td>1</td>\n",
       "      <td>0</td>\n",
       "    </tr>\n",
       "    <tr>\n",
       "      <th>1</th>\n",
       "      <td>0</td>\n",
       "      <td>2</td>\n",
       "      <td>2017-10-12 12:24:07</td>\n",
       "      <td>20000.0</td>\n",
       "      <td>0</td>\n",
       "      <td>0</td>\n",
       "      <td>0</td>\n",
       "      <td>0</td>\n",
       "    </tr>\n",
       "    <tr>\n",
       "      <th>2</th>\n",
       "      <td>0</td>\n",
       "      <td>10</td>\n",
       "      <td>2017-12-05 00:00:00</td>\n",
       "      <td>767.0</td>\n",
       "      <td>0</td>\n",
       "      <td>0</td>\n",
       "      <td>0</td>\n",
       "      <td>0</td>\n",
       "    </tr>\n",
       "    <tr>\n",
       "      <th>3</th>\n",
       "      <td>0</td>\n",
       "      <td>1</td>\n",
       "      <td>2017-10-21 00:00:00</td>\n",
       "      <td>2031.0</td>\n",
       "      <td>0</td>\n",
       "      <td>0</td>\n",
       "      <td>1</td>\n",
       "      <td>0</td>\n",
       "    </tr>\n",
       "    <tr>\n",
       "      <th>4</th>\n",
       "      <td>0</td>\n",
       "      <td>9</td>\n",
       "      <td>2017-10-24 13:14:24</td>\n",
       "      <td>36562.0</td>\n",
       "      <td>0</td>\n",
       "      <td>0</td>\n",
       "      <td>0</td>\n",
       "      <td>0</td>\n",
       "    </tr>\n",
       "    <tr>\n",
       "      <th>...</th>\n",
       "      <td>...</td>\n",
       "      <td>...</td>\n",
       "      <td>...</td>\n",
       "      <td>...</td>\n",
       "      <td>...</td>\n",
       "      <td>...</td>\n",
       "      <td>...</td>\n",
       "      <td>...</td>\n",
       "    </tr>\n",
       "    <tr>\n",
       "      <th>490508</th>\n",
       "      <td>10215</td>\n",
       "      <td>37</td>\n",
       "      <td>2016-12-17 00:00:00</td>\n",
       "      <td>2110.9</td>\n",
       "      <td>0</td>\n",
       "      <td>0</td>\n",
       "      <td>1</td>\n",
       "      <td>0</td>\n",
       "    </tr>\n",
       "    <tr>\n",
       "      <th>490509</th>\n",
       "      <td>10215</td>\n",
       "      <td>1</td>\n",
       "      <td>2016-12-16 00:00:00</td>\n",
       "      <td>31.0</td>\n",
       "      <td>0</td>\n",
       "      <td>0</td>\n",
       "      <td>0</td>\n",
       "      <td>0</td>\n",
       "    </tr>\n",
       "    <tr>\n",
       "      <th>490510</th>\n",
       "      <td>10215</td>\n",
       "      <td>1</td>\n",
       "      <td>2016-12-06 00:00:00</td>\n",
       "      <td>182.0</td>\n",
       "      <td>0</td>\n",
       "      <td>0</td>\n",
       "      <td>0</td>\n",
       "      <td>0</td>\n",
       "    </tr>\n",
       "    <tr>\n",
       "      <th>490511</th>\n",
       "      <td>10215</td>\n",
       "      <td>2</td>\n",
       "      <td>2016-12-06 13:39:49</td>\n",
       "      <td>5000.0</td>\n",
       "      <td>0</td>\n",
       "      <td>0</td>\n",
       "      <td>0</td>\n",
       "      <td>0</td>\n",
       "    </tr>\n",
       "    <tr>\n",
       "      <th>490512</th>\n",
       "      <td>10215</td>\n",
       "      <td>2</td>\n",
       "      <td>2016-12-06 13:42:19</td>\n",
       "      <td>30000.0</td>\n",
       "      <td>0</td>\n",
       "      <td>0</td>\n",
       "      <td>0</td>\n",
       "      <td>0</td>\n",
       "    </tr>\n",
       "  </tbody>\n",
       "</table>\n",
       "<p>490513 rows × 8 columns</p>\n",
       "</div>"
      ],
      "text/plain": [
       "        user_id  mcc_code           timestamp   amount  global_target  \\\n",
       "0             0        19 2017-10-21 00:00:00   5023.0              0   \n",
       "1             0         2 2017-10-12 12:24:07  20000.0              0   \n",
       "2             0        10 2017-12-05 00:00:00    767.0              0   \n",
       "3             0         1 2017-10-21 00:00:00   2031.0              0   \n",
       "4             0         9 2017-10-24 13:14:24  36562.0              0   \n",
       "...         ...       ...                 ...      ...            ...   \n",
       "490508    10215        37 2016-12-17 00:00:00   2110.9              0   \n",
       "490509    10215         1 2016-12-16 00:00:00     31.0              0   \n",
       "490510    10215         1 2016-12-06 00:00:00    182.0              0   \n",
       "490511    10215         2 2016-12-06 13:39:49   5000.0              0   \n",
       "490512    10215         2 2016-12-06 13:42:19  30000.0              0   \n",
       "\n",
       "        holiday_target  weekend_target  churn_target  \n",
       "0                    0               1             0  \n",
       "1                    0               0             0  \n",
       "2                    0               0             0  \n",
       "3                    0               1             0  \n",
       "4                    0               0             0  \n",
       "...                ...             ...           ...  \n",
       "490508               0               1             0  \n",
       "490509               0               0             0  \n",
       "490510               0               0             0  \n",
       "490511               0               0             0  \n",
       "490512               0               0             0  \n",
       "\n",
       "[490513 rows x 8 columns]"
      ]
     },
     "execution_count": 7,
     "metadata": {},
     "output_type": "execute_result"
    }
   ],
   "source": [
    "df = pd.read_parquet(Path(cfg[\"dataset\"][\"dir_path\"]).joinpath(cfg[\"dataset\"][\"train_file_name\"]))\n",
    "df"
   ]
  },
  {
   "cell_type": "code",
   "execution_count": 8,
   "id": "2c55828a",
   "metadata": {},
   "outputs": [],
   "source": [
    "min_timestamp = int(df[\"timestamp\"].min().timestamp())\n",
    "\n",
    "datetime_transformer = CustomDatetimeNormalization(\n",
    "    min_timestamp=min_timestamp, col_name_original=\"timestamp\"\n",
    ")\n",
    "\n",
    "preprocessor = PandasDataPreprocessor(\n",
    "    col_id=\"user_id\",\n",
    "    col_event_time=datetime_transformer,\n",
    "    cols_category=[\"mcc_code\"],\n",
    "    category_transformation=\"frequency\",\n",
    "    cols_numerical=[\"amount\"],\n",
    "    cols_first_item=[\"global_target\"],\n",
    "    return_records=True,\n",
    ")\n",
    "\n",
    "dataset = preprocessor.fit_transform(df)\n",
    "\n",
    "train, val = train_test_split(dataset, test_size=.2)"
   ]
  },
  {
   "cell_type": "code",
   "execution_count": 18,
   "id": "3d4882a4",
   "metadata": {},
   "outputs": [],
   "source": [
    "model: CustomCoLES = instantiate(cfg_model[\"model\"])\n",
    "model.seq_encoder.is_reduce_sequence = True\n",
    "    \n",
    "#model.seq_encoder.load_state_dict(torch.load(\"saved_models/churn/coles/coles_best_state_dict_100_v2.pth\"))\n",
    "#model.load_state_dict(torch.load(\"coles_best_state_dict.pth\"))"
   ]
  },
  {
   "cell_type": "markdown",
   "id": "6487025b",
   "metadata": {},
   "source": [
    "# Validation"
   ]
  },
  {
   "cell_type": "markdown",
   "id": "3deb33fd",
   "metadata": {},
   "source": [
    "## Use datasets with no splits for the new validation procedure"
   ]
  },
  {
   "cell_type": "code",
   "execution_count": 19,
   "id": "2b836e1a",
   "metadata": {},
   "outputs": [],
   "source": [
    "min_len = 32\n",
    "col_time = \"event_time\"\n",
    "\n",
    "data_train = MemoryMapDataset(train, [SeqLenFilter(min_len)])\n",
    "data_val = MemoryMapDataset(val, [SeqLenFilter(min_len)])\n",
    "\n",
    "train_data_no_split = ColesDataset(\n",
    "    data_train,\n",
    "    NoSplit(),\n",
    "    col_time\n",
    ")\n",
    "\n",
    "val_data_no_split = ColesDataset(\n",
    "    data_val,\n",
    "    NoSplit(),\n",
    "    col_time\n",
    ")\n",
    "\n",
    "datamodule_no_split = PtlsDataModule(\n",
    "    train_data=train_data_no_split,\n",
    "    valid_data=val_data_no_split,\n",
    "    test_data=val_data_no_split,\n",
    "    train_batch_size=4,\n",
    "    valid_batch_size=4, \n",
    "    test_batch_size=4\n",
    ")"
   ]
  },
  {
   "cell_type": "markdown",
   "id": "bf0a7d3a",
   "metadata": {},
   "source": [
    "# New validation model"
   ]
  },
  {
   "cell_type": "code",
   "execution_count": 20,
   "id": "6342d25e",
   "metadata": {},
   "outputs": [
    {
     "name": "stderr",
     "output_type": "stream",
     "text": [
      "Global seed set to 42\n"
     ]
    }
   ],
   "source": [
    "seed_everything(42)\n",
    "\n",
    "EMBD_SIZE = 1024\n",
    "HIDDEN_SIZE = 32\n",
    "\n",
    "\"\"\"\n",
    "'val_mode' options:\n",
    "    * 'donwstream' - using local targets (e.g. 'churn_target' or 'default_target')\n",
    "    * 'return_time' - predicting return time (COTIC-style) - NOT READY YET\n",
    "    * 'event_type' - predicting next event type (COTIC-style)\n",
    "\"\"\"\n",
    "\n",
    "valid_model = LocalValidationModel(\n",
    "    backbone=model,\n",
    "    backbone_embd_size=EMBD_SIZE,\n",
    "    hidden_size=HIDDEN_SIZE,\n",
    "    val_mode=\"downstream\", \n",
    "    num_types=345, # = num_types in config + 1 (add 0 as padding type)\n",
    "    learning_rate=1e-3,\n",
    "    backbone_output_type=\"tensor\",\n",
    "    backbone_embd_mode=\"seq2vec\",  \n",
    "    seq_len=32,\n",
    "    mask_col=\"mcc_code\",\n",
    "    local_label_col=\"churn_target\"\n",
    ")"
   ]
  },
  {
   "cell_type": "code",
   "execution_count": 21,
   "id": "3b634e6a",
   "metadata": {},
   "outputs": [
    {
     "name": "stdout",
     "output_type": "stream",
     "text": [
      "inputs event time: torch.Size([4, 100])\n",
      "preds: torch.Size([4, 69, 1])\n",
      "mask: torch.Size([4, 69])\n",
      "target: torch.Size([4, 69])\n"
     ]
    }
   ],
   "source": [
    "batch, labels = next(iter(datamodule_no_split.train_dataloader()))\n",
    "\n",
    "print(\"inputs event time:\", batch.payload[\"event_time\"].shape)\n",
    "\n",
    "preds, mask = valid_model(batch)\n",
    "target = valid_model._get_validation_labels(batch)\n",
    "\n",
    "print(\"preds:\", preds.shape)\n",
    "print(\"mask:\", mask.shape)\n",
    "print(\"target:\", target.shape)"
   ]
  },
  {
   "cell_type": "code",
   "execution_count": 22,
   "id": "c0e9a803",
   "metadata": {
    "scrolled": false
   },
   "outputs": [
    {
     "name": "stderr",
     "output_type": "stream",
     "text": [
      "GPU available: True, used: True\n",
      "TPU available: False, using: 0 TPU cores\n",
      "IPU available: False, using: 0 IPUs\n",
      "HPU available: False, using: 0 HPUs\n",
      "Missing logger folder: /app/macro_micro_coles-lgbm_validation/lightning_logs\n",
      "LOCAL_RANK: 0 - CUDA_VISIBLE_DEVICES: [0]\n",
      "\n",
      "  | Name      | Type        | Params\n",
      "------------------------------------------\n",
      "0 | backbone  | CustomCoLES | 4.3 M \n",
      "1 | pred_head | Sequential  | 32.8 K\n",
      "2 | loss      | BCELoss     | 0     \n",
      "------------------------------------------\n",
      "32.8 K    Trainable params\n",
      "4.3 M     Non-trainable params\n",
      "4.3 M     Total params\n",
      "17.388    Total estimated model params size (MB)\n"
     ]
    },
    {
     "data": {
      "application/vnd.jupyter.widget-view+json": {
       "model_id": "ffd6ba6fa4fe4692b62669312c2d20c6",
       "version_major": 2,
       "version_minor": 0
      },
      "text/plain": [
       "Sanity Checking: 0it [00:00, ?it/s]"
      ]
     },
     "metadata": {},
     "output_type": "display_data"
    },
    {
     "data": {
      "application/vnd.jupyter.widget-view+json": {
       "model_id": "77861db068e74157a98aa3abf019dbc0",
       "version_major": 2,
       "version_minor": 0
      },
      "text/plain": [
       "Training: 0it [00:00, ?it/s]"
      ]
     },
     "metadata": {},
     "output_type": "display_data"
    },
    {
     "name": "stderr",
     "output_type": "stream",
     "text": [
      "LOCAL_RANK: 0 - CUDA_VISIBLE_DEVICES: [0]\n"
     ]
    },
    {
     "data": {
      "application/vnd.jupyter.widget-view+json": {
       "model_id": "897e91373e5e49869edc2a822504eff6",
       "version_major": 2,
       "version_minor": 0
      },
      "text/plain": [
       "Testing: 0it [00:00, ?it/s]"
      ]
     },
     "metadata": {},
     "output_type": "display_data"
    }
   ],
   "source": [
    "#comet_logger = CometLogger(\n",
    "#    api_key=\"agnHNC2vEt7tOxnnxT4LzYf7Y\",\n",
    "#    project_name=\"macro-micro-coles\",\n",
    "#    workspace=\"stalex2902\",\n",
    "#    experiment_name=\"New validation CoLES Churn event_type, 100 types\",\n",
    "#    display_summary_level=0\n",
    "#)\n",
    "\n",
    "val_trainer = Trainer(\n",
    "    accelerator=\"gpu\",\n",
    "    devices=[0],\n",
    "    max_epochs=10,\n",
    "    #logger=comet_logger\n",
    ")\n",
    "    \n",
    "val_trainer.fit(valid_model, datamodule_no_split)\n",
    "val_trainer.test(valid_model, datamodule_no_split)"
   ]
  }
 ],
 "metadata": {
  "kernelspec": {
   "display_name": "Python 3 (ipykernel)",
   "language": "python",
   "name": "python3"
  },
  "language_info": {
   "codemirror_mode": {
    "name": "ipython",
    "version": 3
   },
   "file_extension": ".py",
   "mimetype": "text/x-python",
   "name": "python",
   "nbconvert_exporter": "python",
   "pygments_lexer": "ipython3",
   "version": "3.9.16"
  }
 },
 "nbformat": 4,
 "nbformat_minor": 5
}
