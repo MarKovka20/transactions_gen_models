{
 "cells": [
  {
   "cell_type": "code",
   "execution_count": 1,
   "id": "b869464e",
   "metadata": {},
   "outputs": [],
   "source": [
    "import warnings\n",
    "warnings.filterwarnings(\"ignore\")\n",
    "\n",
    "import os\n",
    "import sys\n",
    "\n",
    "dir2 = os.path.abspath('')\n",
    "dir1 = os.path.dirname(dir2)\n",
    "if not dir1 in sys.path:\n",
    "    sys.path.append(dir1)\n",
    "\n",
    "os.chdir('..')\n",
    "\n",
    "%load_ext autoreload\n",
    "%autoreload"
   ]
  },
  {
   "cell_type": "code",
   "execution_count": 2,
   "id": "93b5be38",
   "metadata": {},
   "outputs": [
    {
     "name": "stderr",
     "output_type": "stream",
     "text": [
      "2023-08-24 09:12:57.280370: I tensorflow/core/platform/cpu_feature_guard.cc:193] This TensorFlow binary is optimized with oneAPI Deep Neural Network Library (oneDNN) to use the following CPU instructions in performance-critical operations:  SSE4.1 SSE4.2 AVX AVX2 FMA\n",
      "To enable them in other operations, rebuild TensorFlow with the appropriate compiler flags.\n"
     ]
    }
   ],
   "source": [
    "import torch\n",
    "import torch.nn as nn\n",
    "\n",
    "import pytorch_lightning as pl\n",
    "\n",
    "from pathlib import Path\n",
    "\n",
    "import pandas as pd\n",
    "import numpy as np\n",
    "\n",
    "from hydra import initialize, compose\n",
    "from hydra.utils import instantiate\n",
    "\n",
    "from ptls.preprocessing import PandasDataPreprocessor\n",
    "from ptls.frames import PtlsDataModule\n",
    "\n",
    "from pytorch_lightning import Trainer\n",
    "from pytorch_lightning.callbacks import ModelCheckpoint, EarlyStopping\n",
    "from pytorch_lightning.loggers import TensorBoardLogger\n",
    "\n",
    "from sklearn.model_selection import train_test_split\n",
    "\n",
    "from src.coles import CustomColesDataset, CustomColesValidationDataset, CustomCoLES"
   ]
  },
  {
   "cell_type": "markdown",
   "id": "84496c83",
   "metadata": {},
   "source": [
    "# Init original datasets and datamodule"
   ]
  },
  {
   "cell_type": "code",
   "execution_count": 4,
   "id": "7c2e7208",
   "metadata": {},
   "outputs": [],
   "source": [
    "with initialize(config_path=\"../config\", version_base=None):\n",
    "    cfg = compose(config_name=\"config_age\")"
   ]
  },
  {
   "cell_type": "code",
   "execution_count": 5,
   "id": "1413bff9",
   "metadata": {},
   "outputs": [
    {
     "data": {
      "text/html": [
       "<div>\n",
       "<style scoped>\n",
       "    .dataframe tbody tr th:only-of-type {\n",
       "        vertical-align: middle;\n",
       "    }\n",
       "\n",
       "    .dataframe tbody tr th {\n",
       "        vertical-align: top;\n",
       "    }\n",
       "\n",
       "    .dataframe thead th {\n",
       "        text-align: right;\n",
       "    }\n",
       "</style>\n",
       "<table border=\"1\" class=\"dataframe\">\n",
       "  <thead>\n",
       "    <tr style=\"text-align: right;\">\n",
       "      <th></th>\n",
       "      <th>client_id</th>\n",
       "      <th>trans_date</th>\n",
       "      <th>small_group</th>\n",
       "      <th>amount_rur</th>\n",
       "      <th>local_label</th>\n",
       "    </tr>\n",
       "  </thead>\n",
       "  <tbody>\n",
       "    <tr>\n",
       "      <th>0</th>\n",
       "      <td>33172</td>\n",
       "      <td>6</td>\n",
       "      <td>4</td>\n",
       "      <td>71.463</td>\n",
       "      <td>1</td>\n",
       "    </tr>\n",
       "    <tr>\n",
       "      <th>1</th>\n",
       "      <td>33172</td>\n",
       "      <td>6</td>\n",
       "      <td>35</td>\n",
       "      <td>45.017</td>\n",
       "      <td>1</td>\n",
       "    </tr>\n",
       "    <tr>\n",
       "      <th>2</th>\n",
       "      <td>33172</td>\n",
       "      <td>8</td>\n",
       "      <td>11</td>\n",
       "      <td>13.887</td>\n",
       "      <td>1</td>\n",
       "    </tr>\n",
       "    <tr>\n",
       "      <th>3</th>\n",
       "      <td>33172</td>\n",
       "      <td>9</td>\n",
       "      <td>11</td>\n",
       "      <td>15.983</td>\n",
       "      <td>1</td>\n",
       "    </tr>\n",
       "    <tr>\n",
       "      <th>4</th>\n",
       "      <td>33172</td>\n",
       "      <td>10</td>\n",
       "      <td>11</td>\n",
       "      <td>21.341</td>\n",
       "      <td>1</td>\n",
       "    </tr>\n",
       "  </tbody>\n",
       "</table>\n",
       "</div>"
      ],
      "text/plain": [
       "   client_id  trans_date  small_group  amount_rur  local_label\n",
       "0      33172           6            4      71.463            1\n",
       "1      33172           6           35      45.017            1\n",
       "2      33172           8           11      13.887            1\n",
       "3      33172           9           11      15.983            1\n",
       "4      33172          10           11      21.341            1"
      ]
     },
     "execution_count": 5,
     "metadata": {},
     "output_type": "execute_result"
    }
   ],
   "source": [
    "df = pd.read_csv(Path(cfg[\"dataset\"][\"dir_path\"]).joinpath(cfg[\"dataset\"][\"train_file_name\"]))\n",
    "\n",
    "# add fake local label for Age\n",
    "df[\"local_label\"] = np.ones(len(df)).astype(int)\n",
    "df.head()"
   ]
  },
  {
   "cell_type": "code",
   "execution_count": 7,
   "id": "0db7c115",
   "metadata": {},
   "outputs": [],
   "source": [
    "cfg_preprop = cfg[\"dataset\"]\n",
    "cfg_model = cfg[\"model\"]"
   ]
  },
  {
   "cell_type": "code",
   "execution_count": 8,
   "id": "b4fce3fc",
   "metadata": {},
   "outputs": [],
   "source": [
    "user_column : str = cfg_preprop[\"user_column\"]\n",
    "dttm_column : str = cfg_preprop[\"dttm_column\"]\n",
    "mcc_column  : str = cfg_preprop[\"mcc_column\"]\n",
    "amt_column  : str = cfg_preprop[\"amt_column\"]"
   ]
  },
  {
   "cell_type": "code",
   "execution_count": 9,
   "id": "e78967b1",
   "metadata": {},
   "outputs": [],
   "source": [
    "df.rename(columns={\n",
    "    user_column: \"user_id\",\n",
    "    mcc_column: \"mcc_code\",\n",
    "    amt_column: \"amount\",\n",
    "    dttm_column: \"timestamp\"\n",
    "}, inplace=True)"
   ]
  },
  {
   "cell_type": "code",
   "execution_count": 11,
   "id": "882005b1",
   "metadata": {},
   "outputs": [],
   "source": [
    "preprocessor = PandasDataPreprocessor(\n",
    "    col_id=\"user_id\",\n",
    "    col_event_time=\"timestamp\",\n",
    "    event_time_transformation=\"none\",\n",
    "    cols_category=[\"mcc_code\"],\n",
    "    # keep column with local targets\n",
    "    cols_numerical=[\"amount\", \"local_label\"],\n",
    "    return_records=True\n",
    ")\n",
    "\n",
    "dataset = preprocessor.fit_transform(df)\n",
    "\n",
    "train, val = train_test_split(dataset, test_size=.2)"
   ]
  },
  {
   "cell_type": "code",
   "execution_count": 13,
   "id": "205462b9",
   "metadata": {},
   "outputs": [],
   "source": [
    "# initialize original CoLES datasest - for CoLES training\n",
    "train_data: CustomColesDataset = instantiate(cfg_model[\"dataset\"], data=train)\n",
    "val_data: CustomColesDataset = instantiate(cfg_model[\"dataset\"], data=val)\n",
    "    \n",
    "train_datamodule: PtlsDataModule = instantiate(\n",
    "    cfg_model[\"datamodule\"],\n",
    "    train_data=train_data,\n",
    "    valid_data=val_data\n",
    ")"
   ]
  },
  {
   "cell_type": "markdown",
   "id": "4b907ac4",
   "metadata": {},
   "source": [
    "# Initialize and train CoLES model"
   ]
  },
  {
   "cell_type": "code",
   "execution_count": 66,
   "id": "e0abea8f",
   "metadata": {},
   "outputs": [],
   "source": [
    "model: CustomCoLES = instantiate(cfg_model[\"model\"])"
   ]
  },
  {
   "cell_type": "code",
   "execution_count": 17,
   "id": "ea8ba031",
   "metadata": {
    "scrolled": true
   },
   "outputs": [
    {
     "name": "stderr",
     "output_type": "stream",
     "text": [
      "GPU available: True, used: True\n",
      "TPU available: False, using: 0 TPU cores\n",
      "IPU available: False, using: 0 IPUs\n",
      "HPU available: False, using: 0 HPUs\n",
      "LOCAL_RANK: 0 - CUDA_VISIBLE_DEVICES: [0,1]\n",
      "\n",
      "  | Name               | Type            | Params\n",
      "-------------------------------------------------------\n",
      "0 | _loss              | ContrastiveLoss | 0     \n",
      "1 | _seq_encoder       | RnnSeqEncoder   | 18.5 K\n",
      "2 | _validation_metric | BatchRecallTopK | 0     \n",
      "3 | _head              | Head            | 0     \n",
      "-------------------------------------------------------\n",
      "18.5 K    Trainable params\n",
      "0         Non-trainable params\n",
      "18.5 K    Total params\n",
      "0.074     Total estimated model params size (MB)\n"
     ]
    },
    {
     "data": {
      "application/vnd.jupyter.widget-view+json": {
       "model_id": "",
       "version_major": 2,
       "version_minor": 0
      },
      "text/plain": [
       "Sanity Checking: 0it [00:00, ?it/s]"
      ]
     },
     "metadata": {},
     "output_type": "display_data"
    },
    {
     "data": {
      "application/vnd.jupyter.widget-view+json": {
       "model_id": "b54db6e9c9344384b8ade852f1f29ff3",
       "version_major": 2,
       "version_minor": 0
      },
      "text/plain": [
       "Training: 0it [00:00, ?it/s]"
      ]
     },
     "metadata": {},
     "output_type": "display_data"
    },
    {
     "data": {
      "application/vnd.jupyter.widget-view+json": {
       "model_id": "",
       "version_major": 2,
       "version_minor": 0
      },
      "text/plain": [
       "Validation: 0it [00:00, ?it/s]"
      ]
     },
     "metadata": {},
     "output_type": "display_data"
    },
    {
     "name": "stderr",
     "output_type": "stream",
     "text": [
      "Metric recall_top_k improved. New best score: 0.033\n"
     ]
    },
    {
     "data": {
      "application/vnd.jupyter.widget-view+json": {
       "model_id": "",
       "version_major": 2,
       "version_minor": 0
      },
      "text/plain": [
       "Validation: 0it [00:00, ?it/s]"
      ]
     },
     "metadata": {},
     "output_type": "display_data"
    },
    {
     "name": "stderr",
     "output_type": "stream",
     "text": [
      "Metric recall_top_k improved by 0.034 >= min_delta = 0.01. New best score: 0.067\n"
     ]
    },
    {
     "data": {
      "application/vnd.jupyter.widget-view+json": {
       "model_id": "",
       "version_major": 2,
       "version_minor": 0
      },
      "text/plain": [
       "Validation: 0it [00:00, ?it/s]"
      ]
     },
     "metadata": {},
     "output_type": "display_data"
    },
    {
     "name": "stderr",
     "output_type": "stream",
     "text": [
      "Metric recall_top_k improved by 0.026 >= min_delta = 0.01. New best score: 0.094\n"
     ]
    },
    {
     "data": {
      "application/vnd.jupyter.widget-view+json": {
       "model_id": "",
       "version_major": 2,
       "version_minor": 0
      },
      "text/plain": [
       "Validation: 0it [00:00, ?it/s]"
      ]
     },
     "metadata": {},
     "output_type": "display_data"
    },
    {
     "name": "stderr",
     "output_type": "stream",
     "text": [
      "Metric recall_top_k improved by 0.017 >= min_delta = 0.01. New best score: 0.110\n"
     ]
    },
    {
     "data": {
      "application/vnd.jupyter.widget-view+json": {
       "model_id": "",
       "version_major": 2,
       "version_minor": 0
      },
      "text/plain": [
       "Validation: 0it [00:00, ?it/s]"
      ]
     },
     "metadata": {},
     "output_type": "display_data"
    },
    {
     "data": {
      "application/vnd.jupyter.widget-view+json": {
       "model_id": "",
       "version_major": 2,
       "version_minor": 0
      },
      "text/plain": [
       "Validation: 0it [00:00, ?it/s]"
      ]
     },
     "metadata": {},
     "output_type": "display_data"
    },
    {
     "name": "stderr",
     "output_type": "stream",
     "text": [
      "Metric recall_top_k improved by 0.012 >= min_delta = 0.01. New best score: 0.122\n"
     ]
    },
    {
     "data": {
      "application/vnd.jupyter.widget-view+json": {
       "model_id": "",
       "version_major": 2,
       "version_minor": 0
      },
      "text/plain": [
       "Validation: 0it [00:00, ?it/s]"
      ]
     },
     "metadata": {},
     "output_type": "display_data"
    },
    {
     "data": {
      "application/vnd.jupyter.widget-view+json": {
       "model_id": "",
       "version_major": 2,
       "version_minor": 0
      },
      "text/plain": [
       "Validation: 0it [00:00, ?it/s]"
      ]
     },
     "metadata": {},
     "output_type": "display_data"
    },
    {
     "data": {
      "application/vnd.jupyter.widget-view+json": {
       "model_id": "",
       "version_major": 2,
       "version_minor": 0
      },
      "text/plain": [
       "Validation: 0it [00:00, ?it/s]"
      ]
     },
     "metadata": {},
     "output_type": "display_data"
    },
    {
     "name": "stderr",
     "output_type": "stream",
     "text": [
      "Metric recall_top_k improved by 0.010 >= min_delta = 0.01. New best score: 0.133\n"
     ]
    },
    {
     "data": {
      "application/vnd.jupyter.widget-view+json": {
       "model_id": "",
       "version_major": 2,
       "version_minor": 0
      },
      "text/plain": [
       "Validation: 0it [00:00, ?it/s]"
      ]
     },
     "metadata": {},
     "output_type": "display_data"
    },
    {
     "data": {
      "application/vnd.jupyter.widget-view+json": {
       "model_id": "",
       "version_major": 2,
       "version_minor": 0
      },
      "text/plain": [
       "Validation: 0it [00:00, ?it/s]"
      ]
     },
     "metadata": {},
     "output_type": "display_data"
    },
    {
     "data": {
      "application/vnd.jupyter.widget-view+json": {
       "model_id": "",
       "version_major": 2,
       "version_minor": 0
      },
      "text/plain": [
       "Validation: 0it [00:00, ?it/s]"
      ]
     },
     "metadata": {},
     "output_type": "display_data"
    },
    {
     "data": {
      "application/vnd.jupyter.widget-view+json": {
       "model_id": "",
       "version_major": 2,
       "version_minor": 0
      },
      "text/plain": [
       "Validation: 0it [00:00, ?it/s]"
      ]
     },
     "metadata": {},
     "output_type": "display_data"
    },
    {
     "data": {
      "application/vnd.jupyter.widget-view+json": {
       "model_id": "",
       "version_major": 2,
       "version_minor": 0
      },
      "text/plain": [
       "Validation: 0it [00:00, ?it/s]"
      ]
     },
     "metadata": {},
     "output_type": "display_data"
    },
    {
     "name": "stderr",
     "output_type": "stream",
     "text": [
      "Monitored metric recall_top_k did not improve in the last 5 records. Best score: 0.133. Signaling Trainer to stop.\n"
     ]
    }
   ],
   "source": [
    "model_checkpoint: ModelCheckpoint = instantiate(\n",
    "    cfg_model[\"trainer_coles\"][\"checkpoint_callback\"],\n",
    "    monitor=model.metric_name,\n",
    "    mode=\"max\"\n",
    ")\n",
    "    \n",
    "early_stopping: EarlyStopping = instantiate(\n",
    "    cfg_model[\"trainer_coles\"][\"early_stopping\"],\n",
    "    monitor=model.metric_name,\n",
    "    mode=\"max\"\n",
    ")\n",
    "    \n",
    "logger: TensorBoardLogger = instantiate(cfg_model[\"trainer_coles\"][\"logger\"])\n",
    "    \n",
    "trainer: Trainer = instantiate(\n",
    "    cfg_model[\"trainer_coles\"][\"trainer\"],\n",
    "    callbacks=[model_checkpoint, early_stopping],\n",
    "    logger=logger\n",
    ")\n",
    "    \n",
    "trainer.fit(model, train_datamodule)"
   ]
  },
  {
   "cell_type": "markdown",
   "id": "aff6a908",
   "metadata": {},
   "source": [
    "# Local validation pipeline"
   ]
  },
  {
   "cell_type": "code",
   "execution_count": 49,
   "id": "b94f1c0a",
   "metadata": {},
   "outputs": [],
   "source": [
    "# initialize custom datasets and datamodule for local validation\n",
    "train_data_local: CustomColesValidationDataset = instantiate(cfg_model[\"validation_dataset\"], data=train)\n",
    "val_data_local: CustomColesValidationDataset = instantiate(cfg_model[\"validation_dataset\"], data=val)\n",
    "\n",
    "# keep batch_size = 1 (all slices of one user in one batch)\n",
    "# or may use batch_size > 1 for valudation model training\n",
    "val_datamodule: PtlsDataModule = instantiate(\n",
    "    cfg_model[\"datamodule\"],\n",
    "    train_data=train_data_local,\n",
    "    valid_data=val_data_local,\n",
    "    train_batch_size=64,\n",
    "    valid_batch_size=1\n",
    ")"
   ]
  },
  {
   "cell_type": "code",
   "execution_count": 42,
   "id": "99afa696",
   "metadata": {},
   "outputs": [],
   "source": [
    "valid_batch, local_labels = next(iter(val_datamodule.val_dataloader()))"
   ]
  },
  {
   "cell_type": "code",
   "execution_count": 46,
   "id": "0124028d",
   "metadata": {},
   "outputs": [
    {
     "data": {
      "text/plain": [
       "torch.Size([1688, 40])"
      ]
     },
     "execution_count": 46,
     "metadata": {},
     "output_type": "execute_result"
    }
   ],
   "source": [
    "valid_batch.payload[\"timestamp\"]"
   ]
  },
  {
   "cell_type": "code",
   "execution_count": 26,
   "id": "706ee790",
   "metadata": {},
   "outputs": [
    {
     "data": {
      "text/plain": [
       "(torch.Size([1005, 40]),\n",
       " {'timestamp': tensor([[  0,   3,   3,  ...,  25,  25,  25],\n",
       "          [  3,   3,   5,  ...,  25,  25,  26],\n",
       "          [  3,   5,   6,  ...,  25,  26,  29],\n",
       "          ...,\n",
       "          [696, 698, 704,  ..., 727, 727, 728],\n",
       "          [698, 704, 704,  ..., 727, 728, 728],\n",
       "          [704, 704, 705,  ..., 728, 728, 729]]),\n",
       "  'event_time': tensor([[  0,   3,   3,  ...,  25,  25,  25],\n",
       "          [  3,   3,   5,  ...,  25,  25,  26],\n",
       "          [  3,   5,   6,  ...,  25,  26,  29],\n",
       "          ...,\n",
       "          [696, 698, 704,  ..., 727, 727, 728],\n",
       "          [698, 704, 704,  ..., 727, 728, 728],\n",
       "          [704, 704, 705,  ..., 728, 728, 729]]),\n",
       "  'mcc_code': tensor([[ 8,  6,  8,  ...,  5,  6,  2],\n",
       "          [ 6,  8,  8,  ...,  6,  2,  6],\n",
       "          [ 8,  8, 21,  ...,  2,  6,  6],\n",
       "          ...,\n",
       "          [ 2, 42,  1,  ...,  6,  2, 38],\n",
       "          [42,  1,  2,  ...,  2, 38,  2],\n",
       "          [ 1,  2,  1,  ..., 38,  2, 22]]),\n",
       "  'amount': tensor([[  18.8410,  303.1650,   57.4410,  ...,   43.9900,   10.6420,\n",
       "             28.4630],\n",
       "          [ 303.1650,   57.4410,   17.5850,  ...,   10.6420,   28.4630,\n",
       "             13.8380],\n",
       "          [  57.4410,   17.5850,   26.9740,  ...,   28.4630,   13.8380,\n",
       "             15.5160],\n",
       "          ...,\n",
       "          [ 189.9490, 3802.1020,   51.6110,  ...,   72.3560,   10.9240,\n",
       "             38.7720],\n",
       "          [3802.1020,   51.6110,   34.9340,  ...,   10.9240,   38.7720,\n",
       "             63.0530],\n",
       "          [  51.6110,   34.9340,   29.6430,  ...,   38.7720,   63.0530,\n",
       "            132.8060]], dtype=torch.float64),\n",
       "  'local_label': tensor([[1, 1, 1,  ..., 1, 1, 1],\n",
       "          [1, 1, 1,  ..., 1, 1, 1],\n",
       "          [1, 1, 1,  ..., 1, 1, 1],\n",
       "          ...,\n",
       "          [1, 1, 1,  ..., 1, 1, 1],\n",
       "          [1, 1, 1,  ..., 1, 1, 1],\n",
       "          [1, 1, 1,  ..., 1, 1, 1]])})"
      ]
     },
     "execution_count": 26,
     "metadata": {},
     "output_type": "execute_result"
    }
   ],
   "source": [
    "# original format + local_targets, local_targets are not passed to CoLES model (check..)\n",
    "# each tensor is of shape (num_slices, seq_len), num_slices = num_timesteps - seq_len\n",
    "\n",
    "valid_batch.payload['timestamp'].shape, valid_batch.payload"
   ]
  },
  {
   "cell_type": "code",
   "execution_count": 28,
   "id": "026b1001",
   "metadata": {},
   "outputs": [
    {
     "data": {
      "text/plain": [
       "torch.Size([1005])"
      ]
     },
     "execution_count": 28,
     "metadata": {},
     "output_type": "execute_result"
    }
   ],
   "source": [
    "# corresponding local labels (fake for Age)\n",
    "local_labels.shape"
   ]
  },
  {
   "cell_type": "markdown",
   "id": "12a66bdd",
   "metadata": {},
   "source": [
    "## Validation module"
   ]
  },
  {
   "cell_type": "code",
   "execution_count": 67,
   "id": "c992d0ba",
   "metadata": {},
   "outputs": [],
   "source": [
    "from torchmetrics.classification import BinaryF1Score\n",
    "\n",
    "class LocalValidationModel(pl.LightningModule):\n",
    "    def __init__(\n",
    "        self,\n",
    "        backbone: nn.Module,\n",
    "        backbone_embd_size: int,\n",
    "        hidden_size: int,        \n",
    "        learning_rate: float = 1e-3,\n",
    "    ) -> None:\n",
    "        super().__init__()\n",
    "        \n",
    "        self.backbone = backbone\n",
    "        self.backbone.to(self.device)\n",
    "        \n",
    "        # freeze backbone model\n",
    "        for param in self.backbone.parameters():\n",
    "            param.requires_grad = False\n",
    "        \n",
    "        self.pred_head = nn.Sequential(\n",
    "            nn.Linear(backbone_embd_size, hidden_size),\n",
    "            nn.ReLU(),\n",
    "            nn.Linear(backbone_embd_size, 1),\n",
    "            nn.Sigmoid()\n",
    "        )\n",
    "        \n",
    "        # BCE loss for seq2seq binary classification\n",
    "        self.loss = nn.BCELoss()\n",
    "        \n",
    "        self.lr = learning_rate\n",
    "\n",
    "    def forward(self, inputs: torch.Tensor) -> torch.Tensor:\n",
    "        out = self.backbone(inputs)\n",
    "        out = self.pred_head(out).squeeze()\n",
    "        return out\n",
    "\n",
    "    def training_step(self, batch: torch.Tensor, batch_idx: int):\n",
    "        \n",
    "        inputs, labels = batch\n",
    "        pred = self.forward(inputs)\n",
    "\n",
    "        train_loss = self.loss(pred, labels.float())\n",
    "        train_accuracy = ((pred.squeeze() > 0.5).long() == labels).float().mean()\n",
    "\n",
    "        self.log(\"train_loss\", train_loss, prog_bar=True)\n",
    "        self.log(\"train_acc\", train_accuracy, prog_bar=True)\n",
    "\n",
    "        return {\"loss\": train_loss, \"acc\": train_accuracy}\n",
    "\n",
    "    def validation_step(self, batch: torch.Tensor, batch_idx: int):\n",
    "        inputs, labels = batch\n",
    "        pred = self.forward(inputs)\n",
    "\n",
    "        val_loss = self.loss(pred, labels.float())\n",
    "        val_accuracy = ((pred.squeeze() > 0.5).long() == labels).float().mean()\n",
    "\n",
    "        self.log(\"val_loss\", val_loss, prog_bar=True)\n",
    "        self.log(\"val_acc\", val_accuracy, prog_bar=True)\n",
    "\n",
    "        return {\"loss\": val_loss, \"acc\": val_accuracy}\n",
    "    \n",
    "    def test_step(self, batch: torch.Tensor, batch_idx: int):\n",
    "        inputs, labels = batch\n",
    "        pred = self.forward(inputs)\n",
    "\n",
    "        acc_score = ((pred.squeeze() > 0.5).long() == labels).float().mean().item()\n",
    "        f1_score = BinaryF1Score(all_preds, all_labels).item()\n",
    "\n",
    "        self.log(\"Test acc\", acc_score)\n",
    "        self.log(\"Test f1_score\", f1_score)\n",
    "        \n",
    "        return {\"pred\": pred, \"labels\": labels, \"acc\": acc_score, \"f1\": f1_score}\n",
    "    \n",
    "    def test_epoch_end(self, outputs):\n",
    "        all_preds = torch.stack([batch_out[\"pred\"] for batch_out in outputs])\n",
    "        all_labels = torch.stack([batch_out[\"labels\"] for batch_out in outputs])\n",
    "        \n",
    "        acc = (all_preds == all_labels).mean().item()\n",
    "        f1_score = BinaryF1Score(all_preds, all_labels)\n",
    "        \n",
    "        self.log(\"Test acc\", acc)\n",
    "        \n",
    "\n",
    "    def configure_optimizers(self) -> torch.optim.Optimizer:\n",
    "        opt = torch.optim.Adam(self.pred_head.parameters(), lr=self.lr)\n",
    "        return opt"
   ]
  },
  {
   "cell_type": "code",
   "execution_count": 68,
   "id": "bd731ced",
   "metadata": {},
   "outputs": [],
   "source": [
    "valid_model = LocalValidationModel(\n",
    "    backbone=model,\n",
    "    backbone_embd_size=32,\n",
    "    hidden_size=32,\n",
    ")"
   ]
  },
  {
   "cell_type": "code",
   "execution_count": 69,
   "id": "951b2bfd",
   "metadata": {},
   "outputs": [
    {
     "name": "stdout",
     "output_type": "stream",
     "text": [
      "CoLES embeddings: torch.Size([1688, 32])\n",
      "Predicted labels: torch.Size([1688])\n",
      "True local labels: torch.Size([1688])\n"
     ]
    }
   ],
   "source": [
    "backbone_out = valid_model.backbone(valid_batch)\n",
    "print(\"CoLES embeddings:\", backbone_out.shape)\n",
    "\n",
    "pred_out = valid_model(valid_batch)\n",
    "print(\"Predicted labels:\", pred_out.shape)\n",
    "\n",
    "print(\"True local labels:\", local_labels.shape)"
   ]
  },
  {
   "cell_type": "code",
   "execution_count": null,
   "id": "584624c0",
   "metadata": {},
   "outputs": [],
   "source": [
    "valid_model."
   ]
  },
  {
   "cell_type": "code",
   "execution_count": 70,
   "id": "a05fcc82",
   "metadata": {},
   "outputs": [
    {
     "name": "stderr",
     "output_type": "stream",
     "text": [
      "GPU available: True, used: True\n",
      "TPU available: False, using: 0 TPU cores\n",
      "IPU available: False, using: 0 IPUs\n",
      "HPU available: False, using: 0 HPUs\n",
      "LOCAL_RANK: 0 - CUDA_VISIBLE_DEVICES: [0,1]\n",
      "\n",
      "  | Name      | Type        | Params\n",
      "------------------------------------------\n",
      "0 | backbone  | CustomCoLES | 18.5 K\n",
      "1 | pred_head | Sequential  | 1.1 K \n",
      "2 | loss      | BCELoss     | 0     \n",
      "------------------------------------------\n",
      "1.1 K     Trainable params\n",
      "18.5 K    Non-trainable params\n",
      "19.6 K    Total params\n",
      "0.078     Total estimated model params size (MB)\n"
     ]
    },
    {
     "data": {
      "application/vnd.jupyter.widget-view+json": {
       "model_id": "",
       "version_major": 2,
       "version_minor": 0
      },
      "text/plain": [
       "Sanity Checking: 0it [00:00, ?it/s]"
      ]
     },
     "metadata": {},
     "output_type": "display_data"
    },
    {
     "data": {
      "application/vnd.jupyter.widget-view+json": {
       "model_id": "a21c7ff8846940f8905bc4e72934d8a6",
       "version_major": 2,
       "version_minor": 0
      },
      "text/plain": [
       "Training: 0it [00:00, ?it/s]"
      ]
     },
     "metadata": {},
     "output_type": "display_data"
    },
    {
     "ename": "KeyboardInterrupt",
     "evalue": "",
     "output_type": "error",
     "traceback": [
      "\u001b[0;31m---------------------------------------------------------------------------\u001b[0m",
      "\u001b[0;31mKeyboardInterrupt\u001b[0m                         Traceback (most recent call last)",
      "Cell \u001b[0;32mIn[70], line 7\u001b[0m\n\u001b[1;32m      1\u001b[0m val_trainer \u001b[38;5;241m=\u001b[39m Trainer(\n\u001b[1;32m      2\u001b[0m     accelerator\u001b[38;5;241m=\u001b[39m\u001b[38;5;124m\"\u001b[39m\u001b[38;5;124mgpu\u001b[39m\u001b[38;5;124m\"\u001b[39m,\n\u001b[1;32m      3\u001b[0m     devices\u001b[38;5;241m=\u001b[39m\u001b[38;5;241m1\u001b[39m,\n\u001b[1;32m      4\u001b[0m     max_epochs\u001b[38;5;241m=\u001b[39m\u001b[38;5;241m1\u001b[39m,\n\u001b[1;32m      5\u001b[0m )\n\u001b[0;32m----> 7\u001b[0m \u001b[43mval_trainer\u001b[49m\u001b[38;5;241;43m.\u001b[39;49m\u001b[43mfit\u001b[49m\u001b[43m(\u001b[49m\u001b[43mvalid_model\u001b[49m\u001b[43m,\u001b[49m\u001b[43m \u001b[49m\u001b[43mval_datamodule\u001b[49m\u001b[43m)\u001b[49m\n",
      "File \u001b[0;32m~/stash/stepikin/miniconda3/lib/python3.10/site-packages/pytorch_lightning/trainer/trainer.py:770\u001b[0m, in \u001b[0;36mTrainer.fit\u001b[0;34m(self, model, train_dataloaders, val_dataloaders, datamodule, ckpt_path)\u001b[0m\n\u001b[1;32m    751\u001b[0m \u001b[38;5;250m\u001b[39m\u001b[38;5;124mr\u001b[39m\u001b[38;5;124;03m\"\"\"\u001b[39;00m\n\u001b[1;32m    752\u001b[0m \u001b[38;5;124;03mRuns the full optimization routine.\u001b[39;00m\n\u001b[1;32m    753\u001b[0m \n\u001b[0;32m   (...)\u001b[0m\n\u001b[1;32m    767\u001b[0m \u001b[38;5;124;03m    datamodule: An instance of :class:`~pytorch_lightning.core.datamodule.LightningDataModule`.\u001b[39;00m\n\u001b[1;32m    768\u001b[0m \u001b[38;5;124;03m\"\"\"\u001b[39;00m\n\u001b[1;32m    769\u001b[0m \u001b[38;5;28mself\u001b[39m\u001b[38;5;241m.\u001b[39mstrategy\u001b[38;5;241m.\u001b[39mmodel \u001b[38;5;241m=\u001b[39m model\n\u001b[0;32m--> 770\u001b[0m \u001b[38;5;28;43mself\u001b[39;49m\u001b[38;5;241;43m.\u001b[39;49m\u001b[43m_call_and_handle_interrupt\u001b[49m\u001b[43m(\u001b[49m\n\u001b[1;32m    771\u001b[0m \u001b[43m    \u001b[49m\u001b[38;5;28;43mself\u001b[39;49m\u001b[38;5;241;43m.\u001b[39;49m\u001b[43m_fit_impl\u001b[49m\u001b[43m,\u001b[49m\u001b[43m \u001b[49m\u001b[43mmodel\u001b[49m\u001b[43m,\u001b[49m\u001b[43m \u001b[49m\u001b[43mtrain_dataloaders\u001b[49m\u001b[43m,\u001b[49m\u001b[43m \u001b[49m\u001b[43mval_dataloaders\u001b[49m\u001b[43m,\u001b[49m\u001b[43m \u001b[49m\u001b[43mdatamodule\u001b[49m\u001b[43m,\u001b[49m\u001b[43m \u001b[49m\u001b[43mckpt_path\u001b[49m\n\u001b[1;32m    772\u001b[0m \u001b[43m\u001b[49m\u001b[43m)\u001b[49m\n",
      "\u001b[0;31mKeyboardInterrupt\u001b[0m: "
     ]
    }
   ],
   "source": [
    "val_trainer = Trainer(\n",
    "    accelerator=\"gpu\",\n",
    "    devices=1,\n",
    "    max_epochs=1,\n",
    ")\n",
    "    \n",
    "val_trainer.fit(valid_model, val_datamodule)"
   ]
  },
  {
   "cell_type": "code",
   "execution_count": null,
   "id": "7afc41e3",
   "metadata": {},
   "outputs": [],
   "source": []
  },
  {
   "cell_type": "code",
   "execution_count": null,
   "id": "b59a5eec",
   "metadata": {},
   "outputs": [],
   "source": []
  },
  {
   "cell_type": "code",
   "execution_count": null,
   "id": "aca38acf",
   "metadata": {},
   "outputs": [],
   "source": []
  },
  {
   "cell_type": "code",
   "execution_count": null,
   "id": "a47c4608",
   "metadata": {},
   "outputs": [],
   "source": []
  },
  {
   "cell_type": "code",
   "execution_count": null,
   "id": "146eeef4",
   "metadata": {},
   "outputs": [],
   "source": []
  },
  {
   "cell_type": "code",
   "execution_count": null,
   "id": "d178d50f",
   "metadata": {},
   "outputs": [],
   "source": []
  }
 ],
 "metadata": {
  "kernelspec": {
   "display_name": "Python 3 (ipykernel)",
   "language": "python",
   "name": "python3"
  },
  "language_info": {
   "codemirror_mode": {
    "name": "ipython",
    "version": 3
   },
   "file_extension": ".py",
   "mimetype": "text/x-python",
   "name": "python",
   "nbconvert_exporter": "python",
   "pygments_lexer": "ipython3",
   "version": "3.10.8"
  }
 },
 "nbformat": 4,
 "nbformat_minor": 5
}
