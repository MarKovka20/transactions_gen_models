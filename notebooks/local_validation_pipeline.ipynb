{
 "cells": [
  {
   "cell_type": "code",
   "execution_count": 1,
   "id": "b869464e",
   "metadata": {},
   "outputs": [],
   "source": [
    "import warnings\n",
    "warnings.filterwarnings(\"ignore\")\n",
    "\n",
    "import os\n",
    "import sys\n",
    "\n",
    "dir2 = os.path.abspath('')\n",
    "dir1 = os.path.dirname(dir2)\n",
    "if not dir1 in sys.path:\n",
    "    sys.path.append(dir1)\n",
    "\n",
    "os.chdir('..')\n",
    "\n",
    "%load_ext autoreload\n",
    "%autoreload"
   ]
  },
  {
   "cell_type": "code",
   "execution_count": 2,
   "id": "93b5be38",
   "metadata": {},
   "outputs": [],
   "source": [
    "from pathlib import Path\n",
    "\n",
    "import pandas as pd\n",
    "import numpy as np\n",
    "\n",
    "import torch\n",
    "\n",
    "from hydra import initialize, compose\n",
    "from hydra.utils import instantiate\n",
    "\n",
    "from ptls.preprocessing import PandasDataPreprocessor\n",
    "from ptls.frames import PtlsDataModule\n",
    "\n",
    "from pytorch_lightning import Trainer\n",
    "from pytorch_lightning.callbacks import ModelCheckpoint, EarlyStopping\n",
    "from pytorch_lightning.loggers import TensorBoardLogger\n",
    "\n",
    "from sklearn.model_selection import train_test_split\n",
    "\n",
    "from src.coles import CustomColesDataset, CustomColesValidationDataset, CustomCoLES\n",
    "from src.local_validation import LocalValidationModel"
   ]
  },
  {
   "attachments": {},
   "cell_type": "markdown",
   "id": "900faabe",
   "metadata": {},
   "source": [
    "# Use Age dataset with fake local labels"
   ]
  },
  {
   "attachments": {},
   "cell_type": "markdown",
   "id": "71295254",
   "metadata": {},
   "source": [
    "## Init original datasets and datamodule"
   ]
  },
  {
   "cell_type": "code",
   "execution_count": 48,
   "id": "417e02ac",
   "metadata": {},
   "outputs": [],
   "source": [
    "DATASET = \"age\"\n",
    "\n",
    "with initialize(config_path=\"../config\", version_base=None):\n",
    "    cfg = compose(config_name=\"config_\" + DATASET)\n",
    "    \n",
    "cfg_preprop = cfg[\"dataset\"]\n",
    "cfg_model = cfg[\"model\"]"
   ]
  },
  {
   "cell_type": "code",
   "execution_count": 24,
   "id": "9d74871d",
   "metadata": {},
   "outputs": [
    {
     "data": {
      "text/html": [
       "<div>\n",
       "<style scoped>\n",
       "    .dataframe tbody tr th:only-of-type {\n",
       "        vertical-align: middle;\n",
       "    }\n",
       "\n",
       "    .dataframe tbody tr th {\n",
       "        vertical-align: top;\n",
       "    }\n",
       "\n",
       "    .dataframe thead th {\n",
       "        text-align: right;\n",
       "    }\n",
       "</style>\n",
       "<table border=\"1\" class=\"dataframe\">\n",
       "  <thead>\n",
       "    <tr style=\"text-align: right;\">\n",
       "      <th></th>\n",
       "      <th>user_id</th>\n",
       "      <th>timestamp</th>\n",
       "      <th>mcc_code</th>\n",
       "      <th>amount</th>\n",
       "      <th>global_target</th>\n",
       "    </tr>\n",
       "  </thead>\n",
       "  <tbody>\n",
       "    <tr>\n",
       "      <th>0</th>\n",
       "      <td>33172</td>\n",
       "      <td>6</td>\n",
       "      <td>4</td>\n",
       "      <td>71.463</td>\n",
       "      <td>0</td>\n",
       "    </tr>\n",
       "    <tr>\n",
       "      <th>1</th>\n",
       "      <td>33172</td>\n",
       "      <td>6</td>\n",
       "      <td>35</td>\n",
       "      <td>45.017</td>\n",
       "      <td>0</td>\n",
       "    </tr>\n",
       "    <tr>\n",
       "      <th>2</th>\n",
       "      <td>33172</td>\n",
       "      <td>8</td>\n",
       "      <td>11</td>\n",
       "      <td>13.887</td>\n",
       "      <td>0</td>\n",
       "    </tr>\n",
       "    <tr>\n",
       "      <th>3</th>\n",
       "      <td>33172</td>\n",
       "      <td>9</td>\n",
       "      <td>11</td>\n",
       "      <td>15.983</td>\n",
       "      <td>0</td>\n",
       "    </tr>\n",
       "    <tr>\n",
       "      <th>4</th>\n",
       "      <td>33172</td>\n",
       "      <td>10</td>\n",
       "      <td>11</td>\n",
       "      <td>21.341</td>\n",
       "      <td>0</td>\n",
       "    </tr>\n",
       "  </tbody>\n",
       "</table>\n",
       "</div>"
      ],
      "text/plain": [
       "   user_id  timestamp  mcc_code  amount  global_target\n",
       "0    33172          6         4  71.463              0\n",
       "1    33172          6        35  45.017              0\n",
       "2    33172          8        11  13.887              0\n",
       "3    33172          9        11  15.983              0\n",
       "4    33172         10        11  21.341              0"
      ]
     },
     "execution_count": 24,
     "metadata": {},
     "output_type": "execute_result"
    }
   ],
   "source": [
    "df = pd.read_parquet(Path(cfg[\"dataset\"][\"dir_path\"]).joinpath(cfg[\"dataset\"][\"train_file_name\"]))\n",
    "df.head()"
   ]
  },
  {
   "cell_type": "code",
   "execution_count": 25,
   "id": "9c6e81f8",
   "metadata": {},
   "outputs": [
    {
     "data": {
      "text/html": [
       "<div>\n",
       "<style scoped>\n",
       "    .dataframe tbody tr th:only-of-type {\n",
       "        vertical-align: middle;\n",
       "    }\n",
       "\n",
       "    .dataframe tbody tr th {\n",
       "        vertical-align: top;\n",
       "    }\n",
       "\n",
       "    .dataframe thead th {\n",
       "        text-align: right;\n",
       "    }\n",
       "</style>\n",
       "<table border=\"1\" class=\"dataframe\">\n",
       "  <thead>\n",
       "    <tr style=\"text-align: right;\">\n",
       "      <th></th>\n",
       "      <th>user_id</th>\n",
       "      <th>timestamp</th>\n",
       "      <th>mcc_code</th>\n",
       "      <th>amount</th>\n",
       "      <th>global_target</th>\n",
       "      <th>fake_local_label</th>\n",
       "    </tr>\n",
       "  </thead>\n",
       "  <tbody>\n",
       "    <tr>\n",
       "      <th>0</th>\n",
       "      <td>33172</td>\n",
       "      <td>6</td>\n",
       "      <td>4</td>\n",
       "      <td>71.463</td>\n",
       "      <td>0</td>\n",
       "      <td>1</td>\n",
       "    </tr>\n",
       "    <tr>\n",
       "      <th>1</th>\n",
       "      <td>33172</td>\n",
       "      <td>6</td>\n",
       "      <td>35</td>\n",
       "      <td>45.017</td>\n",
       "      <td>0</td>\n",
       "      <td>1</td>\n",
       "    </tr>\n",
       "    <tr>\n",
       "      <th>2</th>\n",
       "      <td>33172</td>\n",
       "      <td>8</td>\n",
       "      <td>11</td>\n",
       "      <td>13.887</td>\n",
       "      <td>0</td>\n",
       "      <td>1</td>\n",
       "    </tr>\n",
       "    <tr>\n",
       "      <th>3</th>\n",
       "      <td>33172</td>\n",
       "      <td>9</td>\n",
       "      <td>11</td>\n",
       "      <td>15.983</td>\n",
       "      <td>0</td>\n",
       "      <td>1</td>\n",
       "    </tr>\n",
       "    <tr>\n",
       "      <th>4</th>\n",
       "      <td>33172</td>\n",
       "      <td>10</td>\n",
       "      <td>11</td>\n",
       "      <td>21.341</td>\n",
       "      <td>0</td>\n",
       "      <td>1</td>\n",
       "    </tr>\n",
       "  </tbody>\n",
       "</table>\n",
       "</div>"
      ],
      "text/plain": [
       "   user_id  timestamp  mcc_code  amount  global_target  fake_local_label\n",
       "0    33172          6         4  71.463              0                 1\n",
       "1    33172          6        35  45.017              0                 1\n",
       "2    33172          8        11  13.887              0                 1\n",
       "3    33172          9        11  15.983              0                 1\n",
       "4    33172         10        11  21.341              0                 1"
      ]
     },
     "execution_count": 25,
     "metadata": {},
     "output_type": "execute_result"
    }
   ],
   "source": [
    "# add fake local label for Age\n",
    "df[\"fake_local_label\"] = np.ones(len(df)).astype(int)\n",
    "df.head()"
   ]
  },
  {
   "cell_type": "code",
   "execution_count": 26,
   "id": "0b0f03de",
   "metadata": {},
   "outputs": [],
   "source": [
    "preprocessor = PandasDataPreprocessor(\n",
    "    col_id=\"user_id\",\n",
    "    col_event_time=\"timestamp\",\n",
    "    event_time_transformation=\"none\", # no time preprocessing\n",
    "    cols_category=[\"mcc_code\"],\n",
    "    cols_numerical=[\"amount\", \"fake_local_label\"], # keep column with fake local targets\n",
    "    return_records=True\n",
    ")\n",
    "\n",
    "dataset = preprocessor.fit_transform(df)\n",
    "\n",
    "train, val = train_test_split(dataset, test_size=.2)"
   ]
  },
  {
   "cell_type": "code",
   "execution_count": 27,
   "id": "16abf081",
   "metadata": {},
   "outputs": [],
   "source": [
    "# initialize original CoLES datasest - for CoLES training\n",
    "train_data: CustomColesDataset = instantiate(cfg_model[\"dataset\"], data=train)\n",
    "val_data: CustomColesDataset = instantiate(cfg_model[\"dataset\"], data=val)\n",
    "    \n",
    "train_datamodule: PtlsDataModule = instantiate(\n",
    "    cfg_model[\"datamodule\"],\n",
    "    train_data=train_data,\n",
    "    valid_data=val_data\n",
    ")"
   ]
  },
  {
   "attachments": {},
   "cell_type": "markdown",
   "id": "72f9a437",
   "metadata": {},
   "source": [
    "## Initialize and train CoLES model"
   ]
  },
  {
   "cell_type": "code",
   "execution_count": 28,
   "id": "e9a7e284",
   "metadata": {},
   "outputs": [],
   "source": [
    "model: CustomCoLES = instantiate(cfg_model[\"model\"])"
   ]
  },
  {
   "cell_type": "code",
   "execution_count": 29,
   "id": "b67275e3",
   "metadata": {
    "scrolled": false
   },
   "outputs": [
    {
     "name": "stderr",
     "output_type": "stream",
     "text": [
      "GPU available: True, used: True\n",
      "TPU available: False, using: 0 TPU cores\n",
      "IPU available: False, using: 0 IPUs\n",
      "HPU available: False, using: 0 HPUs\n",
      "LOCAL_RANK: 0 - CUDA_VISIBLE_DEVICES: [0,1]\n",
      "\n",
      "  | Name               | Type            | Params\n",
      "-------------------------------------------------------\n",
      "0 | _loss              | ContrastiveLoss | 0     \n",
      "1 | _seq_encoder       | RnnSeqEncoder   | 12.9 K\n",
      "2 | _validation_metric | BatchRecallTopK | 0     \n",
      "3 | _head              | Head            | 0     \n",
      "-------------------------------------------------------\n",
      "12.9 K    Trainable params\n",
      "0         Non-trainable params\n",
      "12.9 K    Total params\n",
      "0.052     Total estimated model params size (MB)\n"
     ]
    },
    {
     "data": {
      "application/vnd.jupyter.widget-view+json": {
       "model_id": "",
       "version_major": 2,
       "version_minor": 0
      },
      "text/plain": [
       "Sanity Checking: 0it [00:00, ?it/s]"
      ]
     },
     "metadata": {},
     "output_type": "display_data"
    },
    {
     "data": {
      "application/vnd.jupyter.widget-view+json": {
       "model_id": "0475907feac34b35a2589d1c3e9edccb",
       "version_major": 2,
       "version_minor": 0
      },
      "text/plain": [
       "Training: 0it [00:00, ?it/s]"
      ]
     },
     "metadata": {},
     "output_type": "display_data"
    },
    {
     "data": {
      "application/vnd.jupyter.widget-view+json": {
       "model_id": "",
       "version_major": 2,
       "version_minor": 0
      },
      "text/plain": [
       "Validation: 0it [00:00, ?it/s]"
      ]
     },
     "metadata": {},
     "output_type": "display_data"
    },
    {
     "name": "stderr",
     "output_type": "stream",
     "text": [
      "Metric recall_top_k improved. New best score: 0.081\n"
     ]
    },
    {
     "data": {
      "application/vnd.jupyter.widget-view+json": {
       "model_id": "",
       "version_major": 2,
       "version_minor": 0
      },
      "text/plain": [
       "Validation: 0it [00:00, ?it/s]"
      ]
     },
     "metadata": {},
     "output_type": "display_data"
    },
    {
     "name": "stderr",
     "output_type": "stream",
     "text": [
      "Metric recall_top_k improved by 0.103 >= min_delta = 0.01. New best score: 0.185\n"
     ]
    },
    {
     "data": {
      "application/vnd.jupyter.widget-view+json": {
       "model_id": "",
       "version_major": 2,
       "version_minor": 0
      },
      "text/plain": [
       "Validation: 0it [00:00, ?it/s]"
      ]
     },
     "metadata": {},
     "output_type": "display_data"
    },
    {
     "name": "stderr",
     "output_type": "stream",
     "text": [
      "Metric recall_top_k improved by 0.067 >= min_delta = 0.01. New best score: 0.252\n"
     ]
    },
    {
     "data": {
      "application/vnd.jupyter.widget-view+json": {
       "model_id": "",
       "version_major": 2,
       "version_minor": 0
      },
      "text/plain": [
       "Validation: 0it [00:00, ?it/s]"
      ]
     },
     "metadata": {},
     "output_type": "display_data"
    },
    {
     "name": "stderr",
     "output_type": "stream",
     "text": [
      "Metric recall_top_k improved by 0.042 >= min_delta = 0.01. New best score: 0.294\n"
     ]
    },
    {
     "data": {
      "application/vnd.jupyter.widget-view+json": {
       "model_id": "",
       "version_major": 2,
       "version_minor": 0
      },
      "text/plain": [
       "Validation: 0it [00:00, ?it/s]"
      ]
     },
     "metadata": {},
     "output_type": "display_data"
    },
    {
     "name": "stderr",
     "output_type": "stream",
     "text": [
      "Metric recall_top_k improved by 0.019 >= min_delta = 0.01. New best score: 0.313\n"
     ]
    },
    {
     "data": {
      "application/vnd.jupyter.widget-view+json": {
       "model_id": "",
       "version_major": 2,
       "version_minor": 0
      },
      "text/plain": [
       "Validation: 0it [00:00, ?it/s]"
      ]
     },
     "metadata": {},
     "output_type": "display_data"
    },
    {
     "name": "stderr",
     "output_type": "stream",
     "text": [
      "Metric recall_top_k improved by 0.013 >= min_delta = 0.01. New best score: 0.326\n"
     ]
    },
    {
     "data": {
      "application/vnd.jupyter.widget-view+json": {
       "model_id": "",
       "version_major": 2,
       "version_minor": 0
      },
      "text/plain": [
       "Validation: 0it [00:00, ?it/s]"
      ]
     },
     "metadata": {},
     "output_type": "display_data"
    },
    {
     "name": "stderr",
     "output_type": "stream",
     "text": [
      "Metric recall_top_k improved by 0.011 >= min_delta = 0.01. New best score: 0.338\n"
     ]
    },
    {
     "data": {
      "application/vnd.jupyter.widget-view+json": {
       "model_id": "",
       "version_major": 2,
       "version_minor": 0
      },
      "text/plain": [
       "Validation: 0it [00:00, ?it/s]"
      ]
     },
     "metadata": {},
     "output_type": "display_data"
    },
    {
     "data": {
      "application/vnd.jupyter.widget-view+json": {
       "model_id": "",
       "version_major": 2,
       "version_minor": 0
      },
      "text/plain": [
       "Validation: 0it [00:00, ?it/s]"
      ]
     },
     "metadata": {},
     "output_type": "display_data"
    },
    {
     "name": "stderr",
     "output_type": "stream",
     "text": [
      "Metric recall_top_k improved by 0.012 >= min_delta = 0.01. New best score: 0.349\n"
     ]
    },
    {
     "data": {
      "application/vnd.jupyter.widget-view+json": {
       "model_id": "",
       "version_major": 2,
       "version_minor": 0
      },
      "text/plain": [
       "Validation: 0it [00:00, ?it/s]"
      ]
     },
     "metadata": {},
     "output_type": "display_data"
    },
    {
     "data": {
      "application/vnd.jupyter.widget-view+json": {
       "model_id": "",
       "version_major": 2,
       "version_minor": 0
      },
      "text/plain": [
       "Validation: 0it [00:00, ?it/s]"
      ]
     },
     "metadata": {},
     "output_type": "display_data"
    },
    {
     "data": {
      "application/vnd.jupyter.widget-view+json": {
       "model_id": "",
       "version_major": 2,
       "version_minor": 0
      },
      "text/plain": [
       "Validation: 0it [00:00, ?it/s]"
      ]
     },
     "metadata": {},
     "output_type": "display_data"
    },
    {
     "data": {
      "application/vnd.jupyter.widget-view+json": {
       "model_id": "",
       "version_major": 2,
       "version_minor": 0
      },
      "text/plain": [
       "Validation: 0it [00:00, ?it/s]"
      ]
     },
     "metadata": {},
     "output_type": "display_data"
    },
    {
     "data": {
      "application/vnd.jupyter.widget-view+json": {
       "model_id": "",
       "version_major": 2,
       "version_minor": 0
      },
      "text/plain": [
       "Validation: 0it [00:00, ?it/s]"
      ]
     },
     "metadata": {},
     "output_type": "display_data"
    },
    {
     "name": "stderr",
     "output_type": "stream",
     "text": [
      "Monitored metric recall_top_k did not improve in the last 5 records. Best score: 0.349. Signaling Trainer to stop.\n"
     ]
    }
   ],
   "source": [
    "model_checkpoint: ModelCheckpoint = instantiate(\n",
    "    cfg_model[\"trainer_coles\"][\"checkpoint_callback\"],\n",
    "    monitor=model.metric_name,\n",
    "    mode=\"max\"\n",
    ")\n",
    "    \n",
    "early_stopping: EarlyStopping = instantiate(\n",
    "    cfg_model[\"trainer_coles\"][\"early_stopping\"],\n",
    "    monitor=model.metric_name,\n",
    "    mode=\"max\"\n",
    ")\n",
    "    \n",
    "logger: TensorBoardLogger = instantiate(cfg_model[\"trainer_coles\"][\"logger\"])\n",
    "    \n",
    "trainer: Trainer = instantiate(\n",
    "    cfg_model[\"trainer_coles\"][\"trainer\"],\n",
    "    callbacks=[model_checkpoint, early_stopping],\n",
    "    logger=logger\n",
    ")\n",
    "    \n",
    "trainer.fit(model, train_datamodule)"
   ]
  },
  {
   "cell_type": "code",
   "execution_count": 33,
   "id": "793c99ad",
   "metadata": {},
   "outputs": [],
   "source": [
    "torch.save(model.state_dict(), \"saved_models/coles_age_default.pth\")"
   ]
  },
  {
   "attachments": {},
   "cell_type": "markdown",
   "id": "5f863731",
   "metadata": {},
   "source": [
    "## Local validation pipeline"
   ]
  },
  {
   "cell_type": "code",
   "execution_count": 49,
   "id": "68271efa",
   "metadata": {},
   "outputs": [],
   "source": [
    "# initialize custom datasets and datamodule for local validation\n",
    "# use the same 'train' and 'val' preprocessed data\n",
    "train_data_local: CustomColesValidationDataset = instantiate(cfg_model[\"validation_dataset\"], data=train)\n",
    "val_data_local: CustomColesValidationDataset = instantiate(cfg_model[\"validation_dataset\"], data=val)\n",
    "\n",
    "# keep batch_size = 1 (all slices of one user in one batch)\n",
    "# or may use batch_size > 1 to speed-up LocalValidationModel training\n",
    "val_datamodule: PtlsDataModule = instantiate(\n",
    "    cfg_model[\"datamodule\"],\n",
    "    train_data=train_data_local,\n",
    "    valid_data=val_data_local,\n",
    "    test_data=val_data_local,\n",
    "    train_batch_size=10,\n",
    "    valid_batch_size=1,\n",
    "    test_batch_size=1\n",
    ")"
   ]
  },
  {
   "cell_type": "markdown",
   "id": "1dbc1604",
   "metadata": {},
   "source": [
    "### Investigate validation batch structure "
   ]
  },
  {
   "cell_type": "code",
   "execution_count": 35,
   "id": "773bbe78",
   "metadata": {},
   "outputs": [],
   "source": [
    "valid_batch, local_labels = next(iter(val_datamodule.val_dataloader()))"
   ]
  },
  {
   "cell_type": "code",
   "execution_count": 36,
   "id": "58ecc020",
   "metadata": {},
   "outputs": [
    {
     "data": {
      "text/plain": [
       "(torch.Size([77, 40]),\n",
       " {'timestamp': tensor([[  1,   2,   2,  ...,  43,  46,  47],\n",
       "          [ 13,  15,  19,  ...,  60,  62,  62],\n",
       "          [ 28,  29,  29,  ...,  71,  72,  72],\n",
       "          ...,\n",
       "          [678, 678, 679,  ..., 707, 708, 709],\n",
       "          [683, 683, 684,  ..., 713, 713, 714],\n",
       "          [693, 694, 697,  ..., 723, 724, 725]]),\n",
       "  'global_target': tensor([[3, 3, 3,  ..., 3, 3, 3],\n",
       "          [3, 3, 3,  ..., 3, 3, 3],\n",
       "          [3, 3, 3,  ..., 3, 3, 3],\n",
       "          ...,\n",
       "          [3, 3, 3,  ..., 3, 3, 3],\n",
       "          [3, 3, 3,  ..., 3, 3, 3],\n",
       "          [3, 3, 3,  ..., 3, 3, 3]]),\n",
       "  'event_time': tensor([[  1,   2,   2,  ...,  43,  46,  47],\n",
       "          [ 13,  15,  19,  ...,  60,  62,  62],\n",
       "          [ 28,  29,  29,  ...,  71,  72,  72],\n",
       "          ...,\n",
       "          [678, 678, 679,  ..., 707, 708, 709],\n",
       "          [683, 683, 684,  ..., 713, 713, 714],\n",
       "          [693, 694, 697,  ..., 723, 724, 725]]),\n",
       "  'mcc_code': tensor([[ 3, 14, 11,  ...,  1,  3,  2],\n",
       "          [ 1, 19,  3,  ...,  3,  7,  3],\n",
       "          [ 1, 14,  3,  ...,  3,  3, 33],\n",
       "          ...,\n",
       "          [ 8,  2, 15,  ..., 14, 14, 14],\n",
       "          [14,  1, 14,  ..., 14,  1, 18],\n",
       "          [14, 14, 14,  ...,  5, 14,  3]]),\n",
       "  'amount': tensor([[ 34.5020,   1.3280, 242.4400,  ...,  19.1360,   9.1590,  43.8720],\n",
       "          [274.9540,  52.1410,   6.8690,  ...,  43.1270,  35.9690,  45.7950],\n",
       "          [ 94.7080,   1.7410,  17.2510,  ...,  13.7380,  12.9380, 114.4890],\n",
       "          ...,\n",
       "          [  7.0520, 107.1610, 123.9820,  ...,   6.4260,  20.4700,  29.1970],\n",
       "          [ 17.3570,   1.5090,  32.3030,  ...,  27.3860,  57.2150,  43.0420],\n",
       "          [ 16.3450,  17.3570,  41.1240,  ...,  48.7720,  48.4760,  38.8150]],\n",
       "         dtype=torch.float64),\n",
       "  'fake_local_label': tensor([[1, 1, 1,  ..., 1, 1, 1],\n",
       "          [1, 1, 1,  ..., 1, 1, 1],\n",
       "          [1, 1, 1,  ..., 1, 1, 1],\n",
       "          ...,\n",
       "          [1, 1, 1,  ..., 1, 1, 1],\n",
       "          [1, 1, 1,  ..., 1, 1, 1],\n",
       "          [1, 1, 1,  ..., 1, 1, 1]])})"
      ]
     },
     "execution_count": 36,
     "metadata": {},
     "output_type": "execute_result"
    }
   ],
   "source": [
    "# original format + local_targets, local_targets are not passed to CoLES model\n",
    "# each tensor is of shape (num_slices, seq_len), num_slices = (num_timesteps - seq_len) // stride\n",
    "# using stride=1 is not feasible as it results in too much slices - training of LocalValidationModel is too long\n",
    "\n",
    "valid_batch.payload['timestamp'].shape, valid_batch.payload"
   ]
  },
  {
   "cell_type": "code",
   "execution_count": 37,
   "id": "66e9afcd",
   "metadata": {},
   "outputs": [
    {
     "data": {
      "text/plain": [
       "torch.Size([77])"
      ]
     },
     "execution_count": 37,
     "metadata": {},
     "output_type": "execute_result"
    }
   ],
   "source": [
    "# corresponding local labels (fake for Age)\n",
    "local_labels.shape"
   ]
  },
  {
   "cell_type": "markdown",
   "id": "aeaf2c68",
   "metadata": {},
   "source": [
    "## CoLES embeddings for a single user\n",
    "\n",
    "If batch_size is 1, than batch contains all slices (consequtive sliding windows) for 1 user. As a result, we get embedding of shape (slices_num, embd_size)"
   ]
  },
  {
   "cell_type": "code",
   "execution_count": 50,
   "id": "c8a189ff",
   "metadata": {},
   "outputs": [
    {
     "data": {
      "text/plain": [
       "torch.Size([77, 32])"
      ]
     },
     "execution_count": 50,
     "metadata": {},
     "output_type": "execute_result"
    }
   ],
   "source": [
    "emb = model(valid_batch)\n",
    "\n",
    "# shape is (num_slices, embd_size)\n",
    "emb.shape"
   ]
  },
  {
   "cell_type": "markdown",
   "id": "cb37a672",
   "metadata": {},
   "source": [
    "## Local validation pipeline"
   ]
  },
  {
   "cell_type": "code",
   "execution_count": 59,
   "id": "3ce3e05f",
   "metadata": {},
   "outputs": [],
   "source": [
    "EMBD_SIZE = 32\n",
    "HIDDEN_SIZE = 32\n",
    "\n",
    "valid_model = LocalValidationModel(\n",
    "    backbone=model,\n",
    "    backbone_embd_size=EMBD_SIZE,\n",
    "    hidden_size=HIDDEN_SIZE,\n",
    ")"
   ]
  },
  {
   "cell_type": "code",
   "execution_count": 60,
   "id": "951b2bfd",
   "metadata": {},
   "outputs": [
    {
     "name": "stdout",
     "output_type": "stream",
     "text": [
      "CoLES embeddings: torch.Size([77, 32])\n",
      "Predicted labels: torch.Size([77])\n",
      "True local labels: torch.Size([77])\n"
     ]
    }
   ],
   "source": [
    "backbone_out = valid_model.backbone(valid_batch)\n",
    "print(\"CoLES embeddings:\", backbone_out.shape)\n",
    "\n",
    "pred_out = valid_model(valid_batch)\n",
    "print(\"Predicted labels:\", pred_out.shape)\n",
    "\n",
    "print(\"True local labels:\", local_labels.shape)"
   ]
  },
  {
   "cell_type": "code",
   "execution_count": 52,
   "id": "a05fcc82",
   "metadata": {},
   "outputs": [
    {
     "name": "stderr",
     "output_type": "stream",
     "text": [
      "GPU available: True, used: True\n",
      "TPU available: False, using: 0 TPU cores\n",
      "IPU available: False, using: 0 IPUs\n",
      "HPU available: False, using: 0 HPUs\n",
      "LOCAL_RANK: 0 - CUDA_VISIBLE_DEVICES: [0,1]\n",
      "\n",
      "  | Name      | Type        | Params\n",
      "------------------------------------------\n",
      "0 | backbone  | CustomCoLES | 12.9 K\n",
      "1 | pred_head | Sequential  | 1.1 K \n",
      "2 | loss      | BCELoss     | 0     \n",
      "------------------------------------------\n",
      "1.1 K     Trainable params\n",
      "12.9 K    Non-trainable params\n",
      "14.0 K    Total params\n",
      "0.056     Total estimated model params size (MB)\n"
     ]
    },
    {
     "data": {
      "application/vnd.jupyter.widget-view+json": {
       "model_id": "",
       "version_major": 2,
       "version_minor": 0
      },
      "text/plain": [
       "Sanity Checking: 0it [00:00, ?it/s]"
      ]
     },
     "metadata": {},
     "output_type": "display_data"
    },
    {
     "data": {
      "application/vnd.jupyter.widget-view+json": {
       "model_id": "3897c7a097e74d8d8f8aa16ce9a9bbed",
       "version_major": 2,
       "version_minor": 0
      },
      "text/plain": [
       "Training: 0it [00:00, ?it/s]"
      ]
     },
     "metadata": {},
     "output_type": "display_data"
    },
    {
     "data": {
      "application/vnd.jupyter.widget-view+json": {
       "model_id": "",
       "version_major": 2,
       "version_minor": 0
      },
      "text/plain": [
       "Validation: 0it [00:00, ?it/s]"
      ]
     },
     "metadata": {},
     "output_type": "display_data"
    }
   ],
   "source": [
    "val_trainer = Trainer(\n",
    "    accelerator=\"gpu\",\n",
    "    devices=1,\n",
    "    max_epochs=1,\n",
    ")\n",
    "    \n",
    "val_trainer.fit(valid_model, val_datamodule)"
   ]
  },
  {
   "cell_type": "code",
   "execution_count": 56,
   "id": "4f20052e",
   "metadata": {},
   "outputs": [],
   "source": [
    "torch.save(valid_model.state_dict(), \"saved_models/validation_age.pth\")"
   ]
  },
  {
   "cell_type": "code",
   "execution_count": 66,
   "id": "4ee384f3",
   "metadata": {},
   "outputs": [
    {
     "data": {
      "text/plain": [
       "<All keys matched successfully>"
      ]
     },
     "execution_count": 66,
     "metadata": {},
     "output_type": "execute_result"
    }
   ],
   "source": [
    "valid_model.load_state_dict(torch.load(\"saved_models/validation_age.pth\"))"
   ]
  },
  {
   "cell_type": "code",
   "execution_count": 67,
   "id": "7afc41e3",
   "metadata": {},
   "outputs": [
    {
     "name": "stderr",
     "output_type": "stream",
     "text": [
      "LOCAL_RANK: 0 - CUDA_VISIBLE_DEVICES: [0,1]\n"
     ]
    },
    {
     "data": {
      "application/vnd.jupyter.widget-view+json": {
       "model_id": "5a63e42b505446519a3d264bf1b11eb5",
       "version_major": 2,
       "version_minor": 0
      },
      "text/plain": [
       "Testing: 0it [00:00, ?it/s]"
      ]
     },
     "metadata": {},
     "output_type": "display_data"
    },
    {
     "data": {
      "text/html": [
       "<pre style=\"white-space:pre;overflow-x:auto;line-height:normal;font-family:Menlo,'DejaVu Sans Mono',consolas,'Courier New',monospace\">┏━━━━━━━━━━━━━━━━━━━━━━━━━━━┳━━━━━━━━━━━━━━━━━━━━━━━━━━━┓\n",
       "┃<span style=\"font-weight: bold\">        Test metric        </span>┃<span style=\"font-weight: bold\">       DataLoader 0        </span>┃\n",
       "┡━━━━━━━━━━━━━━━━━━━━━━━━━━━╇━━━━━━━━━━━━━━━━━━━━━━━━━━━┩\n",
       "│<span style=\"color: #008080; text-decoration-color: #008080\">         Test acc          </span>│<span style=\"color: #800080; text-decoration-color: #800080\">            1.0            </span>│\n",
       "│<span style=\"color: #008080; text-decoration-color: #008080\">       Test f1_score       </span>│<span style=\"color: #800080; text-decoration-color: #800080\">            1.0            </span>│\n",
       "└───────────────────────────┴───────────────────────────┘\n",
       "</pre>\n"
      ],
      "text/plain": [
       "┏━━━━━━━━━━━━━━━━━━━━━━━━━━━┳━━━━━━━━━━━━━━━━━━━━━━━━━━━┓\n",
       "┃\u001b[1m \u001b[0m\u001b[1m       Test metric       \u001b[0m\u001b[1m \u001b[0m┃\u001b[1m \u001b[0m\u001b[1m      DataLoader 0       \u001b[0m\u001b[1m \u001b[0m┃\n",
       "┡━━━━━━━━━━━━━━━━━━━━━━━━━━━╇━━━━━━━━━━━━━━━━━━━━━━━━━━━┩\n",
       "│\u001b[36m \u001b[0m\u001b[36m        Test acc         \u001b[0m\u001b[36m \u001b[0m│\u001b[35m \u001b[0m\u001b[35m           1.0           \u001b[0m\u001b[35m \u001b[0m│\n",
       "│\u001b[36m \u001b[0m\u001b[36m      Test f1_score      \u001b[0m\u001b[36m \u001b[0m│\u001b[35m \u001b[0m\u001b[35m           1.0           \u001b[0m\u001b[35m \u001b[0m│\n",
       "└───────────────────────────┴───────────────────────────┘\n"
      ]
     },
     "metadata": {},
     "output_type": "display_data"
    },
    {
     "data": {
      "text/plain": [
       "[{'Test acc': 1.0, 'Test f1_score': 1.0}]"
      ]
     },
     "execution_count": 67,
     "metadata": {},
     "output_type": "execute_result"
    }
   ],
   "source": [
    "val_trainer.test(valid_model, val_datamodule)"
   ]
  },
  {
   "cell_type": "markdown",
   "id": "2c63d3a8",
   "metadata": {},
   "source": [
    "# Churn dataset with real local targets"
   ]
  },
  {
   "cell_type": "code",
   "execution_count": 3,
   "id": "5dbbb22e",
   "metadata": {},
   "outputs": [],
   "source": [
    "DATASET = \"churn\"\n",
    "\n",
    "with initialize(config_path=\"../config\", version_base=None):\n",
    "    cfg = compose(config_name=\"config_\" + DATASET)\n",
    "    \n",
    "cfg_preprop = cfg[\"dataset\"]\n",
    "cfg_model = cfg[\"model\"]"
   ]
  },
  {
   "cell_type": "code",
   "execution_count": 4,
   "id": "ce0ba022",
   "metadata": {},
   "outputs": [
    {
     "data": {
      "text/html": [
       "<div>\n",
       "<style scoped>\n",
       "    .dataframe tbody tr th:only-of-type {\n",
       "        vertical-align: middle;\n",
       "    }\n",
       "\n",
       "    .dataframe tbody tr th {\n",
       "        vertical-align: top;\n",
       "    }\n",
       "\n",
       "    .dataframe thead th {\n",
       "        text-align: right;\n",
       "    }\n",
       "</style>\n",
       "<table border=\"1\" class=\"dataframe\">\n",
       "  <thead>\n",
       "    <tr style=\"text-align: right;\">\n",
       "      <th></th>\n",
       "      <th>user_id</th>\n",
       "      <th>mcc_code</th>\n",
       "      <th>timestamp</th>\n",
       "      <th>amount</th>\n",
       "      <th>global_target</th>\n",
       "      <th>holiday_target</th>\n",
       "      <th>weekend_target</th>\n",
       "      <th>churn_target</th>\n",
       "    </tr>\n",
       "  </thead>\n",
       "  <tbody>\n",
       "    <tr>\n",
       "      <th>0</th>\n",
       "      <td>0</td>\n",
       "      <td>5200</td>\n",
       "      <td>2017-10-21 00:00:00</td>\n",
       "      <td>5023.0</td>\n",
       "      <td>0</td>\n",
       "      <td>0</td>\n",
       "      <td>1</td>\n",
       "      <td>0</td>\n",
       "    </tr>\n",
       "    <tr>\n",
       "      <th>1</th>\n",
       "      <td>0</td>\n",
       "      <td>6011</td>\n",
       "      <td>2017-10-12 12:24:07</td>\n",
       "      <td>20000.0</td>\n",
       "      <td>0</td>\n",
       "      <td>0</td>\n",
       "      <td>0</td>\n",
       "      <td>0</td>\n",
       "    </tr>\n",
       "    <tr>\n",
       "      <th>2</th>\n",
       "      <td>0</td>\n",
       "      <td>5921</td>\n",
       "      <td>2017-12-05 00:00:00</td>\n",
       "      <td>767.0</td>\n",
       "      <td>0</td>\n",
       "      <td>0</td>\n",
       "      <td>0</td>\n",
       "      <td>1</td>\n",
       "    </tr>\n",
       "    <tr>\n",
       "      <th>3</th>\n",
       "      <td>0</td>\n",
       "      <td>5411</td>\n",
       "      <td>2017-10-21 00:00:00</td>\n",
       "      <td>2031.0</td>\n",
       "      <td>0</td>\n",
       "      <td>0</td>\n",
       "      <td>1</td>\n",
       "      <td>0</td>\n",
       "    </tr>\n",
       "    <tr>\n",
       "      <th>4</th>\n",
       "      <td>0</td>\n",
       "      <td>6012</td>\n",
       "      <td>2017-10-24 13:14:24</td>\n",
       "      <td>36562.0</td>\n",
       "      <td>0</td>\n",
       "      <td>0</td>\n",
       "      <td>0</td>\n",
       "      <td>0</td>\n",
       "    </tr>\n",
       "  </tbody>\n",
       "</table>\n",
       "</div>"
      ],
      "text/plain": [
       "   user_id  mcc_code           timestamp   amount  global_target  \\\n",
       "0        0      5200 2017-10-21 00:00:00   5023.0              0   \n",
       "1        0      6011 2017-10-12 12:24:07  20000.0              0   \n",
       "2        0      5921 2017-12-05 00:00:00    767.0              0   \n",
       "3        0      5411 2017-10-21 00:00:00   2031.0              0   \n",
       "4        0      6012 2017-10-24 13:14:24  36562.0              0   \n",
       "\n",
       "   holiday_target  weekend_target  churn_target  \n",
       "0               0               1             0  \n",
       "1               0               0             0  \n",
       "2               0               0             1  \n",
       "3               0               1             0  \n",
       "4               0               0             0  "
      ]
     },
     "execution_count": 4,
     "metadata": {},
     "output_type": "execute_result"
    }
   ],
   "source": [
    "df = pd.read_parquet(Path(cfg[\"dataset\"][\"dir_path\"]).joinpath(cfg[\"dataset\"][\"train_file_name\"]))\n",
    "df.head()"
   ]
  },
  {
   "cell_type": "code",
   "execution_count": 5,
   "id": "a7c7f361",
   "metadata": {},
   "outputs": [],
   "source": [
    "local_target = cfg_model[\"validation_dataset\"][\"local_target_col\"]\n",
    "\n",
    "preprocessor = PandasDataPreprocessor(\n",
    "    col_id=\"user_id\",\n",
    "    col_event_time=\"timestamp\",\n",
    "    event_time_transformation=\"dt_to_timestamp\", # no time preprocessing\n",
    "    cols_category=[\"mcc_code\"],\n",
    "    cols_numerical=[\"amount\", local_target], # keep column with fake local targets\n",
    "    return_records=True\n",
    ")\n",
    "\n",
    "dataset = preprocessor.fit_transform(df)\n",
    "\n",
    "train, val_test = train_test_split(dataset, test_size=.2, random_state=42)\n",
    "val, test = train_test_split(val_test, test_size=.5, random_state=42)"
   ]
  },
  {
   "cell_type": "code",
   "execution_count": 6,
   "id": "1c703bbc",
   "metadata": {},
   "outputs": [],
   "source": [
    "# initialize original CoLES datasest - for CoLES training\n",
    "train_data: CustomColesDataset = instantiate(cfg_model[\"dataset\"], data=train)\n",
    "val_data: CustomColesDataset = instantiate(cfg_model[\"dataset\"], data=val)\n",
    "    \n",
    "train_datamodule: PtlsDataModule = instantiate(\n",
    "    cfg_model[\"datamodule\"],\n",
    "    train_data=train_data,\n",
    "    valid_data=val_data\n",
    ")"
   ]
  },
  {
   "cell_type": "code",
   "execution_count": 7,
   "id": "3d70f0fc",
   "metadata": {},
   "outputs": [],
   "source": [
    "model_churn: CustomCoLES = instantiate(cfg_model[\"model\"])"
   ]
  },
  {
   "cell_type": "code",
   "execution_count": 8,
   "id": "c84eb4fe",
   "metadata": {
    "scrolled": true
   },
   "outputs": [
    {
     "name": "stderr",
     "output_type": "stream",
     "text": [
      "GPU available: True, used: True\n",
      "TPU available: False, using: 0 TPU cores\n",
      "IPU available: False, using: 0 IPUs\n",
      "HPU available: False, using: 0 HPUs\n"
     ]
    }
   ],
   "source": [
    "model_checkpoint: ModelCheckpoint = instantiate(\n",
    "    cfg_model[\"trainer_coles\"][\"checkpoint_callback\"],\n",
    "    monitor=model_churn.metric_name,\n",
    "    mode=\"max\"\n",
    ")\n",
    "    \n",
    "early_stopping: EarlyStopping = instantiate(\n",
    "    cfg_model[\"trainer_coles\"][\"early_stopping\"],\n",
    "    monitor=model_churn.metric_name,\n",
    "    mode=\"max\"\n",
    ")\n",
    "    \n",
    "logger: TensorBoardLogger = instantiate(cfg_model[\"trainer_coles\"][\"logger\"])\n",
    "    \n",
    "trainer: Trainer = instantiate(\n",
    "    cfg_model[\"trainer_coles\"][\"trainer\"],\n",
    "    callbacks=[model_checkpoint, early_stopping],\n",
    "    logger=logger\n",
    ")\n",
    "    \n",
    "trainer.fit(model_churn, train_datamodule)"
   ]
  },
  {
   "cell_type": "code",
   "execution_count": 9,
   "id": "ca640ede",
   "metadata": {},
   "outputs": [],
   "source": [
    "torch.save(model_churn.state_dict(), \"saved_models/coles_churn_default.pth\")"
   ]
  },
  {
   "cell_type": "code",
   "execution_count": 9,
   "id": "0913f545",
   "metadata": {},
   "outputs": [
    {
     "data": {
      "text/plain": [
       "<All keys matched successfully>"
      ]
     },
     "execution_count": 9,
     "metadata": {},
     "output_type": "execute_result"
    }
   ],
   "source": [
    "model_churn.load_state_dict(torch.load(\"saved_models/coles_churn_default.pth\"))"
   ]
  },
  {
   "cell_type": "markdown",
   "id": "deca47b5",
   "metadata": {},
   "source": [
    "## Local target validation"
   ]
  },
  {
   "cell_type": "code",
   "execution_count": 10,
   "id": "0f3d08c4",
   "metadata": {},
   "outputs": [],
   "source": [
    "# initialize custom datasets and datamodule for local validation\n",
    "# use the same 'train' and 'val' preprocessed data\n",
    "train_data_local: CustomColesValidationDataset = instantiate(cfg_model[\"validation_dataset\"], data=train)\n",
    "val_data_local: CustomColesValidationDataset = instantiate(cfg_model[\"validation_dataset\"], data=val)\n",
    "test_data_local: CustomColesValidationDataset = instantiate(cfg_model[\"validation_dataset\"], data=test)\n",
    "\n",
    "# keep batch_size = 1 (all slices of one user in one batch)\n",
    "# or may use batch_size > 1 to speed-up LocalValidationModel training\n",
    "val_datamodule: PtlsDataModule = instantiate(\n",
    "    cfg_model[\"datamodule\"],\n",
    "    train_data=train_data_local,\n",
    "    valid_data=val_data_local,\n",
    "    test_data=test_data_local,\n",
    "    train_batch_size=10,\n",
    "    valid_batch_size=1,\n",
    "    test_batch_size=1\n",
    ")"
   ]
  },
  {
   "cell_type": "code",
   "execution_count": 11,
   "id": "e5033608",
   "metadata": {},
   "outputs": [
    {
     "data": {
      "text/plain": [
       "(torch.Size([25, 40]),\n",
       " {'global_target': tensor([[0, 0, 0, 0, 0, 0, 0, 0, 0, 0, 0, 0, 0, 0, 0, 0, 0, 0, 0, 0, 0, 0, 0, 0,\n",
       "           0, 0, 0, 0, 0, 0, 0, 0, 0, 0, 0, 0, 0, 0, 0, 0],\n",
       "          [0, 0, 0, 0, 0, 0, 0, 0, 0, 0, 0, 0, 0, 0, 0, 0, 0, 0, 0, 0, 0, 0, 0, 0,\n",
       "           0, 0, 0, 0, 0, 0, 0, 0, 0, 0, 0, 0, 0, 0, 0, 0],\n",
       "          [0, 0, 0, 0, 0, 0, 0, 0, 0, 0, 0, 0, 0, 0, 0, 0, 0, 0, 0, 0, 0, 0, 0, 0,\n",
       "           0, 0, 0, 0, 0, 0, 0, 0, 0, 0, 0, 0, 0, 0, 0, 0],\n",
       "          [0, 0, 0, 0, 0, 0, 0, 0, 0, 0, 0, 0, 0, 0, 0, 0, 0, 0, 0, 0, 0, 0, 0, 0,\n",
       "           0, 0, 0, 0, 0, 0, 0, 0, 0, 0, 0, 0, 0, 0, 0, 0],\n",
       "          [0, 0, 0, 0, 0, 0, 0, 0, 0, 0, 0, 0, 0, 0, 0, 0, 0, 0, 0, 0, 0, 0, 0, 0,\n",
       "           0, 0, 0, 0, 0, 0, 0, 0, 0, 0, 0, 0, 0, 0, 0, 0],\n",
       "          [0, 0, 0, 0, 0, 0, 0, 0, 0, 0, 0, 0, 0, 0, 0, 0, 0, 0, 0, 0, 0, 0, 0, 0,\n",
       "           0, 0, 0, 0, 0, 0, 0, 0, 0, 0, 0, 0, 0, 0, 0, 0],\n",
       "          [0, 0, 0, 0, 0, 0, 0, 0, 0, 0, 0, 0, 0, 0, 0, 0, 0, 0, 0, 0, 0, 0, 0, 0,\n",
       "           0, 0, 0, 0, 0, 0, 0, 0, 0, 0, 0, 0, 0, 0, 0, 0],\n",
       "          [0, 0, 0, 0, 0, 0, 0, 0, 0, 0, 0, 0, 0, 0, 0, 0, 0, 0, 0, 0, 0, 0, 0, 0,\n",
       "           0, 0, 0, 0, 0, 0, 0, 0, 0, 0, 0, 0, 0, 0, 0, 0],\n",
       "          [0, 0, 0, 0, 0, 0, 0, 0, 0, 0, 0, 0, 0, 0, 0, 0, 0, 0, 0, 0, 0, 0, 0, 0,\n",
       "           0, 0, 0, 0, 0, 0, 0, 0, 0, 0, 0, 0, 0, 0, 0, 0],\n",
       "          [0, 0, 0, 0, 0, 0, 0, 0, 0, 0, 0, 0, 0, 0, 0, 0, 0, 0, 0, 0, 0, 0, 0, 0,\n",
       "           0, 0, 0, 0, 0, 0, 0, 0, 0, 0, 0, 0, 0, 0, 0, 0],\n",
       "          [0, 0, 0, 0, 0, 0, 0, 0, 0, 0, 0, 0, 0, 0, 0, 0, 0, 0, 0, 0, 0, 0, 0, 0,\n",
       "           0, 0, 0, 0, 0, 0, 0, 0, 0, 0, 0, 0, 0, 0, 0, 0],\n",
       "          [0, 0, 0, 0, 0, 0, 0, 0, 0, 0, 0, 0, 0, 0, 0, 0, 0, 0, 0, 0, 0, 0, 0, 0,\n",
       "           0, 0, 0, 0, 0, 0, 0, 0, 0, 0, 0, 0, 0, 0, 0, 0],\n",
       "          [0, 0, 0, 0, 0, 0, 0, 0, 0, 0, 0, 0, 0, 0, 0, 0, 0, 0, 0, 0, 0, 0, 0, 0,\n",
       "           0, 0, 0, 0, 0, 0, 0, 0, 0, 0, 0, 0, 0, 0, 0, 0],\n",
       "          [0, 0, 0, 0, 0, 0, 0, 0, 0, 0, 0, 0, 0, 0, 0, 0, 0, 0, 0, 0, 0, 0, 0, 0,\n",
       "           0, 0, 0, 0, 0, 0, 0, 0, 0, 0, 0, 0, 0, 0, 0, 0],\n",
       "          [0, 0, 0, 0, 0, 0, 0, 0, 0, 0, 0, 0, 0, 0, 0, 0, 0, 0, 0, 0, 0, 0, 0, 0,\n",
       "           0, 0, 0, 0, 0, 0, 0, 0, 0, 0, 0, 0, 0, 0, 0, 0],\n",
       "          [0, 0, 0, 0, 0, 0, 0, 0, 0, 0, 0, 0, 0, 0, 0, 0, 0, 0, 0, 0, 0, 0, 0, 0,\n",
       "           0, 0, 0, 0, 0, 0, 0, 0, 0, 0, 0, 0, 0, 0, 0, 0],\n",
       "          [0, 0, 0, 0, 0, 0, 0, 0, 0, 0, 0, 0, 0, 0, 0, 0, 0, 0, 0, 0, 0, 0, 0, 0,\n",
       "           0, 0, 0, 0, 0, 0, 0, 0, 0, 0, 0, 0, 0, 0, 0, 0],\n",
       "          [0, 0, 0, 0, 0, 0, 0, 0, 0, 0, 0, 0, 0, 0, 0, 0, 0, 0, 0, 0, 0, 0, 0, 0,\n",
       "           0, 0, 0, 0, 0, 0, 0, 0, 0, 0, 0, 0, 0, 0, 0, 0],\n",
       "          [0, 0, 0, 0, 0, 0, 0, 0, 0, 0, 0, 0, 0, 0, 0, 0, 0, 0, 0, 0, 0, 0, 0, 0,\n",
       "           0, 0, 0, 0, 0, 0, 0, 0, 0, 0, 0, 0, 0, 0, 0, 0],\n",
       "          [0, 0, 0, 0, 0, 0, 0, 0, 0, 0, 0, 0, 0, 0, 0, 0, 0, 0, 0, 0, 0, 0, 0, 0,\n",
       "           0, 0, 0, 0, 0, 0, 0, 0, 0, 0, 0, 0, 0, 0, 0, 0],\n",
       "          [0, 0, 0, 0, 0, 0, 0, 0, 0, 0, 0, 0, 0, 0, 0, 0, 0, 0, 0, 0, 0, 0, 0, 0,\n",
       "           0, 0, 0, 0, 0, 0, 0, 0, 0, 0, 0, 0, 0, 0, 0, 0],\n",
       "          [0, 0, 0, 0, 0, 0, 0, 0, 0, 0, 0, 0, 0, 0, 0, 0, 0, 0, 0, 0, 0, 0, 0, 0,\n",
       "           0, 0, 0, 0, 0, 0, 0, 0, 0, 0, 0, 0, 0, 0, 0, 0],\n",
       "          [0, 0, 0, 0, 0, 0, 0, 0, 0, 0, 0, 0, 0, 0, 0, 0, 0, 0, 0, 0, 0, 0, 0, 0,\n",
       "           0, 0, 0, 0, 0, 0, 0, 0, 0, 0, 0, 0, 0, 0, 0, 0],\n",
       "          [0, 0, 0, 0, 0, 0, 0, 0, 0, 0, 0, 0, 0, 0, 0, 0, 0, 0, 0, 0, 0, 0, 0, 0,\n",
       "           0, 0, 0, 0, 0, 0, 0, 0, 0, 0, 0, 0, 0, 0, 0, 0],\n",
       "          [0, 0, 0, 0, 0, 0, 0, 0, 0, 0, 0, 0, 0, 0, 0, 0, 0, 0, 0, 0, 0, 0, 0, 0,\n",
       "           0, 0, 0, 0, 0, 0, 0, 0, 0, 0, 0, 0, 0, 0, 0, 0]]),\n",
       "  'holiday_target': tensor([[0, 0, 0, 0, 0, 0, 0, 0, 0, 0, 0, 0, 0, 0, 0, 0, 0, 0, 0, 0, 0, 0, 0, 0,\n",
       "           1, 0, 0, 0, 0, 0, 0, 0, 0, 0, 0, 0, 0, 0, 0, 0],\n",
       "          [0, 0, 0, 0, 0, 0, 0, 0, 0, 0, 0, 0, 0, 0, 0, 0, 0, 0, 0, 0, 0, 0, 0, 1,\n",
       "           0, 0, 0, 0, 0, 0, 0, 0, 0, 0, 0, 0, 0, 0, 0, 0],\n",
       "          [0, 0, 0, 0, 0, 0, 0, 0, 0, 0, 0, 0, 0, 0, 0, 0, 0, 0, 0, 0, 0, 0, 1, 0,\n",
       "           0, 0, 0, 0, 0, 0, 0, 0, 0, 0, 0, 0, 0, 0, 0, 0],\n",
       "          [0, 0, 0, 0, 0, 0, 0, 0, 0, 0, 0, 0, 0, 0, 0, 0, 0, 0, 0, 0, 0, 1, 0, 0,\n",
       "           0, 0, 0, 0, 0, 0, 0, 0, 0, 0, 0, 0, 0, 0, 0, 0],\n",
       "          [0, 0, 0, 0, 0, 0, 0, 0, 0, 0, 0, 0, 0, 0, 0, 0, 0, 0, 0, 0, 1, 0, 0, 0,\n",
       "           0, 0, 0, 0, 0, 0, 0, 0, 0, 0, 0, 0, 0, 0, 0, 0],\n",
       "          [0, 0, 0, 0, 0, 0, 0, 0, 0, 0, 0, 0, 0, 0, 0, 0, 0, 0, 0, 1, 0, 0, 0, 0,\n",
       "           0, 0, 0, 0, 0, 0, 0, 0, 0, 0, 0, 0, 0, 0, 0, 0],\n",
       "          [0, 0, 0, 0, 0, 0, 0, 0, 0, 0, 0, 0, 0, 0, 0, 0, 0, 0, 1, 0, 0, 0, 0, 0,\n",
       "           0, 0, 0, 0, 0, 0, 0, 0, 0, 0, 0, 0, 0, 0, 0, 0],\n",
       "          [0, 0, 0, 0, 0, 0, 0, 0, 0, 0, 0, 0, 0, 0, 0, 0, 0, 1, 0, 0, 0, 0, 0, 0,\n",
       "           0, 0, 0, 0, 0, 0, 0, 0, 0, 0, 0, 0, 0, 0, 0, 0],\n",
       "          [0, 0, 0, 0, 0, 0, 0, 0, 0, 0, 0, 0, 0, 0, 0, 0, 1, 0, 0, 0, 0, 0, 0, 0,\n",
       "           0, 0, 0, 0, 0, 0, 0, 0, 0, 0, 0, 0, 0, 0, 0, 0],\n",
       "          [0, 0, 0, 0, 0, 0, 0, 0, 0, 0, 0, 0, 0, 0, 0, 1, 0, 0, 0, 0, 0, 0, 0, 0,\n",
       "           0, 0, 0, 0, 0, 0, 0, 0, 0, 0, 0, 0, 0, 0, 0, 0],\n",
       "          [0, 0, 0, 0, 0, 0, 0, 0, 0, 0, 0, 0, 0, 0, 1, 0, 0, 0, 0, 0, 0, 0, 0, 0,\n",
       "           0, 0, 0, 0, 0, 0, 0, 0, 0, 0, 0, 0, 0, 0, 0, 0],\n",
       "          [0, 0, 0, 0, 0, 0, 0, 0, 0, 0, 0, 0, 0, 1, 0, 0, 0, 0, 0, 0, 0, 0, 0, 0,\n",
       "           0, 0, 0, 0, 0, 0, 0, 0, 0, 0, 0, 0, 0, 0, 0, 0],\n",
       "          [0, 0, 0, 0, 0, 0, 0, 0, 0, 0, 0, 0, 1, 0, 0, 0, 0, 0, 0, 0, 0, 0, 0, 0,\n",
       "           0, 0, 0, 0, 0, 0, 0, 0, 0, 0, 0, 0, 0, 0, 0, 0],\n",
       "          [0, 0, 0, 0, 0, 0, 0, 0, 0, 0, 0, 1, 0, 0, 0, 0, 0, 0, 0, 0, 0, 0, 0, 0,\n",
       "           0, 0, 0, 0, 0, 0, 0, 0, 0, 0, 0, 0, 0, 0, 0, 0],\n",
       "          [0, 0, 0, 0, 0, 0, 0, 0, 0, 0, 1, 0, 0, 0, 0, 0, 0, 0, 0, 0, 0, 0, 0, 0,\n",
       "           0, 0, 0, 0, 0, 0, 0, 0, 0, 0, 0, 0, 0, 0, 0, 0],\n",
       "          [0, 0, 0, 0, 0, 0, 0, 0, 0, 1, 0, 0, 0, 0, 0, 0, 0, 0, 0, 0, 0, 0, 0, 0,\n",
       "           0, 0, 0, 0, 0, 0, 0, 0, 0, 0, 0, 0, 0, 0, 0, 0],\n",
       "          [0, 0, 0, 0, 0, 0, 0, 0, 1, 0, 0, 0, 0, 0, 0, 0, 0, 0, 0, 0, 0, 0, 0, 0,\n",
       "           0, 0, 0, 0, 0, 0, 0, 0, 0, 0, 0, 0, 0, 0, 0, 0],\n",
       "          [0, 0, 0, 0, 0, 0, 0, 1, 0, 0, 0, 0, 0, 0, 0, 0, 0, 0, 0, 0, 0, 0, 0, 0,\n",
       "           0, 0, 0, 0, 0, 0, 0, 0, 0, 0, 0, 0, 0, 0, 0, 0],\n",
       "          [0, 0, 0, 0, 0, 0, 1, 0, 0, 0, 0, 0, 0, 0, 0, 0, 0, 0, 0, 0, 0, 0, 0, 0,\n",
       "           0, 0, 0, 0, 0, 0, 0, 0, 0, 0, 0, 0, 0, 0, 0, 0],\n",
       "          [0, 0, 0, 0, 0, 1, 0, 0, 0, 0, 0, 0, 0, 0, 0, 0, 0, 0, 0, 0, 0, 0, 0, 0,\n",
       "           0, 0, 0, 0, 0, 0, 0, 0, 0, 0, 0, 0, 0, 0, 0, 0],\n",
       "          [0, 0, 0, 0, 1, 0, 0, 0, 0, 0, 0, 0, 0, 0, 0, 0, 0, 0, 0, 0, 0, 0, 0, 0,\n",
       "           0, 0, 0, 0, 0, 0, 0, 0, 0, 0, 0, 0, 0, 0, 0, 0],\n",
       "          [0, 0, 0, 1, 0, 0, 0, 0, 0, 0, 0, 0, 0, 0, 0, 0, 0, 0, 0, 0, 0, 0, 0, 0,\n",
       "           0, 0, 0, 0, 0, 0, 0, 0, 0, 0, 0, 0, 0, 0, 0, 0],\n",
       "          [0, 0, 1, 0, 0, 0, 0, 0, 0, 0, 0, 0, 0, 0, 0, 0, 0, 0, 0, 0, 0, 0, 0, 0,\n",
       "           0, 0, 0, 0, 0, 0, 0, 0, 0, 0, 0, 0, 0, 0, 0, 0],\n",
       "          [0, 1, 0, 0, 0, 0, 0, 0, 0, 0, 0, 0, 0, 0, 0, 0, 0, 0, 0, 0, 0, 0, 0, 0,\n",
       "           0, 0, 0, 0, 0, 0, 0, 0, 0, 0, 0, 0, 0, 0, 0, 0],\n",
       "          [1, 0, 0, 0, 0, 0, 0, 0, 0, 0, 0, 0, 0, 0, 0, 0, 0, 0, 0, 0, 0, 0, 0, 0,\n",
       "           0, 0, 0, 0, 0, 0, 0, 0, 0, 0, 0, 0, 0, 0, 0, 0]]),\n",
       "  'weekend_target': tensor([[0, 0, 0, 0, 0, 0, 0, 0, 0, 1, 0, 0, 0, 0, 1, 1, 1, 1, 0, 0, 0, 0, 0, 1,\n",
       "           1, 0, 0, 0, 0, 0, 0, 0, 0, 1, 1, 1, 0, 1, 1, 0],\n",
       "          [0, 0, 0, 0, 0, 0, 0, 0, 1, 0, 0, 0, 0, 1, 1, 1, 1, 0, 0, 0, 0, 0, 1, 1,\n",
       "           0, 0, 0, 0, 0, 0, 0, 0, 1, 1, 1, 0, 1, 1, 0, 0],\n",
       "          [0, 0, 0, 0, 0, 0, 0, 1, 0, 0, 0, 0, 1, 1, 1, 1, 0, 0, 0, 0, 0, 1, 1, 0,\n",
       "           0, 0, 0, 0, 0, 0, 0, 1, 1, 1, 0, 1, 1, 0, 0, 0],\n",
       "          [0, 0, 0, 0, 0, 0, 1, 0, 0, 0, 0, 1, 1, 1, 1, 0, 0, 0, 0, 0, 1, 1, 0, 0,\n",
       "           0, 0, 0, 0, 0, 0, 1, 1, 1, 0, 1, 1, 0, 0, 0, 0],\n",
       "          [0, 0, 0, 0, 0, 1, 0, 0, 0, 0, 1, 1, 1, 1, 0, 0, 0, 0, 0, 1, 1, 0, 0, 0,\n",
       "           0, 0, 0, 0, 0, 1, 1, 1, 0, 1, 1, 0, 0, 0, 0, 0],\n",
       "          [0, 0, 0, 0, 1, 0, 0, 0, 0, 1, 1, 1, 1, 0, 0, 0, 0, 0, 1, 1, 0, 0, 0, 0,\n",
       "           0, 0, 0, 0, 1, 1, 1, 0, 1, 1, 0, 0, 0, 0, 0, 0],\n",
       "          [0, 0, 0, 1, 0, 0, 0, 0, 1, 1, 1, 1, 0, 0, 0, 0, 0, 1, 1, 0, 0, 0, 0, 0,\n",
       "           0, 0, 0, 1, 1, 1, 0, 1, 1, 0, 0, 0, 0, 0, 0, 0],\n",
       "          [0, 0, 1, 0, 0, 0, 0, 1, 1, 1, 1, 0, 0, 0, 0, 0, 1, 1, 0, 0, 0, 0, 0, 0,\n",
       "           0, 0, 1, 1, 1, 0, 1, 1, 0, 0, 0, 0, 0, 0, 0, 0],\n",
       "          [0, 1, 0, 0, 0, 0, 1, 1, 1, 1, 0, 0, 0, 0, 0, 1, 1, 0, 0, 0, 0, 0, 0, 0,\n",
       "           0, 1, 1, 1, 0, 1, 1, 0, 0, 0, 0, 0, 0, 0, 0, 1],\n",
       "          [1, 0, 0, 0, 0, 1, 1, 1, 1, 0, 0, 0, 0, 0, 1, 1, 0, 0, 0, 0, 0, 0, 0, 0,\n",
       "           1, 1, 1, 0, 1, 1, 0, 0, 0, 0, 0, 0, 0, 0, 1, 0],\n",
       "          [0, 0, 0, 0, 1, 1, 1, 1, 0, 0, 0, 0, 0, 1, 1, 0, 0, 0, 0, 0, 0, 0, 0, 1,\n",
       "           1, 1, 0, 1, 1, 0, 0, 0, 0, 0, 0, 0, 0, 1, 0, 1],\n",
       "          [0, 0, 0, 1, 1, 1, 1, 0, 0, 0, 0, 0, 1, 1, 0, 0, 0, 0, 0, 0, 0, 0, 1, 1,\n",
       "           1, 0, 1, 1, 0, 0, 0, 0, 0, 0, 0, 0, 1, 0, 1, 0],\n",
       "          [0, 0, 1, 1, 1, 1, 0, 0, 0, 0, 0, 1, 1, 0, 0, 0, 0, 0, 0, 0, 0, 1, 1, 1,\n",
       "           0, 1, 1, 0, 0, 0, 0, 0, 0, 0, 0, 1, 0, 1, 0, 0],\n",
       "          [0, 1, 1, 1, 1, 0, 0, 0, 0, 0, 1, 1, 0, 0, 0, 0, 0, 0, 0, 0, 1, 1, 1, 0,\n",
       "           1, 1, 0, 0, 0, 0, 0, 0, 0, 0, 1, 0, 1, 0, 0, 0],\n",
       "          [1, 1, 1, 1, 0, 0, 0, 0, 0, 1, 1, 0, 0, 0, 0, 0, 0, 0, 0, 1, 1, 1, 0, 1,\n",
       "           1, 0, 0, 0, 0, 0, 0, 0, 0, 1, 0, 1, 0, 0, 0, 0],\n",
       "          [1, 1, 1, 0, 0, 0, 0, 0, 1, 1, 0, 0, 0, 0, 0, 0, 0, 0, 1, 1, 1, 0, 1, 1,\n",
       "           0, 0, 0, 0, 0, 0, 0, 0, 1, 0, 1, 0, 0, 0, 0, 0],\n",
       "          [1, 1, 0, 0, 0, 0, 0, 1, 1, 0, 0, 0, 0, 0, 0, 0, 0, 1, 1, 1, 0, 1, 1, 0,\n",
       "           0, 0, 0, 0, 0, 0, 0, 1, 0, 1, 0, 0, 0, 0, 0, 0],\n",
       "          [1, 0, 0, 0, 0, 0, 1, 1, 0, 0, 0, 0, 0, 0, 0, 0, 1, 1, 1, 0, 1, 1, 0, 0,\n",
       "           0, 0, 0, 0, 0, 0, 1, 0, 1, 0, 0, 0, 0, 0, 0, 1],\n",
       "          [0, 0, 0, 0, 0, 1, 1, 0, 0, 0, 0, 0, 0, 0, 0, 1, 1, 1, 0, 1, 1, 0, 0, 0,\n",
       "           0, 0, 0, 0, 0, 1, 0, 1, 0, 0, 0, 0, 0, 0, 1, 0],\n",
       "          [0, 0, 0, 0, 1, 1, 0, 0, 0, 0, 0, 0, 0, 0, 1, 1, 1, 0, 1, 1, 0, 0, 0, 0,\n",
       "           0, 0, 0, 0, 1, 0, 1, 0, 0, 0, 0, 0, 0, 1, 0, 0],\n",
       "          [0, 0, 0, 1, 1, 0, 0, 0, 0, 0, 0, 0, 0, 1, 1, 1, 0, 1, 1, 0, 0, 0, 0, 0,\n",
       "           0, 0, 0, 1, 0, 1, 0, 0, 0, 0, 0, 0, 1, 0, 0, 0],\n",
       "          [0, 0, 1, 1, 0, 0, 0, 0, 0, 0, 0, 0, 1, 1, 1, 0, 1, 1, 0, 0, 0, 0, 0, 0,\n",
       "           0, 0, 1, 0, 1, 0, 0, 0, 0, 0, 0, 1, 0, 0, 0, 0],\n",
       "          [0, 1, 1, 0, 0, 0, 0, 0, 0, 0, 0, 1, 1, 1, 0, 1, 1, 0, 0, 0, 0, 0, 0, 0,\n",
       "           0, 1, 0, 1, 0, 0, 0, 0, 0, 0, 1, 0, 0, 0, 0, 0],\n",
       "          [1, 1, 0, 0, 0, 0, 0, 0, 0, 0, 1, 1, 1, 0, 1, 1, 0, 0, 0, 0, 0, 0, 0, 0,\n",
       "           1, 0, 1, 0, 0, 0, 0, 0, 0, 1, 0, 0, 0, 0, 0, 0],\n",
       "          [1, 0, 0, 0, 0, 0, 0, 0, 0, 1, 1, 1, 0, 1, 1, 0, 0, 0, 0, 0, 0, 0, 0, 1,\n",
       "           0, 1, 0, 0, 0, 0, 0, 0, 1, 0, 0, 0, 0, 0, 0, 0]]),\n",
       "  'event_time': tensor([[1481587200, 1481587200, 1481630074, 1481673600, 1481673600, 1481760000,\n",
       "           1481760000, 1481760000, 1481846400, 1482019200, 1482105600, 1482192000,\n",
       "           1482364800, 1482502665, 1482537600, 1482537600, 1482537600, 1482597253,\n",
       "           1482710400, 1482710400, 1482796800, 1482883200, 1482941918, 1483212899,\n",
       "           1483833600, 1483920000, 1484006400, 1484092800, 1484092800, 1484179200,\n",
       "           1484179200, 1484179200, 1484265600, 1484352000, 1484352000, 1484438400,\n",
       "           1484611200, 1484956800, 1484956800, 1485129600],\n",
       "          [1481587200, 1481630074, 1481673600, 1481673600, 1481760000, 1481760000,\n",
       "           1481760000, 1481846400, 1482019200, 1482105600, 1482192000, 1482364800,\n",
       "           1482502665, 1482537600, 1482537600, 1482537600, 1482597253, 1482710400,\n",
       "           1482710400, 1482796800, 1482883200, 1482941918, 1483212899, 1483833600,\n",
       "           1483920000, 1484006400, 1484092800, 1484092800, 1484179200, 1484179200,\n",
       "           1484179200, 1484265600, 1484352000, 1484352000, 1484438400, 1484611200,\n",
       "           1484956800, 1484956800, 1485129600, 1485129600],\n",
       "          [1481630074, 1481673600, 1481673600, 1481760000, 1481760000, 1481760000,\n",
       "           1481846400, 1482019200, 1482105600, 1482192000, 1482364800, 1482502665,\n",
       "           1482537600, 1482537600, 1482537600, 1482597253, 1482710400, 1482710400,\n",
       "           1482796800, 1482883200, 1482941918, 1483212899, 1483833600, 1483920000,\n",
       "           1484006400, 1484092800, 1484092800, 1484179200, 1484179200, 1484179200,\n",
       "           1484265600, 1484352000, 1484352000, 1484438400, 1484611200, 1484956800,\n",
       "           1484956800, 1485129600, 1485129600, 1485216000],\n",
       "          [1481673600, 1481673600, 1481760000, 1481760000, 1481760000, 1481846400,\n",
       "           1482019200, 1482105600, 1482192000, 1482364800, 1482502665, 1482537600,\n",
       "           1482537600, 1482537600, 1482597253, 1482710400, 1482710400, 1482796800,\n",
       "           1482883200, 1482941918, 1483212899, 1483833600, 1483920000, 1484006400,\n",
       "           1484092800, 1484092800, 1484179200, 1484179200, 1484179200, 1484265600,\n",
       "           1484352000, 1484352000, 1484438400, 1484611200, 1484956800, 1484956800,\n",
       "           1485129600, 1485129600, 1485216000, 1485216000],\n",
       "          [1481673600, 1481760000, 1481760000, 1481760000, 1481846400, 1482019200,\n",
       "           1482105600, 1482192000, 1482364800, 1482502665, 1482537600, 1482537600,\n",
       "           1482537600, 1482597253, 1482710400, 1482710400, 1482796800, 1482883200,\n",
       "           1482941918, 1483212899, 1483833600, 1483920000, 1484006400, 1484092800,\n",
       "           1484092800, 1484179200, 1484179200, 1484179200, 1484265600, 1484352000,\n",
       "           1484352000, 1484438400, 1484611200, 1484956800, 1484956800, 1485129600,\n",
       "           1485129600, 1485216000, 1485216000, 1485216000],\n",
       "          [1481760000, 1481760000, 1481760000, 1481846400, 1482019200, 1482105600,\n",
       "           1482192000, 1482364800, 1482502665, 1482537600, 1482537600, 1482537600,\n",
       "           1482597253, 1482710400, 1482710400, 1482796800, 1482883200, 1482941918,\n",
       "           1483212899, 1483833600, 1483920000, 1484006400, 1484092800, 1484092800,\n",
       "           1484179200, 1484179200, 1484179200, 1484265600, 1484352000, 1484352000,\n",
       "           1484438400, 1484611200, 1484956800, 1484956800, 1485129600, 1485129600,\n",
       "           1485216000, 1485216000, 1485216000, 1485216000],\n",
       "          [1481760000, 1481760000, 1481846400, 1482019200, 1482105600, 1482192000,\n",
       "           1482364800, 1482502665, 1482537600, 1482537600, 1482537600, 1482597253,\n",
       "           1482710400, 1482710400, 1482796800, 1482883200, 1482941918, 1483212899,\n",
       "           1483833600, 1483920000, 1484006400, 1484092800, 1484092800, 1484179200,\n",
       "           1484179200, 1484179200, 1484265600, 1484352000, 1484352000, 1484438400,\n",
       "           1484611200, 1484956800, 1484956800, 1485129600, 1485129600, 1485216000,\n",
       "           1485216000, 1485216000, 1485216000, 1485302400],\n",
       "          [1481760000, 1481846400, 1482019200, 1482105600, 1482192000, 1482364800,\n",
       "           1482502665, 1482537600, 1482537600, 1482537600, 1482597253, 1482710400,\n",
       "           1482710400, 1482796800, 1482883200, 1482941918, 1483212899, 1483833600,\n",
       "           1483920000, 1484006400, 1484092800, 1484092800, 1484179200, 1484179200,\n",
       "           1484179200, 1484265600, 1484352000, 1484352000, 1484438400, 1484611200,\n",
       "           1484956800, 1484956800, 1485129600, 1485129600, 1485216000, 1485216000,\n",
       "           1485216000, 1485216000, 1485302400, 1485475200],\n",
       "          [1481846400, 1482019200, 1482105600, 1482192000, 1482364800, 1482502665,\n",
       "           1482537600, 1482537600, 1482537600, 1482597253, 1482710400, 1482710400,\n",
       "           1482796800, 1482883200, 1482941918, 1483212899, 1483833600, 1483920000,\n",
       "           1484006400, 1484092800, 1484092800, 1484179200, 1484179200, 1484179200,\n",
       "           1484265600, 1484352000, 1484352000, 1484438400, 1484611200, 1484956800,\n",
       "           1484956800, 1485129600, 1485129600, 1485216000, 1485216000, 1485216000,\n",
       "           1485216000, 1485302400, 1485475200, 1485561600],\n",
       "          [1482019200, 1482105600, 1482192000, 1482364800, 1482502665, 1482537600,\n",
       "           1482537600, 1482537600, 1482597253, 1482710400, 1482710400, 1482796800,\n",
       "           1482883200, 1482941918, 1483212899, 1483833600, 1483920000, 1484006400,\n",
       "           1484092800, 1484092800, 1484179200, 1484179200, 1484179200, 1484265600,\n",
       "           1484352000, 1484352000, 1484438400, 1484611200, 1484956800, 1484956800,\n",
       "           1485129600, 1485129600, 1485216000, 1485216000, 1485216000, 1485216000,\n",
       "           1485302400, 1485475200, 1485561600, 1485891421],\n",
       "          [1482105600, 1482192000, 1482364800, 1482502665, 1482537600, 1482537600,\n",
       "           1482537600, 1482597253, 1482710400, 1482710400, 1482796800, 1482883200,\n",
       "           1482941918, 1483212899, 1483833600, 1483920000, 1484006400, 1484092800,\n",
       "           1484092800, 1484179200, 1484179200, 1484179200, 1484265600, 1484352000,\n",
       "           1484352000, 1484438400, 1484611200, 1484956800, 1484956800, 1485129600,\n",
       "           1485129600, 1485216000, 1485216000, 1485216000, 1485216000, 1485302400,\n",
       "           1485475200, 1485561600, 1485891421, 1486166400],\n",
       "          [1482192000, 1482364800, 1482502665, 1482537600, 1482537600, 1482537600,\n",
       "           1482597253, 1482710400, 1482710400, 1482796800, 1482883200, 1482941918,\n",
       "           1483212899, 1483833600, 1483920000, 1484006400, 1484092800, 1484092800,\n",
       "           1484179200, 1484179200, 1484179200, 1484265600, 1484352000, 1484352000,\n",
       "           1484438400, 1484611200, 1484956800, 1484956800, 1485129600, 1485129600,\n",
       "           1485216000, 1485216000, 1485216000, 1485216000, 1485302400, 1485475200,\n",
       "           1485561600, 1485891421, 1486166400, 1487203200],\n",
       "          [1482364800, 1482502665, 1482537600, 1482537600, 1482537600, 1482597253,\n",
       "           1482710400, 1482710400, 1482796800, 1482883200, 1482941918, 1483212899,\n",
       "           1483833600, 1483920000, 1484006400, 1484092800, 1484092800, 1484179200,\n",
       "           1484179200, 1484179200, 1484265600, 1484352000, 1484352000, 1484438400,\n",
       "           1484611200, 1484956800, 1484956800, 1485129600, 1485129600, 1485216000,\n",
       "           1485216000, 1485216000, 1485216000, 1485302400, 1485475200, 1485561600,\n",
       "           1485891421, 1486166400, 1487203200, 1487203200],\n",
       "          [1482502665, 1482537600, 1482537600, 1482537600, 1482597253, 1482710400,\n",
       "           1482710400, 1482796800, 1482883200, 1482941918, 1483212899, 1483833600,\n",
       "           1483920000, 1484006400, 1484092800, 1484092800, 1484179200, 1484179200,\n",
       "           1484179200, 1484265600, 1484352000, 1484352000, 1484438400, 1484611200,\n",
       "           1484956800, 1484956800, 1485129600, 1485129600, 1485216000, 1485216000,\n",
       "           1485216000, 1485216000, 1485302400, 1485475200, 1485561600, 1485891421,\n",
       "           1486166400, 1487203200, 1487203200, 1487268224],\n",
       "          [1482537600, 1482537600, 1482537600, 1482597253, 1482710400, 1482710400,\n",
       "           1482796800, 1482883200, 1482941918, 1483212899, 1483833600, 1483920000,\n",
       "           1484006400, 1484092800, 1484092800, 1484179200, 1484179200, 1484179200,\n",
       "           1484265600, 1484352000, 1484352000, 1484438400, 1484611200, 1484956800,\n",
       "           1484956800, 1485129600, 1485129600, 1485216000, 1485216000, 1485216000,\n",
       "           1485216000, 1485302400, 1485475200, 1485561600, 1485891421, 1486166400,\n",
       "           1487203200, 1487203200, 1487268224, 1487289600],\n",
       "          [1482537600, 1482537600, 1482597253, 1482710400, 1482710400, 1482796800,\n",
       "           1482883200, 1482941918, 1483212899, 1483833600, 1483920000, 1484006400,\n",
       "           1484092800, 1484092800, 1484179200, 1484179200, 1484179200, 1484265600,\n",
       "           1484352000, 1484352000, 1484438400, 1484611200, 1484956800, 1484956800,\n",
       "           1485129600, 1485129600, 1485216000, 1485216000, 1485216000, 1485216000,\n",
       "           1485302400, 1485475200, 1485561600, 1485891421, 1486166400, 1487203200,\n",
       "           1487203200, 1487268224, 1487289600, 1487548800],\n",
       "          [1482537600, 1482597253, 1482710400, 1482710400, 1482796800, 1482883200,\n",
       "           1482941918, 1483212899, 1483833600, 1483920000, 1484006400, 1484092800,\n",
       "           1484092800, 1484179200, 1484179200, 1484179200, 1484265600, 1484352000,\n",
       "           1484352000, 1484438400, 1484611200, 1484956800, 1484956800, 1485129600,\n",
       "           1485129600, 1485216000, 1485216000, 1485216000, 1485216000, 1485302400,\n",
       "           1485475200, 1485561600, 1485891421, 1486166400, 1487203200, 1487203200,\n",
       "           1487268224, 1487289600, 1487548800, 1487548800],\n",
       "          [1482597253, 1482710400, 1482710400, 1482796800, 1482883200, 1482941918,\n",
       "           1483212899, 1483833600, 1483920000, 1484006400, 1484092800, 1484092800,\n",
       "           1484179200, 1484179200, 1484179200, 1484265600, 1484352000, 1484352000,\n",
       "           1484438400, 1484611200, 1484956800, 1484956800, 1485129600, 1485129600,\n",
       "           1485216000, 1485216000, 1485216000, 1485216000, 1485302400, 1485475200,\n",
       "           1485561600, 1485891421, 1486166400, 1487203200, 1487203200, 1487268224,\n",
       "           1487289600, 1487548800, 1487548800, 1487980800],\n",
       "          [1482710400, 1482710400, 1482796800, 1482883200, 1482941918, 1483212899,\n",
       "           1483833600, 1483920000, 1484006400, 1484092800, 1484092800, 1484179200,\n",
       "           1484179200, 1484179200, 1484265600, 1484352000, 1484352000, 1484438400,\n",
       "           1484611200, 1484956800, 1484956800, 1485129600, 1485129600, 1485216000,\n",
       "           1485216000, 1485216000, 1485216000, 1485302400, 1485475200, 1485561600,\n",
       "           1485891421, 1486166400, 1487203200, 1487203200, 1487268224, 1487289600,\n",
       "           1487548800, 1487548800, 1487980800, 1488240000],\n",
       "          [1482710400, 1482796800, 1482883200, 1482941918, 1483212899, 1483833600,\n",
       "           1483920000, 1484006400, 1484092800, 1484092800, 1484179200, 1484179200,\n",
       "           1484179200, 1484265600, 1484352000, 1484352000, 1484438400, 1484611200,\n",
       "           1484956800, 1484956800, 1485129600, 1485129600, 1485216000, 1485216000,\n",
       "           1485216000, 1485216000, 1485302400, 1485475200, 1485561600, 1485891421,\n",
       "           1486166400, 1487203200, 1487203200, 1487268224, 1487289600, 1487548800,\n",
       "           1487548800, 1487980800, 1488240000, 1488240000],\n",
       "          [1482796800, 1482883200, 1482941918, 1483212899, 1483833600, 1483920000,\n",
       "           1484006400, 1484092800, 1484092800, 1484179200, 1484179200, 1484179200,\n",
       "           1484265600, 1484352000, 1484352000, 1484438400, 1484611200, 1484956800,\n",
       "           1484956800, 1485129600, 1485129600, 1485216000, 1485216000, 1485216000,\n",
       "           1485216000, 1485302400, 1485475200, 1485561600, 1485891421, 1486166400,\n",
       "           1487203200, 1487203200, 1487268224, 1487289600, 1487548800, 1487548800,\n",
       "           1487980800, 1488240000, 1488240000, 1488240000],\n",
       "          [1482883200, 1482941918, 1483212899, 1483833600, 1483920000, 1484006400,\n",
       "           1484092800, 1484092800, 1484179200, 1484179200, 1484179200, 1484265600,\n",
       "           1484352000, 1484352000, 1484438400, 1484611200, 1484956800, 1484956800,\n",
       "           1485129600, 1485129600, 1485216000, 1485216000, 1485216000, 1485216000,\n",
       "           1485302400, 1485475200, 1485561600, 1485891421, 1486166400, 1487203200,\n",
       "           1487203200, 1487268224, 1487289600, 1487548800, 1487548800, 1487980800,\n",
       "           1488240000, 1488240000, 1488240000, 1488276148],\n",
       "          [1482941918, 1483212899, 1483833600, 1483920000, 1484006400, 1484092800,\n",
       "           1484092800, 1484179200, 1484179200, 1484179200, 1484265600, 1484352000,\n",
       "           1484352000, 1484438400, 1484611200, 1484956800, 1484956800, 1485129600,\n",
       "           1485129600, 1485216000, 1485216000, 1485216000, 1485216000, 1485302400,\n",
       "           1485475200, 1485561600, 1485891421, 1486166400, 1487203200, 1487203200,\n",
       "           1487268224, 1487289600, 1487548800, 1487548800, 1487980800, 1488240000,\n",
       "           1488240000, 1488240000, 1488276148, 1488326400],\n",
       "          [1483212899, 1483833600, 1483920000, 1484006400, 1484092800, 1484092800,\n",
       "           1484179200, 1484179200, 1484179200, 1484265600, 1484352000, 1484352000,\n",
       "           1484438400, 1484611200, 1484956800, 1484956800, 1485129600, 1485129600,\n",
       "           1485216000, 1485216000, 1485216000, 1485216000, 1485302400, 1485475200,\n",
       "           1485561600, 1485891421, 1486166400, 1487203200, 1487203200, 1487268224,\n",
       "           1487289600, 1487548800, 1487548800, 1487980800, 1488240000, 1488240000,\n",
       "           1488240000, 1488276148, 1488326400, 1488326400],\n",
       "          [1483833600, 1483920000, 1484006400, 1484092800, 1484092800, 1484179200,\n",
       "           1484179200, 1484179200, 1484265600, 1484352000, 1484352000, 1484438400,\n",
       "           1484611200, 1484956800, 1484956800, 1485129600, 1485129600, 1485216000,\n",
       "           1485216000, 1485216000, 1485216000, 1485302400, 1485475200, 1485561600,\n",
       "           1485891421, 1486166400, 1487203200, 1487203200, 1487268224, 1487289600,\n",
       "           1487548800, 1487548800, 1487980800, 1488240000, 1488240000, 1488240000,\n",
       "           1488276148, 1488326400, 1488326400, 1488412800]]),\n",
       "  'mcc_code': tensor([[64, 64,  2, 13,  4,  4,  4, 52,  4, 11, 52,  6, 21, 14, 58,  4,  4, 14,\n",
       "            6,  4,  5, 81, 14, 14,  5,  5,  5,  1,  5,  1,  8,  7,  5,  6,  1,  1,\n",
       "            4,  6,  1,  5],\n",
       "          [64,  2, 13,  4,  4,  4, 52,  4, 11, 52,  6, 21, 14, 58,  4,  4, 14,  6,\n",
       "            4,  5, 81, 14, 14,  5,  5,  5,  1,  5,  1,  8,  7,  5,  6,  1,  1,  4,\n",
       "            6,  1,  5,  5],\n",
       "          [ 2, 13,  4,  4,  4, 52,  4, 11, 52,  6, 21, 14, 58,  4,  4, 14,  6,  4,\n",
       "            5, 81, 14, 14,  5,  5,  5,  1,  5,  1,  8,  7,  5,  6,  1,  1,  4,  6,\n",
       "            1,  5,  5,  1],\n",
       "          [13,  4,  4,  4, 52,  4, 11, 52,  6, 21, 14, 58,  4,  4, 14,  6,  4,  5,\n",
       "           81, 14, 14,  5,  5,  5,  1,  5,  1,  8,  7,  5,  6,  1,  1,  4,  6,  1,\n",
       "            5,  5,  1,  9],\n",
       "          [ 4,  4,  4, 52,  4, 11, 52,  6, 21, 14, 58,  4,  4, 14,  6,  4,  5, 81,\n",
       "           14, 14,  5,  5,  5,  1,  5,  1,  8,  7,  5,  6,  1,  1,  4,  6,  1,  5,\n",
       "            5,  1,  9,  6],\n",
       "          [ 4,  4, 52,  4, 11, 52,  6, 21, 14, 58,  4,  4, 14,  6,  4,  5, 81, 14,\n",
       "           14,  5,  5,  5,  1,  5,  1,  8,  7,  5,  6,  1,  1,  4,  6,  1,  5,  5,\n",
       "            1,  9,  6,  6],\n",
       "          [ 4, 52,  4, 11, 52,  6, 21, 14, 58,  4,  4, 14,  6,  4,  5, 81, 14, 14,\n",
       "            5,  5,  5,  1,  5,  1,  8,  7,  5,  6,  1,  1,  4,  6,  1,  5,  5,  1,\n",
       "            9,  6,  6,  4],\n",
       "          [52,  4, 11, 52,  6, 21, 14, 58,  4,  4, 14,  6,  4,  5, 81, 14, 14,  5,\n",
       "            5,  5,  1,  5,  1,  8,  7,  5,  6,  1,  1,  4,  6,  1,  5,  5,  1,  9,\n",
       "            6,  6,  4,  7],\n",
       "          [ 4, 11, 52,  6, 21, 14, 58,  4,  4, 14,  6,  4,  5, 81, 14, 14,  5,  5,\n",
       "            5,  1,  5,  1,  8,  7,  5,  6,  1,  1,  4,  6,  1,  5,  5,  1,  9,  6,\n",
       "            6,  4,  7,  7],\n",
       "          [11, 52,  6, 21, 14, 58,  4,  4, 14,  6,  4,  5, 81, 14, 14,  5,  5,  5,\n",
       "            1,  5,  1,  8,  7,  5,  6,  1,  1,  4,  6,  1,  5,  5,  1,  9,  6,  6,\n",
       "            4,  7,  7,  2],\n",
       "          [52,  6, 21, 14, 58,  4,  4, 14,  6,  4,  5, 81, 14, 14,  5,  5,  5,  1,\n",
       "            5,  1,  8,  7,  5,  6,  1,  1,  4,  6,  1,  5,  5,  1,  9,  6,  6,  4,\n",
       "            7,  7,  2, 35],\n",
       "          [ 6, 21, 14, 58,  4,  4, 14,  6,  4,  5, 81, 14, 14,  5,  5,  5,  1,  5,\n",
       "            1,  8,  7,  5,  6,  1,  1,  4,  6,  1,  5,  5,  1,  9,  6,  6,  4,  7,\n",
       "            7,  2, 35,  6],\n",
       "          [21, 14, 58,  4,  4, 14,  6,  4,  5, 81, 14, 14,  5,  5,  5,  1,  5,  1,\n",
       "            8,  7,  5,  6,  1,  1,  4,  6,  1,  5,  5,  1,  9,  6,  6,  4,  7,  7,\n",
       "            2, 35,  6,  5],\n",
       "          [14, 58,  4,  4, 14,  6,  4,  5, 81, 14, 14,  5,  5,  5,  1,  5,  1,  8,\n",
       "            7,  5,  6,  1,  1,  4,  6,  1,  5,  5,  1,  9,  6,  6,  4,  7,  7,  2,\n",
       "           35,  6,  5, 14],\n",
       "          [58,  4,  4, 14,  6,  4,  5, 81, 14, 14,  5,  5,  5,  1,  5,  1,  8,  7,\n",
       "            5,  6,  1,  1,  4,  6,  1,  5,  5,  1,  9,  6,  6,  4,  7,  7,  2, 35,\n",
       "            6,  5, 14,  1],\n",
       "          [ 4,  4, 14,  6,  4,  5, 81, 14, 14,  5,  5,  5,  1,  5,  1,  8,  7,  5,\n",
       "            6,  1,  1,  4,  6,  1,  5,  5,  1,  9,  6,  6,  4,  7,  7,  2, 35,  6,\n",
       "            5, 14,  1, 19],\n",
       "          [ 4, 14,  6,  4,  5, 81, 14, 14,  5,  5,  5,  1,  5,  1,  8,  7,  5,  6,\n",
       "            1,  1,  4,  6,  1,  5,  5,  1,  9,  6,  6,  4,  7,  7,  2, 35,  6,  5,\n",
       "           14,  1, 19,  4],\n",
       "          [14,  6,  4,  5, 81, 14, 14,  5,  5,  5,  1,  5,  1,  8,  7,  5,  6,  1,\n",
       "            1,  4,  6,  1,  5,  5,  1,  9,  6,  6,  4,  7,  7,  2, 35,  6,  5, 14,\n",
       "            1, 19,  4,  1],\n",
       "          [ 6,  4,  5, 81, 14, 14,  5,  5,  5,  1,  5,  1,  8,  7,  5,  6,  1,  1,\n",
       "            4,  6,  1,  5,  5,  1,  9,  6,  6,  4,  7,  7,  2, 35,  6,  5, 14,  1,\n",
       "           19,  4,  1, 39],\n",
       "          [ 4,  5, 81, 14, 14,  5,  5,  5,  1,  5,  1,  8,  7,  5,  6,  1,  1,  4,\n",
       "            6,  1,  5,  5,  1,  9,  6,  6,  4,  7,  7,  2, 35,  6,  5, 14,  1, 19,\n",
       "            4,  1, 39, 13],\n",
       "          [ 5, 81, 14, 14,  5,  5,  5,  1,  5,  1,  8,  7,  5,  6,  1,  1,  4,  6,\n",
       "            1,  5,  5,  1,  9,  6,  6,  4,  7,  7,  2, 35,  6,  5, 14,  1, 19,  4,\n",
       "            1, 39, 13,  1],\n",
       "          [81, 14, 14,  5,  5,  5,  1,  5,  1,  8,  7,  5,  6,  1,  1,  4,  6,  1,\n",
       "            5,  5,  1,  9,  6,  6,  4,  7,  7,  2, 35,  6,  5, 14,  1, 19,  4,  1,\n",
       "           39, 13,  1,  2],\n",
       "          [14, 14,  5,  5,  5,  1,  5,  1,  8,  7,  5,  6,  1,  1,  4,  6,  1,  5,\n",
       "            5,  1,  9,  6,  6,  4,  7,  7,  2, 35,  6,  5, 14,  1, 19,  4,  1, 39,\n",
       "           13,  1,  2,  9],\n",
       "          [14,  5,  5,  5,  1,  5,  1,  8,  7,  5,  6,  1,  1,  4,  6,  1,  5,  5,\n",
       "            1,  9,  6,  6,  4,  7,  7,  2, 35,  6,  5, 14,  1, 19,  4,  1, 39, 13,\n",
       "            1,  2,  9,  9],\n",
       "          [ 5,  5,  5,  1,  5,  1,  8,  7,  5,  6,  1,  1,  4,  6,  1,  5,  5,  1,\n",
       "            9,  6,  6,  4,  7,  7,  2, 35,  6,  5, 14,  1, 19,  4,  1, 39, 13,  1,\n",
       "            2,  9,  9,  9]]),\n",
       "  'amount': tensor([[4.2300e+02, 4.5000e+01, 7.0000e+03, 6.1250e+02, 1.0400e+02, 1.7600e+02,\n",
       "           2.1700e+02, 2.9900e+02, 9.5000e+01, 2.9548e+02, 1.9900e+02, 8.1003e+02,\n",
       "           1.0000e+02, 5.7481e+03, 2.7280e+02, 2.0000e+02, 5.1800e+02, 5.0029e+02,\n",
       "           9.7001e+02, 1.7200e+02, 2.3000e+02, 6.5808e+04, 5.8300e+04, 5.0000e+03,\n",
       "           8.4000e+01, 4.2000e+01, 4.7998e+02, 4.0700e+02, 3.2200e+02, 4.6600e+02,\n",
       "           1.0900e+03, 3.3300e+02, 6.1000e+01, 6.7120e+02, 4.1200e+02, 2.0900e+02,\n",
       "           1.7500e+02, 2.2146e+03, 1.2600e+03, 1.1100e+02],\n",
       "          [4.5000e+01, 7.0000e+03, 6.1250e+02, 1.0400e+02, 1.7600e+02, 2.1700e+02,\n",
       "           2.9900e+02, 9.5000e+01, 2.9548e+02, 1.9900e+02, 8.1003e+02, 1.0000e+02,\n",
       "           5.7481e+03, 2.7280e+02, 2.0000e+02, 5.1800e+02, 5.0029e+02, 9.7001e+02,\n",
       "           1.7200e+02, 2.3000e+02, 6.5808e+04, 5.8300e+04, 5.0000e+03, 8.4000e+01,\n",
       "           4.2000e+01, 4.7998e+02, 4.0700e+02, 3.2200e+02, 4.6600e+02, 1.0900e+03,\n",
       "           3.3300e+02, 6.1000e+01, 6.7120e+02, 4.1200e+02, 2.0900e+02, 1.7500e+02,\n",
       "           2.2146e+03, 1.2600e+03, 1.1100e+02, 6.3500e+01],\n",
       "          [7.0000e+03, 6.1250e+02, 1.0400e+02, 1.7600e+02, 2.1700e+02, 2.9900e+02,\n",
       "           9.5000e+01, 2.9548e+02, 1.9900e+02, 8.1003e+02, 1.0000e+02, 5.7481e+03,\n",
       "           2.7280e+02, 2.0000e+02, 5.1800e+02, 5.0029e+02, 9.7001e+02, 1.7200e+02,\n",
       "           2.3000e+02, 6.5808e+04, 5.8300e+04, 5.0000e+03, 8.4000e+01, 4.2000e+01,\n",
       "           4.7998e+02, 4.0700e+02, 3.2200e+02, 4.6600e+02, 1.0900e+03, 3.3300e+02,\n",
       "           6.1000e+01, 6.7120e+02, 4.1200e+02, 2.0900e+02, 1.7500e+02, 2.2146e+03,\n",
       "           1.2600e+03, 1.1100e+02, 6.3500e+01, 2.2500e+02],\n",
       "          [6.1250e+02, 1.0400e+02, 1.7600e+02, 2.1700e+02, 2.9900e+02, 9.5000e+01,\n",
       "           2.9548e+02, 1.9900e+02, 8.1003e+02, 1.0000e+02, 5.7481e+03, 2.7280e+02,\n",
       "           2.0000e+02, 5.1800e+02, 5.0029e+02, 9.7001e+02, 1.7200e+02, 2.3000e+02,\n",
       "           6.5808e+04, 5.8300e+04, 5.0000e+03, 8.4000e+01, 4.2000e+01, 4.7998e+02,\n",
       "           4.0700e+02, 3.2200e+02, 4.6600e+02, 1.0900e+03, 3.3300e+02, 6.1000e+01,\n",
       "           6.7120e+02, 4.1200e+02, 2.0900e+02, 1.7500e+02, 2.2146e+03, 1.2600e+03,\n",
       "           1.1100e+02, 6.3500e+01, 2.2500e+02, 5.0000e+03],\n",
       "          [1.0400e+02, 1.7600e+02, 2.1700e+02, 2.9900e+02, 9.5000e+01, 2.9548e+02,\n",
       "           1.9900e+02, 8.1003e+02, 1.0000e+02, 5.7481e+03, 2.7280e+02, 2.0000e+02,\n",
       "           5.1800e+02, 5.0029e+02, 9.7001e+02, 1.7200e+02, 2.3000e+02, 6.5808e+04,\n",
       "           5.8300e+04, 5.0000e+03, 8.4000e+01, 4.2000e+01, 4.7998e+02, 4.0700e+02,\n",
       "           3.2200e+02, 4.6600e+02, 1.0900e+03, 3.3300e+02, 6.1000e+01, 6.7120e+02,\n",
       "           4.1200e+02, 2.0900e+02, 1.7500e+02, 2.2146e+03, 1.2600e+03, 1.1100e+02,\n",
       "           6.3500e+01, 2.2500e+02, 5.0000e+03, 4.9999e+02],\n",
       "          [1.7600e+02, 2.1700e+02, 2.9900e+02, 9.5000e+01, 2.9548e+02, 1.9900e+02,\n",
       "           8.1003e+02, 1.0000e+02, 5.7481e+03, 2.7280e+02, 2.0000e+02, 5.1800e+02,\n",
       "           5.0029e+02, 9.7001e+02, 1.7200e+02, 2.3000e+02, 6.5808e+04, 5.8300e+04,\n",
       "           5.0000e+03, 8.4000e+01, 4.2000e+01, 4.7998e+02, 4.0700e+02, 3.2200e+02,\n",
       "           4.6600e+02, 1.0900e+03, 3.3300e+02, 6.1000e+01, 6.7120e+02, 4.1200e+02,\n",
       "           2.0900e+02, 1.7500e+02, 2.2146e+03, 1.2600e+03, 1.1100e+02, 6.3500e+01,\n",
       "           2.2500e+02, 5.0000e+03, 4.9999e+02, 3.4530e+02],\n",
       "          [2.1700e+02, 2.9900e+02, 9.5000e+01, 2.9548e+02, 1.9900e+02, 8.1003e+02,\n",
       "           1.0000e+02, 5.7481e+03, 2.7280e+02, 2.0000e+02, 5.1800e+02, 5.0029e+02,\n",
       "           9.7001e+02, 1.7200e+02, 2.3000e+02, 6.5808e+04, 5.8300e+04, 5.0000e+03,\n",
       "           8.4000e+01, 4.2000e+01, 4.7998e+02, 4.0700e+02, 3.2200e+02, 4.6600e+02,\n",
       "           1.0900e+03, 3.3300e+02, 6.1000e+01, 6.7120e+02, 4.1200e+02, 2.0900e+02,\n",
       "           1.7500e+02, 2.2146e+03, 1.2600e+03, 1.1100e+02, 6.3500e+01, 2.2500e+02,\n",
       "           5.0000e+03, 4.9999e+02, 3.4530e+02, 1.1500e+02],\n",
       "          [2.9900e+02, 9.5000e+01, 2.9548e+02, 1.9900e+02, 8.1003e+02, 1.0000e+02,\n",
       "           5.7481e+03, 2.7280e+02, 2.0000e+02, 5.1800e+02, 5.0029e+02, 9.7001e+02,\n",
       "           1.7200e+02, 2.3000e+02, 6.5808e+04, 5.8300e+04, 5.0000e+03, 8.4000e+01,\n",
       "           4.2000e+01, 4.7998e+02, 4.0700e+02, 3.2200e+02, 4.6600e+02, 1.0900e+03,\n",
       "           3.3300e+02, 6.1000e+01, 6.7120e+02, 4.1200e+02, 2.0900e+02, 1.7500e+02,\n",
       "           2.2146e+03, 1.2600e+03, 1.1100e+02, 6.3500e+01, 2.2500e+02, 5.0000e+03,\n",
       "           4.9999e+02, 3.4530e+02, 1.1500e+02, 1.2120e+02],\n",
       "          [9.5000e+01, 2.9548e+02, 1.9900e+02, 8.1003e+02, 1.0000e+02, 5.7481e+03,\n",
       "           2.7280e+02, 2.0000e+02, 5.1800e+02, 5.0029e+02, 9.7001e+02, 1.7200e+02,\n",
       "           2.3000e+02, 6.5808e+04, 5.8300e+04, 5.0000e+03, 8.4000e+01, 4.2000e+01,\n",
       "           4.7998e+02, 4.0700e+02, 3.2200e+02, 4.6600e+02, 1.0900e+03, 3.3300e+02,\n",
       "           6.1000e+01, 6.7120e+02, 4.1200e+02, 2.0900e+02, 1.7500e+02, 2.2146e+03,\n",
       "           1.2600e+03, 1.1100e+02, 6.3500e+01, 2.2500e+02, 5.0000e+03, 4.9999e+02,\n",
       "           3.4530e+02, 1.1500e+02, 1.2120e+02, 3.5400e+02],\n",
       "          [2.9548e+02, 1.9900e+02, 8.1003e+02, 1.0000e+02, 5.7481e+03, 2.7280e+02,\n",
       "           2.0000e+02, 5.1800e+02, 5.0029e+02, 9.7001e+02, 1.7200e+02, 2.3000e+02,\n",
       "           6.5808e+04, 5.8300e+04, 5.0000e+03, 8.4000e+01, 4.2000e+01, 4.7998e+02,\n",
       "           4.0700e+02, 3.2200e+02, 4.6600e+02, 1.0900e+03, 3.3300e+02, 6.1000e+01,\n",
       "           6.7120e+02, 4.1200e+02, 2.0900e+02, 1.7500e+02, 2.2146e+03, 1.2600e+03,\n",
       "           1.1100e+02, 6.3500e+01, 2.2500e+02, 5.0000e+03, 4.9999e+02, 3.4530e+02,\n",
       "           1.1500e+02, 1.2120e+02, 3.5400e+02, 5.9000e+04],\n",
       "          [1.9900e+02, 8.1003e+02, 1.0000e+02, 5.7481e+03, 2.7280e+02, 2.0000e+02,\n",
       "           5.1800e+02, 5.0029e+02, 9.7001e+02, 1.7200e+02, 2.3000e+02, 6.5808e+04,\n",
       "           5.8300e+04, 5.0000e+03, 8.4000e+01, 4.2000e+01, 4.7998e+02, 4.0700e+02,\n",
       "           3.2200e+02, 4.6600e+02, 1.0900e+03, 3.3300e+02, 6.1000e+01, 6.7120e+02,\n",
       "           4.1200e+02, 2.0900e+02, 1.7500e+02, 2.2146e+03, 1.2600e+03, 1.1100e+02,\n",
       "           6.3500e+01, 2.2500e+02, 5.0000e+03, 4.9999e+02, 3.4530e+02, 1.1500e+02,\n",
       "           1.2120e+02, 3.5400e+02, 5.9000e+04, 2.4000e+02],\n",
       "          [8.1003e+02, 1.0000e+02, 5.7481e+03, 2.7280e+02, 2.0000e+02, 5.1800e+02,\n",
       "           5.0029e+02, 9.7001e+02, 1.7200e+02, 2.3000e+02, 6.5808e+04, 5.8300e+04,\n",
       "           5.0000e+03, 8.4000e+01, 4.2000e+01, 4.7998e+02, 4.0700e+02, 3.2200e+02,\n",
       "           4.6600e+02, 1.0900e+03, 3.3300e+02, 6.1000e+01, 6.7120e+02, 4.1200e+02,\n",
       "           2.0900e+02, 1.7500e+02, 2.2146e+03, 1.2600e+03, 1.1100e+02, 6.3500e+01,\n",
       "           2.2500e+02, 5.0000e+03, 4.9999e+02, 3.4530e+02, 1.1500e+02, 1.2120e+02,\n",
       "           3.5400e+02, 5.9000e+04, 2.4000e+02, 2.0001e+03],\n",
       "          [1.0000e+02, 5.7481e+03, 2.7280e+02, 2.0000e+02, 5.1800e+02, 5.0029e+02,\n",
       "           9.7001e+02, 1.7200e+02, 2.3000e+02, 6.5808e+04, 5.8300e+04, 5.0000e+03,\n",
       "           8.4000e+01, 4.2000e+01, 4.7998e+02, 4.0700e+02, 3.2200e+02, 4.6600e+02,\n",
       "           1.0900e+03, 3.3300e+02, 6.1000e+01, 6.7120e+02, 4.1200e+02, 2.0900e+02,\n",
       "           1.7500e+02, 2.2146e+03, 1.2600e+03, 1.1100e+02, 6.3500e+01, 2.2500e+02,\n",
       "           5.0000e+03, 4.9999e+02, 3.4530e+02, 1.1500e+02, 1.2120e+02, 3.5400e+02,\n",
       "           5.9000e+04, 2.4000e+02, 2.0001e+03, 2.9580e+02],\n",
       "          [5.7481e+03, 2.7280e+02, 2.0000e+02, 5.1800e+02, 5.0029e+02, 9.7001e+02,\n",
       "           1.7200e+02, 2.3000e+02, 6.5808e+04, 5.8300e+04, 5.0000e+03, 8.4000e+01,\n",
       "           4.2000e+01, 4.7998e+02, 4.0700e+02, 3.2200e+02, 4.6600e+02, 1.0900e+03,\n",
       "           3.3300e+02, 6.1000e+01, 6.7120e+02, 4.1200e+02, 2.0900e+02, 1.7500e+02,\n",
       "           2.2146e+03, 1.2600e+03, 1.1100e+02, 6.3500e+01, 2.2500e+02, 5.0000e+03,\n",
       "           4.9999e+02, 3.4530e+02, 1.1500e+02, 1.2120e+02, 3.5400e+02, 5.9000e+04,\n",
       "           2.4000e+02, 2.0001e+03, 2.9580e+02, 4.6370e+03],\n",
       "          [2.7280e+02, 2.0000e+02, 5.1800e+02, 5.0029e+02, 9.7001e+02, 1.7200e+02,\n",
       "           2.3000e+02, 6.5808e+04, 5.8300e+04, 5.0000e+03, 8.4000e+01, 4.2000e+01,\n",
       "           4.7998e+02, 4.0700e+02, 3.2200e+02, 4.6600e+02, 1.0900e+03, 3.3300e+02,\n",
       "           6.1000e+01, 6.7120e+02, 4.1200e+02, 2.0900e+02, 1.7500e+02, 2.2146e+03,\n",
       "           1.2600e+03, 1.1100e+02, 6.3500e+01, 2.2500e+02, 5.0000e+03, 4.9999e+02,\n",
       "           3.4530e+02, 1.1500e+02, 1.2120e+02, 3.5400e+02, 5.9000e+04, 2.4000e+02,\n",
       "           2.0001e+03, 2.9580e+02, 4.6370e+03, 1.8010e+03],\n",
       "          [2.0000e+02, 5.1800e+02, 5.0029e+02, 9.7001e+02, 1.7200e+02, 2.3000e+02,\n",
       "           6.5808e+04, 5.8300e+04, 5.0000e+03, 8.4000e+01, 4.2000e+01, 4.7998e+02,\n",
       "           4.0700e+02, 3.2200e+02, 4.6600e+02, 1.0900e+03, 3.3300e+02, 6.1000e+01,\n",
       "           6.7120e+02, 4.1200e+02, 2.0900e+02, 1.7500e+02, 2.2146e+03, 1.2600e+03,\n",
       "           1.1100e+02, 6.3500e+01, 2.2500e+02, 5.0000e+03, 4.9999e+02, 3.4530e+02,\n",
       "           1.1500e+02, 1.2120e+02, 3.5400e+02, 5.9000e+04, 2.4000e+02, 2.0001e+03,\n",
       "           2.9580e+02, 4.6370e+03, 1.8010e+03, 5.7000e+02],\n",
       "          [5.1800e+02, 5.0029e+02, 9.7001e+02, 1.7200e+02, 2.3000e+02, 6.5808e+04,\n",
       "           5.8300e+04, 5.0000e+03, 8.4000e+01, 4.2000e+01, 4.7998e+02, 4.0700e+02,\n",
       "           3.2200e+02, 4.6600e+02, 1.0900e+03, 3.3300e+02, 6.1000e+01, 6.7120e+02,\n",
       "           4.1200e+02, 2.0900e+02, 1.7500e+02, 2.2146e+03, 1.2600e+03, 1.1100e+02,\n",
       "           6.3500e+01, 2.2500e+02, 5.0000e+03, 4.9999e+02, 3.4530e+02, 1.1500e+02,\n",
       "           1.2120e+02, 3.5400e+02, 5.9000e+04, 2.4000e+02, 2.0001e+03, 2.9580e+02,\n",
       "           4.6370e+03, 1.8010e+03, 5.7000e+02, 3.0800e+02],\n",
       "          [5.0029e+02, 9.7001e+02, 1.7200e+02, 2.3000e+02, 6.5808e+04, 5.8300e+04,\n",
       "           5.0000e+03, 8.4000e+01, 4.2000e+01, 4.7998e+02, 4.0700e+02, 3.2200e+02,\n",
       "           4.6600e+02, 1.0900e+03, 3.3300e+02, 6.1000e+01, 6.7120e+02, 4.1200e+02,\n",
       "           2.0900e+02, 1.7500e+02, 2.2146e+03, 1.2600e+03, 1.1100e+02, 6.3500e+01,\n",
       "           2.2500e+02, 5.0000e+03, 4.9999e+02, 3.4530e+02, 1.1500e+02, 1.2120e+02,\n",
       "           3.5400e+02, 5.9000e+04, 2.4000e+02, 2.0001e+03, 2.9580e+02, 4.6370e+03,\n",
       "           1.8010e+03, 5.7000e+02, 3.0800e+02, 2.6820e+03],\n",
       "          [9.7001e+02, 1.7200e+02, 2.3000e+02, 6.5808e+04, 5.8300e+04, 5.0000e+03,\n",
       "           8.4000e+01, 4.2000e+01, 4.7998e+02, 4.0700e+02, 3.2200e+02, 4.6600e+02,\n",
       "           1.0900e+03, 3.3300e+02, 6.1000e+01, 6.7120e+02, 4.1200e+02, 2.0900e+02,\n",
       "           1.7500e+02, 2.2146e+03, 1.2600e+03, 1.1100e+02, 6.3500e+01, 2.2500e+02,\n",
       "           5.0000e+03, 4.9999e+02, 3.4530e+02, 1.1500e+02, 1.2120e+02, 3.5400e+02,\n",
       "           5.9000e+04, 2.4000e+02, 2.0001e+03, 2.9580e+02, 4.6370e+03, 1.8010e+03,\n",
       "           5.7000e+02, 3.0800e+02, 2.6820e+03, 1.0000e+00],\n",
       "          [1.7200e+02, 2.3000e+02, 6.5808e+04, 5.8300e+04, 5.0000e+03, 8.4000e+01,\n",
       "           4.2000e+01, 4.7998e+02, 4.0700e+02, 3.2200e+02, 4.6600e+02, 1.0900e+03,\n",
       "           3.3300e+02, 6.1000e+01, 6.7120e+02, 4.1200e+02, 2.0900e+02, 1.7500e+02,\n",
       "           2.2146e+03, 1.2600e+03, 1.1100e+02, 6.3500e+01, 2.2500e+02, 5.0000e+03,\n",
       "           4.9999e+02, 3.4530e+02, 1.1500e+02, 1.2120e+02, 3.5400e+02, 5.9000e+04,\n",
       "           2.4000e+02, 2.0001e+03, 2.9580e+02, 4.6370e+03, 1.8010e+03, 5.7000e+02,\n",
       "           3.0800e+02, 2.6820e+03, 1.0000e+00, 1.3623e+04],\n",
       "          [2.3000e+02, 6.5808e+04, 5.8300e+04, 5.0000e+03, 8.4000e+01, 4.2000e+01,\n",
       "           4.7998e+02, 4.0700e+02, 3.2200e+02, 4.6600e+02, 1.0900e+03, 3.3300e+02,\n",
       "           6.1000e+01, 6.7120e+02, 4.1200e+02, 2.0900e+02, 1.7500e+02, 2.2146e+03,\n",
       "           1.2600e+03, 1.1100e+02, 6.3500e+01, 2.2500e+02, 5.0000e+03, 4.9999e+02,\n",
       "           3.4530e+02, 1.1500e+02, 1.2120e+02, 3.5400e+02, 5.9000e+04, 2.4000e+02,\n",
       "           2.0001e+03, 2.9580e+02, 4.6370e+03, 1.8010e+03, 5.7000e+02, 3.0800e+02,\n",
       "           2.6820e+03, 1.0000e+00, 1.3623e+04, 3.8460e+03],\n",
       "          [6.5808e+04, 5.8300e+04, 5.0000e+03, 8.4000e+01, 4.2000e+01, 4.7998e+02,\n",
       "           4.0700e+02, 3.2200e+02, 4.6600e+02, 1.0900e+03, 3.3300e+02, 6.1000e+01,\n",
       "           6.7120e+02, 4.1200e+02, 2.0900e+02, 1.7500e+02, 2.2146e+03, 1.2600e+03,\n",
       "           1.1100e+02, 6.3500e+01, 2.2500e+02, 5.0000e+03, 4.9999e+02, 3.4530e+02,\n",
       "           1.1500e+02, 1.2120e+02, 3.5400e+02, 5.9000e+04, 2.4000e+02, 2.0001e+03,\n",
       "           2.9580e+02, 4.6370e+03, 1.8010e+03, 5.7000e+02, 3.0800e+02, 2.6820e+03,\n",
       "           1.0000e+00, 1.3623e+04, 3.8460e+03, 6.1800e+04],\n",
       "          [5.8300e+04, 5.0000e+03, 8.4000e+01, 4.2000e+01, 4.7998e+02, 4.0700e+02,\n",
       "           3.2200e+02, 4.6600e+02, 1.0900e+03, 3.3300e+02, 6.1000e+01, 6.7120e+02,\n",
       "           4.1200e+02, 2.0900e+02, 1.7500e+02, 2.2146e+03, 1.2600e+03, 1.1100e+02,\n",
       "           6.3500e+01, 2.2500e+02, 5.0000e+03, 4.9999e+02, 3.4530e+02, 1.1500e+02,\n",
       "           1.2120e+02, 3.5400e+02, 5.9000e+04, 2.4000e+02, 2.0001e+03, 2.9580e+02,\n",
       "           4.6370e+03, 1.8010e+03, 5.7000e+02, 3.0800e+02, 2.6820e+03, 1.0000e+00,\n",
       "           1.3623e+04, 3.8460e+03, 6.1800e+04, 1.8000e+04],\n",
       "          [5.0000e+03, 8.4000e+01, 4.2000e+01, 4.7998e+02, 4.0700e+02, 3.2200e+02,\n",
       "           4.6600e+02, 1.0900e+03, 3.3300e+02, 6.1000e+01, 6.7120e+02, 4.1200e+02,\n",
       "           2.0900e+02, 1.7500e+02, 2.2146e+03, 1.2600e+03, 1.1100e+02, 6.3500e+01,\n",
       "           2.2500e+02, 5.0000e+03, 4.9999e+02, 3.4530e+02, 1.1500e+02, 1.2120e+02,\n",
       "           3.5400e+02, 5.9000e+04, 2.4000e+02, 2.0001e+03, 2.9580e+02, 4.6370e+03,\n",
       "           1.8010e+03, 5.7000e+02, 3.0800e+02, 2.6820e+03, 1.0000e+00, 1.3623e+04,\n",
       "           3.8460e+03, 6.1800e+04, 1.8000e+04, 7.8300e+02],\n",
       "          [8.4000e+01, 4.2000e+01, 4.7998e+02, 4.0700e+02, 3.2200e+02, 4.6600e+02,\n",
       "           1.0900e+03, 3.3300e+02, 6.1000e+01, 6.7120e+02, 4.1200e+02, 2.0900e+02,\n",
       "           1.7500e+02, 2.2146e+03, 1.2600e+03, 1.1100e+02, 6.3500e+01, 2.2500e+02,\n",
       "           5.0000e+03, 4.9999e+02, 3.4530e+02, 1.1500e+02, 1.2120e+02, 3.5400e+02,\n",
       "           5.9000e+04, 2.4000e+02, 2.0001e+03, 2.9580e+02, 4.6370e+03, 1.8010e+03,\n",
       "           5.7000e+02, 3.0800e+02, 2.6820e+03, 1.0000e+00, 1.3623e+04, 3.8460e+03,\n",
       "           6.1800e+04, 1.8000e+04, 7.8300e+02, 2.2500e+04]], dtype=torch.float64),\n",
       "  'churn_target': tensor([[0, 0, 0, 0, 0, 0, 0, 0, 0, 0, 0, 0, 0, 0, 0, 0, 0, 0, 0, 0, 0, 0, 0, 0,\n",
       "           0, 0, 0, 0, 0, 0, 0, 0, 0, 0, 0, 0, 0, 0, 0, 0],\n",
       "          [0, 0, 0, 0, 0, 0, 0, 0, 0, 0, 0, 0, 0, 0, 0, 0, 0, 0, 0, 0, 0, 0, 0, 0,\n",
       "           0, 0, 0, 0, 0, 0, 0, 0, 0, 0, 0, 0, 0, 0, 0, 0],\n",
       "          [0, 0, 0, 0, 0, 0, 0, 0, 0, 0, 0, 0, 0, 0, 0, 0, 0, 0, 0, 0, 0, 0, 0, 0,\n",
       "           0, 0, 0, 0, 0, 0, 0, 0, 0, 0, 0, 0, 0, 0, 0, 0],\n",
       "          [0, 0, 0, 0, 0, 0, 0, 0, 0, 0, 0, 0, 0, 0, 0, 0, 0, 0, 0, 0, 0, 0, 0, 0,\n",
       "           0, 0, 0, 0, 0, 0, 0, 0, 0, 0, 0, 0, 0, 0, 0, 0],\n",
       "          [0, 0, 0, 0, 0, 0, 0, 0, 0, 0, 0, 0, 0, 0, 0, 0, 0, 0, 0, 0, 0, 0, 0, 0,\n",
       "           0, 0, 0, 0, 0, 0, 0, 0, 0, 0, 0, 0, 0, 0, 0, 0],\n",
       "          [0, 0, 0, 0, 0, 0, 0, 0, 0, 0, 0, 0, 0, 0, 0, 0, 0, 0, 0, 0, 0, 0, 0, 0,\n",
       "           0, 0, 0, 0, 0, 0, 0, 0, 0, 0, 0, 0, 0, 0, 0, 0],\n",
       "          [0, 0, 0, 0, 0, 0, 0, 0, 0, 0, 0, 0, 0, 0, 0, 0, 0, 0, 0, 0, 0, 0, 0, 0,\n",
       "           0, 0, 0, 0, 0, 0, 0, 0, 0, 0, 0, 0, 0, 0, 0, 0],\n",
       "          [0, 0, 0, 0, 0, 0, 0, 0, 0, 0, 0, 0, 0, 0, 0, 0, 0, 0, 0, 0, 0, 0, 0, 0,\n",
       "           0, 0, 0, 0, 0, 0, 0, 0, 0, 0, 0, 0, 0, 0, 0, 0],\n",
       "          [0, 0, 0, 0, 0, 0, 0, 0, 0, 0, 0, 0, 0, 0, 0, 0, 0, 0, 0, 0, 0, 0, 0, 0,\n",
       "           0, 0, 0, 0, 0, 0, 0, 0, 0, 0, 0, 0, 0, 0, 0, 0],\n",
       "          [0, 0, 0, 0, 0, 0, 0, 0, 0, 0, 0, 0, 0, 0, 0, 0, 0, 0, 0, 0, 0, 0, 0, 0,\n",
       "           0, 0, 0, 0, 0, 0, 0, 0, 0, 0, 0, 0, 0, 0, 0, 0],\n",
       "          [0, 0, 0, 0, 0, 0, 0, 0, 0, 0, 0, 0, 0, 0, 0, 0, 0, 0, 0, 0, 0, 0, 0, 0,\n",
       "           0, 0, 0, 0, 0, 0, 0, 0, 0, 0, 0, 0, 0, 0, 0, 1],\n",
       "          [0, 0, 0, 0, 0, 0, 0, 0, 0, 0, 0, 0, 0, 0, 0, 0, 0, 0, 0, 0, 0, 0, 0, 0,\n",
       "           0, 0, 0, 0, 0, 0, 0, 0, 0, 0, 0, 0, 0, 0, 1, 1],\n",
       "          [0, 0, 0, 0, 0, 0, 0, 0, 0, 0, 0, 0, 0, 0, 0, 0, 0, 0, 0, 0, 0, 0, 0, 0,\n",
       "           0, 0, 0, 0, 0, 0, 0, 0, 0, 0, 0, 0, 0, 1, 1, 1],\n",
       "          [0, 0, 0, 0, 0, 0, 0, 0, 0, 0, 0, 0, 0, 0, 0, 0, 0, 0, 0, 0, 0, 0, 0, 0,\n",
       "           0, 0, 0, 0, 0, 0, 0, 0, 0, 0, 0, 0, 1, 1, 1, 1],\n",
       "          [0, 0, 0, 0, 0, 0, 0, 0, 0, 0, 0, 0, 0, 0, 0, 0, 0, 0, 0, 0, 0, 0, 0, 0,\n",
       "           0, 0, 0, 0, 0, 0, 0, 0, 0, 0, 0, 1, 1, 1, 1, 1],\n",
       "          [0, 0, 0, 0, 0, 0, 0, 0, 0, 0, 0, 0, 0, 0, 0, 0, 0, 0, 0, 0, 0, 0, 0, 0,\n",
       "           0, 0, 0, 0, 0, 0, 0, 0, 0, 0, 1, 1, 1, 1, 1, 1],\n",
       "          [0, 0, 0, 0, 0, 0, 0, 0, 0, 0, 0, 0, 0, 0, 0, 0, 0, 0, 0, 0, 0, 0, 0, 0,\n",
       "           0, 0, 0, 0, 0, 0, 0, 0, 0, 1, 1, 1, 1, 1, 1, 1],\n",
       "          [0, 0, 0, 0, 0, 0, 0, 0, 0, 0, 0, 0, 0, 0, 0, 0, 0, 0, 0, 0, 0, 0, 0, 0,\n",
       "           0, 0, 0, 0, 0, 0, 0, 0, 1, 1, 1, 1, 1, 1, 1, 1],\n",
       "          [0, 0, 0, 0, 0, 0, 0, 0, 0, 0, 0, 0, 0, 0, 0, 0, 0, 0, 0, 0, 0, 0, 0, 0,\n",
       "           0, 0, 0, 0, 0, 0, 0, 1, 1, 1, 1, 1, 1, 1, 1, 1],\n",
       "          [0, 0, 0, 0, 0, 0, 0, 0, 0, 0, 0, 0, 0, 0, 0, 0, 0, 0, 0, 0, 0, 0, 0, 0,\n",
       "           0, 0, 0, 0, 0, 0, 1, 1, 1, 1, 1, 1, 1, 1, 1, 1],\n",
       "          [0, 0, 0, 0, 0, 0, 0, 0, 0, 0, 0, 0, 0, 0, 0, 0, 0, 0, 0, 0, 0, 0, 0, 0,\n",
       "           0, 0, 0, 0, 0, 1, 1, 1, 1, 1, 1, 1, 1, 1, 1, 1],\n",
       "          [0, 0, 0, 0, 0, 0, 0, 0, 0, 0, 0, 0, 0, 0, 0, 0, 0, 0, 0, 0, 0, 0, 0, 0,\n",
       "           0, 0, 0, 0, 1, 1, 1, 1, 1, 1, 1, 1, 1, 1, 1, 1],\n",
       "          [0, 0, 0, 0, 0, 0, 0, 0, 0, 0, 0, 0, 0, 0, 0, 0, 0, 0, 0, 0, 0, 0, 0, 0,\n",
       "           0, 0, 0, 1, 1, 1, 1, 1, 1, 1, 1, 1, 1, 1, 1, 1],\n",
       "          [0, 0, 0, 0, 0, 0, 0, 0, 0, 0, 0, 0, 0, 0, 0, 0, 0, 0, 0, 0, 0, 0, 0, 0,\n",
       "           0, 0, 1, 1, 1, 1, 1, 1, 1, 1, 1, 1, 1, 1, 1, 1],\n",
       "          [0, 0, 0, 0, 0, 0, 0, 0, 0, 0, 0, 0, 0, 0, 0, 0, 0, 0, 0, 0, 0, 0, 0, 0,\n",
       "           0, 1, 1, 1, 1, 1, 1, 1, 1, 1, 1, 1, 1, 1, 1, 1]])})"
      ]
     },
     "execution_count": 11,
     "metadata": {},
     "output_type": "execute_result"
    }
   ],
   "source": [
    "valid_batch, local_labels = next(iter(val_datamodule.val_dataloader()))\n",
    "\n",
    "valid_batch.payload['event_time'].shape, valid_batch.payload"
   ]
  },
  {
   "cell_type": "code",
   "execution_count": 12,
   "id": "029da80f",
   "metadata": {},
   "outputs": [
    {
     "data": {
      "text/plain": [
       "torch.Size([25])"
      ]
     },
     "execution_count": 12,
     "metadata": {},
     "output_type": "execute_result"
    }
   ],
   "source": [
    "local_labels.shape"
   ]
  },
  {
   "cell_type": "code",
   "execution_count": 13,
   "id": "090385e8",
   "metadata": {},
   "outputs": [],
   "source": [
    "EMBD_SIZE = 32\n",
    "HIDDEN_SIZE = 32\n",
    "\n",
    "valid_model = LocalValidationModel(\n",
    "    backbone=model_churn,\n",
    "    backbone_embd_size=EMBD_SIZE,\n",
    "    hidden_size=HIDDEN_SIZE,\n",
    ")"
   ]
  },
  {
   "cell_type": "code",
   "execution_count": 14,
   "id": "b40d952e",
   "metadata": {},
   "outputs": [
    {
     "name": "stdout",
     "output_type": "stream",
     "text": [
      "CoLES embeddings: torch.Size([25, 32])\n",
      "Predicted labels: torch.Size([25])\n",
      "True local labels: torch.Size([25])\n"
     ]
    }
   ],
   "source": [
    "backbone_out = valid_model.backbone(valid_batch)\n",
    "print(\"CoLES embeddings:\", backbone_out.shape)\n",
    "\n",
    "pred_out = valid_model(valid_batch)\n",
    "print(\"Predicted labels:\", pred_out.shape)\n",
    "\n",
    "print(\"True local labels:\", local_labels.shape)"
   ]
  },
  {
   "cell_type": "code",
   "execution_count": 15,
   "id": "f5267430",
   "metadata": {
    "scrolled": true
   },
   "outputs": [
    {
     "name": "stderr",
     "output_type": "stream",
     "text": [
      "GPU available: True, used: True\n",
      "TPU available: False, using: 0 TPU cores\n",
      "IPU available: False, using: 0 IPUs\n",
      "HPU available: False, using: 0 HPUs\n"
     ]
    }
   ],
   "source": [
    "val_trainer = Trainer(\n",
    "    accelerator=\"gpu\",\n",
    "    devices=1,\n",
    "    max_epochs=5,\n",
    ")\n",
    "    \n",
    "val_trainer.fit(valid_model, val_datamodule)"
   ]
  },
  {
   "cell_type": "code",
   "execution_count": 17,
   "id": "eb74bcf5",
   "metadata": {},
   "outputs": [],
   "source": [
    "torch.save(valid_model.state_dict(), \"saved_models/validation_coles_churn.pth\")"
   ]
  },
  {
   "cell_type": "code",
   "execution_count": 16,
   "id": "abc1c97d",
   "metadata": {},
   "outputs": [
    {
     "data": {
      "text/plain": [
       "<All keys matched successfully>"
      ]
     },
     "execution_count": 16,
     "metadata": {},
     "output_type": "execute_result"
    }
   ],
   "source": [
    "valid_model.load_state_dict(torch.load(\"saved_models/validation_coles_churn.pth\"))"
   ]
  },
  {
   "cell_type": "code",
   "execution_count": 17,
   "id": "232d944e",
   "metadata": {},
   "outputs": [
    {
     "name": "stderr",
     "output_type": "stream",
     "text": [
      "LOCAL_RANK: 0 - CUDA_VISIBLE_DEVICES: [0]\n"
     ]
    },
    {
     "data": {
      "application/vnd.jupyter.widget-view+json": {
       "model_id": "ea7e0c4847724be88e15c1badb28590b",
       "version_major": 2,
       "version_minor": 0
      },
      "text/plain": [
       "Testing: 0it [00:00, ?it/s]"
      ]
     },
     "metadata": {},
     "output_type": "display_data"
    },
    {
     "data": {
      "text/html": [
       "<pre style=\"white-space:pre;overflow-x:auto;line-height:normal;font-family:Menlo,'DejaVu Sans Mono',consolas,'Courier New',monospace\">┏━━━━━━━━━━━━━━━━━━━━━━━━━━━┳━━━━━━━━━━━━━━━━━━━━━━━━━━━┓\n",
       "┃<span style=\"font-weight: bold\">        Test metric        </span>┃<span style=\"font-weight: bold\">       DataLoader 0        </span>┃\n",
       "┡━━━━━━━━━━━━━━━━━━━━━━━━━━━╇━━━━━━━━━━━━━━━━━━━━━━━━━━━┩\n",
       "│<span style=\"color: #008080; text-decoration-color: #008080\">           AUROC           </span>│<span style=\"color: #800080; text-decoration-color: #800080\">    0.47656458616256714    </span>│\n",
       "│<span style=\"color: #008080; text-decoration-color: #008080\">         Accuracy          </span>│<span style=\"color: #800080; text-decoration-color: #800080\">    0.5184600353240967     </span>│\n",
       "│<span style=\"color: #008080; text-decoration-color: #008080\">          F1Score          </span>│<span style=\"color: #800080; text-decoration-color: #800080\">            0.0            </span>│\n",
       "│<span style=\"color: #008080; text-decoration-color: #008080\">          PR-AUC           </span>│<span style=\"color: #800080; text-decoration-color: #800080\">    0.4767463207244873     </span>│\n",
       "└───────────────────────────┴───────────────────────────┘\n",
       "</pre>\n"
      ],
      "text/plain": [
       "┏━━━━━━━━━━━━━━━━━━━━━━━━━━━┳━━━━━━━━━━━━━━━━━━━━━━━━━━━┓\n",
       "┃\u001b[1m \u001b[0m\u001b[1m       Test metric       \u001b[0m\u001b[1m \u001b[0m┃\u001b[1m \u001b[0m\u001b[1m      DataLoader 0       \u001b[0m\u001b[1m \u001b[0m┃\n",
       "┡━━━━━━━━━━━━━━━━━━━━━━━━━━━╇━━━━━━━━━━━━━━━━━━━━━━━━━━━┩\n",
       "│\u001b[36m \u001b[0m\u001b[36m          AUROC          \u001b[0m\u001b[36m \u001b[0m│\u001b[35m \u001b[0m\u001b[35m   0.47656458616256714   \u001b[0m\u001b[35m \u001b[0m│\n",
       "│\u001b[36m \u001b[0m\u001b[36m        Accuracy         \u001b[0m\u001b[36m \u001b[0m│\u001b[35m \u001b[0m\u001b[35m   0.5184600353240967    \u001b[0m\u001b[35m \u001b[0m│\n",
       "│\u001b[36m \u001b[0m\u001b[36m         F1Score         \u001b[0m\u001b[36m \u001b[0m│\u001b[35m \u001b[0m\u001b[35m           0.0           \u001b[0m\u001b[35m \u001b[0m│\n",
       "│\u001b[36m \u001b[0m\u001b[36m         PR-AUC          \u001b[0m\u001b[36m \u001b[0m│\u001b[35m \u001b[0m\u001b[35m   0.4767463207244873    \u001b[0m\u001b[35m \u001b[0m│\n",
       "└───────────────────────────┴───────────────────────────┘\n"
      ]
     },
     "metadata": {},
     "output_type": "display_data"
    },
    {
     "data": {
      "text/plain": [
       "[{'AUROC': 0.47656458616256714,\n",
       "  'PR-AUC': 0.4767463207244873,\n",
       "  'Accuracy': 0.5184600353240967,\n",
       "  'F1Score': 0.0}]"
      ]
     },
     "execution_count": 17,
     "metadata": {},
     "output_type": "execute_result"
    }
   ],
   "source": [
    "val_trainer.test(valid_model, val_datamodule)"
   ]
  },
  {
   "cell_type": "code",
   "execution_count": null,
   "id": "f9b7460e",
   "metadata": {},
   "outputs": [],
   "source": []
  }
 ],
 "metadata": {
  "kernelspec": {
   "display_name": "Python 3",
   "language": "python",
   "name": "python3"
  },
  "language_info": {
   "codemirror_mode": {
    "name": "ipython",
    "version": 3
   },
   "file_extension": ".py",
   "mimetype": "text/x-python",
   "name": "python",
   "nbconvert_exporter": "python",
   "pygments_lexer": "ipython3",
   "version": "3.9.13"
  },
  "vscode": {
   "interpreter": {
    "hash": "cf92aa13fedf815d5c8dd192b8d835913fde3e8bc926b2a0ad6cc74ef2ba3ca2"
   }
  }
 },
 "nbformat": 4,
 "nbformat_minor": 5
}
