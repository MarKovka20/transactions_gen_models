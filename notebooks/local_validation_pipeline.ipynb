{
 "cells": [
  {
   "cell_type": "code",
   "execution_count": 1,
   "id": "b869464e",
   "metadata": {},
   "outputs": [],
   "source": [
    "import warnings\n",
    "warnings.filterwarnings(\"ignore\")\n",
    "\n",
    "import os\n",
    "import sys\n",
    "\n",
    "dir2 = os.path.abspath('')\n",
    "dir1 = os.path.dirname(dir2)\n",
    "if not dir1 in sys.path:\n",
    "    sys.path.append(dir1)\n",
    "\n",
    "os.chdir('..')\n",
    "\n",
    "%load_ext autoreload\n",
    "%autoreload"
   ]
  },
  {
   "cell_type": "code",
   "execution_count": 2,
   "id": "93b5be38",
   "metadata": {},
   "outputs": [
    {
     "name": "stderr",
     "output_type": "stream",
     "text": [
      "2023-08-27 12:40:47.235939: I tensorflow/core/platform/cpu_feature_guard.cc:193] This TensorFlow binary is optimized with oneAPI Deep Neural Network Library (oneDNN) to use the following CPU instructions in performance-critical operations:  SSE4.1 SSE4.2 AVX AVX2 FMA\n",
      "To enable them in other operations, rebuild TensorFlow with the appropriate compiler flags.\n"
     ]
    }
   ],
   "source": [
    "from pathlib import Path\n",
    "\n",
    "import pandas as pd\n",
    "import numpy as np\n",
    "\n",
    "import torch\n",
    "\n",
    "from hydra import initialize, compose\n",
    "from hydra.utils import instantiate\n",
    "\n",
    "from ptls.preprocessing import PandasDataPreprocessor\n",
    "from ptls.frames import PtlsDataModule\n",
    "\n",
    "from pytorch_lightning import Trainer\n",
    "from pytorch_lightning.callbacks import ModelCheckpoint, EarlyStopping\n",
    "from pytorch_lightning.loggers import TensorBoardLogger\n",
    "\n",
    "from sklearn.model_selection import train_test_split\n",
    "\n",
    "from src.coles import CustomColesDataset, CustomColesValidationDataset, CustomCoLES\n",
    "from src.local_validation import LocalValidationModel"
   ]
  },
  {
   "cell_type": "markdown",
   "id": "900faabe",
   "metadata": {},
   "source": [
    "# Use Age dataset with fake local labels\n",
    "\n",
    "## Init original datasets and datamodule"
   ]
  },
  {
   "cell_type": "code",
   "execution_count": 48,
   "id": "417e02ac",
   "metadata": {},
   "outputs": [],
   "source": [
    "DATASET = \"age\"\n",
    "\n",
    "with initialize(config_path=\"../config\", version_base=None):\n",
    "    cfg = compose(config_name=\"config_\" + DATASET)\n",
    "    \n",
    "cfg_preprop = cfg[\"dataset\"]\n",
    "cfg_model = cfg[\"model\"]"
   ]
  },
  {
   "cell_type": "code",
   "execution_count": 24,
   "id": "9d74871d",
   "metadata": {},
   "outputs": [
    {
     "data": {
      "text/html": [
       "<div>\n",
       "<style scoped>\n",
       "    .dataframe tbody tr th:only-of-type {\n",
       "        vertical-align: middle;\n",
       "    }\n",
       "\n",
       "    .dataframe tbody tr th {\n",
       "        vertical-align: top;\n",
       "    }\n",
       "\n",
       "    .dataframe thead th {\n",
       "        text-align: right;\n",
       "    }\n",
       "</style>\n",
       "<table border=\"1\" class=\"dataframe\">\n",
       "  <thead>\n",
       "    <tr style=\"text-align: right;\">\n",
       "      <th></th>\n",
       "      <th>user_id</th>\n",
       "      <th>timestamp</th>\n",
       "      <th>mcc_code</th>\n",
       "      <th>amount</th>\n",
       "      <th>global_target</th>\n",
       "    </tr>\n",
       "  </thead>\n",
       "  <tbody>\n",
       "    <tr>\n",
       "      <th>0</th>\n",
       "      <td>33172</td>\n",
       "      <td>6</td>\n",
       "      <td>4</td>\n",
       "      <td>71.463</td>\n",
       "      <td>0</td>\n",
       "    </tr>\n",
       "    <tr>\n",
       "      <th>1</th>\n",
       "      <td>33172</td>\n",
       "      <td>6</td>\n",
       "      <td>35</td>\n",
       "      <td>45.017</td>\n",
       "      <td>0</td>\n",
       "    </tr>\n",
       "    <tr>\n",
       "      <th>2</th>\n",
       "      <td>33172</td>\n",
       "      <td>8</td>\n",
       "      <td>11</td>\n",
       "      <td>13.887</td>\n",
       "      <td>0</td>\n",
       "    </tr>\n",
       "    <tr>\n",
       "      <th>3</th>\n",
       "      <td>33172</td>\n",
       "      <td>9</td>\n",
       "      <td>11</td>\n",
       "      <td>15.983</td>\n",
       "      <td>0</td>\n",
       "    </tr>\n",
       "    <tr>\n",
       "      <th>4</th>\n",
       "      <td>33172</td>\n",
       "      <td>10</td>\n",
       "      <td>11</td>\n",
       "      <td>21.341</td>\n",
       "      <td>0</td>\n",
       "    </tr>\n",
       "  </tbody>\n",
       "</table>\n",
       "</div>"
      ],
      "text/plain": [
       "   user_id  timestamp  mcc_code  amount  global_target\n",
       "0    33172          6         4  71.463              0\n",
       "1    33172          6        35  45.017              0\n",
       "2    33172          8        11  13.887              0\n",
       "3    33172          9        11  15.983              0\n",
       "4    33172         10        11  21.341              0"
      ]
     },
     "execution_count": 24,
     "metadata": {},
     "output_type": "execute_result"
    }
   ],
   "source": [
    "df = pd.read_parquet(Path(cfg[\"dataset\"][\"dir_path\"]).joinpath(cfg[\"dataset\"][\"train_file_name\"]))\n",
    "df.head()"
   ]
  },
  {
   "cell_type": "code",
   "execution_count": 25,
   "id": "9c6e81f8",
   "metadata": {},
   "outputs": [
    {
     "data": {
      "text/html": [
       "<div>\n",
       "<style scoped>\n",
       "    .dataframe tbody tr th:only-of-type {\n",
       "        vertical-align: middle;\n",
       "    }\n",
       "\n",
       "    .dataframe tbody tr th {\n",
       "        vertical-align: top;\n",
       "    }\n",
       "\n",
       "    .dataframe thead th {\n",
       "        text-align: right;\n",
       "    }\n",
       "</style>\n",
       "<table border=\"1\" class=\"dataframe\">\n",
       "  <thead>\n",
       "    <tr style=\"text-align: right;\">\n",
       "      <th></th>\n",
       "      <th>user_id</th>\n",
       "      <th>timestamp</th>\n",
       "      <th>mcc_code</th>\n",
       "      <th>amount</th>\n",
       "      <th>global_target</th>\n",
       "      <th>fake_local_label</th>\n",
       "    </tr>\n",
       "  </thead>\n",
       "  <tbody>\n",
       "    <tr>\n",
       "      <th>0</th>\n",
       "      <td>33172</td>\n",
       "      <td>6</td>\n",
       "      <td>4</td>\n",
       "      <td>71.463</td>\n",
       "      <td>0</td>\n",
       "      <td>1</td>\n",
       "    </tr>\n",
       "    <tr>\n",
       "      <th>1</th>\n",
       "      <td>33172</td>\n",
       "      <td>6</td>\n",
       "      <td>35</td>\n",
       "      <td>45.017</td>\n",
       "      <td>0</td>\n",
       "      <td>1</td>\n",
       "    </tr>\n",
       "    <tr>\n",
       "      <th>2</th>\n",
       "      <td>33172</td>\n",
       "      <td>8</td>\n",
       "      <td>11</td>\n",
       "      <td>13.887</td>\n",
       "      <td>0</td>\n",
       "      <td>1</td>\n",
       "    </tr>\n",
       "    <tr>\n",
       "      <th>3</th>\n",
       "      <td>33172</td>\n",
       "      <td>9</td>\n",
       "      <td>11</td>\n",
       "      <td>15.983</td>\n",
       "      <td>0</td>\n",
       "      <td>1</td>\n",
       "    </tr>\n",
       "    <tr>\n",
       "      <th>4</th>\n",
       "      <td>33172</td>\n",
       "      <td>10</td>\n",
       "      <td>11</td>\n",
       "      <td>21.341</td>\n",
       "      <td>0</td>\n",
       "      <td>1</td>\n",
       "    </tr>\n",
       "  </tbody>\n",
       "</table>\n",
       "</div>"
      ],
      "text/plain": [
       "   user_id  timestamp  mcc_code  amount  global_target  fake_local_label\n",
       "0    33172          6         4  71.463              0                 1\n",
       "1    33172          6        35  45.017              0                 1\n",
       "2    33172          8        11  13.887              0                 1\n",
       "3    33172          9        11  15.983              0                 1\n",
       "4    33172         10        11  21.341              0                 1"
      ]
     },
     "execution_count": 25,
     "metadata": {},
     "output_type": "execute_result"
    }
   ],
   "source": [
    "# add fake local label for Age\n",
    "df[\"fake_local_label\"] = np.ones(len(df)).astype(int)\n",
    "df.head()"
   ]
  },
  {
   "cell_type": "code",
   "execution_count": 26,
   "id": "0b0f03de",
   "metadata": {},
   "outputs": [],
   "source": [
    "preprocessor = PandasDataPreprocessor(\n",
    "    col_id=\"user_id\",\n",
    "    col_event_time=\"timestamp\",\n",
    "    event_time_transformation=\"none\", # no time preprocessing\n",
    "    cols_category=[\"mcc_code\"],\n",
    "    cols_numerical=[\"amount\", \"fake_local_label\"], # keep column with fake local targets\n",
    "    return_records=True\n",
    ")\n",
    "\n",
    "dataset = preprocessor.fit_transform(df)\n",
    "\n",
    "train, val = train_test_split(dataset, test_size=.2)"
   ]
  },
  {
   "cell_type": "code",
   "execution_count": 27,
   "id": "16abf081",
   "metadata": {},
   "outputs": [],
   "source": [
    "# initialize original CoLES datasest - for CoLES training\n",
    "train_data: CustomColesDataset = instantiate(cfg_model[\"dataset\"], data=train)\n",
    "val_data: CustomColesDataset = instantiate(cfg_model[\"dataset\"], data=val)\n",
    "    \n",
    "train_datamodule: PtlsDataModule = instantiate(\n",
    "    cfg_model[\"datamodule\"],\n",
    "    train_data=train_data,\n",
    "    valid_data=val_data\n",
    ")"
   ]
  },
  {
   "cell_type": "markdown",
   "id": "72f9a437",
   "metadata": {},
   "source": [
    "# Initialize and train CoLES model"
   ]
  },
  {
   "cell_type": "code",
   "execution_count": 28,
   "id": "e9a7e284",
   "metadata": {},
   "outputs": [],
   "source": [
    "model: CustomCoLES = instantiate(cfg_model[\"model\"])"
   ]
  },
  {
   "cell_type": "code",
   "execution_count": 29,
   "id": "b67275e3",
   "metadata": {
    "scrolled": true
   },
   "outputs": [
    {
     "name": "stderr",
     "output_type": "stream",
     "text": [
      "GPU available: True, used: True\n",
      "TPU available: False, using: 0 TPU cores\n",
      "IPU available: False, using: 0 IPUs\n",
      "HPU available: False, using: 0 HPUs\n",
      "LOCAL_RANK: 0 - CUDA_VISIBLE_DEVICES: [0,1]\n",
      "\n",
      "  | Name               | Type            | Params\n",
      "-------------------------------------------------------\n",
      "0 | _loss              | ContrastiveLoss | 0     \n",
      "1 | _seq_encoder       | RnnSeqEncoder   | 12.9 K\n",
      "2 | _validation_metric | BatchRecallTopK | 0     \n",
      "3 | _head              | Head            | 0     \n",
      "-------------------------------------------------------\n",
      "12.9 K    Trainable params\n",
      "0         Non-trainable params\n",
      "12.9 K    Total params\n",
      "0.052     Total estimated model params size (MB)\n"
     ]
    },
    {
     "data": {
      "application/vnd.jupyter.widget-view+json": {
       "model_id": "",
       "version_major": 2,
       "version_minor": 0
      },
      "text/plain": [
       "Sanity Checking: 0it [00:00, ?it/s]"
      ]
     },
     "metadata": {},
     "output_type": "display_data"
    },
    {
     "data": {
      "application/vnd.jupyter.widget-view+json": {
       "model_id": "0475907feac34b35a2589d1c3e9edccb",
       "version_major": 2,
       "version_minor": 0
      },
      "text/plain": [
       "Training: 0it [00:00, ?it/s]"
      ]
     },
     "metadata": {},
     "output_type": "display_data"
    },
    {
     "data": {
      "application/vnd.jupyter.widget-view+json": {
       "model_id": "",
       "version_major": 2,
       "version_minor": 0
      },
      "text/plain": [
       "Validation: 0it [00:00, ?it/s]"
      ]
     },
     "metadata": {},
     "output_type": "display_data"
    },
    {
     "name": "stderr",
     "output_type": "stream",
     "text": [
      "Metric recall_top_k improved. New best score: 0.081\n"
     ]
    },
    {
     "data": {
      "application/vnd.jupyter.widget-view+json": {
       "model_id": "",
       "version_major": 2,
       "version_minor": 0
      },
      "text/plain": [
       "Validation: 0it [00:00, ?it/s]"
      ]
     },
     "metadata": {},
     "output_type": "display_data"
    },
    {
     "name": "stderr",
     "output_type": "stream",
     "text": [
      "Metric recall_top_k improved by 0.103 >= min_delta = 0.01. New best score: 0.185\n"
     ]
    },
    {
     "data": {
      "application/vnd.jupyter.widget-view+json": {
       "model_id": "",
       "version_major": 2,
       "version_minor": 0
      },
      "text/plain": [
       "Validation: 0it [00:00, ?it/s]"
      ]
     },
     "metadata": {},
     "output_type": "display_data"
    },
    {
     "name": "stderr",
     "output_type": "stream",
     "text": [
      "Metric recall_top_k improved by 0.067 >= min_delta = 0.01. New best score: 0.252\n"
     ]
    },
    {
     "data": {
      "application/vnd.jupyter.widget-view+json": {
       "model_id": "",
       "version_major": 2,
       "version_minor": 0
      },
      "text/plain": [
       "Validation: 0it [00:00, ?it/s]"
      ]
     },
     "metadata": {},
     "output_type": "display_data"
    },
    {
     "name": "stderr",
     "output_type": "stream",
     "text": [
      "Metric recall_top_k improved by 0.042 >= min_delta = 0.01. New best score: 0.294\n"
     ]
    },
    {
     "data": {
      "application/vnd.jupyter.widget-view+json": {
       "model_id": "",
       "version_major": 2,
       "version_minor": 0
      },
      "text/plain": [
       "Validation: 0it [00:00, ?it/s]"
      ]
     },
     "metadata": {},
     "output_type": "display_data"
    },
    {
     "name": "stderr",
     "output_type": "stream",
     "text": [
      "Metric recall_top_k improved by 0.019 >= min_delta = 0.01. New best score: 0.313\n"
     ]
    },
    {
     "data": {
      "application/vnd.jupyter.widget-view+json": {
       "model_id": "",
       "version_major": 2,
       "version_minor": 0
      },
      "text/plain": [
       "Validation: 0it [00:00, ?it/s]"
      ]
     },
     "metadata": {},
     "output_type": "display_data"
    },
    {
     "name": "stderr",
     "output_type": "stream",
     "text": [
      "Metric recall_top_k improved by 0.013 >= min_delta = 0.01. New best score: 0.326\n"
     ]
    },
    {
     "data": {
      "application/vnd.jupyter.widget-view+json": {
       "model_id": "",
       "version_major": 2,
       "version_minor": 0
      },
      "text/plain": [
       "Validation: 0it [00:00, ?it/s]"
      ]
     },
     "metadata": {},
     "output_type": "display_data"
    },
    {
     "name": "stderr",
     "output_type": "stream",
     "text": [
      "Metric recall_top_k improved by 0.011 >= min_delta = 0.01. New best score: 0.338\n"
     ]
    },
    {
     "data": {
      "application/vnd.jupyter.widget-view+json": {
       "model_id": "",
       "version_major": 2,
       "version_minor": 0
      },
      "text/plain": [
       "Validation: 0it [00:00, ?it/s]"
      ]
     },
     "metadata": {},
     "output_type": "display_data"
    },
    {
     "data": {
      "application/vnd.jupyter.widget-view+json": {
       "model_id": "",
       "version_major": 2,
       "version_minor": 0
      },
      "text/plain": [
       "Validation: 0it [00:00, ?it/s]"
      ]
     },
     "metadata": {},
     "output_type": "display_data"
    },
    {
     "name": "stderr",
     "output_type": "stream",
     "text": [
      "Metric recall_top_k improved by 0.012 >= min_delta = 0.01. New best score: 0.349\n"
     ]
    },
    {
     "data": {
      "application/vnd.jupyter.widget-view+json": {
       "model_id": "",
       "version_major": 2,
       "version_minor": 0
      },
      "text/plain": [
       "Validation: 0it [00:00, ?it/s]"
      ]
     },
     "metadata": {},
     "output_type": "display_data"
    },
    {
     "data": {
      "application/vnd.jupyter.widget-view+json": {
       "model_id": "",
       "version_major": 2,
       "version_minor": 0
      },
      "text/plain": [
       "Validation: 0it [00:00, ?it/s]"
      ]
     },
     "metadata": {},
     "output_type": "display_data"
    },
    {
     "data": {
      "application/vnd.jupyter.widget-view+json": {
       "model_id": "",
       "version_major": 2,
       "version_minor": 0
      },
      "text/plain": [
       "Validation: 0it [00:00, ?it/s]"
      ]
     },
     "metadata": {},
     "output_type": "display_data"
    },
    {
     "data": {
      "application/vnd.jupyter.widget-view+json": {
       "model_id": "",
       "version_major": 2,
       "version_minor": 0
      },
      "text/plain": [
       "Validation: 0it [00:00, ?it/s]"
      ]
     },
     "metadata": {},
     "output_type": "display_data"
    },
    {
     "data": {
      "application/vnd.jupyter.widget-view+json": {
       "model_id": "",
       "version_major": 2,
       "version_minor": 0
      },
      "text/plain": [
       "Validation: 0it [00:00, ?it/s]"
      ]
     },
     "metadata": {},
     "output_type": "display_data"
    },
    {
     "name": "stderr",
     "output_type": "stream",
     "text": [
      "Monitored metric recall_top_k did not improve in the last 5 records. Best score: 0.349. Signaling Trainer to stop.\n"
     ]
    }
   ],
   "source": [
    "model_checkpoint: ModelCheckpoint = instantiate(\n",
    "    cfg_model[\"trainer_coles\"][\"checkpoint_callback\"],\n",
    "    monitor=model.metric_name,\n",
    "    mode=\"max\"\n",
    ")\n",
    "    \n",
    "early_stopping: EarlyStopping = instantiate(\n",
    "    cfg_model[\"trainer_coles\"][\"early_stopping\"],\n",
    "    monitor=model.metric_name,\n",
    "    mode=\"max\"\n",
    ")\n",
    "    \n",
    "logger: TensorBoardLogger = instantiate(cfg_model[\"trainer_coles\"][\"logger\"])\n",
    "    \n",
    "trainer: Trainer = instantiate(\n",
    "    cfg_model[\"trainer_coles\"][\"trainer\"],\n",
    "    callbacks=[model_checkpoint, early_stopping],\n",
    "    logger=logger\n",
    ")\n",
    "    \n",
    "trainer.fit(model, train_datamodule)"
   ]
  },
  {
   "cell_type": "code",
   "execution_count": 33,
   "id": "793c99ad",
   "metadata": {},
   "outputs": [],
   "source": [
    "torch.save(model.state_dict(), \"saved_models/coles_age_default.pth\")"
   ]
  },
  {
   "cell_type": "markdown",
   "id": "5f863731",
   "metadata": {},
   "source": [
    "# Local validation pipeline"
   ]
  },
  {
   "cell_type": "code",
   "execution_count": 49,
   "id": "68271efa",
   "metadata": {},
   "outputs": [],
   "source": [
    "# initialize custom datasets and datamodule for local validation\n",
    "# use the same 'train' and 'val' preprocessed data\n",
    "train_data_local: CustomColesValidationDataset = instantiate(cfg_model[\"validation_dataset\"], data=train)\n",
    "val_data_local: CustomColesValidationDataset = instantiate(cfg_model[\"validation_dataset\"], data=val)\n",
    "\n",
    "# keep batch_size = 1 (all slices of one user in one batch)\n",
    "# or may use batch_size > 1 to speed-up LocalValidationModel training\n",
    "val_datamodule: PtlsDataModule = instantiate(\n",
    "    cfg_model[\"datamodule\"],\n",
    "    train_data=train_data_local,\n",
    "    valid_data=val_data_local,\n",
    "    test_data=val_data_local,\n",
    "    train_batch_size=10,\n",
    "    valid_batch_size=1,\n",
    "    test_batch_size=1\n",
    ")"
   ]
  },
  {
   "cell_type": "markdown",
   "id": "1dbc1604",
   "metadata": {},
   "source": [
    "### Investigate validation batch structure "
   ]
  },
  {
   "cell_type": "code",
   "execution_count": 35,
   "id": "773bbe78",
   "metadata": {},
   "outputs": [],
   "source": [
    "valid_batch, local_labels = next(iter(val_datamodule.val_dataloader()))"
   ]
  },
  {
   "cell_type": "code",
   "execution_count": 36,
   "id": "58ecc020",
   "metadata": {},
   "outputs": [
    {
     "data": {
      "text/plain": [
       "(torch.Size([77, 40]),\n",
       " {'timestamp': tensor([[  1,   2,   2,  ...,  43,  46,  47],\n",
       "          [ 13,  15,  19,  ...,  60,  62,  62],\n",
       "          [ 28,  29,  29,  ...,  71,  72,  72],\n",
       "          ...,\n",
       "          [678, 678, 679,  ..., 707, 708, 709],\n",
       "          [683, 683, 684,  ..., 713, 713, 714],\n",
       "          [693, 694, 697,  ..., 723, 724, 725]]),\n",
       "  'global_target': tensor([[3, 3, 3,  ..., 3, 3, 3],\n",
       "          [3, 3, 3,  ..., 3, 3, 3],\n",
       "          [3, 3, 3,  ..., 3, 3, 3],\n",
       "          ...,\n",
       "          [3, 3, 3,  ..., 3, 3, 3],\n",
       "          [3, 3, 3,  ..., 3, 3, 3],\n",
       "          [3, 3, 3,  ..., 3, 3, 3]]),\n",
       "  'event_time': tensor([[  1,   2,   2,  ...,  43,  46,  47],\n",
       "          [ 13,  15,  19,  ...,  60,  62,  62],\n",
       "          [ 28,  29,  29,  ...,  71,  72,  72],\n",
       "          ...,\n",
       "          [678, 678, 679,  ..., 707, 708, 709],\n",
       "          [683, 683, 684,  ..., 713, 713, 714],\n",
       "          [693, 694, 697,  ..., 723, 724, 725]]),\n",
       "  'mcc_code': tensor([[ 3, 14, 11,  ...,  1,  3,  2],\n",
       "          [ 1, 19,  3,  ...,  3,  7,  3],\n",
       "          [ 1, 14,  3,  ...,  3,  3, 33],\n",
       "          ...,\n",
       "          [ 8,  2, 15,  ..., 14, 14, 14],\n",
       "          [14,  1, 14,  ..., 14,  1, 18],\n",
       "          [14, 14, 14,  ...,  5, 14,  3]]),\n",
       "  'amount': tensor([[ 34.5020,   1.3280, 242.4400,  ...,  19.1360,   9.1590,  43.8720],\n",
       "          [274.9540,  52.1410,   6.8690,  ...,  43.1270,  35.9690,  45.7950],\n",
       "          [ 94.7080,   1.7410,  17.2510,  ...,  13.7380,  12.9380, 114.4890],\n",
       "          ...,\n",
       "          [  7.0520, 107.1610, 123.9820,  ...,   6.4260,  20.4700,  29.1970],\n",
       "          [ 17.3570,   1.5090,  32.3030,  ...,  27.3860,  57.2150,  43.0420],\n",
       "          [ 16.3450,  17.3570,  41.1240,  ...,  48.7720,  48.4760,  38.8150]],\n",
       "         dtype=torch.float64),\n",
       "  'fake_local_label': tensor([[1, 1, 1,  ..., 1, 1, 1],\n",
       "          [1, 1, 1,  ..., 1, 1, 1],\n",
       "          [1, 1, 1,  ..., 1, 1, 1],\n",
       "          ...,\n",
       "          [1, 1, 1,  ..., 1, 1, 1],\n",
       "          [1, 1, 1,  ..., 1, 1, 1],\n",
       "          [1, 1, 1,  ..., 1, 1, 1]])})"
      ]
     },
     "execution_count": 36,
     "metadata": {},
     "output_type": "execute_result"
    }
   ],
   "source": [
    "# original format + local_targets, local_targets are not passed to CoLES model\n",
    "# each tensor is of shape (num_slices, seq_len), num_slices = (num_timesteps - seq_len) // stride\n",
    "# using stride=1 is not feasible as it results in too much slices - training of LocalValidationModel is too long\n",
    "\n",
    "valid_batch.payload['timestamp'].shape, valid_batch.payload"
   ]
  },
  {
   "cell_type": "code",
   "execution_count": 37,
   "id": "66e9afcd",
   "metadata": {},
   "outputs": [
    {
     "data": {
      "text/plain": [
       "torch.Size([77])"
      ]
     },
     "execution_count": 37,
     "metadata": {},
     "output_type": "execute_result"
    }
   ],
   "source": [
    "# corresponding local labels (fake for Age)\n",
    "local_labels.shape"
   ]
  },
  {
   "cell_type": "markdown",
   "id": "aeaf2c68",
   "metadata": {},
   "source": [
    "## CoLES embeddings for a single user\n",
    "\n",
    "If batch_size is 1, than batch contains all slices (consequtive sliding windows) for 1 user. As a result, we get embedding of shape (slices_num, embd_size)"
   ]
  },
  {
   "cell_type": "code",
   "execution_count": 50,
   "id": "c8a189ff",
   "metadata": {},
   "outputs": [
    {
     "data": {
      "text/plain": [
       "torch.Size([77, 32])"
      ]
     },
     "execution_count": 50,
     "metadata": {},
     "output_type": "execute_result"
    }
   ],
   "source": [
    "emb = model(valid_batch)\n",
    "\n",
    "# shape is (num_slices, embd_size)\n",
    "emb.shape"
   ]
  },
  {
   "cell_type": "markdown",
   "id": "cb37a672",
   "metadata": {},
   "source": [
    "## Local validation pipeline"
   ]
  },
  {
   "cell_type": "code",
   "execution_count": 59,
   "id": "3ce3e05f",
   "metadata": {},
   "outputs": [],
   "source": [
    "EMBD_SIZE = 32\n",
    "HIDDEN_SIZE = 32\n",
    "\n",
    "valid_model = LocalValidationModel(\n",
    "    backbone=model,\n",
    "    backbone_embd_size=EMBD_SIZE,\n",
    "    hidden_size=HIDDEN_SIZE,\n",
    ")"
   ]
  },
  {
   "cell_type": "code",
   "execution_count": 60,
   "id": "951b2bfd",
   "metadata": {},
   "outputs": [
    {
     "name": "stdout",
     "output_type": "stream",
     "text": [
      "CoLES embeddings: torch.Size([77, 32])\n",
      "Predicted labels: torch.Size([77])\n",
      "True local labels: torch.Size([77])\n"
     ]
    }
   ],
   "source": [
    "backbone_out = valid_model.backbone(valid_batch)\n",
    "print(\"CoLES embeddings:\", backbone_out.shape)\n",
    "\n",
    "pred_out = valid_model(valid_batch)\n",
    "print(\"Predicted labels:\", pred_out.shape)\n",
    "\n",
    "print(\"True local labels:\", local_labels.shape)"
   ]
  },
  {
   "cell_type": "code",
   "execution_count": 52,
   "id": "a05fcc82",
   "metadata": {},
   "outputs": [
    {
     "name": "stderr",
     "output_type": "stream",
     "text": [
      "GPU available: True, used: True\n",
      "TPU available: False, using: 0 TPU cores\n",
      "IPU available: False, using: 0 IPUs\n",
      "HPU available: False, using: 0 HPUs\n",
      "LOCAL_RANK: 0 - CUDA_VISIBLE_DEVICES: [0,1]\n",
      "\n",
      "  | Name      | Type        | Params\n",
      "------------------------------------------\n",
      "0 | backbone  | CustomCoLES | 12.9 K\n",
      "1 | pred_head | Sequential  | 1.1 K \n",
      "2 | loss      | BCELoss     | 0     \n",
      "------------------------------------------\n",
      "1.1 K     Trainable params\n",
      "12.9 K    Non-trainable params\n",
      "14.0 K    Total params\n",
      "0.056     Total estimated model params size (MB)\n"
     ]
    },
    {
     "data": {
      "application/vnd.jupyter.widget-view+json": {
       "model_id": "",
       "version_major": 2,
       "version_minor": 0
      },
      "text/plain": [
       "Sanity Checking: 0it [00:00, ?it/s]"
      ]
     },
     "metadata": {},
     "output_type": "display_data"
    },
    {
     "data": {
      "application/vnd.jupyter.widget-view+json": {
       "model_id": "3897c7a097e74d8d8f8aa16ce9a9bbed",
       "version_major": 2,
       "version_minor": 0
      },
      "text/plain": [
       "Training: 0it [00:00, ?it/s]"
      ]
     },
     "metadata": {},
     "output_type": "display_data"
    },
    {
     "data": {
      "application/vnd.jupyter.widget-view+json": {
       "model_id": "",
       "version_major": 2,
       "version_minor": 0
      },
      "text/plain": [
       "Validation: 0it [00:00, ?it/s]"
      ]
     },
     "metadata": {},
     "output_type": "display_data"
    }
   ],
   "source": [
    "val_trainer = Trainer(\n",
    "    accelerator=\"gpu\",\n",
    "    devices=1,\n",
    "    max_epochs=1,\n",
    ")\n",
    "    \n",
    "val_trainer.fit(valid_model, val_datamodule)"
   ]
  },
  {
   "cell_type": "code",
   "execution_count": 56,
   "id": "4f20052e",
   "metadata": {},
   "outputs": [],
   "source": [
    "torch.save(valid_model.state_dict(), \"saved_models/validation_age.pth\")"
   ]
  },
  {
   "cell_type": "code",
   "execution_count": 66,
   "id": "4ee384f3",
   "metadata": {},
   "outputs": [
    {
     "data": {
      "text/plain": [
       "<All keys matched successfully>"
      ]
     },
     "execution_count": 66,
     "metadata": {},
     "output_type": "execute_result"
    }
   ],
   "source": [
    "valid_model.load_state_dict(torch.load(\"saved_models/validation_age.pth\"))"
   ]
  },
  {
   "cell_type": "code",
   "execution_count": 67,
   "id": "7afc41e3",
   "metadata": {},
   "outputs": [
    {
     "name": "stderr",
     "output_type": "stream",
     "text": [
      "LOCAL_RANK: 0 - CUDA_VISIBLE_DEVICES: [0,1]\n"
     ]
    },
    {
     "data": {
      "application/vnd.jupyter.widget-view+json": {
       "model_id": "5a63e42b505446519a3d264bf1b11eb5",
       "version_major": 2,
       "version_minor": 0
      },
      "text/plain": [
       "Testing: 0it [00:00, ?it/s]"
      ]
     },
     "metadata": {},
     "output_type": "display_data"
    },
    {
     "data": {
      "text/html": [
       "<pre style=\"white-space:pre;overflow-x:auto;line-height:normal;font-family:Menlo,'DejaVu Sans Mono',consolas,'Courier New',monospace\">┏━━━━━━━━━━━━━━━━━━━━━━━━━━━┳━━━━━━━━━━━━━━━━━━━━━━━━━━━┓\n",
       "┃<span style=\"font-weight: bold\">        Test metric        </span>┃<span style=\"font-weight: bold\">       DataLoader 0        </span>┃\n",
       "┡━━━━━━━━━━━━━━━━━━━━━━━━━━━╇━━━━━━━━━━━━━━━━━━━━━━━━━━━┩\n",
       "│<span style=\"color: #008080; text-decoration-color: #008080\">         Test acc          </span>│<span style=\"color: #800080; text-decoration-color: #800080\">            1.0            </span>│\n",
       "│<span style=\"color: #008080; text-decoration-color: #008080\">       Test f1_score       </span>│<span style=\"color: #800080; text-decoration-color: #800080\">            1.0            </span>│\n",
       "└───────────────────────────┴───────────────────────────┘\n",
       "</pre>\n"
      ],
      "text/plain": [
       "┏━━━━━━━━━━━━━━━━━━━━━━━━━━━┳━━━━━━━━━━━━━━━━━━━━━━━━━━━┓\n",
       "┃\u001b[1m \u001b[0m\u001b[1m       Test metric       \u001b[0m\u001b[1m \u001b[0m┃\u001b[1m \u001b[0m\u001b[1m      DataLoader 0       \u001b[0m\u001b[1m \u001b[0m┃\n",
       "┡━━━━━━━━━━━━━━━━━━━━━━━━━━━╇━━━━━━━━━━━━━━━━━━━━━━━━━━━┩\n",
       "│\u001b[36m \u001b[0m\u001b[36m        Test acc         \u001b[0m\u001b[36m \u001b[0m│\u001b[35m \u001b[0m\u001b[35m           1.0           \u001b[0m\u001b[35m \u001b[0m│\n",
       "│\u001b[36m \u001b[0m\u001b[36m      Test f1_score      \u001b[0m\u001b[36m \u001b[0m│\u001b[35m \u001b[0m\u001b[35m           1.0           \u001b[0m\u001b[35m \u001b[0m│\n",
       "└───────────────────────────┴───────────────────────────┘\n"
      ]
     },
     "metadata": {},
     "output_type": "display_data"
    },
    {
     "data": {
      "text/plain": [
       "[{'Test acc': 1.0, 'Test f1_score': 1.0}]"
      ]
     },
     "execution_count": 67,
     "metadata": {},
     "output_type": "execute_result"
    }
   ],
   "source": [
    "val_trainer.test(valid_model, val_datamodule)"
   ]
  },
  {
   "cell_type": "markdown",
   "id": "2c63d3a8",
   "metadata": {},
   "source": [
    "# Churn dataset with real local targets"
   ]
  },
  {
   "cell_type": "code",
   "execution_count": 3,
   "id": "5dbbb22e",
   "metadata": {},
   "outputs": [],
   "source": [
    "DATASET = \"churn\"\n",
    "\n",
    "with initialize(config_path=\"../config\", version_base=None):\n",
    "    cfg = compose(config_name=\"config_\" + DATASET)\n",
    "    \n",
    "cfg_preprop = cfg[\"dataset\"]\n",
    "cfg_model = cfg[\"model\"]"
   ]
  },
  {
   "cell_type": "code",
   "execution_count": 4,
   "id": "ce0ba022",
   "metadata": {},
   "outputs": [
    {
     "data": {
      "text/html": [
       "<div>\n",
       "<style scoped>\n",
       "    .dataframe tbody tr th:only-of-type {\n",
       "        vertical-align: middle;\n",
       "    }\n",
       "\n",
       "    .dataframe tbody tr th {\n",
       "        vertical-align: top;\n",
       "    }\n",
       "\n",
       "    .dataframe thead th {\n",
       "        text-align: right;\n",
       "    }\n",
       "</style>\n",
       "<table border=\"1\" class=\"dataframe\">\n",
       "  <thead>\n",
       "    <tr style=\"text-align: right;\">\n",
       "      <th></th>\n",
       "      <th>user_id</th>\n",
       "      <th>mcc_code</th>\n",
       "      <th>timestamp</th>\n",
       "      <th>amount</th>\n",
       "      <th>global_target</th>\n",
       "      <th>holiday_target</th>\n",
       "      <th>weekend_target</th>\n",
       "      <th>churn_target</th>\n",
       "    </tr>\n",
       "  </thead>\n",
       "  <tbody>\n",
       "    <tr>\n",
       "      <th>0</th>\n",
       "      <td>0</td>\n",
       "      <td>5200</td>\n",
       "      <td>2017-10-21 00:00:00</td>\n",
       "      <td>5023.0</td>\n",
       "      <td>0</td>\n",
       "      <td>0</td>\n",
       "      <td>1</td>\n",
       "      <td>0</td>\n",
       "    </tr>\n",
       "    <tr>\n",
       "      <th>1</th>\n",
       "      <td>0</td>\n",
       "      <td>6011</td>\n",
       "      <td>2017-10-12 12:24:07</td>\n",
       "      <td>20000.0</td>\n",
       "      <td>0</td>\n",
       "      <td>0</td>\n",
       "      <td>0</td>\n",
       "      <td>0</td>\n",
       "    </tr>\n",
       "    <tr>\n",
       "      <th>2</th>\n",
       "      <td>0</td>\n",
       "      <td>5921</td>\n",
       "      <td>2017-12-05 00:00:00</td>\n",
       "      <td>767.0</td>\n",
       "      <td>0</td>\n",
       "      <td>0</td>\n",
       "      <td>0</td>\n",
       "      <td>1</td>\n",
       "    </tr>\n",
       "    <tr>\n",
       "      <th>3</th>\n",
       "      <td>0</td>\n",
       "      <td>5411</td>\n",
       "      <td>2017-10-21 00:00:00</td>\n",
       "      <td>2031.0</td>\n",
       "      <td>0</td>\n",
       "      <td>0</td>\n",
       "      <td>1</td>\n",
       "      <td>0</td>\n",
       "    </tr>\n",
       "    <tr>\n",
       "      <th>4</th>\n",
       "      <td>0</td>\n",
       "      <td>6012</td>\n",
       "      <td>2017-10-24 13:14:24</td>\n",
       "      <td>36562.0</td>\n",
       "      <td>0</td>\n",
       "      <td>0</td>\n",
       "      <td>0</td>\n",
       "      <td>0</td>\n",
       "    </tr>\n",
       "  </tbody>\n",
       "</table>\n",
       "</div>"
      ],
      "text/plain": [
       "   user_id  mcc_code           timestamp   amount  global_target  \\\n",
       "0        0      5200 2017-10-21 00:00:00   5023.0              0   \n",
       "1        0      6011 2017-10-12 12:24:07  20000.0              0   \n",
       "2        0      5921 2017-12-05 00:00:00    767.0              0   \n",
       "3        0      5411 2017-10-21 00:00:00   2031.0              0   \n",
       "4        0      6012 2017-10-24 13:14:24  36562.0              0   \n",
       "\n",
       "   holiday_target  weekend_target  churn_target  \n",
       "0               0               1             0  \n",
       "1               0               0             0  \n",
       "2               0               0             1  \n",
       "3               0               1             0  \n",
       "4               0               0             0  "
      ]
     },
     "execution_count": 4,
     "metadata": {},
     "output_type": "execute_result"
    }
   ],
   "source": [
    "df = pd.read_parquet(Path(cfg[\"dataset\"][\"dir_path\"]).joinpath(cfg[\"dataset\"][\"train_file_name\"]))\n",
    "df.head()"
   ]
  },
  {
   "cell_type": "code",
   "execution_count": 5,
   "id": "a7c7f361",
   "metadata": {},
   "outputs": [],
   "source": [
    "local_target = cfg_model[\"validation_dataset\"][\"local_target_col\"]\n",
    "\n",
    "preprocessor = PandasDataPreprocessor(\n",
    "    col_id=\"user_id\",\n",
    "    col_event_time=\"timestamp\",\n",
    "    event_time_transformation=\"dt_to_timestamp\", # no time preprocessing\n",
    "    cols_category=[\"mcc_code\"],\n",
    "    cols_numerical=[\"amount\", local_target], # keep column with fake local targets\n",
    "    return_records=True\n",
    ")\n",
    "\n",
    "dataset = preprocessor.fit_transform(df)\n",
    "\n",
    "train, val = train_test_split(dataset, test_size=.2)"
   ]
  },
  {
   "cell_type": "code",
   "execution_count": 6,
   "id": "1c703bbc",
   "metadata": {},
   "outputs": [],
   "source": [
    "# initialize original CoLES datasest - for CoLES training\n",
    "train_data: CustomColesDataset = instantiate(cfg_model[\"dataset\"], data=train)\n",
    "val_data: CustomColesDataset = instantiate(cfg_model[\"dataset\"], data=val)\n",
    "    \n",
    "train_datamodule: PtlsDataModule = instantiate(\n",
    "    cfg_model[\"datamodule\"],\n",
    "    train_data=train_data,\n",
    "    valid_data=val_data\n",
    ")"
   ]
  },
  {
   "cell_type": "code",
   "execution_count": 7,
   "id": "3d70f0fc",
   "metadata": {},
   "outputs": [],
   "source": [
    "model_churn: CustomCoLES = instantiate(cfg_model[\"model\"])"
   ]
  },
  {
   "cell_type": "code",
   "execution_count": 10,
   "id": "c84eb4fe",
   "metadata": {
    "scrolled": true
   },
   "outputs": [
    {
     "name": "stderr",
     "output_type": "stream",
     "text": [
      "GPU available: True, used: True\n",
      "TPU available: False, using: 0 TPU cores\n",
      "IPU available: False, using: 0 IPUs\n",
      "HPU available: False, using: 0 HPUs\n",
      "LOCAL_RANK: 0 - CUDA_VISIBLE_DEVICES: [0,1]\n",
      "\n",
      "  | Name               | Type            | Params\n",
      "-------------------------------------------------------\n",
      "0 | _loss              | ContrastiveLoss | 0     \n",
      "1 | _seq_encoder       | RnnSeqEncoder   | 17.5 K\n",
      "2 | _validation_metric | BatchRecallTopK | 0     \n",
      "3 | _head              | Head            | 0     \n",
      "-------------------------------------------------------\n",
      "17.5 K    Trainable params\n",
      "0         Non-trainable params\n",
      "17.5 K    Total params\n",
      "0.070     Total estimated model params size (MB)\n"
     ]
    },
    {
     "data": {
      "application/vnd.jupyter.widget-view+json": {
       "model_id": "",
       "version_major": 2,
       "version_minor": 0
      },
      "text/plain": [
       "Sanity Checking: 0it [00:00, ?it/s]"
      ]
     },
     "metadata": {},
     "output_type": "display_data"
    },
    {
     "data": {
      "application/vnd.jupyter.widget-view+json": {
       "model_id": "d96065d05038477792f88df917574a21",
       "version_major": 2,
       "version_minor": 0
      },
      "text/plain": [
       "Training: 0it [00:00, ?it/s]"
      ]
     },
     "metadata": {},
     "output_type": "display_data"
    },
    {
     "data": {
      "application/vnd.jupyter.widget-view+json": {
       "model_id": "",
       "version_major": 2,
       "version_minor": 0
      },
      "text/plain": [
       "Validation: 0it [00:00, ?it/s]"
      ]
     },
     "metadata": {},
     "output_type": "display_data"
    },
    {
     "name": "stderr",
     "output_type": "stream",
     "text": [
      "Metric recall_top_k improved. New best score: 0.335\n"
     ]
    },
    {
     "data": {
      "application/vnd.jupyter.widget-view+json": {
       "model_id": "",
       "version_major": 2,
       "version_minor": 0
      },
      "text/plain": [
       "Validation: 0it [00:00, ?it/s]"
      ]
     },
     "metadata": {},
     "output_type": "display_data"
    },
    {
     "data": {
      "application/vnd.jupyter.widget-view+json": {
       "model_id": "",
       "version_major": 2,
       "version_minor": 0
      },
      "text/plain": [
       "Validation: 0it [00:00, ?it/s]"
      ]
     },
     "metadata": {},
     "output_type": "display_data"
    },
    {
     "name": "stderr",
     "output_type": "stream",
     "text": [
      "Metric recall_top_k improved by 0.038 >= min_delta = 0.01. New best score: 0.372\n"
     ]
    },
    {
     "data": {
      "application/vnd.jupyter.widget-view+json": {
       "model_id": "",
       "version_major": 2,
       "version_minor": 0
      },
      "text/plain": [
       "Validation: 0it [00:00, ?it/s]"
      ]
     },
     "metadata": {},
     "output_type": "display_data"
    },
    {
     "name": "stderr",
     "output_type": "stream",
     "text": [
      "Metric recall_top_k improved by 0.025 >= min_delta = 0.01. New best score: 0.398\n"
     ]
    },
    {
     "data": {
      "application/vnd.jupyter.widget-view+json": {
       "model_id": "",
       "version_major": 2,
       "version_minor": 0
      },
      "text/plain": [
       "Validation: 0it [00:00, ?it/s]"
      ]
     },
     "metadata": {},
     "output_type": "display_data"
    },
    {
     "name": "stderr",
     "output_type": "stream",
     "text": [
      "Metric recall_top_k improved by 0.016 >= min_delta = 0.01. New best score: 0.414\n"
     ]
    },
    {
     "data": {
      "application/vnd.jupyter.widget-view+json": {
       "model_id": "",
       "version_major": 2,
       "version_minor": 0
      },
      "text/plain": [
       "Validation: 0it [00:00, ?it/s]"
      ]
     },
     "metadata": {},
     "output_type": "display_data"
    },
    {
     "data": {
      "application/vnd.jupyter.widget-view+json": {
       "model_id": "",
       "version_major": 2,
       "version_minor": 0
      },
      "text/plain": [
       "Validation: 0it [00:00, ?it/s]"
      ]
     },
     "metadata": {},
     "output_type": "display_data"
    },
    {
     "name": "stderr",
     "output_type": "stream",
     "text": [
      "Metric recall_top_k improved by 0.015 >= min_delta = 0.01. New best score: 0.429\n"
     ]
    },
    {
     "data": {
      "application/vnd.jupyter.widget-view+json": {
       "model_id": "",
       "version_major": 2,
       "version_minor": 0
      },
      "text/plain": [
       "Validation: 0it [00:00, ?it/s]"
      ]
     },
     "metadata": {},
     "output_type": "display_data"
    },
    {
     "data": {
      "application/vnd.jupyter.widget-view+json": {
       "model_id": "",
       "version_major": 2,
       "version_minor": 0
      },
      "text/plain": [
       "Validation: 0it [00:00, ?it/s]"
      ]
     },
     "metadata": {},
     "output_type": "display_data"
    },
    {
     "name": "stderr",
     "output_type": "stream",
     "text": [
      "Metric recall_top_k improved by 0.016 >= min_delta = 0.01. New best score: 0.445\n"
     ]
    },
    {
     "data": {
      "application/vnd.jupyter.widget-view+json": {
       "model_id": "",
       "version_major": 2,
       "version_minor": 0
      },
      "text/plain": [
       "Validation: 0it [00:00, ?it/s]"
      ]
     },
     "metadata": {},
     "output_type": "display_data"
    },
    {
     "data": {
      "application/vnd.jupyter.widget-view+json": {
       "model_id": "",
       "version_major": 2,
       "version_minor": 0
      },
      "text/plain": [
       "Validation: 0it [00:00, ?it/s]"
      ]
     },
     "metadata": {},
     "output_type": "display_data"
    },
    {
     "data": {
      "application/vnd.jupyter.widget-view+json": {
       "model_id": "",
       "version_major": 2,
       "version_minor": 0
      },
      "text/plain": [
       "Validation: 0it [00:00, ?it/s]"
      ]
     },
     "metadata": {},
     "output_type": "display_data"
    },
    {
     "data": {
      "application/vnd.jupyter.widget-view+json": {
       "model_id": "",
       "version_major": 2,
       "version_minor": 0
      },
      "text/plain": [
       "Validation: 0it [00:00, ?it/s]"
      ]
     },
     "metadata": {},
     "output_type": "display_data"
    },
    {
     "data": {
      "application/vnd.jupyter.widget-view+json": {
       "model_id": "",
       "version_major": 2,
       "version_minor": 0
      },
      "text/plain": [
       "Validation: 0it [00:00, ?it/s]"
      ]
     },
     "metadata": {},
     "output_type": "display_data"
    },
    {
     "name": "stderr",
     "output_type": "stream",
     "text": [
      "Metric recall_top_k improved by 0.012 >= min_delta = 0.01. New best score: 0.457\n"
     ]
    },
    {
     "data": {
      "application/vnd.jupyter.widget-view+json": {
       "model_id": "",
       "version_major": 2,
       "version_minor": 0
      },
      "text/plain": [
       "Validation: 0it [00:00, ?it/s]"
      ]
     },
     "metadata": {},
     "output_type": "display_data"
    },
    {
     "data": {
      "application/vnd.jupyter.widget-view+json": {
       "model_id": "",
       "version_major": 2,
       "version_minor": 0
      },
      "text/plain": [
       "Validation: 0it [00:00, ?it/s]"
      ]
     },
     "metadata": {},
     "output_type": "display_data"
    },
    {
     "data": {
      "application/vnd.jupyter.widget-view+json": {
       "model_id": "",
       "version_major": 2,
       "version_minor": 0
      },
      "text/plain": [
       "Validation: 0it [00:00, ?it/s]"
      ]
     },
     "metadata": {},
     "output_type": "display_data"
    },
    {
     "data": {
      "application/vnd.jupyter.widget-view+json": {
       "model_id": "",
       "version_major": 2,
       "version_minor": 0
      },
      "text/plain": [
       "Validation: 0it [00:00, ?it/s]"
      ]
     },
     "metadata": {},
     "output_type": "display_data"
    },
    {
     "data": {
      "application/vnd.jupyter.widget-view+json": {
       "model_id": "",
       "version_major": 2,
       "version_minor": 0
      },
      "text/plain": [
       "Validation: 0it [00:00, ?it/s]"
      ]
     },
     "metadata": {},
     "output_type": "display_data"
    },
    {
     "name": "stderr",
     "output_type": "stream",
     "text": [
      "Monitored metric recall_top_k did not improve in the last 5 records. Best score: 0.457. Signaling Trainer to stop.\n"
     ]
    }
   ],
   "source": [
    "model_checkpoint: ModelCheckpoint = instantiate(\n",
    "    cfg_model[\"trainer_coles\"][\"checkpoint_callback\"],\n",
    "    monitor=model_churn.metric_name,\n",
    "    mode=\"max\"\n",
    ")\n",
    "    \n",
    "early_stopping: EarlyStopping = instantiate(\n",
    "    cfg_model[\"trainer_coles\"][\"early_stopping\"],\n",
    "    monitor=model_churn.metric_name,\n",
    "    mode=\"max\"\n",
    ")\n",
    "    \n",
    "logger: TensorBoardLogger = instantiate(cfg_model[\"trainer_coles\"][\"logger\"])\n",
    "    \n",
    "trainer: Trainer = instantiate(\n",
    "    cfg_model[\"trainer_coles\"][\"trainer\"],\n",
    "    callbacks=[model_checkpoint, early_stopping],\n",
    "    logger=logger\n",
    ")\n",
    "    \n",
    "trainer.fit(model_churn, train_datamodule)"
   ]
  },
  {
   "cell_type": "code",
   "execution_count": 12,
   "id": "ca640ede",
   "metadata": {},
   "outputs": [],
   "source": [
    "torch.save(model_churn.state_dict(), \"saved_models/coles_churn_default.pth\")"
   ]
  },
  {
   "cell_type": "code",
   "execution_count": 8,
   "id": "0913f545",
   "metadata": {},
   "outputs": [
    {
     "data": {
      "text/plain": [
       "<All keys matched successfully>"
      ]
     },
     "execution_count": 8,
     "metadata": {},
     "output_type": "execute_result"
    }
   ],
   "source": [
    "model_churn.load_state_dict(torch.load(\"saved_models/coles_churn_default.pth\"))"
   ]
  },
  {
   "cell_type": "markdown",
   "id": "deca47b5",
   "metadata": {},
   "source": [
    "## Local target validation"
   ]
  },
  {
   "cell_type": "code",
   "execution_count": 9,
   "id": "0f3d08c4",
   "metadata": {},
   "outputs": [],
   "source": [
    "# initialize custom datasets and datamodule for local validation\n",
    "# use the same 'train' and 'val' preprocessed data\n",
    "train_data_local: CustomColesValidationDataset = instantiate(cfg_model[\"validation_dataset\"], data=train)\n",
    "val_data_local: CustomColesValidationDataset = instantiate(cfg_model[\"validation_dataset\"], data=val)\n",
    "\n",
    "# keep batch_size = 1 (all slices of one user in one batch)\n",
    "# or may use batch_size > 1 to speed-up LocalValidationModel training\n",
    "val_datamodule: PtlsDataModule = instantiate(\n",
    "    cfg_model[\"datamodule\"],\n",
    "    train_data=train_data_local,\n",
    "    valid_data=val_data_local,\n",
    "    test_data=val_data_local,\n",
    "    train_batch_size=10,\n",
    "    valid_batch_size=1,\n",
    "    test_batch_size=1\n",
    ")"
   ]
  },
  {
   "cell_type": "code",
   "execution_count": 10,
   "id": "e5033608",
   "metadata": {},
   "outputs": [
    {
     "data": {
      "text/plain": [
       "(torch.Size([129, 40]),\n",
       " {'global_target': tensor([[1, 1, 1,  ..., 1, 1, 1],\n",
       "          [1, 1, 1,  ..., 1, 1, 1],\n",
       "          [1, 1, 1,  ..., 1, 1, 1],\n",
       "          ...,\n",
       "          [1, 1, 1,  ..., 1, 1, 1],\n",
       "          [1, 1, 1,  ..., 1, 1, 1],\n",
       "          [1, 1, 1,  ..., 1, 1, 1]]),\n",
       "  'holiday_target': tensor([[0, 0, 0,  ..., 0, 0, 0],\n",
       "          [0, 0, 0,  ..., 0, 0, 0],\n",
       "          [0, 0, 0,  ..., 0, 0, 0],\n",
       "          ...,\n",
       "          [0, 0, 0,  ..., 0, 0, 0],\n",
       "          [0, 0, 0,  ..., 0, 0, 0],\n",
       "          [0, 0, 0,  ..., 0, 0, 0]]),\n",
       "  'weekend_target': tensor([[0, 0, 0,  ..., 1, 0, 0],\n",
       "          [0, 0, 0,  ..., 0, 0, 0],\n",
       "          [0, 0, 0,  ..., 0, 0, 0],\n",
       "          ...,\n",
       "          [0, 0, 1,  ..., 1, 1, 1],\n",
       "          [0, 1, 1,  ..., 1, 1, 1],\n",
       "          [1, 1, 0,  ..., 1, 1, 1]]),\n",
       "  'event_time': tensor([[1479686400, 1479686400, 1479772800,  ..., 1481414400, 1481500800,\n",
       "           1481535960],\n",
       "          [1479686400, 1479772800, 1479772800,  ..., 1481500800, 1481535960,\n",
       "           1481587200],\n",
       "          [1479772800, 1479772800, 1479859200,  ..., 1481535960, 1481587200,\n",
       "           1481760000],\n",
       "          ...,\n",
       "          [1484901736, 1484901773, 1484976024,  ..., 1487376000, 1487376000,\n",
       "           1487376000],\n",
       "          [1484901773, 1484976024, 1485002724,  ..., 1487376000, 1487376000,\n",
       "           1487419522],\n",
       "          [1484976024, 1485002724, 1485129600,  ..., 1487376000, 1487419522,\n",
       "           1487494903]]),\n",
       "  'mcc_code': tensor([[15, 15, 29,  ..., 15,  1,  2],\n",
       "          [15, 29, 48,  ...,  1,  2,  1],\n",
       "          [29, 48,  7,  ...,  2,  1,  1],\n",
       "          ...,\n",
       "          [ 2,  2,  2,  ..., 57, 18,  1],\n",
       "          [ 2,  2,  2,  ..., 18,  1,  2],\n",
       "          [ 2,  2,  1,  ...,  1,  2,  9]]),\n",
       "  'amount': tensor([[ 371.0000, 1199.0000,  408.0000,  ...,  719.0000,  307.2400,\n",
       "           4900.0000],\n",
       "          [1199.0000,  408.0000,  580.0000,  ...,  307.2400, 4900.0000,\n",
       "            108.9200],\n",
       "          [ 408.0000,  580.0000, 1049.0000,  ..., 4900.0000,  108.9200,\n",
       "            542.5500],\n",
       "          ...,\n",
       "          [ 400.0000,  400.0000, 1500.0000,  ..., 1309.0000,  640.0000,\n",
       "           1187.9800],\n",
       "          [ 400.0000, 1500.0000,  400.0000,  ...,  640.0000, 1187.9800,\n",
       "           2000.0000],\n",
       "          [1500.0000,  400.0000,  188.1400,  ..., 1187.9800, 2000.0000,\n",
       "           2500.0000]], dtype=torch.float64),\n",
       "  'churn_target': tensor([[0, 0, 0,  ..., 0, 0, 0],\n",
       "          [0, 0, 0,  ..., 0, 0, 0],\n",
       "          [0, 0, 0,  ..., 0, 0, 0],\n",
       "          ...,\n",
       "          [0, 0, 1,  ..., 1, 1, 1],\n",
       "          [0, 1, 1,  ..., 1, 1, 1],\n",
       "          [1, 1, 1,  ..., 1, 1, 1]])})"
      ]
     },
     "execution_count": 10,
     "metadata": {},
     "output_type": "execute_result"
    }
   ],
   "source": [
    "valid_batch, local_labels = next(iter(val_datamodule.val_dataloader()))\n",
    "\n",
    "valid_batch.payload['event_time'].shape, valid_batch.payload"
   ]
  },
  {
   "cell_type": "code",
   "execution_count": 11,
   "id": "029da80f",
   "metadata": {},
   "outputs": [
    {
     "data": {
      "text/plain": [
       "torch.Size([129])"
      ]
     },
     "execution_count": 11,
     "metadata": {},
     "output_type": "execute_result"
    }
   ],
   "source": [
    "local_labels.shape"
   ]
  },
  {
   "cell_type": "code",
   "execution_count": 12,
   "id": "090385e8",
   "metadata": {},
   "outputs": [],
   "source": [
    "EMBD_SIZE = 32\n",
    "HIDDEN_SIZE = 32\n",
    "\n",
    "valid_model = LocalValidationModel(\n",
    "    backbone=model_churn,\n",
    "    backbone_embd_size=EMBD_SIZE,\n",
    "    hidden_size=HIDDEN_SIZE,\n",
    ")"
   ]
  },
  {
   "cell_type": "code",
   "execution_count": 13,
   "id": "b40d952e",
   "metadata": {},
   "outputs": [
    {
     "name": "stdout",
     "output_type": "stream",
     "text": [
      "CoLES embeddings: torch.Size([129, 32])\n",
      "Predicted labels: torch.Size([129])\n",
      "True local labels: torch.Size([129])\n"
     ]
    }
   ],
   "source": [
    "backbone_out = valid_model.backbone(valid_batch)\n",
    "print(\"CoLES embeddings:\", backbone_out.shape)\n",
    "\n",
    "pred_out = valid_model(valid_batch)\n",
    "print(\"Predicted labels:\", pred_out.shape)\n",
    "\n",
    "print(\"True local labels:\", local_labels.shape)"
   ]
  },
  {
   "cell_type": "code",
   "execution_count": 14,
   "id": "f5267430",
   "metadata": {
    "scrolled": true
   },
   "outputs": [
    {
     "name": "stderr",
     "output_type": "stream",
     "text": [
      "GPU available: True, used: True\n",
      "TPU available: False, using: 0 TPU cores\n",
      "IPU available: False, using: 0 IPUs\n",
      "HPU available: False, using: 0 HPUs\n",
      "LOCAL_RANK: 0 - CUDA_VISIBLE_DEVICES: [0,1]\n",
      "\n",
      "  | Name      | Type        | Params\n",
      "------------------------------------------\n",
      "0 | backbone  | CustomCoLES | 17.5 K\n",
      "1 | pred_head | Sequential  | 1.1 K \n",
      "2 | loss      | BCELoss     | 0     \n",
      "------------------------------------------\n",
      "1.1 K     Trainable params\n",
      "17.5 K    Non-trainable params\n",
      "18.6 K    Total params\n",
      "0.074     Total estimated model params size (MB)\n"
     ]
    },
    {
     "data": {
      "application/vnd.jupyter.widget-view+json": {
       "model_id": "",
       "version_major": 2,
       "version_minor": 0
      },
      "text/plain": [
       "Sanity Checking: 0it [00:00, ?it/s]"
      ]
     },
     "metadata": {},
     "output_type": "display_data"
    },
    {
     "data": {
      "application/vnd.jupyter.widget-view+json": {
       "model_id": "3b0c128926be4ec0a49dea7c6c49b182",
       "version_major": 2,
       "version_minor": 0
      },
      "text/plain": [
       "Training: 0it [00:00, ?it/s]"
      ]
     },
     "metadata": {},
     "output_type": "display_data"
    },
    {
     "data": {
      "application/vnd.jupyter.widget-view+json": {
       "model_id": "",
       "version_major": 2,
       "version_minor": 0
      },
      "text/plain": [
       "Validation: 0it [00:00, ?it/s]"
      ]
     },
     "metadata": {},
     "output_type": "display_data"
    },
    {
     "data": {
      "application/vnd.jupyter.widget-view+json": {
       "model_id": "",
       "version_major": 2,
       "version_minor": 0
      },
      "text/plain": [
       "Validation: 0it [00:00, ?it/s]"
      ]
     },
     "metadata": {},
     "output_type": "display_data"
    },
    {
     "data": {
      "application/vnd.jupyter.widget-view+json": {
       "model_id": "",
       "version_major": 2,
       "version_minor": 0
      },
      "text/plain": [
       "Validation: 0it [00:00, ?it/s]"
      ]
     },
     "metadata": {},
     "output_type": "display_data"
    },
    {
     "data": {
      "application/vnd.jupyter.widget-view+json": {
       "model_id": "",
       "version_major": 2,
       "version_minor": 0
      },
      "text/plain": [
       "Validation: 0it [00:00, ?it/s]"
      ]
     },
     "metadata": {},
     "output_type": "display_data"
    },
    {
     "data": {
      "application/vnd.jupyter.widget-view+json": {
       "model_id": "",
       "version_major": 2,
       "version_minor": 0
      },
      "text/plain": [
       "Validation: 0it [00:00, ?it/s]"
      ]
     },
     "metadata": {},
     "output_type": "display_data"
    }
   ],
   "source": [
    "val_trainer = Trainer(\n",
    "    accelerator=\"gpu\",\n",
    "    devices=1,\n",
    "    max_epochs=5,\n",
    ")\n",
    "    \n",
    "val_trainer.fit(valid_model, val_datamodule)"
   ]
  },
  {
   "cell_type": "code",
   "execution_count": 15,
   "id": "eb74bcf5",
   "metadata": {},
   "outputs": [],
   "source": [
    "torch.save(valid_model.state_dict(), \"saved_models/validation_churn.pth\")"
   ]
  },
  {
   "cell_type": "code",
   "execution_count": 16,
   "id": "232d944e",
   "metadata": {},
   "outputs": [
    {
     "name": "stderr",
     "output_type": "stream",
     "text": [
      "LOCAL_RANK: 0 - CUDA_VISIBLE_DEVICES: [0,1]\n"
     ]
    },
    {
     "data": {
      "application/vnd.jupyter.widget-view+json": {
       "model_id": "b76d605d112b40af82e096a6656040c7",
       "version_major": 2,
       "version_minor": 0
      },
      "text/plain": [
       "Testing: 0it [00:00, ?it/s]"
      ]
     },
     "metadata": {},
     "output_type": "display_data"
    },
    {
     "data": {
      "text/html": [
       "<pre style=\"white-space:pre;overflow-x:auto;line-height:normal;font-family:Menlo,'DejaVu Sans Mono',consolas,'Courier New',monospace\">┏━━━━━━━━━━━━━━━━━━━━━━━━━━━┳━━━━━━━━━━━━━━━━━━━━━━━━━━━┓\n",
       "┃<span style=\"font-weight: bold\">        Test metric        </span>┃<span style=\"font-weight: bold\">       DataLoader 0        </span>┃\n",
       "┡━━━━━━━━━━━━━━━━━━━━━━━━━━━╇━━━━━━━━━━━━━━━━━━━━━━━━━━━┩\n",
       "│<span style=\"color: #008080; text-decoration-color: #008080\">         Test acc          </span>│<span style=\"color: #800080; text-decoration-color: #800080\">    0.5216588973999023     </span>│\n",
       "│<span style=\"color: #008080; text-decoration-color: #008080\">       Test f1_score       </span>│<span style=\"color: #800080; text-decoration-color: #800080\">   0.011062705889344215    </span>│\n",
       "└───────────────────────────┴───────────────────────────┘\n",
       "</pre>\n"
      ],
      "text/plain": [
       "┏━━━━━━━━━━━━━━━━━━━━━━━━━━━┳━━━━━━━━━━━━━━━━━━━━━━━━━━━┓\n",
       "┃\u001b[1m \u001b[0m\u001b[1m       Test metric       \u001b[0m\u001b[1m \u001b[0m┃\u001b[1m \u001b[0m\u001b[1m      DataLoader 0       \u001b[0m\u001b[1m \u001b[0m┃\n",
       "┡━━━━━━━━━━━━━━━━━━━━━━━━━━━╇━━━━━━━━━━━━━━━━━━━━━━━━━━━┩\n",
       "│\u001b[36m \u001b[0m\u001b[36m        Test acc         \u001b[0m\u001b[36m \u001b[0m│\u001b[35m \u001b[0m\u001b[35m   0.5216588973999023    \u001b[0m\u001b[35m \u001b[0m│\n",
       "│\u001b[36m \u001b[0m\u001b[36m      Test f1_score      \u001b[0m\u001b[36m \u001b[0m│\u001b[35m \u001b[0m\u001b[35m  0.011062705889344215   \u001b[0m\u001b[35m \u001b[0m│\n",
       "└───────────────────────────┴───────────────────────────┘\n"
      ]
     },
     "metadata": {},
     "output_type": "display_data"
    },
    {
     "data": {
      "text/plain": [
       "[{'Test acc': 0.5216588973999023, 'Test f1_score': 0.011062705889344215}]"
      ]
     },
     "execution_count": 16,
     "metadata": {},
     "output_type": "execute_result"
    }
   ],
   "source": [
    "val_trainer.test(valid_model, val_datamodule)"
   ]
  }
 ],
 "metadata": {
  "kernelspec": {
   "display_name": "Python 3 (ipykernel)",
   "language": "python",
   "name": "python3"
  },
  "language_info": {
   "codemirror_mode": {
    "name": "ipython",
    "version": 3
   },
   "file_extension": ".py",
   "mimetype": "text/x-python",
   "name": "python",
   "nbconvert_exporter": "python",
   "pygments_lexer": "ipython3",
   "version": "3.10.8"
  }
 },
 "nbformat": 4,
 "nbformat_minor": 5
}
