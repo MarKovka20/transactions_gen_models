{
 "cells": [
  {
   "cell_type": "code",
   "execution_count": 1,
   "metadata": {},
   "outputs": [],
   "source": [
    "import warnings\n",
    "warnings.filterwarnings(\"ignore\")\n",
    "\n",
    "import os\n",
    "import sys\n",
    "\n",
    "dir2 = os.path.abspath('')\n",
    "dir1 = os.path.dirname(dir2)\n",
    "if not dir1 in sys.path:\n",
    "    sys.path.append(dir1)\n",
    "\n",
    "os.chdir('..')\n",
    "\n",
    "%load_ext autoreload\n",
    "%autoreload"
   ]
  },
  {
   "cell_type": "code",
   "execution_count": 2,
   "metadata": {},
   "outputs": [],
   "source": [
    "from hydra import initialize, compose\n",
    "\n",
    "from src.global_validation.global_validation_pipeline import global_target_validation"
   ]
  },
  {
   "cell_type": "code",
   "execution_count": 3,
   "metadata": {},
   "outputs": [],
   "source": [
    "with initialize(config_path=\"../config\", version_base=None):\n",
    "    cfg = compose(config_name=\"config_validation\")\n",
    "\n",
    "cfg_preprop = cfg[\"preprocessing\"]\n",
    "cfg_validation = cfg[\"validation\"]"
   ]
  },
  {
   "cell_type": "code",
   "execution_count": 4,
   "metadata": {},
   "outputs": [
    {
     "name": "stdout",
     "output_type": "stream",
     "text": [
      "________________________________________________________________________________\n",
      "[Memory] Calling src.preprocessing.preprocess.preprocess.<locals>._preprocess...\n",
      "_preprocess({ 'cache_dir': 'cache',\n",
      "  'random_state': 42,\n",
      "  'source': 'data/preprocessed_new/churn.parquet',\n",
      "  'test_size': 0.1,\n",
      "  'transforms': [ { '_target_': 'src.preprocessing.ToType',\n",
      "                    'col_name_original': 'amount',\n",
      "                    'target_type': 'float32'},\n",
      "                  { '_target_': 'ptls.preprocessing.PandasDataPreprocessor',\n",
      "                    'col_event_time': 'timestamp',\n",
      "                    'col_id': 'user_id',\n",
      "                    'cols_category': [...],\n",
      "                    'cols_first_item': [...],\n",
      "                    'cols_numerical': [...],\n",
      "                    'event_time_transformation': 'dt_to_timestamp',\n",
      "                    'return_records': False}],\n",
      "  'val_size': 0.1})\n",
      "______________________________________________________preprocess - 12.6s, 0.2min\n"
     ]
    }
   ],
   "source": [
    "res = global_target_validation(cfg_preprop, cfg_validation)"
   ]
  },
  {
   "cell_type": "code",
   "execution_count": 5,
   "metadata": {},
   "outputs": [
    {
     "data": {
      "text/html": [
       "<div>\n",
       "<style scoped>\n",
       "    .dataframe tbody tr th:only-of-type {\n",
       "        vertical-align: middle;\n",
       "    }\n",
       "\n",
       "    .dataframe tbody tr th {\n",
       "        vertical-align: top;\n",
       "    }\n",
       "\n",
       "    .dataframe thead th {\n",
       "        text-align: right;\n",
       "    }\n",
       "</style>\n",
       "<table border=\"1\" class=\"dataframe\">\n",
       "  <thead>\n",
       "    <tr style=\"text-align: right;\">\n",
       "      <th></th>\n",
       "      <th>AUROC</th>\n",
       "      <th>PR-AUC</th>\n",
       "      <th>Accuracy</th>\n",
       "      <th>F1Score</th>\n",
       "    </tr>\n",
       "  </thead>\n",
       "  <tbody>\n",
       "    <tr>\n",
       "      <th>0</th>\n",
       "      <td>0.648485</td>\n",
       "      <td>0.709834</td>\n",
       "      <td>0.64</td>\n",
       "      <td>0.709677</td>\n",
       "    </tr>\n",
       "    <tr>\n",
       "      <th>1</th>\n",
       "      <td>0.663434</td>\n",
       "      <td>0.710933</td>\n",
       "      <td>0.63</td>\n",
       "      <td>0.694215</td>\n",
       "    </tr>\n",
       "    <tr>\n",
       "      <th>2</th>\n",
       "      <td>0.619394</td>\n",
       "      <td>0.684089</td>\n",
       "      <td>0.59</td>\n",
       "      <td>0.661157</td>\n",
       "    </tr>\n",
       "    <tr>\n",
       "      <th>3</th>\n",
       "      <td>0.623030</td>\n",
       "      <td>0.697106</td>\n",
       "      <td>0.62</td>\n",
       "      <td>0.688525</td>\n",
       "    </tr>\n",
       "    <tr>\n",
       "      <th>4</th>\n",
       "      <td>0.651717</td>\n",
       "      <td>0.718566</td>\n",
       "      <td>0.60</td>\n",
       "      <td>0.661017</td>\n",
       "    </tr>\n",
       "    <tr>\n",
       "      <th>5</th>\n",
       "      <td>0.604040</td>\n",
       "      <td>0.682893</td>\n",
       "      <td>0.61</td>\n",
       "      <td>0.688000</td>\n",
       "    </tr>\n",
       "    <tr>\n",
       "      <th>6</th>\n",
       "      <td>0.691717</td>\n",
       "      <td>0.767703</td>\n",
       "      <td>0.63</td>\n",
       "      <td>0.699187</td>\n",
       "    </tr>\n",
       "    <tr>\n",
       "      <th>7</th>\n",
       "      <td>0.665455</td>\n",
       "      <td>0.726065</td>\n",
       "      <td>0.64</td>\n",
       "      <td>0.704918</td>\n",
       "    </tr>\n",
       "    <tr>\n",
       "      <th>8</th>\n",
       "      <td>0.686869</td>\n",
       "      <td>0.732104</td>\n",
       "      <td>0.65</td>\n",
       "      <td>0.710744</td>\n",
       "    </tr>\n",
       "    <tr>\n",
       "      <th>9</th>\n",
       "      <td>0.642828</td>\n",
       "      <td>0.681344</td>\n",
       "      <td>0.67</td>\n",
       "      <td>0.740157</td>\n",
       "    </tr>\n",
       "  </tbody>\n",
       "</table>\n",
       "</div>"
      ],
      "text/plain": [
       "      AUROC    PR-AUC  Accuracy   F1Score\n",
       "0  0.648485  0.709834      0.64  0.709677\n",
       "1  0.663434  0.710933      0.63  0.694215\n",
       "2  0.619394  0.684089      0.59  0.661157\n",
       "3  0.623030  0.697106      0.62  0.688525\n",
       "4  0.651717  0.718566      0.60  0.661017\n",
       "5  0.604040  0.682893      0.61  0.688000\n",
       "6  0.691717  0.767703      0.63  0.699187\n",
       "7  0.665455  0.726065      0.64  0.704918\n",
       "8  0.686869  0.732104      0.65  0.710744\n",
       "9  0.642828  0.681344      0.67  0.740157"
      ]
     },
     "execution_count": 5,
     "metadata": {},
     "output_type": "execute_result"
    }
   ],
   "source": [
    "res"
   ]
  },
  {
   "cell_type": "code",
   "execution_count": 8,
   "metadata": {},
   "outputs": [
    {
     "data": {
      "text/html": [
       "<div>\n",
       "<style scoped>\n",
       "    .dataframe tbody tr th:only-of-type {\n",
       "        vertical-align: middle;\n",
       "    }\n",
       "\n",
       "    .dataframe tbody tr th {\n",
       "        vertical-align: top;\n",
       "    }\n",
       "\n",
       "    .dataframe thead th {\n",
       "        text-align: right;\n",
       "    }\n",
       "</style>\n",
       "<table border=\"1\" class=\"dataframe\">\n",
       "  <thead>\n",
       "    <tr style=\"text-align: right;\">\n",
       "      <th></th>\n",
       "      <th>AUROC</th>\n",
       "      <th>PR-AUC</th>\n",
       "      <th>Accuracy</th>\n",
       "      <th>F1Score</th>\n",
       "    </tr>\n",
       "  </thead>\n",
       "  <tbody>\n",
       "    <tr>\n",
       "      <th>mean</th>\n",
       "      <td>0.706763</td>\n",
       "      <td>0.761571</td>\n",
       "      <td>0.657400</td>\n",
       "      <td>0.715653</td>\n",
       "    </tr>\n",
       "    <tr>\n",
       "      <th>std</th>\n",
       "      <td>0.007055</td>\n",
       "      <td>0.008244</td>\n",
       "      <td>0.007662</td>\n",
       "      <td>0.007039</td>\n",
       "    </tr>\n",
       "  </tbody>\n",
       "</table>\n",
       "</div>"
      ],
      "text/plain": [
       "         AUROC    PR-AUC  Accuracy   F1Score\n",
       "mean  0.706763  0.761571  0.657400  0.715653\n",
       "std   0.007055  0.008244  0.007662  0.007039"
      ]
     },
     "execution_count": 8,
     "metadata": {},
     "output_type": "execute_result"
    }
   ],
   "source": [
    "res.agg([\"mean\", \"std\"])"
   ]
  }
 ],
 "metadata": {
  "kernelspec": {
   "display_name": "base",
   "language": "python",
   "name": "python3"
  },
  "language_info": {
   "codemirror_mode": {
    "name": "ipython",
    "version": 3
   },
   "file_extension": ".py",
   "mimetype": "text/x-python",
   "name": "python",
   "nbconvert_exporter": "python",
   "pygments_lexer": "ipython3",
   "version": "3.9.16"
  },
  "orig_nbformat": 4,
  "vscode": {
   "interpreter": {
    "hash": "1d85f8d091281e8cdbbabc30d35abdaebd4eb091dd84d434d9fa6db6a3942f76"
   }
  }
 },
 "nbformat": 4,
 "nbformat_minor": 2
}
