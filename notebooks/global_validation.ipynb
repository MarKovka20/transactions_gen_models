{
 "cells": [
  {
   "cell_type": "code",
   "execution_count": 1,
   "metadata": {},
   "outputs": [],
   "source": [
    "import warnings\n",
    "warnings.filterwarnings(\"ignore\")\n",
    "\n",
    "import os\n",
    "import sys\n",
    "\n",
    "dir2 = os.path.abspath('')\n",
    "dir1 = os.path.dirname(dir2)\n",
    "if not dir1 in sys.path:\n",
    "    sys.path.append(dir1)\n",
    "\n",
    "os.chdir('..')\n",
    "\n",
    "%load_ext autoreload\n",
    "%autoreload"
   ]
  },
  {
   "cell_type": "code",
   "execution_count": 2,
   "metadata": {},
   "outputs": [],
   "source": [
    "from hydra import initialize, compose\n",
    "\n",
    "from src.global_validation.global_validation_pipeline import global_target_validation"
   ]
  },
  {
   "cell_type": "code",
   "execution_count": 5,
   "metadata": {},
   "outputs": [],
   "source": [
    "with initialize(config_path=\"../config\", version_base=None):\n",
    "    cfg = compose(config_name=\"config_validation\")\n",
    "\n",
    "cfg_preprop = cfg[\"dataset\"]\n",
    "cfg_validation = cfg[\"validation\"]"
   ]
  },
  {
   "cell_type": "code",
   "execution_count": 6,
   "metadata": {},
   "outputs": [],
   "source": [
    "res = global_target_validation(cfg_preprop, cfg_validation)"
   ]
  },
  {
   "cell_type": "code",
   "execution_count": 7,
   "metadata": {},
   "outputs": [
    {
     "data": {
      "text/html": [
       "<div>\n",
       "<style scoped>\n",
       "    .dataframe tbody tr th:only-of-type {\n",
       "        vertical-align: middle;\n",
       "    }\n",
       "\n",
       "    .dataframe tbody tr th {\n",
       "        vertical-align: top;\n",
       "    }\n",
       "\n",
       "    .dataframe thead th {\n",
       "        text-align: right;\n",
       "    }\n",
       "</style>\n",
       "<table border=\"1\" class=\"dataframe\">\n",
       "  <thead>\n",
       "    <tr style=\"text-align: right;\">\n",
       "      <th></th>\n",
       "      <th>AUROC</th>\n",
       "      <th>PR-AUC</th>\n",
       "      <th>Accuracy</th>\n",
       "      <th>F1Score</th>\n",
       "    </tr>\n",
       "  </thead>\n",
       "  <tbody>\n",
       "    <tr>\n",
       "      <th>0</th>\n",
       "      <td>0.703924</td>\n",
       "      <td>0.753708</td>\n",
       "      <td>0.660</td>\n",
       "      <td>0.717608</td>\n",
       "    </tr>\n",
       "    <tr>\n",
       "      <th>1</th>\n",
       "      <td>0.693768</td>\n",
       "      <td>0.751142</td>\n",
       "      <td>0.652</td>\n",
       "      <td>0.712871</td>\n",
       "    </tr>\n",
       "    <tr>\n",
       "      <th>2</th>\n",
       "      <td>0.710640</td>\n",
       "      <td>0.760562</td>\n",
       "      <td>0.656</td>\n",
       "      <td>0.722581</td>\n",
       "    </tr>\n",
       "    <tr>\n",
       "      <th>3</th>\n",
       "      <td>0.715759</td>\n",
       "      <td>0.768915</td>\n",
       "      <td>0.672</td>\n",
       "      <td>0.724832</td>\n",
       "    </tr>\n",
       "    <tr>\n",
       "      <th>4</th>\n",
       "      <td>0.714316</td>\n",
       "      <td>0.757276</td>\n",
       "      <td>0.670</td>\n",
       "      <td>0.727273</td>\n",
       "    </tr>\n",
       "    <tr>\n",
       "      <th>5</th>\n",
       "      <td>0.703867</td>\n",
       "      <td>0.763095</td>\n",
       "      <td>0.654</td>\n",
       "      <td>0.712146</td>\n",
       "    </tr>\n",
       "    <tr>\n",
       "      <th>6</th>\n",
       "      <td>0.703060</td>\n",
       "      <td>0.767217</td>\n",
       "      <td>0.654</td>\n",
       "      <td>0.713101</td>\n",
       "    </tr>\n",
       "    <tr>\n",
       "      <th>7</th>\n",
       "      <td>0.702481</td>\n",
       "      <td>0.750728</td>\n",
       "      <td>0.654</td>\n",
       "      <td>0.710218</td>\n",
       "    </tr>\n",
       "    <tr>\n",
       "      <th>8</th>\n",
       "      <td>0.715286</td>\n",
       "      <td>0.774492</td>\n",
       "      <td>0.650</td>\n",
       "      <td>0.707846</td>\n",
       "    </tr>\n",
       "    <tr>\n",
       "      <th>9</th>\n",
       "      <td>0.704527</td>\n",
       "      <td>0.768570</td>\n",
       "      <td>0.652</td>\n",
       "      <td>0.708054</td>\n",
       "    </tr>\n",
       "  </tbody>\n",
       "</table>\n",
       "</div>"
      ],
      "text/plain": [
       "      AUROC    PR-AUC  Accuracy   F1Score\n",
       "0  0.703924  0.753708     0.660  0.717608\n",
       "1  0.693768  0.751142     0.652  0.712871\n",
       "2  0.710640  0.760562     0.656  0.722581\n",
       "3  0.715759  0.768915     0.672  0.724832\n",
       "4  0.714316  0.757276     0.670  0.727273\n",
       "5  0.703867  0.763095     0.654  0.712146\n",
       "6  0.703060  0.767217     0.654  0.713101\n",
       "7  0.702481  0.750728     0.654  0.710218\n",
       "8  0.715286  0.774492     0.650  0.707846\n",
       "9  0.704527  0.768570     0.652  0.708054"
      ]
     },
     "execution_count": 7,
     "metadata": {},
     "output_type": "execute_result"
    }
   ],
   "source": [
    "res"
   ]
  },
  {
   "cell_type": "code",
   "execution_count": 8,
   "metadata": {},
   "outputs": [
    {
     "data": {
      "text/html": [
       "<div>\n",
       "<style scoped>\n",
       "    .dataframe tbody tr th:only-of-type {\n",
       "        vertical-align: middle;\n",
       "    }\n",
       "\n",
       "    .dataframe tbody tr th {\n",
       "        vertical-align: top;\n",
       "    }\n",
       "\n",
       "    .dataframe thead th {\n",
       "        text-align: right;\n",
       "    }\n",
       "</style>\n",
       "<table border=\"1\" class=\"dataframe\">\n",
       "  <thead>\n",
       "    <tr style=\"text-align: right;\">\n",
       "      <th></th>\n",
       "      <th>AUROC</th>\n",
       "      <th>PR-AUC</th>\n",
       "      <th>Accuracy</th>\n",
       "      <th>F1Score</th>\n",
       "    </tr>\n",
       "  </thead>\n",
       "  <tbody>\n",
       "    <tr>\n",
       "      <th>mean</th>\n",
       "      <td>0.706763</td>\n",
       "      <td>0.761571</td>\n",
       "      <td>0.657400</td>\n",
       "      <td>0.715653</td>\n",
       "    </tr>\n",
       "    <tr>\n",
       "      <th>std</th>\n",
       "      <td>0.007055</td>\n",
       "      <td>0.008244</td>\n",
       "      <td>0.007662</td>\n",
       "      <td>0.007039</td>\n",
       "    </tr>\n",
       "  </tbody>\n",
       "</table>\n",
       "</div>"
      ],
      "text/plain": [
       "         AUROC    PR-AUC  Accuracy   F1Score\n",
       "mean  0.706763  0.761571  0.657400  0.715653\n",
       "std   0.007055  0.008244  0.007662  0.007039"
      ]
     },
     "execution_count": 8,
     "metadata": {},
     "output_type": "execute_result"
    }
   ],
   "source": [
    "res.agg([\"mean\", \"std\"])"
   ]
  }
 ],
 "metadata": {
  "kernelspec": {
   "display_name": "base",
   "language": "python",
   "name": "python3"
  },
  "language_info": {
   "codemirror_mode": {
    "name": "ipython",
    "version": 3
   },
   "file_extension": ".py",
   "mimetype": "text/x-python",
   "name": "python",
   "nbconvert_exporter": "python",
   "pygments_lexer": "ipython3",
   "version": "3.9.16"
  },
  "orig_nbformat": 4,
  "vscode": {
   "interpreter": {
    "hash": "1d85f8d091281e8cdbbabc30d35abdaebd4eb091dd84d434d9fa6db6a3942f76"
   }
  }
 },
 "nbformat": 4,
 "nbformat_minor": 2
}
