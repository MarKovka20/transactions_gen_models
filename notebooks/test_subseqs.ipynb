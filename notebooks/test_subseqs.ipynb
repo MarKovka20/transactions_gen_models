{
 "cells": [
  {
   "cell_type": "code",
   "execution_count": 1,
   "metadata": {},
   "outputs": [],
   "source": [
    "import os\n",
    "os.chdir(\"/app\")\n",
    "from src.preprocessing import preprocess\n",
    "from itertools import accumulate, chain\n",
    "from omegaconf import OmegaConf\n",
    "import torch\n",
    "import seaborn as sns\n",
    "from matplotlib import pyplot as plt\n",
    "from collections import Counter\n",
    "import pandas as pd\n",
    "from ptls.preprocessing import PandasDataPreprocessor"
   ]
  },
  {
   "cell_type": "code",
   "execution_count": 2,
   "metadata": {},
   "outputs": [],
   "source": [
    "train, val, test = preprocess(OmegaConf.load(\"config/preprocessing/churn_nodup.yaml\"))"
   ]
  },
  {
   "cell_type": "code",
   "execution_count": 3,
   "metadata": {},
   "outputs": [],
   "source": [
    "times = [row[\"event_time\"] for row in train]"
   ]
  },
  {
   "cell_type": "code",
   "execution_count": 4,
   "metadata": {},
   "outputs": [],
   "source": [
    "def get_subseqs_lens(seq: torch.Tensor):\n",
    "    is_same_times = (seq.diff() == 0).int().tolist()\n",
    "    subseqs_lens = []\n",
    "    subseq_len = 1\n",
    "    for is_same in is_same_times:\n",
    "        if is_same:\n",
    "            subseq_len += 1\n",
    "        else:\n",
    "            subseqs_lens.append(subseq_len)\n",
    "            subseq_len = 1\n",
    "            \n",
    "    return subseqs_lens\n",
    "    "
   ]
  },
  {
   "cell_type": "code",
   "execution_count": 5,
   "metadata": {},
   "outputs": [],
   "source": [
    "subseqs_lens = [subseq_len for time in times for subseq_len in get_subseqs_lens(time)]"
   ]
  },
  {
   "cell_type": "code",
   "execution_count": 6,
   "metadata": {},
   "outputs": [],
   "source": [
    "subseq_lens_counter = pd.Series(subseqs_lens).value_counts(normalize=True)"
   ]
  },
  {
   "cell_type": "code",
   "execution_count": 7,
   "metadata": {},
   "outputs": [
    {
     "data": {
      "text/plain": [
       "1    1.0\n",
       "dtype: float64"
      ]
     },
     "execution_count": 7,
     "metadata": {},
     "output_type": "execute_result"
    }
   ],
   "source": [
    "subseq_lens_counter"
   ]
  },
  {
   "cell_type": "code",
   "execution_count": 51,
   "metadata": {},
   "outputs": [
    {
     "data": {
      "text/plain": [
       "0.9999999999999999"
      ]
     },
     "execution_count": 51,
     "metadata": {},
     "output_type": "execute_result"
    }
   ],
   "source": [
    "subseq_lens_counter.iloc[0:].sum()"
   ]
  },
  {
   "cell_type": "code",
   "execution_count": 24,
   "metadata": {},
   "outputs": [],
   "source": [
    "num_days = sum(counter.values())\n",
    "frac_same = {k: v / num_days for k, v in counter.items()}"
   ]
  },
  {
   "cell_type": "code",
   "execution_count": 25,
   "metadata": {},
   "outputs": [
    {
     "data": {
      "text/plain": [
       "{1: 0.5325966436518097,\n",
       " 2: 0.19488888055664172,\n",
       " 3: 0.12076640009427342,\n",
       " 4: 0.07006765189537792,\n",
       " 5: 0.038453915828829455,\n",
       " 7: 0.010546839429860035,\n",
       " 6: 0.02008131082912406,\n",
       " 15: 8.570311370124966e-05,\n",
       " 13: 0.00026246578571007705,\n",
       " 10: 0.0015105173789845253,\n",
       " 12: 0.0005624266836644509,\n",
       " 9: 0.0029139058658424885,\n",
       " 8: 0.00579031661944068,\n",
       " 11: 0.0010070115859896836,\n",
       " 14: 0.00020890133964679604,\n",
       " 20: 1.0712889212656207e-05,\n",
       " 18: 3.749511224429673e-05,\n",
       " 17: 2.1425778425312414e-05,\n",
       " 19: 1.606933381898431e-05,\n",
       " 22: 2.1425778425312414e-05,\n",
       " 16: 5.892089066960914e-05,\n",
       " 24: 1.606933381898431e-05,\n",
       " 27: 5.356444606328104e-06,\n",
       " 25: 1.0712889212656207e-05,\n",
       " 29: 1.0712889212656207e-05,\n",
       " 21: 2.1425778425312414e-05,\n",
       " 30: 5.356444606328104e-06,\n",
       " 23: 5.356444606328104e-06,\n",
       " 45: 5.356444606328104e-06,\n",
       " 38: 5.356444606328104e-06,\n",
       " 31: 5.356444606328104e-06}"
      ]
     },
     "execution_count": 25,
     "metadata": {},
     "output_type": "execute_result"
    }
   ],
   "source": [
    "frac_same"
   ]
  }
 ],
 "metadata": {
  "kernelspec": {
   "display_name": "base",
   "language": "python",
   "name": "python3"
  },
  "language_info": {
   "codemirror_mode": {
    "name": "ipython",
    "version": 3
   },
   "file_extension": ".py",
   "mimetype": "text/x-python",
   "name": "python",
   "nbconvert_exporter": "python",
   "pygments_lexer": "ipython3",
   "version": "3.9.16"
  }
 },
 "nbformat": 4,
 "nbformat_minor": 2
}
