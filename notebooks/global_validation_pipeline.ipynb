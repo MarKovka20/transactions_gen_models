{
 "cells": [
  {
   "cell_type": "code",
   "execution_count": 1,
   "id": "b869464e",
   "metadata": {},
   "outputs": [],
   "source": [
    "import warnings\n",
    "warnings.filterwarnings(\"ignore\")\n",
    "\n",
    "import os\n",
    "import sys\n",
    "\n",
    "dir2 = os.path.abspath('')\n",
    "dir1 = os.path.dirname(dir2)\n",
    "if not dir1 in sys.path:\n",
    "    sys.path.append(dir1)\n",
    "\n",
    "os.chdir('..')\n",
    "\n",
    "%load_ext autoreload\n",
    "%autoreload"
   ]
  },
  {
   "cell_type": "code",
   "execution_count": 2,
   "id": "93b5be38",
   "metadata": {},
   "outputs": [],
   "source": [
    "from pathlib import Path\n",
    "\n",
    "import pandas as pd\n",
    "import numpy as np\n",
    "\n",
    "import torch\n",
    "\n",
    "from hydra import initialize, compose\n",
    "from hydra.utils import instantiate\n",
    "\n",
    "from ptls.preprocessing import PandasDataPreprocessor\n",
    "from ptls.frames import PtlsDataModule\n",
    "\n",
    "from pytorch_lightning import Trainer\n",
    "from pytorch_lightning.callbacks import ModelCheckpoint, EarlyStopping\n",
    "from pytorch_lightning.loggers import TensorBoardLogger\n",
    "\n",
    "from sklearn.model_selection import train_test_split\n",
    "\n",
    "from src.coles import CustomColesDataset, CustomColesValidationDataset, CustomCoLES\n",
    "from src.local_validation import LocalValidationModel"
   ]
  },
  {
   "cell_type": "markdown",
   "id": "2c63d3a8",
   "metadata": {},
   "source": [
    "# Churn dataset with real local targets"
   ]
  },
  {
   "cell_type": "code",
   "execution_count": 3,
   "id": "5dbbb22e",
   "metadata": {},
   "outputs": [],
   "source": [
    "DATASET = \"churn\"\n",
    "\n",
    "with initialize(config_path=\"../config\", version_base=None):\n",
    "    cfg = compose(config_name=\"config_\" + DATASET)\n",
    "    \n",
    "cfg_preprop = cfg[\"dataset\"]\n",
    "cfg_model = cfg[\"model\"]"
   ]
  },
  {
   "cell_type": "code",
   "execution_count": 4,
   "id": "ce0ba022",
   "metadata": {},
   "outputs": [
    {
     "data": {
      "text/html": [
       "<div>\n",
       "<style scoped>\n",
       "    .dataframe tbody tr th:only-of-type {\n",
       "        vertical-align: middle;\n",
       "    }\n",
       "\n",
       "    .dataframe tbody tr th {\n",
       "        vertical-align: top;\n",
       "    }\n",
       "\n",
       "    .dataframe thead th {\n",
       "        text-align: right;\n",
       "    }\n",
       "</style>\n",
       "<table border=\"1\" class=\"dataframe\">\n",
       "  <thead>\n",
       "    <tr style=\"text-align: right;\">\n",
       "      <th></th>\n",
       "      <th>user_id</th>\n",
       "      <th>mcc_code</th>\n",
       "      <th>timestamp</th>\n",
       "      <th>amount</th>\n",
       "      <th>global_target</th>\n",
       "      <th>holiday_target</th>\n",
       "      <th>weekend_target</th>\n",
       "      <th>churn_target</th>\n",
       "    </tr>\n",
       "  </thead>\n",
       "  <tbody>\n",
       "    <tr>\n",
       "      <th>0</th>\n",
       "      <td>0</td>\n",
       "      <td>5200</td>\n",
       "      <td>2017-10-21 00:00:00</td>\n",
       "      <td>5023.0</td>\n",
       "      <td>0</td>\n",
       "      <td>0</td>\n",
       "      <td>1</td>\n",
       "      <td>0</td>\n",
       "    </tr>\n",
       "    <tr>\n",
       "      <th>1</th>\n",
       "      <td>0</td>\n",
       "      <td>6011</td>\n",
       "      <td>2017-10-12 12:24:07</td>\n",
       "      <td>20000.0</td>\n",
       "      <td>0</td>\n",
       "      <td>0</td>\n",
       "      <td>0</td>\n",
       "      <td>0</td>\n",
       "    </tr>\n",
       "    <tr>\n",
       "      <th>2</th>\n",
       "      <td>0</td>\n",
       "      <td>5921</td>\n",
       "      <td>2017-12-05 00:00:00</td>\n",
       "      <td>767.0</td>\n",
       "      <td>0</td>\n",
       "      <td>0</td>\n",
       "      <td>0</td>\n",
       "      <td>1</td>\n",
       "    </tr>\n",
       "    <tr>\n",
       "      <th>3</th>\n",
       "      <td>0</td>\n",
       "      <td>5411</td>\n",
       "      <td>2017-10-21 00:00:00</td>\n",
       "      <td>2031.0</td>\n",
       "      <td>0</td>\n",
       "      <td>0</td>\n",
       "      <td>1</td>\n",
       "      <td>0</td>\n",
       "    </tr>\n",
       "    <tr>\n",
       "      <th>4</th>\n",
       "      <td>0</td>\n",
       "      <td>6012</td>\n",
       "      <td>2017-10-24 13:14:24</td>\n",
       "      <td>36562.0</td>\n",
       "      <td>0</td>\n",
       "      <td>0</td>\n",
       "      <td>0</td>\n",
       "      <td>0</td>\n",
       "    </tr>\n",
       "  </tbody>\n",
       "</table>\n",
       "</div>"
      ],
      "text/plain": [
       "   user_id  mcc_code           timestamp   amount  global_target  \\\n",
       "0        0      5200 2017-10-21 00:00:00   5023.0              0   \n",
       "1        0      6011 2017-10-12 12:24:07  20000.0              0   \n",
       "2        0      5921 2017-12-05 00:00:00    767.0              0   \n",
       "3        0      5411 2017-10-21 00:00:00   2031.0              0   \n",
       "4        0      6012 2017-10-24 13:14:24  36562.0              0   \n",
       "\n",
       "   holiday_target  weekend_target  churn_target  \n",
       "0               0               1             0  \n",
       "1               0               0             0  \n",
       "2               0               0             1  \n",
       "3               0               1             0  \n",
       "4               0               0             0  "
      ]
     },
     "execution_count": 4,
     "metadata": {},
     "output_type": "execute_result"
    }
   ],
   "source": [
    "df = pd.read_parquet(Path(cfg[\"dataset\"][\"dir_path\"]).joinpath(cfg[\"dataset\"][\"train_file_name\"]))\n",
    "df.head()"
   ]
  },
  {
   "cell_type": "code",
   "execution_count": 5,
   "id": "a7c7f361",
   "metadata": {},
   "outputs": [],
   "source": [
    "local_target = cfg_model[\"validation_dataset\"][\"local_target_col\"]\n",
    "\n",
    "preprocessor = PandasDataPreprocessor(\n",
    "    col_id=\"user_id\",\n",
    "    col_event_time=\"timestamp\",\n",
    "    event_time_transformation=\"dt_to_timestamp\", # no time preprocessing\n",
    "    cols_category=[\"mcc_code\"],\n",
    "    cols_numerical=[\"amount\", local_target], # keep column with fake local targets\n",
    "    return_records=True\n",
    ")\n",
    "\n",
    "dataset = preprocessor.fit_transform(df)\n",
    "\n",
    "train, val_test = train_test_split(dataset, test_size=.2, random_state=42)\n",
    "val, test = train_test_split(val_test, test_size=.5, random_state=42)"
   ]
  },
  {
   "cell_type": "code",
   "execution_count": 6,
   "id": "1c703bbc",
   "metadata": {},
   "outputs": [],
   "source": [
    "# initialize original CoLES datasest - for CoLES training\n",
    "train_data: CustomColesDataset = instantiate(cfg_model[\"dataset\"], data=train)\n",
    "val_data: CustomColesDataset = instantiate(cfg_model[\"dataset\"], data=val)\n",
    "    \n",
    "train_datamodule: PtlsDataModule = instantiate(\n",
    "    cfg_model[\"datamodule\"],\n",
    "    train_data=train_data,\n",
    "    valid_data=val_data\n",
    ")"
   ]
  },
  {
   "cell_type": "code",
   "execution_count": 7,
   "id": "3d70f0fc",
   "metadata": {},
   "outputs": [],
   "source": [
    "model_churn: CustomCoLES = instantiate(cfg_model[\"model\"])"
   ]
  },
  {
   "cell_type": "code",
   "execution_count": 8,
   "id": "0913f545",
   "metadata": {},
   "outputs": [
    {
     "data": {
      "text/plain": [
       "<All keys matched successfully>"
      ]
     },
     "execution_count": 8,
     "metadata": {},
     "output_type": "execute_result"
    }
   ],
   "source": [
    "model_churn.load_state_dict(torch.load(\"saved_models/coles_churn_default.pth\"))"
   ]
  },
  {
   "cell_type": "markdown",
   "id": "0393dbc5",
   "metadata": {},
   "source": [
    "## Without LSTM"
   ]
  },
  {
   "cell_type": "code",
   "execution_count": 9,
   "id": "d2ce2b5b",
   "metadata": {},
   "outputs": [],
   "source": [
    "# initialize custom datasets and datamodule for local validation\n",
    "# use the same 'train' and 'val' preprocessed data\n",
    "train_data_local: CustomColesValidationDataset = instantiate(cfg_model[\"validation_dataset\"], data=train)\n",
    "val_data_local: CustomColesValidationDataset = instantiate(cfg_model[\"validation_dataset\"], data=val)\n",
    "test_data_local: CustomColesValidationDataset = instantiate(cfg_model[\"validation_dataset\"], data=test)\n",
    "\n",
    "# keep batch_size = 1 (all slices of one user in one batch)\n",
    "# or may use batch_size > 1 to speed-up LocalValidationModel training\n",
    "val_datamodule: PtlsDataModule = instantiate(\n",
    "    cfg_model[\"datamodule\"],\n",
    "    train_data=train_data_local,\n",
    "    valid_data=val_data_local,\n",
    "    test_data=test_data_local,\n",
    "    train_batch_size=1,\n",
    "    valid_batch_size=1,\n",
    "    test_batch_size=1\n",
    ")"
   ]
  },
  {
   "cell_type": "code",
   "execution_count": 10,
   "id": "a2700492",
   "metadata": {},
   "outputs": [
    {
     "data": {
      "text/plain": [
       "torch.Size([25, 40])"
      ]
     },
     "execution_count": 10,
     "metadata": {},
     "output_type": "execute_result"
    }
   ],
   "source": [
    "valid_batch, local_labels = next(iter(val_datamodule.val_dataloader()))\n",
    "valid_batch.payload['event_time'].shape"
   ]
  },
  {
   "cell_type": "code",
   "execution_count": null,
   "id": "21e7ba3c",
   "metadata": {},
   "outputs": [],
   "source": []
  },
  {
   "cell_type": "code",
   "execution_count": 12,
   "id": "1c3deb9e",
   "metadata": {},
   "outputs": [],
   "source": [
    "EMBD_SIZE = 1024\n",
    "HIDDEN_SIZE = 32\n",
    "\n",
    "valid_model = LocalValidationModel(\n",
    "    backbone=model_churn,\n",
    "    backbone_embd_size=EMBD_SIZE,\n",
    "    hidden_size=HIDDEN_SIZE,\n",
    "    use_lstm = False,\n",
    ")"
   ]
  },
  {
   "cell_type": "code",
   "execution_count": 13,
   "id": "17f3597d",
   "metadata": {},
   "outputs": [
    {
     "name": "stdout",
     "output_type": "stream",
     "text": [
      "CoLES embeddings: torch.Size([25, 1024])\n",
      "Predicted labels: torch.Size([25])\n",
      "True local labels: torch.Size([25])\n"
     ]
    }
   ],
   "source": [
    "backbone_out = valid_model.backbone(valid_batch)\n",
    "print(\"CoLES embeddings:\", backbone_out.shape)\n",
    "\n",
    "pred_out = valid_model(valid_batch)\n",
    "print(\"Predicted labels:\", pred_out.shape)\n",
    "\n",
    "print(\"True local labels:\", local_labels.shape)"
   ]
  },
  {
   "cell_type": "code",
   "execution_count": 14,
   "id": "f294c0cf",
   "metadata": {},
   "outputs": [
    {
     "name": "stderr",
     "output_type": "stream",
     "text": [
      "GPU available: True, used: True\n",
      "TPU available: False, using: 0 TPU cores\n",
      "IPU available: False, using: 0 IPUs\n",
      "HPU available: False, using: 0 HPUs\n",
      "LOCAL_RANK: 0 - CUDA_VISIBLE_DEVICES: [0]\n",
      "\n",
      "  | Name      | Type        | Params\n",
      "------------------------------------------\n",
      "0 | backbone  | CustomCoLES | 4.3 M \n",
      "1 | pred_head | Sequential  | 32.8 K\n",
      "2 | loss      | BCELoss     | 0     \n",
      "------------------------------------------\n",
      "32.8 K    Trainable params\n",
      "4.3 M     Non-trainable params\n",
      "4.4 M     Total params\n",
      "17.530    Total estimated model params size (MB)\n"
     ]
    },
    {
     "data": {
      "application/vnd.jupyter.widget-view+json": {
       "model_id": "b6bc367c7ad542b88d019f46ec4993b7",
       "version_major": 2,
       "version_minor": 0
      },
      "text/plain": [
       "Sanity Checking: 0it [00:00, ?it/s]"
      ]
     },
     "metadata": {},
     "output_type": "display_data"
    },
    {
     "data": {
      "application/vnd.jupyter.widget-view+json": {
       "model_id": "f2d9439440fd4b7fa3d39d5cdf63059f",
       "version_major": 2,
       "version_minor": 0
      },
      "text/plain": [
       "Training: 0it [00:00, ?it/s]"
      ]
     },
     "metadata": {},
     "output_type": "display_data"
    },
    {
     "data": {
      "application/vnd.jupyter.widget-view+json": {
       "model_id": "706f3d48deaf415384d1db5a0c178738",
       "version_major": 2,
       "version_minor": 0
      },
      "text/plain": [
       "Validation: 0it [00:00, ?it/s]"
      ]
     },
     "metadata": {},
     "output_type": "display_data"
    },
    {
     "data": {
      "application/vnd.jupyter.widget-view+json": {
       "model_id": "e7d0087a86824c0a83cfc378d92b594b",
       "version_major": 2,
       "version_minor": 0
      },
      "text/plain": [
       "Validation: 0it [00:00, ?it/s]"
      ]
     },
     "metadata": {},
     "output_type": "display_data"
    },
    {
     "data": {
      "application/vnd.jupyter.widget-view+json": {
       "model_id": "d2e469f47b40420797550b7238fc49eb",
       "version_major": 2,
       "version_minor": 0
      },
      "text/plain": [
       "Validation: 0it [00:00, ?it/s]"
      ]
     },
     "metadata": {},
     "output_type": "display_data"
    },
    {
     "data": {
      "application/vnd.jupyter.widget-view+json": {
       "model_id": "34ca1782bfe74ba7a18ae7dc8d59ccca",
       "version_major": 2,
       "version_minor": 0
      },
      "text/plain": [
       "Validation: 0it [00:00, ?it/s]"
      ]
     },
     "metadata": {},
     "output_type": "display_data"
    },
    {
     "data": {
      "application/vnd.jupyter.widget-view+json": {
       "model_id": "49b82186369e49b688d1af3160517cac",
       "version_major": 2,
       "version_minor": 0
      },
      "text/plain": [
       "Validation: 0it [00:00, ?it/s]"
      ]
     },
     "metadata": {},
     "output_type": "display_data"
    }
   ],
   "source": [
    "val_trainer = Trainer(\n",
    "    accelerator=\"gpu\",\n",
    "    devices=1,\n",
    "    max_epochs=5,\n",
    ")\n",
    "    \n",
    "val_trainer.fit(valid_model, val_datamodule)"
   ]
  },
  {
   "cell_type": "code",
   "execution_count": 15,
   "id": "9cafc5ad",
   "metadata": {},
   "outputs": [
    {
     "name": "stderr",
     "output_type": "stream",
     "text": [
      "LOCAL_RANK: 0 - CUDA_VISIBLE_DEVICES: [0]\n"
     ]
    },
    {
     "data": {
      "application/vnd.jupyter.widget-view+json": {
       "model_id": "7d4dd37472654abb8d02c0dc91e7e02f",
       "version_major": 2,
       "version_minor": 0
      },
      "text/plain": [
       "Testing: 0it [00:00, ?it/s]"
      ]
     },
     "metadata": {},
     "output_type": "display_data"
    },
    {
     "name": "stdout",
     "output_type": "stream",
     "text": [
      "────────────────────────────────────────────────────────────────────────────────────────────────────────────────────────\n",
      "       Test metric             DataLoader 0\n",
      "────────────────────────────────────────────────────────────────────────────────────────────────────────────────────────\n",
      "          AUROC              0.597362220287323\n",
      "        Accuracy            0.5331345796585083\n",
      "         F1Score             0.634706437587738\n",
      "         PR-AUC             0.6008473634719849\n",
      "────────────────────────────────────────────────────────────────────────────────────────────────────────────────────────\n"
     ]
    },
    {
     "data": {
      "text/plain": [
       "[{'AUROC': 0.597362220287323,\n",
       "  'PR-AUC': 0.6008473634719849,\n",
       "  'Accuracy': 0.5331345796585083,\n",
       "  'F1Score': 0.634706437587738}]"
      ]
     },
     "execution_count": 15,
     "metadata": {},
     "output_type": "execute_result"
    }
   ],
   "source": [
    "val_trainer.test(valid_model, val_datamodule)"
   ]
  },
  {
   "cell_type": "markdown",
   "id": "885aa7c2",
   "metadata": {},
   "source": [
    "## With LSTM"
   ]
  },
  {
   "cell_type": "code",
   "execution_count": 16,
   "id": "51bb291d",
   "metadata": {},
   "outputs": [],
   "source": [
    "EMBD_SIZE = 1024\n",
    "HIDDEN_SIZE = 32\n",
    "LSTM_HIDDEN_SIZE = 256\n",
    "LSTM_NUM_LAYERS = 1\n",
    "LSTM_BIDIRECTIONAL = False\n",
    "\n",
    "valid_model = LocalValidationModel(\n",
    "    backbone=model_churn,\n",
    "    backbone_embd_size=EMBD_SIZE,\n",
    "    hidden_size=HIDDEN_SIZE,\n",
    "    use_lstm = True,\n",
    "    lstm_hidden_size = LSTM_HIDDEN_SIZE,\n",
    "    lstm_num_layers = LSTM_NUM_LAYERS,\n",
    "    lstm_bidirectional = LSTM_BIDIRECTIONAL\n",
    ")"
   ]
  },
  {
   "cell_type": "code",
   "execution_count": 17,
   "id": "6043d6cb",
   "metadata": {},
   "outputs": [
    {
     "name": "stdout",
     "output_type": "stream",
     "text": [
      "CoLES embeddings: torch.Size([25, 1024])\n",
      "LSTM outs: torch.Size([25, 256])\n",
      "Predicted labels: torch.Size([25])\n",
      "True local labels: torch.Size([25])\n"
     ]
    }
   ],
   "source": [
    "backbone_out = valid_model.backbone(valid_batch)\n",
    "print(\"CoLES embeddings:\", backbone_out.shape)\n",
    "\n",
    "lstm_out = valid_model.lstm(backbone_out)[0]\n",
    "print(\"LSTM outs:\", lstm_out.shape)\n",
    "\n",
    "pred_out = valid_model(valid_batch)\n",
    "print(\"Predicted labels:\", pred_out.shape)\n",
    "\n",
    "print(\"True local labels:\", local_labels.shape)"
   ]
  },
  {
   "cell_type": "code",
   "execution_count": 18,
   "id": "bd37e4a1",
   "metadata": {},
   "outputs": [
    {
     "name": "stderr",
     "output_type": "stream",
     "text": [
      "GPU available: True, used: True\n",
      "TPU available: False, using: 0 TPU cores\n",
      "IPU available: False, using: 0 IPUs\n",
      "HPU available: False, using: 0 HPUs\n",
      "LOCAL_RANK: 0 - CUDA_VISIBLE_DEVICES: [0]\n",
      "\n",
      "  | Name      | Type        | Params\n",
      "------------------------------------------\n",
      "0 | backbone  | CustomCoLES | 4.3 M \n",
      "1 | lstm      | LSTM        | 1.3 M \n",
      "2 | pred_head | Sequential  | 41.0 K\n",
      "3 | loss      | BCELoss     | 0     \n",
      "------------------------------------------\n",
      "1.4 M     Trainable params\n",
      "4.3 M     Non-trainable params\n",
      "5.7 M     Total params\n",
      "22.814    Total estimated model params size (MB)\n"
     ]
    },
    {
     "data": {
      "application/vnd.jupyter.widget-view+json": {
       "model_id": "a7fdb1669d7a412aab27d25864a25f18",
       "version_major": 2,
       "version_minor": 0
      },
      "text/plain": [
       "Sanity Checking: 0it [00:00, ?it/s]"
      ]
     },
     "metadata": {},
     "output_type": "display_data"
    },
    {
     "data": {
      "application/vnd.jupyter.widget-view+json": {
       "model_id": "42792401a5f347b88a4262b8216603ac",
       "version_major": 2,
       "version_minor": 0
      },
      "text/plain": [
       "Training: 0it [00:00, ?it/s]"
      ]
     },
     "metadata": {},
     "output_type": "display_data"
    },
    {
     "data": {
      "application/vnd.jupyter.widget-view+json": {
       "model_id": "8f45662fcbcd412888600f00b42cc864",
       "version_major": 2,
       "version_minor": 0
      },
      "text/plain": [
       "Validation: 0it [00:00, ?it/s]"
      ]
     },
     "metadata": {},
     "output_type": "display_data"
    },
    {
     "data": {
      "application/vnd.jupyter.widget-view+json": {
       "model_id": "57f8189fae5c42e586146d3e07cf88b5",
       "version_major": 2,
       "version_minor": 0
      },
      "text/plain": [
       "Validation: 0it [00:00, ?it/s]"
      ]
     },
     "metadata": {},
     "output_type": "display_data"
    },
    {
     "data": {
      "application/vnd.jupyter.widget-view+json": {
       "model_id": "19278135e37b480090280d316546fdb1",
       "version_major": 2,
       "version_minor": 0
      },
      "text/plain": [
       "Validation: 0it [00:00, ?it/s]"
      ]
     },
     "metadata": {},
     "output_type": "display_data"
    },
    {
     "data": {
      "application/vnd.jupyter.widget-view+json": {
       "model_id": "d3060cd7607941f485ccc5b18518498d",
       "version_major": 2,
       "version_minor": 0
      },
      "text/plain": [
       "Validation: 0it [00:00, ?it/s]"
      ]
     },
     "metadata": {},
     "output_type": "display_data"
    },
    {
     "data": {
      "application/vnd.jupyter.widget-view+json": {
       "model_id": "5364ef4ac3bc44b09460d03c7b2a921d",
       "version_major": 2,
       "version_minor": 0
      },
      "text/plain": [
       "Validation: 0it [00:00, ?it/s]"
      ]
     },
     "metadata": {},
     "output_type": "display_data"
    }
   ],
   "source": [
    "val_trainer = Trainer(\n",
    "    accelerator=\"gpu\",\n",
    "    devices=1,\n",
    "    max_epochs=5,\n",
    ")\n",
    "    \n",
    "val_trainer.fit(valid_model, val_datamodule)"
   ]
  },
  {
   "cell_type": "code",
   "execution_count": 19,
   "id": "f4b6ce1f",
   "metadata": {},
   "outputs": [
    {
     "name": "stderr",
     "output_type": "stream",
     "text": [
      "LOCAL_RANK: 0 - CUDA_VISIBLE_DEVICES: [0]\n"
     ]
    },
    {
     "data": {
      "application/vnd.jupyter.widget-view+json": {
       "model_id": "67124a5e52c140a2b543a9afca6d0937",
       "version_major": 2,
       "version_minor": 0
      },
      "text/plain": [
       "Testing: 0it [00:00, ?it/s]"
      ]
     },
     "metadata": {},
     "output_type": "display_data"
    },
    {
     "name": "stdout",
     "output_type": "stream",
     "text": [
      "────────────────────────────────────────────────────────────────────────────────────────────────────────────────────────\n",
      "       Test metric             DataLoader 0\n",
      "────────────────────────────────────────────────────────────────────────────────────────────────────────────────────────\n",
      "          AUROC             0.6037269830703735\n",
      "        Accuracy            0.5554093718528748\n",
      "         F1Score            0.5954945683479309\n",
      "         PR-AUC             0.5988376140594482\n",
      "────────────────────────────────────────────────────────────────────────────────────────────────────────────────────────\n"
     ]
    },
    {
     "data": {
      "text/plain": [
       "[{'AUROC': 0.6037269830703735,\n",
       "  'PR-AUC': 0.5988376140594482,\n",
       "  'Accuracy': 0.5554093718528748,\n",
       "  'F1Score': 0.5954945683479309}]"
      ]
     },
     "execution_count": 19,
     "metadata": {},
     "output_type": "execute_result"
    }
   ],
   "source": [
    "val_trainer.test(valid_model, val_datamodule)"
   ]
  },
  {
   "cell_type": "code",
   "execution_count": null,
   "id": "8a9a2896",
   "metadata": {},
   "outputs": [],
   "source": []
  }
 ],
 "metadata": {
  "kernelspec": {
   "display_name": "Python 3",
   "language": "python",
   "name": "python3"
  },
  "language_info": {
   "codemirror_mode": {
    "name": "ipython",
    "version": 3
   },
   "file_extension": ".py",
   "mimetype": "text/x-python",
   "name": "python",
   "nbconvert_exporter": "python",
   "pygments_lexer": "ipython3",
   "version": "3.10.9"
  },
  "vscode": {
   "interpreter": {
    "hash": "cf92aa13fedf815d5c8dd192b8d835913fde3e8bc926b2a0ad6cc74ef2ba3ca2"
   }
  }
 },
 "nbformat": 4,
 "nbformat_minor": 5
}
